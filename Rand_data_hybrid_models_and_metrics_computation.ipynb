{
 "cells": [
  {
   "cell_type": "code",
   "execution_count": 1,
   "id": "170b1693",
   "metadata": {},
   "outputs": [],
   "source": [
    "# Import libraries\n",
    "import pandas as pd\n",
    "import matplotlib.pyplot as plt\n",
    "import numpy as np\n",
    "\n",
    "import tensorflow as tf\n",
    "from tensorflow.keras.models import Sequential\n",
    "from tensorflow.keras.layers import *\n",
    "from tensorflow.keras.losses import MeanSquaredError\n",
    "from tensorflow.keras.callbacks import ModelCheckpoint\n",
    "from tensorflow.keras.metrics import RootMeanSquaredError\n",
    "\n",
    "from tensorflow.keras.optimizers import Adam\n",
    "from tensorflow.keras.models import load_model\n",
    "from sklearn.metrics import  mean_squared_error\n",
    "from sklearn.preprocessing import MinMaxScaler"
   ]
  },
  {
   "cell_type": "code",
   "execution_count": 2,
   "id": "b005c9e4",
   "metadata": {},
   "outputs": [
    {
     "data": {
      "text/html": [
       "<div>\n",
       "<style scoped>\n",
       "    .dataframe tbody tr th:only-of-type {\n",
       "        vertical-align: middle;\n",
       "    }\n",
       "\n",
       "    .dataframe tbody tr th {\n",
       "        vertical-align: top;\n",
       "    }\n",
       "\n",
       "    .dataframe thead th {\n",
       "        text-align: right;\n",
       "    }\n",
       "</style>\n",
       "<table border=\"1\" class=\"dataframe\">\n",
       "  <thead>\n",
       "    <tr style=\"text-align: right;\">\n",
       "      <th></th>\n",
       "      <th>DEXSFUS</th>\n",
       "      <th>fit_arim1</th>\n",
       "      <th>fit_esp1</th>\n",
       "      <th>fit_lrf1</th>\n",
       "      <th>res_arim1</th>\n",
       "      <th>res_esp1</th>\n",
       "      <th>res_lrf1</th>\n",
       "      <th>fit_tarim1</th>\n",
       "      <th>fit_tesp1</th>\n",
       "      <th>res_tarim1</th>\n",
       "      <th>res_tesp1</th>\n",
       "    </tr>\n",
       "    <tr>\n",
       "      <th>DATE</th>\n",
       "      <th></th>\n",
       "      <th></th>\n",
       "      <th></th>\n",
       "      <th></th>\n",
       "      <th></th>\n",
       "      <th></th>\n",
       "      <th></th>\n",
       "      <th></th>\n",
       "      <th></th>\n",
       "      <th></th>\n",
       "      <th></th>\n",
       "    </tr>\n",
       "  </thead>\n",
       "  <tbody>\n",
       "    <tr>\n",
       "      <th>2015-01-01</th>\n",
       "      <td>11.5425</td>\n",
       "      <td>11.530958</td>\n",
       "      <td>11.541389</td>\n",
       "      <td>11.748431</td>\n",
       "      <td>0.011542</td>\n",
       "      <td>0.000096</td>\n",
       "      <td>-0.205931</td>\n",
       "      <td>11.736695</td>\n",
       "      <td>11.751652</td>\n",
       "      <td>0.011735</td>\n",
       "      <td>-0.003222</td>\n",
       "    </tr>\n",
       "    <tr>\n",
       "      <th>2015-01-02</th>\n",
       "      <td>11.6990</td>\n",
       "      <td>11.542500</td>\n",
       "      <td>11.542500</td>\n",
       "      <td>11.696556</td>\n",
       "      <td>0.156500</td>\n",
       "      <td>0.013559</td>\n",
       "      <td>0.002444</td>\n",
       "      <td>11.698305</td>\n",
       "      <td>11.695932</td>\n",
       "      <td>-0.001750</td>\n",
       "      <td>0.000624</td>\n",
       "    </tr>\n",
       "    <tr>\n",
       "      <th>2015-01-05</th>\n",
       "      <td>11.7155</td>\n",
       "      <td>11.699000</td>\n",
       "      <td>11.698984</td>\n",
       "      <td>11.630803</td>\n",
       "      <td>0.016500</td>\n",
       "      <td>0.001412</td>\n",
       "      <td>0.084697</td>\n",
       "      <td>11.633001</td>\n",
       "      <td>11.645895</td>\n",
       "      <td>-0.002198</td>\n",
       "      <td>-0.015092</td>\n",
       "    </tr>\n",
       "    <tr>\n",
       "      <th>2015-01-06</th>\n",
       "      <td>11.7005</td>\n",
       "      <td>11.715500</td>\n",
       "      <td>11.715498</td>\n",
       "      <td>11.556821</td>\n",
       "      <td>-0.015000</td>\n",
       "      <td>-0.001280</td>\n",
       "      <td>0.143679</td>\n",
       "      <td>11.554115</td>\n",
       "      <td>11.566593</td>\n",
       "      <td>0.002706</td>\n",
       "      <td>-0.009771</td>\n",
       "    </tr>\n",
       "    <tr>\n",
       "      <th>2015-01-07</th>\n",
       "      <td>11.7075</td>\n",
       "      <td>11.700500</td>\n",
       "      <td>11.700502</td>\n",
       "      <td>11.478391</td>\n",
       "      <td>0.007000</td>\n",
       "      <td>0.000598</td>\n",
       "      <td>0.229109</td>\n",
       "      <td>11.476959</td>\n",
       "      <td>11.484572</td>\n",
       "      <td>0.001432</td>\n",
       "      <td>-0.006181</td>\n",
       "    </tr>\n",
       "  </tbody>\n",
       "</table>\n",
       "</div>"
      ],
      "text/plain": [
       "            DEXSFUS  fit_arim1   fit_esp1   fit_lrf1  res_arim1  res_esp1  \\\n",
       "DATE                                                                        \n",
       "2015-01-01  11.5425  11.530958  11.541389  11.748431   0.011542  0.000096   \n",
       "2015-01-02  11.6990  11.542500  11.542500  11.696556   0.156500  0.013559   \n",
       "2015-01-05  11.7155  11.699000  11.698984  11.630803   0.016500  0.001412   \n",
       "2015-01-06  11.7005  11.715500  11.715498  11.556821  -0.015000 -0.001280   \n",
       "2015-01-07  11.7075  11.700500  11.700502  11.478391   0.007000  0.000598   \n",
       "\n",
       "            res_lrf1  fit_tarim1  fit_tesp1  res_tarim1  res_tesp1  \n",
       "DATE                                                                \n",
       "2015-01-01 -0.205931   11.736695  11.751652    0.011735  -0.003222  \n",
       "2015-01-02  0.002444   11.698305  11.695932   -0.001750   0.000624  \n",
       "2015-01-05  0.084697   11.633001  11.645895   -0.002198  -0.015092  \n",
       "2015-01-06  0.143679   11.554115  11.566593    0.002706  -0.009771  \n",
       "2015-01-07  0.229109   11.476959  11.484572    0.001432  -0.006181  "
      ]
     },
     "execution_count": 2,
     "metadata": {},
     "output_type": "execute_result"
    }
   ],
   "source": [
    "# Load the data \n",
    "data=pd.read_csv('data_final_Rand.csv')\n",
    "data['DATE'] = pd.to_datetime(data['DATE'])\n",
    "data.set_index('DATE', inplace=True)\n",
    "data.head()"
   ]
  },
  {
   "cell_type": "code",
   "execution_count": 3,
   "id": "8aed8408",
   "metadata": {},
   "outputs": [],
   "source": [
    "# This function is to transform a time series dataset into a format suitable for training machine learning models, where:\n",
    "# X contains sequences of past observations (input features). y contains the next observation (target value) that the model will learn to predict.\n",
    "def data_toX_y (data, window):\n",
    "    data_np=data.to_numpy()\n",
    "    X=[]\n",
    "    y=[]\n",
    "    for i in range(len(data_np)-window):\n",
    "        row= [[a] for a in data_np[i:i+window]]\n",
    "        X.append(row)\n",
    "        label=data_np[i+window]\n",
    "        y.append(label)\n",
    "    return np.array(X), np.array(y)"
   ]
  },
  {
   "cell_type": "code",
   "execution_count": 4,
   "id": "bb436e01",
   "metadata": {},
   "outputs": [],
   "source": [
    "# The function help to evaluate the performances of each model\n",
    "def metrics(y_true, y_pred):\n",
    "    # Convert inputs to lists\n",
    "    y_true_list = np.array(y_true)\n",
    "    y_pred_list = np.array(y_pred)\n",
    "    \n",
    "    # Calculate RMSE\n",
    "    rmse = np.sqrt(np.mean((np.array(y_true_list) - np.array(y_pred_list)) ** 2))\n",
    "    \n",
    "    # Calculate SMAPE\n",
    "    smape = np.mean(np.abs(y_true_list-y_pred_list )/((np.abs(y_true_list)+np.abs(y_pred_list))/2))\n",
    "    \n",
    "    return rmse, smape"
   ]
  },
  {
   "cell_type": "markdown",
   "id": "5ba7d079",
   "metadata": {},
   "source": [
    "# Performances of single models"
   ]
  },
  {
   "cell_type": "code",
   "execution_count": 5,
   "id": "85f993d5",
   "metadata": {},
   "outputs": [
    {
     "name": "stdout",
     "output_type": "stream",
     "text": [
      "train: (np.float64(0.14776775297454198), np.float64(0.007529317998264391))\n",
      "test: (np.float64(0.28737683883709125), np.float64(0.01424952926438099))\n"
     ]
    }
   ],
   "source": [
    "#Arima\n",
    "print('train:', metrics(data['DEXSFUS'][:2067],data['fit_arim1'][:2067]))\n",
    "print('test:' , metrics(data['DEXSFUS'][2067:],data['fit_arim1'][2067:]))"
   ]
  },
  {
   "cell_type": "code",
   "execution_count": 6,
   "id": "4bc391b4",
   "metadata": {},
   "outputs": [
    {
     "name": "stdout",
     "output_type": "stream",
     "text": [
      "train: (np.float64(0.14776782179329853), np.float64(0.007528889110846354))\n",
      "test: (np.float64(0.2873907986335088), np.float64(0.014250205986363701))\n"
     ]
    }
   ],
   "source": [
    "#ES\n",
    "print('train:', metrics(data['DEXSFUS'][:2067],data['fit_esp1'][:2067]))\n",
    "print('test:' , metrics(data['DEXSFUS'][2067:],data['fit_esp1'][2067:]))"
   ]
  },
  {
   "cell_type": "code",
   "execution_count": 7,
   "id": "c3392aba",
   "metadata": {},
   "outputs": [
    {
     "name": "stdout",
     "output_type": "stream",
     "text": [
      "train: (np.float64(0.18531369996353086), np.float64(0.010017832630979981))\n",
      "test: (np.float64(0.26457819954678813), np.float64(0.011668953029894175))\n"
     ]
    }
   ],
   "source": [
    "#SSA-R\n",
    "print('train:', metrics(data['DEXSFUS'][:2067],data['fit_lrf1'][:2067]))\n",
    "print('test:' , metrics(data['DEXSFUS'][2067:],data['fit_lrf1'][2067:]))"
   ]
  },
  {
   "cell_type": "markdown",
   "id": "30570c47",
   "metadata": {},
   "source": [
    "# ARIMA-LSTM (LSTM on residuals of Arima)"
   ]
  },
  {
   "cell_type": "code",
   "execution_count": 8,
   "id": "bcb1dfe3",
   "metadata": {},
   "outputs": [],
   "source": [
    "# We scale the residuals\n",
    "scaler = MinMaxScaler(feature_range=(0, 1))\n",
    "data_ = np.array(data['res_arim1']).reshape(-1, 1)\n",
    "data_= scaler.fit_transform(data_)\n",
    "data_=pd.Series(data_.reshape(-1))\n",
    "s=data_[:5]\n",
    "data_=pd.concat([s,data_])"
   ]
  },
  {
   "cell_type": "code",
   "execution_count": 9,
   "id": "f796f385",
   "metadata": {},
   "outputs": [
    {
     "data": {
      "text/plain": [
       "((2067, 5, 1), (2067,), (20, 5, 1), (20,))"
      ]
     },
     "execution_count": 9,
     "metadata": {},
     "output_type": "execute_result"
    }
   ],
   "source": [
    "### Divide the data to train and test\n",
    "window=5\n",
    "X,y=data_toX_y(data_,window)\n",
    "\n",
    "X_train,y_train= X[:2067],y[:2067]\n",
    "X_test,y_test= X[2067:],y[2067:]\n",
    "X_train.shape,y_train.shape,X_test.shape,y_test.shape"
   ]
  },
  {
   "cell_type": "code",
   "execution_count": 10,
   "id": "08400c19",
   "metadata": {},
   "outputs": [],
   "source": [
    "# Set the seed\n",
    "tf.keras.utils.set_random_seed(123)\n",
    "tf.config.experimental.enable_op_determinism()"
   ]
  },
  {
   "cell_type": "code",
   "execution_count": 12,
   "id": "06d61b17",
   "metadata": {},
   "outputs": [
    {
     "data": {
      "text/html": [
       "<pre style=\"white-space:pre;overflow-x:auto;line-height:normal;font-family:Menlo,'DejaVu Sans Mono',consolas,'Courier New',monospace\"><span style=\"font-weight: bold\">Model: \"sequential\"</span>\n",
       "</pre>\n"
      ],
      "text/plain": [
       "\u001b[1mModel: \"sequential\"\u001b[0m\n"
      ]
     },
     "metadata": {},
     "output_type": "display_data"
    },
    {
     "data": {
      "text/html": [
       "<pre style=\"white-space:pre;overflow-x:auto;line-height:normal;font-family:Menlo,'DejaVu Sans Mono',consolas,'Courier New',monospace\">┏━━━━━━━━━━━━━━━━━━━━━━━━━━━━━━━━━━━━━━┳━━━━━━━━━━━━━━━━━━━━━━━━━━━━━┳━━━━━━━━━━━━━━━━━┓\n",
       "┃<span style=\"font-weight: bold\"> Layer (type)                         </span>┃<span style=\"font-weight: bold\"> Output Shape                </span>┃<span style=\"font-weight: bold\">         Param # </span>┃\n",
       "┡━━━━━━━━━━━━━━━━━━━━━━━━━━━━━━━━━━━━━━╇━━━━━━━━━━━━━━━━━━━━━━━━━━━━━╇━━━━━━━━━━━━━━━━━┩\n",
       "│ lstm (<span style=\"color: #0087ff; text-decoration-color: #0087ff\">LSTM</span>)                          │ (<span style=\"color: #00d7ff; text-decoration-color: #00d7ff\">None</span>, <span style=\"color: #00af00; text-decoration-color: #00af00\">5</span>, <span style=\"color: #00af00; text-decoration-color: #00af00\">200</span>)              │         <span style=\"color: #00af00; text-decoration-color: #00af00\">161,600</span> │\n",
       "├──────────────────────────────────────┼─────────────────────────────┼─────────────────┤\n",
       "│ lstm_1 (<span style=\"color: #0087ff; text-decoration-color: #0087ff\">LSTM</span>)                        │ (<span style=\"color: #00d7ff; text-decoration-color: #00d7ff\">None</span>, <span style=\"color: #00af00; text-decoration-color: #00af00\">50</span>)                  │          <span style=\"color: #00af00; text-decoration-color: #00af00\">50,200</span> │\n",
       "├──────────────────────────────────────┼─────────────────────────────┼─────────────────┤\n",
       "│ dense (<span style=\"color: #0087ff; text-decoration-color: #0087ff\">Dense</span>)                        │ (<span style=\"color: #00d7ff; text-decoration-color: #00d7ff\">None</span>, <span style=\"color: #00af00; text-decoration-color: #00af00\">1</span>)                   │              <span style=\"color: #00af00; text-decoration-color: #00af00\">51</span> │\n",
       "└──────────────────────────────────────┴─────────────────────────────┴─────────────────┘\n",
       "</pre>\n"
      ],
      "text/plain": [
       "┏━━━━━━━━━━━━━━━━━━━━━━━━━━━━━━━━━━━━━━┳━━━━━━━━━━━━━━━━━━━━━━━━━━━━━┳━━━━━━━━━━━━━━━━━┓\n",
       "┃\u001b[1m \u001b[0m\u001b[1mLayer (type)                        \u001b[0m\u001b[1m \u001b[0m┃\u001b[1m \u001b[0m\u001b[1mOutput Shape               \u001b[0m\u001b[1m \u001b[0m┃\u001b[1m \u001b[0m\u001b[1m        Param #\u001b[0m\u001b[1m \u001b[0m┃\n",
       "┡━━━━━━━━━━━━━━━━━━━━━━━━━━━━━━━━━━━━━━╇━━━━━━━━━━━━━━━━━━━━━━━━━━━━━╇━━━━━━━━━━━━━━━━━┩\n",
       "│ lstm (\u001b[38;5;33mLSTM\u001b[0m)                          │ (\u001b[38;5;45mNone\u001b[0m, \u001b[38;5;34m5\u001b[0m, \u001b[38;5;34m200\u001b[0m)              │         \u001b[38;5;34m161,600\u001b[0m │\n",
       "├──────────────────────────────────────┼─────────────────────────────┼─────────────────┤\n",
       "│ lstm_1 (\u001b[38;5;33mLSTM\u001b[0m)                        │ (\u001b[38;5;45mNone\u001b[0m, \u001b[38;5;34m50\u001b[0m)                  │          \u001b[38;5;34m50,200\u001b[0m │\n",
       "├──────────────────────────────────────┼─────────────────────────────┼─────────────────┤\n",
       "│ dense (\u001b[38;5;33mDense\u001b[0m)                        │ (\u001b[38;5;45mNone\u001b[0m, \u001b[38;5;34m1\u001b[0m)                   │              \u001b[38;5;34m51\u001b[0m │\n",
       "└──────────────────────────────────────┴─────────────────────────────┴─────────────────┘\n"
      ]
     },
     "metadata": {},
     "output_type": "display_data"
    },
    {
     "data": {
      "text/html": [
       "<pre style=\"white-space:pre;overflow-x:auto;line-height:normal;font-family:Menlo,'DejaVu Sans Mono',consolas,'Courier New',monospace\"><span style=\"font-weight: bold\"> Total params: </span><span style=\"color: #00af00; text-decoration-color: #00af00\">211,851</span> (827.54 KB)\n",
       "</pre>\n"
      ],
      "text/plain": [
       "\u001b[1m Total params: \u001b[0m\u001b[38;5;34m211,851\u001b[0m (827.54 KB)\n"
      ]
     },
     "metadata": {},
     "output_type": "display_data"
    },
    {
     "data": {
      "text/html": [
       "<pre style=\"white-space:pre;overflow-x:auto;line-height:normal;font-family:Menlo,'DejaVu Sans Mono',consolas,'Courier New',monospace\"><span style=\"font-weight: bold\"> Trainable params: </span><span style=\"color: #00af00; text-decoration-color: #00af00\">211,851</span> (827.54 KB)\n",
       "</pre>\n"
      ],
      "text/plain": [
       "\u001b[1m Trainable params: \u001b[0m\u001b[38;5;34m211,851\u001b[0m (827.54 KB)\n"
      ]
     },
     "metadata": {},
     "output_type": "display_data"
    },
    {
     "data": {
      "text/html": [
       "<pre style=\"white-space:pre;overflow-x:auto;line-height:normal;font-family:Menlo,'DejaVu Sans Mono',consolas,'Courier New',monospace\"><span style=\"font-weight: bold\"> Non-trainable params: </span><span style=\"color: #00af00; text-decoration-color: #00af00\">0</span> (0.00 B)\n",
       "</pre>\n"
      ],
      "text/plain": [
       "\u001b[1m Non-trainable params: \u001b[0m\u001b[38;5;34m0\u001b[0m (0.00 B)\n"
      ]
     },
     "metadata": {},
     "output_type": "display_data"
    }
   ],
   "source": [
    "##LSTM structure\n",
    "m=Sequential()\n",
    "m.add(InputLayer((5,1)))\n",
    "m.add(LSTM(200, return_sequences=True))\n",
    "m.add(LSTM(50))\n",
    "m.add(Dense(1,'relu'))\n",
    "m.summary()"
   ]
  },
  {
   "cell_type": "code",
   "execution_count": 13,
   "id": "4a0878e5",
   "metadata": {},
   "outputs": [
    {
     "name": "stdout",
     "output_type": "stream",
     "text": [
      "Epoch 1/100\n",
      "\u001b[1m52/52\u001b[0m \u001b[32m━━━━━━━━━━━━━━━━━━━━\u001b[0m\u001b[37m\u001b[0m \u001b[1m4s\u001b[0m 18ms/step - loss: 0.0933 - root_mean_squared_error: 0.2889 - val_loss: 0.0080 - val_root_mean_squared_error: 0.0896\n",
      "Epoch 2/100\n",
      "\u001b[1m52/52\u001b[0m \u001b[32m━━━━━━━━━━━━━━━━━━━━\u001b[0m\u001b[37m\u001b[0m \u001b[1m0s\u001b[0m 9ms/step - loss: 0.0085 - root_mean_squared_error: 0.0922 - val_loss: 0.0079 - val_root_mean_squared_error: 0.0886\n",
      "Epoch 3/100\n",
      "\u001b[1m52/52\u001b[0m \u001b[32m━━━━━━━━━━━━━━━━━━━━\u001b[0m\u001b[37m\u001b[0m \u001b[1m1s\u001b[0m 11ms/step - loss: 0.0085 - root_mean_squared_error: 0.0922 - val_loss: 0.0078 - val_root_mean_squared_error: 0.0884\n",
      "Epoch 4/100\n",
      "\u001b[1m52/52\u001b[0m \u001b[32m━━━━━━━━━━━━━━━━━━━━\u001b[0m\u001b[37m\u001b[0m \u001b[1m1s\u001b[0m 10ms/step - loss: 0.0085 - root_mean_squared_error: 0.0921 - val_loss: 0.0079 - val_root_mean_squared_error: 0.0887\n",
      "Epoch 5/100\n",
      "\u001b[1m52/52\u001b[0m \u001b[32m━━━━━━━━━━━━━━━━━━━━\u001b[0m\u001b[37m\u001b[0m \u001b[1m1s\u001b[0m 10ms/step - loss: 0.0085 - root_mean_squared_error: 0.0921 - val_loss: 0.0080 - val_root_mean_squared_error: 0.0893\n",
      "Epoch 6/100\n",
      "\u001b[1m52/52\u001b[0m \u001b[32m━━━━━━━━━━━━━━━━━━━━\u001b[0m\u001b[37m\u001b[0m \u001b[1m1s\u001b[0m 10ms/step - loss: 0.0085 - root_mean_squared_error: 0.0920 - val_loss: 0.0081 - val_root_mean_squared_error: 0.0899\n",
      "Epoch 7/100\n",
      "\u001b[1m52/52\u001b[0m \u001b[32m━━━━━━━━━━━━━━━━━━━━\u001b[0m\u001b[37m\u001b[0m \u001b[1m1s\u001b[0m 10ms/step - loss: 0.0085 - root_mean_squared_error: 0.0918 - val_loss: 0.0081 - val_root_mean_squared_error: 0.0902\n",
      "Epoch 8/100\n",
      "\u001b[1m52/52\u001b[0m \u001b[32m━━━━━━━━━━━━━━━━━━━━\u001b[0m\u001b[37m\u001b[0m \u001b[1m1s\u001b[0m 10ms/step - loss: 0.0084 - root_mean_squared_error: 0.0915 - val_loss: 0.0082 - val_root_mean_squared_error: 0.0903\n",
      "Epoch 9/100\n",
      "\u001b[1m52/52\u001b[0m \u001b[32m━━━━━━━━━━━━━━━━━━━━\u001b[0m\u001b[37m\u001b[0m \u001b[1m1s\u001b[0m 10ms/step - loss: 0.0084 - root_mean_squared_error: 0.0913 - val_loss: 0.0081 - val_root_mean_squared_error: 0.0903\n",
      "Epoch 10/100\n",
      "\u001b[1m52/52\u001b[0m \u001b[32m━━━━━━━━━━━━━━━━━━━━\u001b[0m\u001b[37m\u001b[0m \u001b[1m1s\u001b[0m 10ms/step - loss: 0.0083 - root_mean_squared_error: 0.0912 - val_loss: 0.0081 - val_root_mean_squared_error: 0.0901\n",
      "Epoch 11/100\n",
      "\u001b[1m52/52\u001b[0m \u001b[32m━━━━━━━━━━━━━━━━━━━━\u001b[0m\u001b[37m\u001b[0m \u001b[1m0s\u001b[0m 9ms/step - loss: 0.0083 - root_mean_squared_error: 0.0910 - val_loss: 0.0081 - val_root_mean_squared_error: 0.0898\n",
      "Epoch 12/100\n",
      "\u001b[1m52/52\u001b[0m \u001b[32m━━━━━━━━━━━━━━━━━━━━\u001b[0m\u001b[37m\u001b[0m \u001b[1m0s\u001b[0m 9ms/step - loss: 0.0083 - root_mean_squared_error: 0.0909 - val_loss: 0.0080 - val_root_mean_squared_error: 0.0894\n",
      "Epoch 13/100\n",
      "\u001b[1m52/52\u001b[0m \u001b[32m━━━━━━━━━━━━━━━━━━━━\u001b[0m\u001b[37m\u001b[0m \u001b[1m1s\u001b[0m 11ms/step - loss: 0.0083 - root_mean_squared_error: 0.0907 - val_loss: 0.0079 - val_root_mean_squared_error: 0.0889\n",
      "Epoch 14/100\n",
      "\u001b[1m52/52\u001b[0m \u001b[32m━━━━━━━━━━━━━━━━━━━━\u001b[0m\u001b[37m\u001b[0m \u001b[1m1s\u001b[0m 10ms/step - loss: 0.0082 - root_mean_squared_error: 0.0905 - val_loss: 0.0078 - val_root_mean_squared_error: 0.0885\n",
      "Epoch 15/100\n",
      "\u001b[1m52/52\u001b[0m \u001b[32m━━━━━━━━━━━━━━━━━━━━\u001b[0m\u001b[37m\u001b[0m \u001b[1m1s\u001b[0m 10ms/step - loss: 0.0082 - root_mean_squared_error: 0.0904 - val_loss: 0.0077 - val_root_mean_squared_error: 0.0880\n",
      "Epoch 16/100\n",
      "\u001b[1m52/52\u001b[0m \u001b[32m━━━━━━━━━━━━━━━━━━━━\u001b[0m\u001b[37m\u001b[0m \u001b[1m1s\u001b[0m 9ms/step - loss: 0.0082 - root_mean_squared_error: 0.0902 - val_loss: 0.0077 - val_root_mean_squared_error: 0.0876\n",
      "Epoch 17/100\n",
      "\u001b[1m52/52\u001b[0m \u001b[32m━━━━━━━━━━━━━━━━━━━━\u001b[0m\u001b[37m\u001b[0m \u001b[1m1s\u001b[0m 10ms/step - loss: 0.0082 - root_mean_squared_error: 0.0900 - val_loss: 0.0076 - val_root_mean_squared_error: 0.0873\n",
      "Epoch 18/100\n",
      "\u001b[1m52/52\u001b[0m \u001b[32m━━━━━━━━━━━━━━━━━━━━\u001b[0m\u001b[37m\u001b[0m \u001b[1m1s\u001b[0m 10ms/step - loss: 0.0081 - root_mean_squared_error: 0.0899 - val_loss: 0.0076 - val_root_mean_squared_error: 0.0870\n",
      "Epoch 19/100\n",
      "\u001b[1m52/52\u001b[0m \u001b[32m━━━━━━━━━━━━━━━━━━━━\u001b[0m\u001b[37m\u001b[0m \u001b[1m1s\u001b[0m 10ms/step - loss: 0.0081 - root_mean_squared_error: 0.0897 - val_loss: 0.0075 - val_root_mean_squared_error: 0.0868\n",
      "Epoch 20/100\n",
      "\u001b[1m52/52\u001b[0m \u001b[32m━━━━━━━━━━━━━━━━━━━━\u001b[0m\u001b[37m\u001b[0m \u001b[1m0s\u001b[0m 9ms/step - loss: 0.0081 - root_mean_squared_error: 0.0895 - val_loss: 0.0075 - val_root_mean_squared_error: 0.0866\n",
      "Epoch 21/100\n",
      "\u001b[1m52/52\u001b[0m \u001b[32m━━━━━━━━━━━━━━━━━━━━\u001b[0m\u001b[37m\u001b[0m \u001b[1m1s\u001b[0m 10ms/step - loss: 0.0080 - root_mean_squared_error: 0.0894 - val_loss: 0.0075 - val_root_mean_squared_error: 0.0865\n",
      "Epoch 22/100\n",
      "\u001b[1m52/52\u001b[0m \u001b[32m━━━━━━━━━━━━━━━━━━━━\u001b[0m\u001b[37m\u001b[0m \u001b[1m0s\u001b[0m 9ms/step - loss: 0.0080 - root_mean_squared_error: 0.0892 - val_loss: 0.0075 - val_root_mean_squared_error: 0.0864\n",
      "Epoch 23/100\n",
      "\u001b[1m52/52\u001b[0m \u001b[32m━━━━━━━━━━━━━━━━━━━━\u001b[0m\u001b[37m\u001b[0m \u001b[1m1s\u001b[0m 9ms/step - loss: 0.0080 - root_mean_squared_error: 0.0891 - val_loss: 0.0075 - val_root_mean_squared_error: 0.0863\n",
      "Epoch 24/100\n",
      "\u001b[1m52/52\u001b[0m \u001b[32m━━━━━━━━━━━━━━━━━━━━\u001b[0m\u001b[37m\u001b[0m \u001b[1m0s\u001b[0m 9ms/step - loss: 0.0080 - root_mean_squared_error: 0.0890 - val_loss: 0.0074 - val_root_mean_squared_error: 0.0863\n",
      "Epoch 25/100\n",
      "\u001b[1m52/52\u001b[0m \u001b[32m━━━━━━━━━━━━━━━━━━━━\u001b[0m\u001b[37m\u001b[0m \u001b[1m0s\u001b[0m 9ms/step - loss: 0.0080 - root_mean_squared_error: 0.0889 - val_loss: 0.0074 - val_root_mean_squared_error: 0.0862\n",
      "Epoch 26/100\n",
      "\u001b[1m52/52\u001b[0m \u001b[32m━━━━━━━━━━━━━━━━━━━━\u001b[0m\u001b[37m\u001b[0m \u001b[1m0s\u001b[0m 9ms/step - loss: 0.0079 - root_mean_squared_error: 0.0888 - val_loss: 0.0074 - val_root_mean_squared_error: 0.0862\n",
      "Epoch 27/100\n",
      "\u001b[1m52/52\u001b[0m \u001b[32m━━━━━━━━━━━━━━━━━━━━\u001b[0m\u001b[37m\u001b[0m \u001b[1m1s\u001b[0m 11ms/step - loss: 0.0079 - root_mean_squared_error: 0.0887 - val_loss: 0.0074 - val_root_mean_squared_error: 0.0862\n",
      "Epoch 28/100\n",
      "\u001b[1m52/52\u001b[0m \u001b[32m━━━━━━━━━━━━━━━━━━━━\u001b[0m\u001b[37m\u001b[0m \u001b[1m1s\u001b[0m 9ms/step - loss: 0.0079 - root_mean_squared_error: 0.0887 - val_loss: 0.0074 - val_root_mean_squared_error: 0.0862\n",
      "Epoch 29/100\n",
      "\u001b[1m52/52\u001b[0m \u001b[32m━━━━━━━━━━━━━━━━━━━━\u001b[0m\u001b[37m\u001b[0m \u001b[1m1s\u001b[0m 10ms/step - loss: 0.0079 - root_mean_squared_error: 0.0886 - val_loss: 0.0074 - val_root_mean_squared_error: 0.0861\n",
      "Epoch 30/100\n",
      "\u001b[1m52/52\u001b[0m \u001b[32m━━━━━━━━━━━━━━━━━━━━\u001b[0m\u001b[37m\u001b[0m \u001b[1m0s\u001b[0m 9ms/step - loss: 0.0079 - root_mean_squared_error: 0.0885 - val_loss: 0.0074 - val_root_mean_squared_error: 0.0861\n",
      "Epoch 31/100\n",
      "\u001b[1m52/52\u001b[0m \u001b[32m━━━━━━━━━━━━━━━━━━━━\u001b[0m\u001b[37m\u001b[0m \u001b[1m1s\u001b[0m 9ms/step - loss: 0.0079 - root_mean_squared_error: 0.0885 - val_loss: 0.0074 - val_root_mean_squared_error: 0.0861\n",
      "Epoch 32/100\n",
      "\u001b[1m52/52\u001b[0m \u001b[32m━━━━━━━━━━━━━━━━━━━━\u001b[0m\u001b[37m\u001b[0m \u001b[1m1s\u001b[0m 9ms/step - loss: 0.0079 - root_mean_squared_error: 0.0884 - val_loss: 0.0074 - val_root_mean_squared_error: 0.0861\n",
      "Epoch 33/100\n",
      "\u001b[1m52/52\u001b[0m \u001b[32m━━━━━━━━━━━━━━━━━━━━\u001b[0m\u001b[37m\u001b[0m \u001b[1m1s\u001b[0m 9ms/step - loss: 0.0079 - root_mean_squared_error: 0.0884 - val_loss: 0.0074 - val_root_mean_squared_error: 0.0861\n",
      "Epoch 34/100\n",
      "\u001b[1m52/52\u001b[0m \u001b[32m━━━━━━━━━━━━━━━━━━━━\u001b[0m\u001b[37m\u001b[0m \u001b[1m1s\u001b[0m 10ms/step - loss: 0.0078 - root_mean_squared_error: 0.0883 - val_loss: 0.0074 - val_root_mean_squared_error: 0.0861\n",
      "Epoch 35/100\n",
      "\u001b[1m52/52\u001b[0m \u001b[32m━━━━━━━━━━━━━━━━━━━━\u001b[0m\u001b[37m\u001b[0m \u001b[1m1s\u001b[0m 9ms/step - loss: 0.0078 - root_mean_squared_error: 0.0883 - val_loss: 0.0074 - val_root_mean_squared_error: 0.0861\n",
      "Epoch 36/100\n",
      "\u001b[1m52/52\u001b[0m \u001b[32m━━━━━━━━━━━━━━━━━━━━\u001b[0m\u001b[37m\u001b[0m \u001b[1m1s\u001b[0m 10ms/step - loss: 0.0078 - root_mean_squared_error: 0.0883 - val_loss: 0.0074 - val_root_mean_squared_error: 0.0861\n",
      "Epoch 37/100\n",
      "\u001b[1m52/52\u001b[0m \u001b[32m━━━━━━━━━━━━━━━━━━━━\u001b[0m\u001b[37m\u001b[0m \u001b[1m1s\u001b[0m 10ms/step - loss: 0.0078 - root_mean_squared_error: 0.0882 - val_loss: 0.0074 - val_root_mean_squared_error: 0.0861\n",
      "Epoch 38/100\n",
      "\u001b[1m52/52\u001b[0m \u001b[32m━━━━━━━━━━━━━━━━━━━━\u001b[0m\u001b[37m\u001b[0m \u001b[1m1s\u001b[0m 10ms/step - loss: 0.0078 - root_mean_squared_error: 0.0882 - val_loss: 0.0074 - val_root_mean_squared_error: 0.0861\n",
      "Epoch 39/100\n",
      "\u001b[1m52/52\u001b[0m \u001b[32m━━━━━━━━━━━━━━━━━━━━\u001b[0m\u001b[37m\u001b[0m \u001b[1m1s\u001b[0m 10ms/step - loss: 0.0078 - root_mean_squared_error: 0.0882 - val_loss: 0.0074 - val_root_mean_squared_error: 0.0861\n",
      "Epoch 40/100\n",
      "\u001b[1m52/52\u001b[0m \u001b[32m━━━━━━━━━━━━━━━━━━━━\u001b[0m\u001b[37m\u001b[0m \u001b[1m1s\u001b[0m 10ms/step - loss: 0.0078 - root_mean_squared_error: 0.0881 - val_loss: 0.0074 - val_root_mean_squared_error: 0.0861\n",
      "Epoch 41/100\n",
      "\u001b[1m52/52\u001b[0m \u001b[32m━━━━━━━━━━━━━━━━━━━━\u001b[0m\u001b[37m\u001b[0m \u001b[1m1s\u001b[0m 10ms/step - loss: 0.0078 - root_mean_squared_error: 0.0881 - val_loss: 0.0074 - val_root_mean_squared_error: 0.0861\n",
      "Epoch 42/100\n",
      "\u001b[1m52/52\u001b[0m \u001b[32m━━━━━━━━━━━━━━━━━━━━\u001b[0m\u001b[37m\u001b[0m \u001b[1m1s\u001b[0m 10ms/step - loss: 0.0078 - root_mean_squared_error: 0.0881 - val_loss: 0.0074 - val_root_mean_squared_error: 0.0861\n",
      "Epoch 43/100\n",
      "\u001b[1m52/52\u001b[0m \u001b[32m━━━━━━━━━━━━━━━━━━━━\u001b[0m\u001b[37m\u001b[0m \u001b[1m1s\u001b[0m 9ms/step - loss: 0.0078 - root_mean_squared_error: 0.0881 - val_loss: 0.0074 - val_root_mean_squared_error: 0.0861\n",
      "Epoch 44/100\n",
      "\u001b[1m52/52\u001b[0m \u001b[32m━━━━━━━━━━━━━━━━━━━━\u001b[0m\u001b[37m\u001b[0m \u001b[1m1s\u001b[0m 10ms/step - loss: 0.0078 - root_mean_squared_error: 0.0880 - val_loss: 0.0074 - val_root_mean_squared_error: 0.0861\n",
      "Epoch 45/100\n",
      "\u001b[1m52/52\u001b[0m \u001b[32m━━━━━━━━━━━━━━━━━━━━\u001b[0m\u001b[37m\u001b[0m \u001b[1m1s\u001b[0m 9ms/step - loss: 0.0078 - root_mean_squared_error: 0.0880 - val_loss: 0.0074 - val_root_mean_squared_error: 0.0861\n",
      "Epoch 46/100\n",
      "\u001b[1m52/52\u001b[0m \u001b[32m━━━━━━━━━━━━━━━━━━━━\u001b[0m\u001b[37m\u001b[0m \u001b[1m1s\u001b[0m 10ms/step - loss: 0.0078 - root_mean_squared_error: 0.0880 - val_loss: 0.0074 - val_root_mean_squared_error: 0.0861\n",
      "Epoch 47/100\n",
      "\u001b[1m52/52\u001b[0m \u001b[32m━━━━━━━━━━━━━━━━━━━━\u001b[0m\u001b[37m\u001b[0m \u001b[1m1s\u001b[0m 10ms/step - loss: 0.0078 - root_mean_squared_error: 0.0880 - val_loss: 0.0074 - val_root_mean_squared_error: 0.0861\n",
      "Epoch 48/100\n",
      "\u001b[1m52/52\u001b[0m \u001b[32m━━━━━━━━━━━━━━━━━━━━\u001b[0m\u001b[37m\u001b[0m \u001b[1m1s\u001b[0m 10ms/step - loss: 0.0078 - root_mean_squared_error: 0.0879 - val_loss: 0.0074 - val_root_mean_squared_error: 0.0861\n",
      "Epoch 49/100\n",
      "\u001b[1m52/52\u001b[0m \u001b[32m━━━━━━━━━━━━━━━━━━━━\u001b[0m\u001b[37m\u001b[0m \u001b[1m1s\u001b[0m 10ms/step - loss: 0.0078 - root_mean_squared_error: 0.0879 - val_loss: 0.0074 - val_root_mean_squared_error: 0.0861\n",
      "Epoch 50/100\n",
      "\u001b[1m52/52\u001b[0m \u001b[32m━━━━━━━━━━━━━━━━━━━━\u001b[0m\u001b[37m\u001b[0m \u001b[1m0s\u001b[0m 9ms/step - loss: 0.0078 - root_mean_squared_error: 0.0879 - val_loss: 0.0074 - val_root_mean_squared_error: 0.0861\n",
      "Epoch 51/100\n",
      "\u001b[1m52/52\u001b[0m \u001b[32m━━━━━━━━━━━━━━━━━━━━\u001b[0m\u001b[37m\u001b[0m \u001b[1m1s\u001b[0m 9ms/step - loss: 0.0078 - root_mean_squared_error: 0.0879 - val_loss: 0.0074 - val_root_mean_squared_error: 0.0861\n",
      "Epoch 52/100\n",
      "\u001b[1m52/52\u001b[0m \u001b[32m━━━━━━━━━━━━━━━━━━━━\u001b[0m\u001b[37m\u001b[0m \u001b[1m1s\u001b[0m 10ms/step - loss: 0.0078 - root_mean_squared_error: 0.0879 - val_loss: 0.0074 - val_root_mean_squared_error: 0.0862\n",
      "Epoch 53/100\n",
      "\u001b[1m52/52\u001b[0m \u001b[32m━━━━━━━━━━━━━━━━━━━━\u001b[0m\u001b[37m\u001b[0m \u001b[1m1s\u001b[0m 12ms/step - loss: 0.0078 - root_mean_squared_error: 0.0879 - val_loss: 0.0074 - val_root_mean_squared_error: 0.0862\n",
      "Epoch 54/100\n",
      "\u001b[1m52/52\u001b[0m \u001b[32m━━━━━━━━━━━━━━━━━━━━\u001b[0m\u001b[37m\u001b[0m \u001b[1m1s\u001b[0m 10ms/step - loss: 0.0078 - root_mean_squared_error: 0.0879 - val_loss: 0.0074 - val_root_mean_squared_error: 0.0862\n",
      "Epoch 55/100\n",
      "\u001b[1m52/52\u001b[0m \u001b[32m━━━━━━━━━━━━━━━━━━━━\u001b[0m\u001b[37m\u001b[0m \u001b[1m1s\u001b[0m 10ms/step - loss: 0.0078 - root_mean_squared_error: 0.0878 - val_loss: 0.0074 - val_root_mean_squared_error: 0.0862\n",
      "Epoch 56/100\n",
      "\u001b[1m52/52\u001b[0m \u001b[32m━━━━━━━━━━━━━━━━━━━━\u001b[0m\u001b[37m\u001b[0m \u001b[1m0s\u001b[0m 9ms/step - loss: 0.0078 - root_mean_squared_error: 0.0878 - val_loss: 0.0074 - val_root_mean_squared_error: 0.0862\n",
      "Epoch 57/100\n",
      "\u001b[1m52/52\u001b[0m \u001b[32m━━━━━━━━━━━━━━━━━━━━\u001b[0m\u001b[37m\u001b[0m \u001b[1m0s\u001b[0m 9ms/step - loss: 0.0078 - root_mean_squared_error: 0.0878 - val_loss: 0.0074 - val_root_mean_squared_error: 0.0862\n",
      "Epoch 58/100\n",
      "\u001b[1m52/52\u001b[0m \u001b[32m━━━━━━━━━━━━━━━━━━━━\u001b[0m\u001b[37m\u001b[0m \u001b[1m1s\u001b[0m 11ms/step - loss: 0.0078 - root_mean_squared_error: 0.0878 - val_loss: 0.0074 - val_root_mean_squared_error: 0.0862\n",
      "Epoch 59/100\n",
      "\u001b[1m52/52\u001b[0m \u001b[32m━━━━━━━━━━━━━━━━━━━━\u001b[0m\u001b[37m\u001b[0m \u001b[1m1s\u001b[0m 11ms/step - loss: 0.0078 - root_mean_squared_error: 0.0878 - val_loss: 0.0074 - val_root_mean_squared_error: 0.0862\n",
      "Epoch 60/100\n",
      "\u001b[1m52/52\u001b[0m \u001b[32m━━━━━━━━━━━━━━━━━━━━\u001b[0m\u001b[37m\u001b[0m \u001b[1m1s\u001b[0m 10ms/step - loss: 0.0077 - root_mean_squared_error: 0.0878 - val_loss: 0.0074 - val_root_mean_squared_error: 0.0862\n",
      "Epoch 61/100\n",
      "\u001b[1m52/52\u001b[0m \u001b[32m━━━━━━━━━━━━━━━━━━━━\u001b[0m\u001b[37m\u001b[0m \u001b[1m1s\u001b[0m 12ms/step - loss: 0.0077 - root_mean_squared_error: 0.0878 - val_loss: 0.0074 - val_root_mean_squared_error: 0.0862\n",
      "Epoch 62/100\n",
      "\u001b[1m52/52\u001b[0m \u001b[32m━━━━━━━━━━━━━━━━━━━━\u001b[0m\u001b[37m\u001b[0m \u001b[1m1s\u001b[0m 11ms/step - loss: 0.0077 - root_mean_squared_error: 0.0878 - val_loss: 0.0074 - val_root_mean_squared_error: 0.0862\n",
      "Epoch 63/100\n",
      "\u001b[1m52/52\u001b[0m \u001b[32m━━━━━━━━━━━━━━━━━━━━\u001b[0m\u001b[37m\u001b[0m \u001b[1m1s\u001b[0m 10ms/step - loss: 0.0077 - root_mean_squared_error: 0.0878 - val_loss: 0.0074 - val_root_mean_squared_error: 0.0862\n",
      "Epoch 64/100\n",
      "\u001b[1m52/52\u001b[0m \u001b[32m━━━━━━━━━━━━━━━━━━━━\u001b[0m\u001b[37m\u001b[0m \u001b[1m1s\u001b[0m 10ms/step - loss: 0.0077 - root_mean_squared_error: 0.0877 - val_loss: 0.0074 - val_root_mean_squared_error: 0.0862\n",
      "Epoch 65/100\n",
      "\u001b[1m52/52\u001b[0m \u001b[32m━━━━━━━━━━━━━━━━━━━━\u001b[0m\u001b[37m\u001b[0m \u001b[1m1s\u001b[0m 10ms/step - loss: 0.0077 - root_mean_squared_error: 0.0877 - val_loss: 0.0074 - val_root_mean_squared_error: 0.0862\n",
      "Epoch 66/100\n",
      "\u001b[1m52/52\u001b[0m \u001b[32m━━━━━━━━━━━━━━━━━━━━\u001b[0m\u001b[37m\u001b[0m \u001b[1m1s\u001b[0m 10ms/step - loss: 0.0077 - root_mean_squared_error: 0.0877 - val_loss: 0.0074 - val_root_mean_squared_error: 0.0862\n",
      "Epoch 67/100\n",
      "\u001b[1m52/52\u001b[0m \u001b[32m━━━━━━━━━━━━━━━━━━━━\u001b[0m\u001b[37m\u001b[0m \u001b[1m0s\u001b[0m 9ms/step - loss: 0.0077 - root_mean_squared_error: 0.0877 - val_loss: 0.0074 - val_root_mean_squared_error: 0.0863\n",
      "Epoch 68/100\n",
      "\u001b[1m52/52\u001b[0m \u001b[32m━━━━━━━━━━━━━━━━━━━━\u001b[0m\u001b[37m\u001b[0m \u001b[1m1s\u001b[0m 10ms/step - loss: 0.0077 - root_mean_squared_error: 0.0877 - val_loss: 0.0074 - val_root_mean_squared_error: 0.0863\n",
      "Epoch 69/100\n",
      "\u001b[1m52/52\u001b[0m \u001b[32m━━━━━━━━━━━━━━━━━━━━\u001b[0m\u001b[37m\u001b[0m \u001b[1m1s\u001b[0m 10ms/step - loss: 0.0077 - root_mean_squared_error: 0.0877 - val_loss: 0.0074 - val_root_mean_squared_error: 0.0863\n",
      "Epoch 70/100\n",
      "\u001b[1m52/52\u001b[0m \u001b[32m━━━━━━━━━━━━━━━━━━━━\u001b[0m\u001b[37m\u001b[0m \u001b[1m0s\u001b[0m 9ms/step - loss: 0.0077 - root_mean_squared_error: 0.0877 - val_loss: 0.0074 - val_root_mean_squared_error: 0.0863\n",
      "Epoch 71/100\n",
      "\u001b[1m52/52\u001b[0m \u001b[32m━━━━━━━━━━━━━━━━━━━━\u001b[0m\u001b[37m\u001b[0m \u001b[1m1s\u001b[0m 10ms/step - loss: 0.0077 - root_mean_squared_error: 0.0877 - val_loss: 0.0074 - val_root_mean_squared_error: 0.0863\n",
      "Epoch 72/100\n",
      "\u001b[1m52/52\u001b[0m \u001b[32m━━━━━━━━━━━━━━━━━━━━\u001b[0m\u001b[37m\u001b[0m \u001b[1m1s\u001b[0m 11ms/step - loss: 0.0077 - root_mean_squared_error: 0.0877 - val_loss: 0.0074 - val_root_mean_squared_error: 0.0863\n",
      "Epoch 73/100\n",
      "\u001b[1m52/52\u001b[0m \u001b[32m━━━━━━━━━━━━━━━━━━━━\u001b[0m\u001b[37m\u001b[0m \u001b[1m1s\u001b[0m 9ms/step - loss: 0.0077 - root_mean_squared_error: 0.0877 - val_loss: 0.0074 - val_root_mean_squared_error: 0.0863\n",
      "Epoch 74/100\n",
      "\u001b[1m52/52\u001b[0m \u001b[32m━━━━━━━━━━━━━━━━━━━━\u001b[0m\u001b[37m\u001b[0m \u001b[1m1s\u001b[0m 10ms/step - loss: 0.0077 - root_mean_squared_error: 0.0877 - val_loss: 0.0074 - val_root_mean_squared_error: 0.0863\n",
      "Epoch 75/100\n",
      "\u001b[1m52/52\u001b[0m \u001b[32m━━━━━━━━━━━━━━━━━━━━\u001b[0m\u001b[37m\u001b[0m \u001b[1m1s\u001b[0m 11ms/step - loss: 0.0077 - root_mean_squared_error: 0.0877 - val_loss: 0.0074 - val_root_mean_squared_error: 0.0863\n",
      "Epoch 76/100\n",
      "\u001b[1m52/52\u001b[0m \u001b[32m━━━━━━━━━━━━━━━━━━━━\u001b[0m\u001b[37m\u001b[0m \u001b[1m1s\u001b[0m 10ms/step - loss: 0.0077 - root_mean_squared_error: 0.0877 - val_loss: 0.0074 - val_root_mean_squared_error: 0.0863\n",
      "Epoch 77/100\n",
      "\u001b[1m52/52\u001b[0m \u001b[32m━━━━━━━━━━━━━━━━━━━━\u001b[0m\u001b[37m\u001b[0m \u001b[1m1s\u001b[0m 10ms/step - loss: 0.0077 - root_mean_squared_error: 0.0877 - val_loss: 0.0075 - val_root_mean_squared_error: 0.0863\n",
      "Epoch 78/100\n",
      "\u001b[1m52/52\u001b[0m \u001b[32m━━━━━━━━━━━━━━━━━━━━\u001b[0m\u001b[37m\u001b[0m \u001b[1m1s\u001b[0m 10ms/step - loss: 0.0077 - root_mean_squared_error: 0.0877 - val_loss: 0.0075 - val_root_mean_squared_error: 0.0863\n",
      "Epoch 79/100\n",
      "\u001b[1m52/52\u001b[0m \u001b[32m━━━━━━━━━━━━━━━━━━━━\u001b[0m\u001b[37m\u001b[0m \u001b[1m1s\u001b[0m 10ms/step - loss: 0.0077 - root_mean_squared_error: 0.0876 - val_loss: 0.0075 - val_root_mean_squared_error: 0.0863\n",
      "Epoch 80/100\n",
      "\u001b[1m52/52\u001b[0m \u001b[32m━━━━━━━━━━━━━━━━━━━━\u001b[0m\u001b[37m\u001b[0m \u001b[1m0s\u001b[0m 9ms/step - loss: 0.0077 - root_mean_squared_error: 0.0876 - val_loss: 0.0075 - val_root_mean_squared_error: 0.0863\n",
      "Epoch 81/100\n",
      "\u001b[1m52/52\u001b[0m \u001b[32m━━━━━━━━━━━━━━━━━━━━\u001b[0m\u001b[37m\u001b[0m \u001b[1m1s\u001b[0m 10ms/step - loss: 0.0077 - root_mean_squared_error: 0.0876 - val_loss: 0.0075 - val_root_mean_squared_error: 0.0863\n",
      "Epoch 82/100\n",
      "\u001b[1m52/52\u001b[0m \u001b[32m━━━━━━━━━━━━━━━━━━━━\u001b[0m\u001b[37m\u001b[0m \u001b[1m1s\u001b[0m 9ms/step - loss: 0.0077 - root_mean_squared_error: 0.0876 - val_loss: 0.0075 - val_root_mean_squared_error: 0.0864\n",
      "Epoch 83/100\n",
      "\u001b[1m52/52\u001b[0m \u001b[32m━━━━━━━━━━━━━━━━━━━━\u001b[0m\u001b[37m\u001b[0m \u001b[1m0s\u001b[0m 8ms/step - loss: 0.0077 - root_mean_squared_error: 0.0876 - val_loss: 0.0075 - val_root_mean_squared_error: 0.0864\n",
      "Epoch 84/100\n",
      "\u001b[1m52/52\u001b[0m \u001b[32m━━━━━━━━━━━━━━━━━━━━\u001b[0m\u001b[37m\u001b[0m \u001b[1m1s\u001b[0m 10ms/step - loss: 0.0077 - root_mean_squared_error: 0.0876 - val_loss: 0.0075 - val_root_mean_squared_error: 0.0864\n",
      "Epoch 85/100\n"
     ]
    },
    {
     "name": "stdout",
     "output_type": "stream",
     "text": [
      "\u001b[1m52/52\u001b[0m \u001b[32m━━━━━━━━━━━━━━━━━━━━\u001b[0m\u001b[37m\u001b[0m \u001b[1m1s\u001b[0m 12ms/step - loss: 0.0077 - root_mean_squared_error: 0.0876 - val_loss: 0.0075 - val_root_mean_squared_error: 0.0864\n",
      "Epoch 86/100\n",
      "\u001b[1m52/52\u001b[0m \u001b[32m━━━━━━━━━━━━━━━━━━━━\u001b[0m\u001b[37m\u001b[0m \u001b[1m1s\u001b[0m 12ms/step - loss: 0.0077 - root_mean_squared_error: 0.0876 - val_loss: 0.0075 - val_root_mean_squared_error: 0.0864\n",
      "Epoch 87/100\n",
      "\u001b[1m52/52\u001b[0m \u001b[32m━━━━━━━━━━━━━━━━━━━━\u001b[0m\u001b[37m\u001b[0m \u001b[1m0s\u001b[0m 9ms/step - loss: 0.0077 - root_mean_squared_error: 0.0876 - val_loss: 0.0075 - val_root_mean_squared_error: 0.0864\n",
      "Epoch 88/100\n",
      "\u001b[1m52/52\u001b[0m \u001b[32m━━━━━━━━━━━━━━━━━━━━\u001b[0m\u001b[37m\u001b[0m \u001b[1m1s\u001b[0m 9ms/step - loss: 0.0077 - root_mean_squared_error: 0.0876 - val_loss: 0.0075 - val_root_mean_squared_error: 0.0864\n",
      "Epoch 89/100\n",
      "\u001b[1m52/52\u001b[0m \u001b[32m━━━━━━━━━━━━━━━━━━━━\u001b[0m\u001b[37m\u001b[0m \u001b[1m1s\u001b[0m 11ms/step - loss: 0.0077 - root_mean_squared_error: 0.0876 - val_loss: 0.0075 - val_root_mean_squared_error: 0.0864\n",
      "Epoch 90/100\n",
      "\u001b[1m52/52\u001b[0m \u001b[32m━━━━━━━━━━━━━━━━━━━━\u001b[0m\u001b[37m\u001b[0m \u001b[1m1s\u001b[0m 11ms/step - loss: 0.0077 - root_mean_squared_error: 0.0876 - val_loss: 0.0075 - val_root_mean_squared_error: 0.0864\n",
      "Epoch 91/100\n",
      "\u001b[1m52/52\u001b[0m \u001b[32m━━━━━━━━━━━━━━━━━━━━\u001b[0m\u001b[37m\u001b[0m \u001b[1m1s\u001b[0m 10ms/step - loss: 0.0077 - root_mean_squared_error: 0.0876 - val_loss: 0.0075 - val_root_mean_squared_error: 0.0864\n",
      "Epoch 92/100\n",
      "\u001b[1m52/52\u001b[0m \u001b[32m━━━━━━━━━━━━━━━━━━━━\u001b[0m\u001b[37m\u001b[0m \u001b[1m1s\u001b[0m 12ms/step - loss: 0.0077 - root_mean_squared_error: 0.0876 - val_loss: 0.0075 - val_root_mean_squared_error: 0.0864\n",
      "Epoch 93/100\n",
      "\u001b[1m52/52\u001b[0m \u001b[32m━━━━━━━━━━━━━━━━━━━━\u001b[0m\u001b[37m\u001b[0m \u001b[1m1s\u001b[0m 9ms/step - loss: 0.0077 - root_mean_squared_error: 0.0876 - val_loss: 0.0075 - val_root_mean_squared_error: 0.0864\n",
      "Epoch 94/100\n",
      "\u001b[1m52/52\u001b[0m \u001b[32m━━━━━━━━━━━━━━━━━━━━\u001b[0m\u001b[37m\u001b[0m \u001b[1m1s\u001b[0m 11ms/step - loss: 0.0077 - root_mean_squared_error: 0.0876 - val_loss: 0.0075 - val_root_mean_squared_error: 0.0864\n",
      "Epoch 95/100\n",
      "\u001b[1m52/52\u001b[0m \u001b[32m━━━━━━━━━━━━━━━━━━━━\u001b[0m\u001b[37m\u001b[0m \u001b[1m1s\u001b[0m 10ms/step - loss: 0.0077 - root_mean_squared_error: 0.0876 - val_loss: 0.0075 - val_root_mean_squared_error: 0.0864\n",
      "Epoch 96/100\n",
      "\u001b[1m52/52\u001b[0m \u001b[32m━━━━━━━━━━━━━━━━━━━━\u001b[0m\u001b[37m\u001b[0m \u001b[1m1s\u001b[0m 10ms/step - loss: 0.0077 - root_mean_squared_error: 0.0876 - val_loss: 0.0075 - val_root_mean_squared_error: 0.0865\n",
      "Epoch 97/100\n",
      "\u001b[1m52/52\u001b[0m \u001b[32m━━━━━━━━━━━━━━━━━━━━\u001b[0m\u001b[37m\u001b[0m \u001b[1m1s\u001b[0m 9ms/step - loss: 0.0077 - root_mean_squared_error: 0.0876 - val_loss: 0.0075 - val_root_mean_squared_error: 0.0865\n",
      "Epoch 98/100\n",
      "\u001b[1m52/52\u001b[0m \u001b[32m━━━━━━━━━━━━━━━━━━━━\u001b[0m\u001b[37m\u001b[0m \u001b[1m1s\u001b[0m 11ms/step - loss: 0.0077 - root_mean_squared_error: 0.0876 - val_loss: 0.0075 - val_root_mean_squared_error: 0.0865\n",
      "Epoch 99/100\n",
      "\u001b[1m52/52\u001b[0m \u001b[32m━━━━━━━━━━━━━━━━━━━━\u001b[0m\u001b[37m\u001b[0m \u001b[1m1s\u001b[0m 10ms/step - loss: 0.0077 - root_mean_squared_error: 0.0876 - val_loss: 0.0075 - val_root_mean_squared_error: 0.0865\n",
      "Epoch 100/100\n",
      "\u001b[1m52/52\u001b[0m \u001b[32m━━━━━━━━━━━━━━━━━━━━\u001b[0m\u001b[37m\u001b[0m \u001b[1m1s\u001b[0m 11ms/step - loss: 0.0077 - root_mean_squared_error: 0.0876 - val_loss: 0.0075 - val_root_mean_squared_error: 0.0865\n"
     ]
    }
   ],
   "source": [
    "#Compile the model\n",
    "m.compile(loss=MeanSquaredError(),optimizer=\"Adam\",metrics=[RootMeanSquaredError()])\n",
    "#Train the model\n",
    "history=m.fit(X_train,y_train,validation_split=0.2, epochs=100 ,batch_size=32)"
   ]
  },
  {
   "cell_type": "code",
   "execution_count": 14,
   "id": "0622cbe2",
   "metadata": {},
   "outputs": [
    {
     "name": "stdout",
     "output_type": "stream",
     "text": [
      "\u001b[1m65/65\u001b[0m \u001b[32m━━━━━━━━━━━━━━━━━━━━\u001b[0m\u001b[37m\u001b[0m \u001b[1m1s\u001b[0m 9ms/step\n"
     ]
    }
   ],
   "source": [
    "#Predict the train set\n",
    "train_p=m.predict(X_train).flatten()"
   ]
  },
  {
   "cell_type": "code",
   "execution_count": 15,
   "id": "b7bd67c8",
   "metadata": {},
   "outputs": [
    {
     "name": "stdout",
     "output_type": "stream",
     "text": [
      "\u001b[1m1/1\u001b[0m \u001b[32m━━━━━━━━━━━━━━━━━━━━\u001b[0m\u001b[37m\u001b[0m \u001b[1m0s\u001b[0m 47ms/step\n",
      "\u001b[1m1/1\u001b[0m \u001b[32m━━━━━━━━━━━━━━━━━━━━\u001b[0m\u001b[37m\u001b[0m \u001b[1m0s\u001b[0m 43ms/step\n",
      "\u001b[1m1/1\u001b[0m \u001b[32m━━━━━━━━━━━━━━━━━━━━\u001b[0m\u001b[37m\u001b[0m \u001b[1m0s\u001b[0m 16ms/step"
     ]
    },
    {
     "name": "stderr",
     "output_type": "stream",
     "text": [
      "C:\\Users\\loic\\AppData\\Local\\Temp\\ipykernel_6660\\3452362541.py:7: DeprecationWarning: Conversion of an array with ndim > 0 to a scalar is deprecated, and will error in future. Ensure you extract a single element from your array before performing this operation. (Deprecated NumPy 1.25.)\n",
      "  test_p[i] = pred[0]\n",
      "C:\\Users\\loic\\AppData\\Local\\Temp\\ipykernel_6660\\3452362541.py:9: DeprecationWarning: Conversion of an array with ndim > 0 to a scalar is deprecated, and will error in future. Ensure you extract a single element from your array before performing this operation. (Deprecated NumPy 1.25.)\n",
      "  m_input[0,-1,0] = pred[0]\n"
     ]
    },
    {
     "name": "stdout",
     "output_type": "stream",
     "text": [
      "\u001b[1m1/1\u001b[0m \u001b[32m━━━━━━━━━━━━━━━━━━━━\u001b[0m\u001b[37m\u001b[0m \u001b[1m0s\u001b[0m 16ms/step\n",
      "\u001b[1m1/1\u001b[0m \u001b[32m━━━━━━━━━━━━━━━━━━━━\u001b[0m\u001b[37m\u001b[0m \u001b[1m0s\u001b[0m 31ms/step\n",
      "\u001b[1m1/1\u001b[0m \u001b[32m━━━━━━━━━━━━━━━━━━━━\u001b[0m\u001b[37m\u001b[0m \u001b[1m0s\u001b[0m 31ms/step\n",
      "\u001b[1m1/1\u001b[0m \u001b[32m━━━━━━━━━━━━━━━━━━━━\u001b[0m\u001b[37m\u001b[0m \u001b[1m0s\u001b[0m 31ms/step\n",
      "\u001b[1m1/1\u001b[0m \u001b[32m━━━━━━━━━━━━━━━━━━━━\u001b[0m\u001b[37m\u001b[0m \u001b[1m0s\u001b[0m 36ms/step\n",
      "\u001b[1m1/1\u001b[0m \u001b[32m━━━━━━━━━━━━━━━━━━━━\u001b[0m\u001b[37m\u001b[0m \u001b[1m0s\u001b[0m 31ms/step\n",
      "\u001b[1m1/1\u001b[0m \u001b[32m━━━━━━━━━━━━━━━━━━━━\u001b[0m\u001b[37m\u001b[0m \u001b[1m0s\u001b[0m 31ms/step\n",
      "\u001b[1m1/1\u001b[0m \u001b[32m━━━━━━━━━━━━━━━━━━━━\u001b[0m\u001b[37m\u001b[0m \u001b[1m0s\u001b[0m 48ms/step\n",
      "\u001b[1m1/1\u001b[0m \u001b[32m━━━━━━━━━━━━━━━━━━━━\u001b[0m\u001b[37m\u001b[0m \u001b[1m0s\u001b[0m 48ms/step\n",
      "\u001b[1m1/1\u001b[0m \u001b[32m━━━━━━━━━━━━━━━━━━━━\u001b[0m\u001b[37m\u001b[0m \u001b[1m0s\u001b[0m 47ms/step\n",
      "\u001b[1m1/1\u001b[0m \u001b[32m━━━━━━━━━━━━━━━━━━━━\u001b[0m\u001b[37m\u001b[0m \u001b[1m0s\u001b[0m 46ms/step\n",
      "\u001b[1m1/1\u001b[0m \u001b[32m━━━━━━━━━━━━━━━━━━━━\u001b[0m\u001b[37m\u001b[0m \u001b[1m0s\u001b[0m 32ms/step\n",
      "\u001b[1m1/1\u001b[0m \u001b[32m━━━━━━━━━━━━━━━━━━━━\u001b[0m\u001b[37m\u001b[0m \u001b[1m0s\u001b[0m 31ms/step\n",
      "\u001b[1m1/1\u001b[0m \u001b[32m━━━━━━━━━━━━━━━━━━━━\u001b[0m\u001b[37m\u001b[0m \u001b[1m0s\u001b[0m 31ms/step\n",
      "\u001b[1m1/1\u001b[0m \u001b[32m━━━━━━━━━━━━━━━━━━━━\u001b[0m\u001b[37m\u001b[0m \u001b[1m0s\u001b[0m 31ms/step\n",
      "\u001b[1m1/1\u001b[0m \u001b[32m━━━━━━━━━━━━━━━━━━━━\u001b[0m\u001b[37m\u001b[0m \u001b[1m0s\u001b[0m 47ms/step\n",
      "\u001b[1m1/1\u001b[0m \u001b[32m━━━━━━━━━━━━━━━━━━━━\u001b[0m\u001b[37m\u001b[0m \u001b[1m0s\u001b[0m 47ms/step\n",
      "\u001b[1m1/1\u001b[0m \u001b[32m━━━━━━━━━━━━━━━━━━━━\u001b[0m\u001b[37m\u001b[0m \u001b[1m0s\u001b[0m 47ms/step\n"
     ]
    }
   ],
   "source": [
    "#Use the model to generate 20 next days forecast based on its prediction\n",
    "ntest = X_test.shape[0]\n",
    "m_input = X_train[-1:]\n",
    "test_p = np.zeros(ntest)\n",
    "for i in range(ntest):\n",
    "    pred = m.predict(m_input)\n",
    "    test_p[i] = pred[0]\n",
    "    m_input = np.roll(m_input, -1)\n",
    "    m_input[0,-1,0] = pred[0]"
   ]
  },
  {
   "cell_type": "code",
   "execution_count": 16,
   "id": "f55babeb",
   "metadata": {},
   "outputs": [],
   "source": [
    "#Inversion of the scaling\n",
    "train_p=scaler.inverse_transform(train_p.reshape(-1,1))\n",
    "test_p=scaler.inverse_transform(test_p.reshape(-1,1))\n",
    "train_p=train_p.reshape(-1)\n",
    "test_p=test_p.reshape(-1)"
   ]
  },
  {
   "cell_type": "code",
   "execution_count": 17,
   "id": "b32d5fd1",
   "metadata": {},
   "outputs": [
    {
     "name": "stdout",
     "output_type": "stream",
     "text": [
      "train: (np.float64(0.1482607705221181), np.float64(0.007568514389266039))\n",
      "test: (np.float64(0.2801779442772842), np.float64(0.013867688235343659))\n"
     ]
    }
   ],
   "source": [
    "# ARIMA-LSTM (we sum the results of the fitted ARIMA model with the forecast of the residuals).\n",
    "\n",
    "print('train:', metrics(data['DEXSFUS'][:2067],data['fit_arim1'][:2067]+train_p))\n",
    "print('test:' , metrics(data['DEXSFUS'][2067:],data['fit_arim1'][2067:]+test_p))"
   ]
  },
  {
   "cell_type": "markdown",
   "id": "d079b006",
   "metadata": {},
   "source": [
    "# ES-LSTM (LSTM on residuals of ES )"
   ]
  },
  {
   "cell_type": "markdown",
   "id": "468bd39f",
   "metadata": {},
   "source": [
    "For this cas the code is the same that the case of ARIMA-LSTM but we just replace res_arim1 and fit_arim1 by res_esp1 and fit_esp1 respectively"
   ]
  },
  {
   "cell_type": "markdown",
   "id": "0d54eae7",
   "metadata": {},
   "source": [
    "# SSA-R-LSTM (LSTM on the noice )"
   ]
  },
  {
   "cell_type": "code",
   "execution_count": 8,
   "id": "14c76b6d",
   "metadata": {},
   "outputs": [],
   "source": [
    "#Prepare the data\n",
    "data_=data['res_lrf1']\n",
    "s=data_[:5]\n",
    "data_=pd.concat([s,data_])\n",
    "\n",
    "###\n",
    "window=5\n",
    "X,y=data_toX_y(data_,window)\n",
    "\n",
    "X_train,y_train= X[:2067],y[:2067]\n",
    "X_test,y_test= X[2067:],y[2067:]"
   ]
  },
  {
   "cell_type": "code",
   "execution_count": 9,
   "id": "df844a96",
   "metadata": {},
   "outputs": [],
   "source": [
    "# Set the seed\n",
    "tf.keras.utils.set_random_seed(123)\n",
    "tf.config.experimental.enable_op_determinism()"
   ]
  },
  {
   "cell_type": "code",
   "execution_count": 10,
   "id": "b11a3a8f",
   "metadata": {},
   "outputs": [
    {
     "ename": "NameError",
     "evalue": "name 'm' is not defined",
     "output_type": "error",
     "traceback": [
      "\u001b[1;31m---------------------------------------------------------------------------\u001b[0m",
      "\u001b[1;31mNameError\u001b[0m                                 Traceback (most recent call last)",
      "Cell \u001b[1;32mIn[10], line 1\u001b[0m\n\u001b[1;32m----> 1\u001b[0m \u001b[38;5;28;01mdel\u001b[39;00m m\n",
      "\u001b[1;31mNameError\u001b[0m: name 'm' is not defined"
     ]
    }
   ],
   "source": [
    "del m"
   ]
  },
  {
   "cell_type": "code",
   "execution_count": 11,
   "id": "0224cfac",
   "metadata": {},
   "outputs": [
    {
     "data": {
      "text/html": [
       "<pre style=\"white-space:pre;overflow-x:auto;line-height:normal;font-family:Menlo,'DejaVu Sans Mono',consolas,'Courier New',monospace\"><span style=\"font-weight: bold\">Model: \"sequential\"</span>\n",
       "</pre>\n"
      ],
      "text/plain": [
       "\u001b[1mModel: \"sequential\"\u001b[0m\n"
      ]
     },
     "metadata": {},
     "output_type": "display_data"
    },
    {
     "data": {
      "text/html": [
       "<pre style=\"white-space:pre;overflow-x:auto;line-height:normal;font-family:Menlo,'DejaVu Sans Mono',consolas,'Courier New',monospace\">┏━━━━━━━━━━━━━━━━━━━━━━━━━━━━━━━━━━━━━━┳━━━━━━━━━━━━━━━━━━━━━━━━━━━━━┳━━━━━━━━━━━━━━━━━┓\n",
       "┃<span style=\"font-weight: bold\"> Layer (type)                         </span>┃<span style=\"font-weight: bold\"> Output Shape                </span>┃<span style=\"font-weight: bold\">         Param # </span>┃\n",
       "┡━━━━━━━━━━━━━━━━━━━━━━━━━━━━━━━━━━━━━━╇━━━━━━━━━━━━━━━━━━━━━━━━━━━━━╇━━━━━━━━━━━━━━━━━┩\n",
       "│ lstm (<span style=\"color: #0087ff; text-decoration-color: #0087ff\">LSTM</span>)                          │ (<span style=\"color: #00d7ff; text-decoration-color: #00d7ff\">None</span>, <span style=\"color: #00af00; text-decoration-color: #00af00\">250</span>)                 │         <span style=\"color: #00af00; text-decoration-color: #00af00\">252,000</span> │\n",
       "├──────────────────────────────────────┼─────────────────────────────┼─────────────────┤\n",
       "│ dense (<span style=\"color: #0087ff; text-decoration-color: #0087ff\">Dense</span>)                        │ (<span style=\"color: #00d7ff; text-decoration-color: #00d7ff\">None</span>, <span style=\"color: #00af00; text-decoration-color: #00af00\">1</span>)                   │             <span style=\"color: #00af00; text-decoration-color: #00af00\">251</span> │\n",
       "└──────────────────────────────────────┴─────────────────────────────┴─────────────────┘\n",
       "</pre>\n"
      ],
      "text/plain": [
       "┏━━━━━━━━━━━━━━━━━━━━━━━━━━━━━━━━━━━━━━┳━━━━━━━━━━━━━━━━━━━━━━━━━━━━━┳━━━━━━━━━━━━━━━━━┓\n",
       "┃\u001b[1m \u001b[0m\u001b[1mLayer (type)                        \u001b[0m\u001b[1m \u001b[0m┃\u001b[1m \u001b[0m\u001b[1mOutput Shape               \u001b[0m\u001b[1m \u001b[0m┃\u001b[1m \u001b[0m\u001b[1m        Param #\u001b[0m\u001b[1m \u001b[0m┃\n",
       "┡━━━━━━━━━━━━━━━━━━━━━━━━━━━━━━━━━━━━━━╇━━━━━━━━━━━━━━━━━━━━━━━━━━━━━╇━━━━━━━━━━━━━━━━━┩\n",
       "│ lstm (\u001b[38;5;33mLSTM\u001b[0m)                          │ (\u001b[38;5;45mNone\u001b[0m, \u001b[38;5;34m250\u001b[0m)                 │         \u001b[38;5;34m252,000\u001b[0m │\n",
       "├──────────────────────────────────────┼─────────────────────────────┼─────────────────┤\n",
       "│ dense (\u001b[38;5;33mDense\u001b[0m)                        │ (\u001b[38;5;45mNone\u001b[0m, \u001b[38;5;34m1\u001b[0m)                   │             \u001b[38;5;34m251\u001b[0m │\n",
       "└──────────────────────────────────────┴─────────────────────────────┴─────────────────┘\n"
      ]
     },
     "metadata": {},
     "output_type": "display_data"
    },
    {
     "data": {
      "text/html": [
       "<pre style=\"white-space:pre;overflow-x:auto;line-height:normal;font-family:Menlo,'DejaVu Sans Mono',consolas,'Courier New',monospace\"><span style=\"font-weight: bold\"> Total params: </span><span style=\"color: #00af00; text-decoration-color: #00af00\">252,251</span> (985.36 KB)\n",
       "</pre>\n"
      ],
      "text/plain": [
       "\u001b[1m Total params: \u001b[0m\u001b[38;5;34m252,251\u001b[0m (985.36 KB)\n"
      ]
     },
     "metadata": {},
     "output_type": "display_data"
    },
    {
     "data": {
      "text/html": [
       "<pre style=\"white-space:pre;overflow-x:auto;line-height:normal;font-family:Menlo,'DejaVu Sans Mono',consolas,'Courier New',monospace\"><span style=\"font-weight: bold\"> Trainable params: </span><span style=\"color: #00af00; text-decoration-color: #00af00\">252,251</span> (985.36 KB)\n",
       "</pre>\n"
      ],
      "text/plain": [
       "\u001b[1m Trainable params: \u001b[0m\u001b[38;5;34m252,251\u001b[0m (985.36 KB)\n"
      ]
     },
     "metadata": {},
     "output_type": "display_data"
    },
    {
     "data": {
      "text/html": [
       "<pre style=\"white-space:pre;overflow-x:auto;line-height:normal;font-family:Menlo,'DejaVu Sans Mono',consolas,'Courier New',monospace\"><span style=\"font-weight: bold\"> Non-trainable params: </span><span style=\"color: #00af00; text-decoration-color: #00af00\">0</span> (0.00 B)\n",
       "</pre>\n"
      ],
      "text/plain": [
       "\u001b[1m Non-trainable params: \u001b[0m\u001b[38;5;34m0\u001b[0m (0.00 B)\n"
      ]
     },
     "metadata": {},
     "output_type": "display_data"
    }
   ],
   "source": [
    "#LSTM Structure\n",
    "m=Sequential()\n",
    "m.add(InputLayer((5,1)))\n",
    "m.add(LSTM(250))\n",
    "m.add(Dense(1,'relu'))\n",
    "m.summary()"
   ]
  },
  {
   "cell_type": "code",
   "execution_count": 12,
   "id": "f720dfe5",
   "metadata": {},
   "outputs": [],
   "source": [
    "#Compile the model\n",
    "m.compile(loss=MeanSquaredError(),optimizer=\"Adam\",metrics=[RootMeanSquaredError()])"
   ]
  },
  {
   "cell_type": "code",
   "execution_count": 13,
   "id": "d7b566eb",
   "metadata": {},
   "outputs": [
    {
     "name": "stdout",
     "output_type": "stream",
     "text": [
      "Epoch 1/100\n",
      "\u001b[1m52/52\u001b[0m \u001b[32m━━━━━━━━━━━━━━━━━━━━\u001b[0m\u001b[37m\u001b[0m \u001b[1m5s\u001b[0m 35ms/step - loss: 0.0317 - root_mean_squared_error: 0.1781 - val_loss: 0.0259 - val_root_mean_squared_error: 0.1610\n",
      "Epoch 2/100\n",
      "\u001b[1m52/52\u001b[0m \u001b[32m━━━━━━━━━━━━━━━━━━━━\u001b[0m\u001b[37m\u001b[0m \u001b[1m2s\u001b[0m 25ms/step - loss: 0.0257 - root_mean_squared_error: 0.1601 - val_loss: 0.0245 - val_root_mean_squared_error: 0.1566\n",
      "Epoch 3/100\n",
      "\u001b[1m52/52\u001b[0m \u001b[32m━━━━━━━━━━━━━━━━━━━━\u001b[0m\u001b[37m\u001b[0m \u001b[1m1s\u001b[0m 27ms/step - loss: 0.0244 - root_mean_squared_error: 0.1562 - val_loss: 0.0240 - val_root_mean_squared_error: 0.1548\n",
      "Epoch 4/100\n",
      "\u001b[1m52/52\u001b[0m \u001b[32m━━━━━━━━━━━━━━━━━━━━\u001b[0m\u001b[37m\u001b[0m \u001b[1m1s\u001b[0m 24ms/step - loss: 0.0239 - root_mean_squared_error: 0.1545 - val_loss: 0.0238 - val_root_mean_squared_error: 0.1544\n",
      "Epoch 5/100\n",
      "\u001b[1m52/52\u001b[0m \u001b[32m━━━━━━━━━━━━━━━━━━━━\u001b[0m\u001b[37m\u001b[0m \u001b[1m1s\u001b[0m 23ms/step - loss: 0.0238 - root_mean_squared_error: 0.1540 - val_loss: 0.0238 - val_root_mean_squared_error: 0.1543\n",
      "Epoch 6/100\n",
      "\u001b[1m52/52\u001b[0m \u001b[32m━━━━━━━━━━━━━━━━━━━━\u001b[0m\u001b[37m\u001b[0m \u001b[1m1s\u001b[0m 25ms/step - loss: 0.0237 - root_mean_squared_error: 0.1539 - val_loss: 0.0238 - val_root_mean_squared_error: 0.1542\n",
      "Epoch 7/100\n",
      "\u001b[1m52/52\u001b[0m \u001b[32m━━━━━━━━━━━━━━━━━━━━\u001b[0m\u001b[37m\u001b[0m \u001b[1m3s\u001b[0m 24ms/step - loss: 0.0237 - root_mean_squared_error: 0.1539 - val_loss: 0.0238 - val_root_mean_squared_error: 0.1542\n",
      "Epoch 8/100\n",
      "\u001b[1m52/52\u001b[0m \u001b[32m━━━━━━━━━━━━━━━━━━━━\u001b[0m\u001b[37m\u001b[0m \u001b[1m1s\u001b[0m 23ms/step - loss: 0.0237 - root_mean_squared_error: 0.1538 - val_loss: 0.0238 - val_root_mean_squared_error: 0.1542\n",
      "Epoch 9/100\n",
      "\u001b[1m52/52\u001b[0m \u001b[32m━━━━━━━━━━━━━━━━━━━━\u001b[0m\u001b[37m\u001b[0m \u001b[1m1s\u001b[0m 23ms/step - loss: 0.0237 - root_mean_squared_error: 0.1538 - val_loss: 0.0238 - val_root_mean_squared_error: 0.1542\n",
      "Epoch 10/100\n",
      "\u001b[1m52/52\u001b[0m \u001b[32m━━━━━━━━━━━━━━━━━━━━\u001b[0m\u001b[37m\u001b[0m \u001b[1m1s\u001b[0m 24ms/step - loss: 0.0237 - root_mean_squared_error: 0.1538 - val_loss: 0.0238 - val_root_mean_squared_error: 0.1542\n",
      "Epoch 11/100\n",
      "\u001b[1m52/52\u001b[0m \u001b[32m━━━━━━━━━━━━━━━━━━━━\u001b[0m\u001b[37m\u001b[0m \u001b[1m1s\u001b[0m 25ms/step - loss: 0.0237 - root_mean_squared_error: 0.1538 - val_loss: 0.0238 - val_root_mean_squared_error: 0.1542\n",
      "Epoch 12/100\n",
      "\u001b[1m52/52\u001b[0m \u001b[32m━━━━━━━━━━━━━━━━━━━━\u001b[0m\u001b[37m\u001b[0m \u001b[1m3s\u001b[0m 25ms/step - loss: 0.0237 - root_mean_squared_error: 0.1537 - val_loss: 0.0238 - val_root_mean_squared_error: 0.1542\n",
      "Epoch 13/100\n",
      "\u001b[1m52/52\u001b[0m \u001b[32m━━━━━━━━━━━━━━━━━━━━\u001b[0m\u001b[37m\u001b[0m \u001b[1m3s\u001b[0m 28ms/step - loss: 0.0237 - root_mean_squared_error: 0.1537 - val_loss: 0.0238 - val_root_mean_squared_error: 0.1542\n",
      "Epoch 14/100\n",
      "\u001b[1m52/52\u001b[0m \u001b[32m━━━━━━━━━━━━━━━━━━━━\u001b[0m\u001b[37m\u001b[0m \u001b[1m3s\u001b[0m 27ms/step - loss: 0.0237 - root_mean_squared_error: 0.1537 - val_loss: 0.0238 - val_root_mean_squared_error: 0.1541\n",
      "Epoch 15/100\n",
      "\u001b[1m52/52\u001b[0m \u001b[32m━━━━━━━━━━━━━━━━━━━━\u001b[0m\u001b[37m\u001b[0m \u001b[1m3s\u001b[0m 26ms/step - loss: 0.0237 - root_mean_squared_error: 0.1536 - val_loss: 0.0237 - val_root_mean_squared_error: 0.1541\n",
      "Epoch 16/100\n",
      "\u001b[1m52/52\u001b[0m \u001b[32m━━━━━━━━━━━━━━━━━━━━\u001b[0m\u001b[37m\u001b[0m \u001b[1m3s\u001b[0m 25ms/step - loss: 0.0237 - root_mean_squared_error: 0.1536 - val_loss: 0.0237 - val_root_mean_squared_error: 0.1541\n",
      "Epoch 17/100\n",
      "\u001b[1m52/52\u001b[0m \u001b[32m━━━━━━━━━━━━━━━━━━━━\u001b[0m\u001b[37m\u001b[0m \u001b[1m3s\u001b[0m 27ms/step - loss: 0.0237 - root_mean_squared_error: 0.1537 - val_loss: 0.0237 - val_root_mean_squared_error: 0.1540\n",
      "Epoch 18/100\n",
      "\u001b[1m52/52\u001b[0m \u001b[32m━━━━━━━━━━━━━━━━━━━━\u001b[0m\u001b[37m\u001b[0m \u001b[1m1s\u001b[0m 27ms/step - loss: 0.0237 - root_mean_squared_error: 0.1536 - val_loss: 0.0237 - val_root_mean_squared_error: 0.1540\n",
      "Epoch 19/100\n",
      "\u001b[1m52/52\u001b[0m \u001b[32m━━━━━━━━━━━━━━━━━━━━\u001b[0m\u001b[37m\u001b[0m \u001b[1m1s\u001b[0m 23ms/step - loss: 0.0236 - root_mean_squared_error: 0.1536 - val_loss: 0.0237 - val_root_mean_squared_error: 0.1540\n",
      "Epoch 20/100\n",
      "\u001b[1m52/52\u001b[0m \u001b[32m━━━━━━━━━━━━━━━━━━━━\u001b[0m\u001b[37m\u001b[0m \u001b[1m1s\u001b[0m 20ms/step - loss: 0.0236 - root_mean_squared_error: 0.1536 - val_loss: 0.0237 - val_root_mean_squared_error: 0.1540\n",
      "Epoch 21/100\n",
      "\u001b[1m52/52\u001b[0m \u001b[32m━━━━━━━━━━━━━━━━━━━━\u001b[0m\u001b[37m\u001b[0m \u001b[1m1s\u001b[0m 22ms/step - loss: 0.0236 - root_mean_squared_error: 0.1535 - val_loss: 0.0237 - val_root_mean_squared_error: 0.1539\n",
      "Epoch 22/100\n",
      "\u001b[1m52/52\u001b[0m \u001b[32m━━━━━━━━━━━━━━━━━━━━\u001b[0m\u001b[37m\u001b[0m \u001b[1m1s\u001b[0m 25ms/step - loss: 0.0236 - root_mean_squared_error: 0.1535 - val_loss: 0.0237 - val_root_mean_squared_error: 0.1538\n",
      "Epoch 23/100\n",
      "\u001b[1m52/52\u001b[0m \u001b[32m━━━━━━━━━━━━━━━━━━━━\u001b[0m\u001b[37m\u001b[0m \u001b[1m1s\u001b[0m 22ms/step - loss: 0.0236 - root_mean_squared_error: 0.1534 - val_loss: 0.0237 - val_root_mean_squared_error: 0.1538\n",
      "Epoch 24/100\n",
      "\u001b[1m52/52\u001b[0m \u001b[32m━━━━━━━━━━━━━━━━━━━━\u001b[0m\u001b[37m\u001b[0m \u001b[1m2s\u001b[0m 27ms/step - loss: 0.0236 - root_mean_squared_error: 0.1534 - val_loss: 0.0237 - val_root_mean_squared_error: 0.1538\n",
      "Epoch 25/100\n",
      "\u001b[1m52/52\u001b[0m \u001b[32m━━━━━━━━━━━━━━━━━━━━\u001b[0m\u001b[37m\u001b[0m \u001b[1m3s\u001b[0m 28ms/step - loss: 0.0236 - root_mean_squared_error: 0.1534 - val_loss: 0.0236 - val_root_mean_squared_error: 0.1538\n",
      "Epoch 26/100\n",
      "\u001b[1m52/52\u001b[0m \u001b[32m━━━━━━━━━━━━━━━━━━━━\u001b[0m\u001b[37m\u001b[0m \u001b[1m2s\u001b[0m 25ms/step - loss: 0.0236 - root_mean_squared_error: 0.1534 - val_loss: 0.0236 - val_root_mean_squared_error: 0.1537\n",
      "Epoch 27/100\n",
      "\u001b[1m52/52\u001b[0m \u001b[32m━━━━━━━━━━━━━━━━━━━━\u001b[0m\u001b[37m\u001b[0m \u001b[1m2s\u001b[0m 21ms/step - loss: 0.0236 - root_mean_squared_error: 0.1533 - val_loss: 0.0236 - val_root_mean_squared_error: 0.1538\n",
      "Epoch 28/100\n",
      "\u001b[1m52/52\u001b[0m \u001b[32m━━━━━━━━━━━━━━━━━━━━\u001b[0m\u001b[37m\u001b[0m \u001b[1m2s\u001b[0m 26ms/step - loss: 0.0236 - root_mean_squared_error: 0.1533 - val_loss: 0.0236 - val_root_mean_squared_error: 0.1538\n",
      "Epoch 29/100\n",
      "\u001b[1m52/52\u001b[0m \u001b[32m━━━━━━━━━━━━━━━━━━━━\u001b[0m\u001b[37m\u001b[0m \u001b[1m3s\u001b[0m 25ms/step - loss: 0.0235 - root_mean_squared_error: 0.1533 - val_loss: 0.0236 - val_root_mean_squared_error: 0.1538\n",
      "Epoch 30/100\n",
      "\u001b[1m52/52\u001b[0m \u001b[32m━━━━━━━━━━━━━━━━━━━━\u001b[0m\u001b[37m\u001b[0m \u001b[1m1s\u001b[0m 25ms/step - loss: 0.0235 - root_mean_squared_error: 0.1533 - val_loss: 0.0236 - val_root_mean_squared_error: 0.1537\n",
      "Epoch 31/100\n",
      "\u001b[1m52/52\u001b[0m \u001b[32m━━━━━━━━━━━━━━━━━━━━\u001b[0m\u001b[37m\u001b[0m \u001b[1m2s\u001b[0m 22ms/step - loss: 0.0235 - root_mean_squared_error: 0.1532 - val_loss: 0.0236 - val_root_mean_squared_error: 0.1537\n",
      "Epoch 32/100\n",
      "\u001b[1m52/52\u001b[0m \u001b[32m━━━━━━━━━━━━━━━━━━━━\u001b[0m\u001b[37m\u001b[0m \u001b[1m1s\u001b[0m 21ms/step - loss: 0.0235 - root_mean_squared_error: 0.1532 - val_loss: 0.0236 - val_root_mean_squared_error: 0.1536\n",
      "Epoch 33/100\n",
      "\u001b[1m52/52\u001b[0m \u001b[32m━━━━━━━━━━━━━━━━━━━━\u001b[0m\u001b[37m\u001b[0m \u001b[1m1s\u001b[0m 21ms/step - loss: 0.0235 - root_mean_squared_error: 0.1531 - val_loss: 0.0236 - val_root_mean_squared_error: 0.1535\n",
      "Epoch 34/100\n",
      "\u001b[1m52/52\u001b[0m \u001b[32m━━━━━━━━━━━━━━━━━━━━\u001b[0m\u001b[37m\u001b[0m \u001b[1m1s\u001b[0m 21ms/step - loss: 0.0235 - root_mean_squared_error: 0.1531 - val_loss: 0.0236 - val_root_mean_squared_error: 0.1535\n",
      "Epoch 35/100\n",
      "\u001b[1m52/52\u001b[0m \u001b[32m━━━━━━━━━━━━━━━━━━━━\u001b[0m\u001b[37m\u001b[0m \u001b[1m1s\u001b[0m 22ms/step - loss: 0.0235 - root_mean_squared_error: 0.1531 - val_loss: 0.0236 - val_root_mean_squared_error: 0.1535\n",
      "Epoch 36/100\n",
      "\u001b[1m52/52\u001b[0m \u001b[32m━━━━━━━━━━━━━━━━━━━━\u001b[0m\u001b[37m\u001b[0m \u001b[1m1s\u001b[0m 23ms/step - loss: 0.0235 - root_mean_squared_error: 0.1530 - val_loss: 0.0236 - val_root_mean_squared_error: 0.1536\n",
      "Epoch 37/100\n",
      "\u001b[1m52/52\u001b[0m \u001b[32m━━━━━━━━━━━━━━━━━━━━\u001b[0m\u001b[37m\u001b[0m \u001b[1m1s\u001b[0m 23ms/step - loss: 0.0235 - root_mean_squared_error: 0.1530 - val_loss: 0.0236 - val_root_mean_squared_error: 0.1536\n",
      "Epoch 38/100\n",
      "\u001b[1m52/52\u001b[0m \u001b[32m━━━━━━━━━━━━━━━━━━━━\u001b[0m\u001b[37m\u001b[0m \u001b[1m1s\u001b[0m 24ms/step - loss: 0.0234 - root_mean_squared_error: 0.1529 - val_loss: 0.0236 - val_root_mean_squared_error: 0.1535\n",
      "Epoch 39/100\n",
      "\u001b[1m52/52\u001b[0m \u001b[32m━━━━━━━━━━━━━━━━━━━━\u001b[0m\u001b[37m\u001b[0m \u001b[1m1s\u001b[0m 21ms/step - loss: 0.0234 - root_mean_squared_error: 0.1529 - val_loss: 0.0236 - val_root_mean_squared_error: 0.1536\n",
      "Epoch 40/100\n",
      "\u001b[1m52/52\u001b[0m \u001b[32m━━━━━━━━━━━━━━━━━━━━\u001b[0m\u001b[37m\u001b[0m \u001b[1m1s\u001b[0m 21ms/step - loss: 0.0234 - root_mean_squared_error: 0.1528 - val_loss: 0.0236 - val_root_mean_squared_error: 0.1536\n",
      "Epoch 41/100\n",
      "\u001b[1m52/52\u001b[0m \u001b[32m━━━━━━━━━━━━━━━━━━━━\u001b[0m\u001b[37m\u001b[0m \u001b[1m1s\u001b[0m 20ms/step - loss: 0.0234 - root_mean_squared_error: 0.1528 - val_loss: 0.0236 - val_root_mean_squared_error: 0.1537\n",
      "Epoch 42/100\n",
      "\u001b[1m52/52\u001b[0m \u001b[32m━━━━━━━━━━━━━━━━━━━━\u001b[0m\u001b[37m\u001b[0m \u001b[1m1s\u001b[0m 21ms/step - loss: 0.0234 - root_mean_squared_error: 0.1528 - val_loss: 0.0236 - val_root_mean_squared_error: 0.1538\n",
      "Epoch 43/100\n"
     ]
    },
    {
     "name": "stdout",
     "output_type": "stream",
     "text": [
      "\u001b[1m52/52\u001b[0m \u001b[32m━━━━━━━━━━━━━━━━━━━━\u001b[0m\u001b[37m\u001b[0m \u001b[1m1s\u001b[0m 24ms/step - loss: 0.0234 - root_mean_squared_error: 0.1528 - val_loss: 0.0237 - val_root_mean_squared_error: 0.1538\n",
      "Epoch 44/100\n",
      "\u001b[1m52/52\u001b[0m \u001b[32m━━━━━━━━━━━━━━━━━━━━\u001b[0m\u001b[37m\u001b[0m \u001b[1m1s\u001b[0m 21ms/step - loss: 0.0234 - root_mean_squared_error: 0.1527 - val_loss: 0.0237 - val_root_mean_squared_error: 0.1539\n",
      "Epoch 45/100\n",
      "\u001b[1m52/52\u001b[0m \u001b[32m━━━━━━━━━━━━━━━━━━━━\u001b[0m\u001b[37m\u001b[0m \u001b[1m1s\u001b[0m 22ms/step - loss: 0.0234 - root_mean_squared_error: 0.1527 - val_loss: 0.0237 - val_root_mean_squared_error: 0.1541\n",
      "Epoch 46/100\n",
      "\u001b[1m52/52\u001b[0m \u001b[32m━━━━━━━━━━━━━━━━━━━━\u001b[0m\u001b[37m\u001b[0m \u001b[1m1s\u001b[0m 21ms/step - loss: 0.0234 - root_mean_squared_error: 0.1527 - val_loss: 0.0238 - val_root_mean_squared_error: 0.1541\n",
      "Epoch 47/100\n",
      "\u001b[1m52/52\u001b[0m \u001b[32m━━━━━━━━━━━━━━━━━━━━\u001b[0m\u001b[37m\u001b[0m \u001b[1m1s\u001b[0m 21ms/step - loss: 0.0233 - root_mean_squared_error: 0.1526 - val_loss: 0.0238 - val_root_mean_squared_error: 0.1543\n",
      "Epoch 48/100\n",
      "\u001b[1m52/52\u001b[0m \u001b[32m━━━━━━━━━━━━━━━━━━━━\u001b[0m\u001b[37m\u001b[0m \u001b[1m1s\u001b[0m 21ms/step - loss: 0.0233 - root_mean_squared_error: 0.1524 - val_loss: 0.0238 - val_root_mean_squared_error: 0.1543\n",
      "Epoch 49/100\n",
      "\u001b[1m52/52\u001b[0m \u001b[32m━━━━━━━━━━━━━━━━━━━━\u001b[0m\u001b[37m\u001b[0m \u001b[1m1s\u001b[0m 23ms/step - loss: 0.0233 - root_mean_squared_error: 0.1524 - val_loss: 0.0239 - val_root_mean_squared_error: 0.1545\n",
      "Epoch 50/100\n",
      "\u001b[1m52/52\u001b[0m \u001b[32m━━━━━━━━━━━━━━━━━━━━\u001b[0m\u001b[37m\u001b[0m \u001b[1m1s\u001b[0m 26ms/step - loss: 0.0233 - root_mean_squared_error: 0.1524 - val_loss: 0.0239 - val_root_mean_squared_error: 0.1546\n",
      "Epoch 51/100\n",
      "\u001b[1m52/52\u001b[0m \u001b[32m━━━━━━━━━━━━━━━━━━━━\u001b[0m\u001b[37m\u001b[0m \u001b[1m3s\u001b[0m 28ms/step - loss: 0.0232 - root_mean_squared_error: 0.1523 - val_loss: 0.0239 - val_root_mean_squared_error: 0.1546\n",
      "Epoch 52/100\n",
      "\u001b[1m52/52\u001b[0m \u001b[32m━━━━━━━━━━━━━━━━━━━━\u001b[0m\u001b[37m\u001b[0m \u001b[1m2s\u001b[0m 24ms/step - loss: 0.0232 - root_mean_squared_error: 0.1523 - val_loss: 0.0239 - val_root_mean_squared_error: 0.1547\n",
      "Epoch 53/100\n",
      "\u001b[1m52/52\u001b[0m \u001b[32m━━━━━━━━━━━━━━━━━━━━\u001b[0m\u001b[37m\u001b[0m \u001b[1m3s\u001b[0m 25ms/step - loss: 0.0232 - root_mean_squared_error: 0.1522 - val_loss: 0.0239 - val_root_mean_squared_error: 0.1546\n",
      "Epoch 54/100\n",
      "\u001b[1m52/52\u001b[0m \u001b[32m━━━━━━━━━━━━━━━━━━━━\u001b[0m\u001b[37m\u001b[0m \u001b[1m3s\u001b[0m 26ms/step - loss: 0.0232 - root_mean_squared_error: 0.1522 - val_loss: 0.0239 - val_root_mean_squared_error: 0.1547\n",
      "Epoch 55/100\n",
      "\u001b[1m52/52\u001b[0m \u001b[32m━━━━━━━━━━━━━━━━━━━━\u001b[0m\u001b[37m\u001b[0m \u001b[1m2s\u001b[0m 21ms/step - loss: 0.0232 - root_mean_squared_error: 0.1522 - val_loss: 0.0239 - val_root_mean_squared_error: 0.1547\n",
      "Epoch 56/100\n",
      "\u001b[1m52/52\u001b[0m \u001b[32m━━━━━━━━━━━━━━━━━━━━\u001b[0m\u001b[37m\u001b[0m \u001b[1m1s\u001b[0m 21ms/step - loss: 0.0232 - root_mean_squared_error: 0.1521 - val_loss: 0.0240 - val_root_mean_squared_error: 0.1548\n",
      "Epoch 57/100\n",
      "\u001b[1m52/52\u001b[0m \u001b[32m━━━━━━━━━━━━━━━━━━━━\u001b[0m\u001b[37m\u001b[0m \u001b[1m1s\u001b[0m 21ms/step - loss: 0.0232 - root_mean_squared_error: 0.1521 - val_loss: 0.0240 - val_root_mean_squared_error: 0.1550\n",
      "Epoch 58/100\n",
      "\u001b[1m52/52\u001b[0m \u001b[32m━━━━━━━━━━━━━━━━━━━━\u001b[0m\u001b[37m\u001b[0m \u001b[1m1s\u001b[0m 20ms/step - loss: 0.0232 - root_mean_squared_error: 0.1520 - val_loss: 0.0240 - val_root_mean_squared_error: 0.1549\n",
      "Epoch 59/100\n",
      "\u001b[1m52/52\u001b[0m \u001b[32m━━━━━━━━━━━━━━━━━━━━\u001b[0m\u001b[37m\u001b[0m \u001b[1m1s\u001b[0m 22ms/step - loss: 0.0231 - root_mean_squared_error: 0.1519 - val_loss: 0.0241 - val_root_mean_squared_error: 0.1552\n",
      "Epoch 60/100\n",
      "\u001b[1m52/52\u001b[0m \u001b[32m━━━━━━━━━━━━━━━━━━━━\u001b[0m\u001b[37m\u001b[0m \u001b[1m1s\u001b[0m 23ms/step - loss: 0.0231 - root_mean_squared_error: 0.1519 - val_loss: 0.0241 - val_root_mean_squared_error: 0.1551\n",
      "Epoch 61/100\n",
      "\u001b[1m52/52\u001b[0m \u001b[32m━━━━━━━━━━━━━━━━━━━━\u001b[0m\u001b[37m\u001b[0m \u001b[1m1s\u001b[0m 23ms/step - loss: 0.0231 - root_mean_squared_error: 0.1519 - val_loss: 0.0241 - val_root_mean_squared_error: 0.1552\n",
      "Epoch 62/100\n",
      "\u001b[1m52/52\u001b[0m \u001b[32m━━━━━━━━━━━━━━━━━━━━\u001b[0m\u001b[37m\u001b[0m \u001b[1m1s\u001b[0m 23ms/step - loss: 0.0231 - root_mean_squared_error: 0.1518 - val_loss: 0.0241 - val_root_mean_squared_error: 0.1552\n",
      "Epoch 63/100\n",
      "\u001b[1m52/52\u001b[0m \u001b[32m━━━━━━━━━━━━━━━━━━━━\u001b[0m\u001b[37m\u001b[0m \u001b[1m1s\u001b[0m 26ms/step - loss: 0.0231 - root_mean_squared_error: 0.1518 - val_loss: 0.0241 - val_root_mean_squared_error: 0.1552\n",
      "Epoch 64/100\n",
      "\u001b[1m52/52\u001b[0m \u001b[32m━━━━━━━━━━━━━━━━━━━━\u001b[0m\u001b[37m\u001b[0m \u001b[1m2s\u001b[0m 24ms/step - loss: 0.0231 - root_mean_squared_error: 0.1517 - val_loss: 0.0241 - val_root_mean_squared_error: 0.1553\n",
      "Epoch 65/100\n",
      "\u001b[1m52/52\u001b[0m \u001b[32m━━━━━━━━━━━━━━━━━━━━\u001b[0m\u001b[37m\u001b[0m \u001b[1m1s\u001b[0m 23ms/step - loss: 0.0231 - root_mean_squared_error: 0.1517 - val_loss: 0.0242 - val_root_mean_squared_error: 0.1555\n",
      "Epoch 66/100\n",
      "\u001b[1m52/52\u001b[0m \u001b[32m━━━━━━━━━━━━━━━━━━━━\u001b[0m\u001b[37m\u001b[0m \u001b[1m1s\u001b[0m 22ms/step - loss: 0.0231 - root_mean_squared_error: 0.1517 - val_loss: 0.0241 - val_root_mean_squared_error: 0.1553\n",
      "Epoch 67/100\n",
      "\u001b[1m52/52\u001b[0m \u001b[32m━━━━━━━━━━━━━━━━━━━━\u001b[0m\u001b[37m\u001b[0m \u001b[1m1s\u001b[0m 22ms/step - loss: 0.0230 - root_mean_squared_error: 0.1516 - val_loss: 0.0242 - val_root_mean_squared_error: 0.1554\n",
      "Epoch 68/100\n",
      "\u001b[1m52/52\u001b[0m \u001b[32m━━━━━━━━━━━━━━━━━━━━\u001b[0m\u001b[37m\u001b[0m \u001b[1m1s\u001b[0m 23ms/step - loss: 0.0230 - root_mean_squared_error: 0.1516 - val_loss: 0.0242 - val_root_mean_squared_error: 0.1554\n",
      "Epoch 69/100\n",
      "\u001b[1m52/52\u001b[0m \u001b[32m━━━━━━━━━━━━━━━━━━━━\u001b[0m\u001b[37m\u001b[0m \u001b[1m1s\u001b[0m 22ms/step - loss: 0.0230 - root_mean_squared_error: 0.1515 - val_loss: 0.0241 - val_root_mean_squared_error: 0.1553\n",
      "Epoch 70/100\n",
      "\u001b[1m52/52\u001b[0m \u001b[32m━━━━━━━━━━━━━━━━━━━━\u001b[0m\u001b[37m\u001b[0m \u001b[1m1s\u001b[0m 23ms/step - loss: 0.0230 - root_mean_squared_error: 0.1515 - val_loss: 0.0242 - val_root_mean_squared_error: 0.1555\n",
      "Epoch 71/100\n",
      "\u001b[1m52/52\u001b[0m \u001b[32m━━━━━━━━━━━━━━━━━━━━\u001b[0m\u001b[37m\u001b[0m \u001b[1m1s\u001b[0m 25ms/step - loss: 0.0230 - root_mean_squared_error: 0.1515 - val_loss: 0.0241 - val_root_mean_squared_error: 0.1554\n",
      "Epoch 72/100\n",
      "\u001b[1m52/52\u001b[0m \u001b[32m━━━━━━━━━━━━━━━━━━━━\u001b[0m\u001b[37m\u001b[0m \u001b[1m1s\u001b[0m 26ms/step - loss: 0.0230 - root_mean_squared_error: 0.1514 - val_loss: 0.0240 - val_root_mean_squared_error: 0.1551\n",
      "Epoch 73/100\n",
      "\u001b[1m52/52\u001b[0m \u001b[32m━━━━━━━━━━━━━━━━━━━━\u001b[0m\u001b[37m\u001b[0m \u001b[1m1s\u001b[0m 23ms/step - loss: 0.0230 - root_mean_squared_error: 0.1514 - val_loss: 0.0241 - val_root_mean_squared_error: 0.1553\n",
      "Epoch 74/100\n",
      "\u001b[1m52/52\u001b[0m \u001b[32m━━━━━━━━━━━━━━━━━━━━\u001b[0m\u001b[37m\u001b[0m \u001b[1m1s\u001b[0m 23ms/step - loss: 0.0230 - root_mean_squared_error: 0.1514 - val_loss: 0.0241 - val_root_mean_squared_error: 0.1552\n",
      "Epoch 75/100\n",
      "\u001b[1m52/52\u001b[0m \u001b[32m━━━━━━━━━━━━━━━━━━━━\u001b[0m\u001b[37m\u001b[0m \u001b[1m1s\u001b[0m 24ms/step - loss: 0.0230 - root_mean_squared_error: 0.1513 - val_loss: 0.0241 - val_root_mean_squared_error: 0.1552\n",
      "Epoch 76/100\n",
      "\u001b[1m52/52\u001b[0m \u001b[32m━━━━━━━━━━━━━━━━━━━━\u001b[0m\u001b[37m\u001b[0m \u001b[1m1s\u001b[0m 23ms/step - loss: 0.0229 - root_mean_squared_error: 0.1513 - val_loss: 0.0241 - val_root_mean_squared_error: 0.1552\n",
      "Epoch 77/100\n",
      "\u001b[1m52/52\u001b[0m \u001b[32m━━━━━━━━━━━━━━━━━━━━\u001b[0m\u001b[37m\u001b[0m \u001b[1m1s\u001b[0m 23ms/step - loss: 0.0229 - root_mean_squared_error: 0.1513 - val_loss: 0.0241 - val_root_mean_squared_error: 0.1552\n",
      "Epoch 78/100\n",
      "\u001b[1m52/52\u001b[0m \u001b[32m━━━━━━━━━━━━━━━━━━━━\u001b[0m\u001b[37m\u001b[0m \u001b[1m1s\u001b[0m 23ms/step - loss: 0.0229 - root_mean_squared_error: 0.1512 - val_loss: 0.0241 - val_root_mean_squared_error: 0.1552\n",
      "Epoch 79/100\n",
      "\u001b[1m52/52\u001b[0m \u001b[32m━━━━━━━━━━━━━━━━━━━━\u001b[0m\u001b[37m\u001b[0m \u001b[1m1s\u001b[0m 23ms/step - loss: 0.0229 - root_mean_squared_error: 0.1512 - val_loss: 0.0241 - val_root_mean_squared_error: 0.1553\n",
      "Epoch 80/100\n",
      "\u001b[1m52/52\u001b[0m \u001b[32m━━━━━━━━━━━━━━━━━━━━\u001b[0m\u001b[37m\u001b[0m \u001b[1m1s\u001b[0m 24ms/step - loss: 0.0229 - root_mean_squared_error: 0.1512 - val_loss: 0.0241 - val_root_mean_squared_error: 0.1553\n",
      "Epoch 81/100\n",
      "\u001b[1m52/52\u001b[0m \u001b[32m━━━━━━━━━━━━━━━━━━━━\u001b[0m\u001b[37m\u001b[0m \u001b[1m1s\u001b[0m 24ms/step - loss: 0.0229 - root_mean_squared_error: 0.1512 - val_loss: 0.0241 - val_root_mean_squared_error: 0.1552\n",
      "Epoch 82/100\n",
      "\u001b[1m52/52\u001b[0m \u001b[32m━━━━━━━━━━━━━━━━━━━━\u001b[0m\u001b[37m\u001b[0m \u001b[1m1s\u001b[0m 24ms/step - loss: 0.0229 - root_mean_squared_error: 0.1511 - val_loss: 0.0241 - val_root_mean_squared_error: 0.1553\n",
      "Epoch 83/100\n",
      "\u001b[1m52/52\u001b[0m \u001b[32m━━━━━━━━━━━━━━━━━━━━\u001b[0m\u001b[37m\u001b[0m \u001b[1m1s\u001b[0m 24ms/step - loss: 0.0229 - root_mean_squared_error: 0.1511 - val_loss: 0.0241 - val_root_mean_squared_error: 0.1552\n",
      "Epoch 84/100\n",
      "\u001b[1m52/52\u001b[0m \u001b[32m━━━━━━━━━━━━━━━━━━━━\u001b[0m\u001b[37m\u001b[0m \u001b[1m1s\u001b[0m 23ms/step - loss: 0.0229 - root_mean_squared_error: 0.1511 - val_loss: 0.0241 - val_root_mean_squared_error: 0.1552\n",
      "Epoch 85/100\n"
     ]
    },
    {
     "name": "stdout",
     "output_type": "stream",
     "text": [
      "\u001b[1m52/52\u001b[0m \u001b[32m━━━━━━━━━━━━━━━━━━━━\u001b[0m\u001b[37m\u001b[0m \u001b[1m1s\u001b[0m 23ms/step - loss: 0.0229 - root_mean_squared_error: 0.1511 - val_loss: 0.0241 - val_root_mean_squared_error: 0.1552\n",
      "Epoch 86/100\n",
      "\u001b[1m52/52\u001b[0m \u001b[32m━━━━━━━━━━━━━━━━━━━━\u001b[0m\u001b[37m\u001b[0m \u001b[1m1s\u001b[0m 25ms/step - loss: 0.0229 - root_mean_squared_error: 0.1510 - val_loss: 0.0241 - val_root_mean_squared_error: 0.1552\n",
      "Epoch 87/100\n",
      "\u001b[1m52/52\u001b[0m \u001b[32m━━━━━━━━━━━━━━━━━━━━\u001b[0m\u001b[37m\u001b[0m \u001b[1m1s\u001b[0m 24ms/step - loss: 0.0228 - root_mean_squared_error: 0.1510 - val_loss: 0.0241 - val_root_mean_squared_error: 0.1552\n",
      "Epoch 88/100\n",
      "\u001b[1m52/52\u001b[0m \u001b[32m━━━━━━━━━━━━━━━━━━━━\u001b[0m\u001b[37m\u001b[0m \u001b[1m1s\u001b[0m 24ms/step - loss: 0.0228 - root_mean_squared_error: 0.1509 - val_loss: 0.0241 - val_root_mean_squared_error: 0.1552\n",
      "Epoch 89/100\n",
      "\u001b[1m52/52\u001b[0m \u001b[32m━━━━━━━━━━━━━━━━━━━━\u001b[0m\u001b[37m\u001b[0m \u001b[1m1s\u001b[0m 23ms/step - loss: 0.0228 - root_mean_squared_error: 0.1509 - val_loss: 0.0241 - val_root_mean_squared_error: 0.1552\n",
      "Epoch 90/100\n",
      "\u001b[1m52/52\u001b[0m \u001b[32m━━━━━━━━━━━━━━━━━━━━\u001b[0m\u001b[37m\u001b[0m \u001b[1m1s\u001b[0m 23ms/step - loss: 0.0228 - root_mean_squared_error: 0.1509 - val_loss: 0.0241 - val_root_mean_squared_error: 0.1553\n",
      "Epoch 91/100\n",
      "\u001b[1m52/52\u001b[0m \u001b[32m━━━━━━━━━━━━━━━━━━━━\u001b[0m\u001b[37m\u001b[0m \u001b[1m1s\u001b[0m 21ms/step - loss: 0.0228 - root_mean_squared_error: 0.1508 - val_loss: 0.0241 - val_root_mean_squared_error: 0.1552\n",
      "Epoch 92/100\n",
      "\u001b[1m52/52\u001b[0m \u001b[32m━━━━━━━━━━━━━━━━━━━━\u001b[0m\u001b[37m\u001b[0m \u001b[1m1s\u001b[0m 23ms/step - loss: 0.0228 - root_mean_squared_error: 0.1508 - val_loss: 0.0241 - val_root_mean_squared_error: 0.1553\n",
      "Epoch 93/100\n",
      "\u001b[1m52/52\u001b[0m \u001b[32m━━━━━━━━━━━━━━━━━━━━\u001b[0m\u001b[37m\u001b[0m \u001b[1m1s\u001b[0m 24ms/step - loss: 0.0228 - root_mean_squared_error: 0.1509 - val_loss: 0.0241 - val_root_mean_squared_error: 0.1553\n",
      "Epoch 94/100\n",
      "\u001b[1m52/52\u001b[0m \u001b[32m━━━━━━━━━━━━━━━━━━━━\u001b[0m\u001b[37m\u001b[0m \u001b[1m1s\u001b[0m 24ms/step - loss: 0.0228 - root_mean_squared_error: 0.1508 - val_loss: 0.0242 - val_root_mean_squared_error: 0.1554\n",
      "Epoch 95/100\n",
      "\u001b[1m52/52\u001b[0m \u001b[32m━━━━━━━━━━━━━━━━━━━━\u001b[0m\u001b[37m\u001b[0m \u001b[1m1s\u001b[0m 22ms/step - loss: 0.0228 - root_mean_squared_error: 0.1508 - val_loss: 0.0242 - val_root_mean_squared_error: 0.1554\n",
      "Epoch 96/100\n",
      "\u001b[1m52/52\u001b[0m \u001b[32m━━━━━━━━━━━━━━━━━━━━\u001b[0m\u001b[37m\u001b[0m \u001b[1m1s\u001b[0m 23ms/step - loss: 0.0228 - root_mean_squared_error: 0.1508 - val_loss: 0.0242 - val_root_mean_squared_error: 0.1554\n",
      "Epoch 97/100\n",
      "\u001b[1m52/52\u001b[0m \u001b[32m━━━━━━━━━━━━━━━━━━━━\u001b[0m\u001b[37m\u001b[0m \u001b[1m1s\u001b[0m 22ms/step - loss: 0.0228 - root_mean_squared_error: 0.1508 - val_loss: 0.0242 - val_root_mean_squared_error: 0.1554\n",
      "Epoch 98/100\n",
      "\u001b[1m52/52\u001b[0m \u001b[32m━━━━━━━━━━━━━━━━━━━━\u001b[0m\u001b[37m\u001b[0m \u001b[1m1s\u001b[0m 22ms/step - loss: 0.0228 - root_mean_squared_error: 0.1507 - val_loss: 0.0242 - val_root_mean_squared_error: 0.1554\n",
      "Epoch 99/100\n",
      "\u001b[1m52/52\u001b[0m \u001b[32m━━━━━━━━━━━━━━━━━━━━\u001b[0m\u001b[37m\u001b[0m \u001b[1m1s\u001b[0m 23ms/step - loss: 0.0228 - root_mean_squared_error: 0.1507 - val_loss: 0.0242 - val_root_mean_squared_error: 0.1554\n",
      "Epoch 100/100\n",
      "\u001b[1m52/52\u001b[0m \u001b[32m━━━━━━━━━━━━━━━━━━━━\u001b[0m\u001b[37m\u001b[0m \u001b[1m1s\u001b[0m 24ms/step - loss: 0.0227 - root_mean_squared_error: 0.1506 - val_loss: 0.0242 - val_root_mean_squared_error: 0.1554\n"
     ]
    }
   ],
   "source": [
    "#Train the model\n",
    "history=m.fit(X_train,y_train,validation_split=0.2, epochs=100 ,batch_size=32)"
   ]
  },
  {
   "cell_type": "code",
   "execution_count": 14,
   "id": "7978668e",
   "metadata": {},
   "outputs": [
    {
     "name": "stdout",
     "output_type": "stream",
     "text": [
      "\u001b[1m65/65\u001b[0m \u001b[32m━━━━━━━━━━━━━━━━━━━━\u001b[0m\u001b[37m\u001b[0m \u001b[1m2s\u001b[0m 18ms/step\n"
     ]
    }
   ],
   "source": [
    "#Predict the train set\n",
    "train_p=m.predict(X_train).flatten()"
   ]
  },
  {
   "cell_type": "code",
   "execution_count": 15,
   "id": "15b1ad9f",
   "metadata": {},
   "outputs": [
    {
     "name": "stdout",
     "output_type": "stream",
     "text": [
      "\u001b[1m1/1\u001b[0m \u001b[32m━━━━━━━━━━━━━━━━━━━━\u001b[0m\u001b[37m\u001b[0m \u001b[1m0s\u001b[0m 330ms/step\n",
      "\u001b[1m1/1\u001b[0m \u001b[32m━━━━━━━━━━━━━━━━━━━━\u001b[0m\u001b[37m\u001b[0m \u001b[1m0s\u001b[0m 78ms/step"
     ]
    },
    {
     "name": "stderr",
     "output_type": "stream",
     "text": [
      "C:\\Users\\loic\\AppData\\Local\\Temp\\ipykernel_9344\\3452362541.py:7: DeprecationWarning: Conversion of an array with ndim > 0 to a scalar is deprecated, and will error in future. Ensure you extract a single element from your array before performing this operation. (Deprecated NumPy 1.25.)\n",
      "  test_p[i] = pred[0]\n",
      "C:\\Users\\loic\\AppData\\Local\\Temp\\ipykernel_9344\\3452362541.py:9: DeprecationWarning: Conversion of an array with ndim > 0 to a scalar is deprecated, and will error in future. Ensure you extract a single element from your array before performing this operation. (Deprecated NumPy 1.25.)\n",
      "  m_input[0,-1,0] = pred[0]\n"
     ]
    },
    {
     "name": "stdout",
     "output_type": "stream",
     "text": [
      "\u001b[1m1/1\u001b[0m \u001b[32m━━━━━━━━━━━━━━━━━━━━\u001b[0m\u001b[37m\u001b[0m \u001b[1m0s\u001b[0m 94ms/step\n",
      "\u001b[1m1/1\u001b[0m \u001b[32m━━━━━━━━━━━━━━━━━━━━\u001b[0m\u001b[37m\u001b[0m \u001b[1m0s\u001b[0m 72ms/step\n",
      "\u001b[1m1/1\u001b[0m \u001b[32m━━━━━━━━━━━━━━━━━━━━\u001b[0m\u001b[37m\u001b[0m \u001b[1m0s\u001b[0m 79ms/step\n",
      "\u001b[1m1/1\u001b[0m \u001b[32m━━━━━━━━━━━━━━━━━━━━\u001b[0m\u001b[37m\u001b[0m \u001b[1m0s\u001b[0m 110ms/step\n",
      "\u001b[1m1/1\u001b[0m \u001b[32m━━━━━━━━━━━━━━━━━━━━\u001b[0m\u001b[37m\u001b[0m \u001b[1m0s\u001b[0m 110ms/step\n",
      "\u001b[1m1/1\u001b[0m \u001b[32m━━━━━━━━━━━━━━━━━━━━\u001b[0m\u001b[37m\u001b[0m \u001b[1m0s\u001b[0m 110ms/step\n",
      "\u001b[1m1/1\u001b[0m \u001b[32m━━━━━━━━━━━━━━━━━━━━\u001b[0m\u001b[37m\u001b[0m \u001b[1m0s\u001b[0m 78ms/step\n",
      "\u001b[1m1/1\u001b[0m \u001b[32m━━━━━━━━━━━━━━━━━━━━\u001b[0m\u001b[37m\u001b[0m \u001b[1m0s\u001b[0m 77ms/step\n",
      "\u001b[1m1/1\u001b[0m \u001b[32m━━━━━━━━━━━━━━━━━━━━\u001b[0m\u001b[37m\u001b[0m \u001b[1m0s\u001b[0m 94ms/step\n",
      "\u001b[1m1/1\u001b[0m \u001b[32m━━━━━━━━━━━━━━━━━━━━\u001b[0m\u001b[37m\u001b[0m \u001b[1m0s\u001b[0m 109ms/step\n",
      "\u001b[1m1/1\u001b[0m \u001b[32m━━━━━━━━━━━━━━━━━━━━\u001b[0m\u001b[37m\u001b[0m \u001b[1m0s\u001b[0m 79ms/step\n",
      "\u001b[1m1/1\u001b[0m \u001b[32m━━━━━━━━━━━━━━━━━━━━\u001b[0m\u001b[37m\u001b[0m \u001b[1m0s\u001b[0m 124ms/step\n",
      "\u001b[1m1/1\u001b[0m \u001b[32m━━━━━━━━━━━━━━━━━━━━\u001b[0m\u001b[37m\u001b[0m \u001b[1m0s\u001b[0m 79ms/step\n",
      "\u001b[1m1/1\u001b[0m \u001b[32m━━━━━━━━━━━━━━━━━━━━\u001b[0m\u001b[37m\u001b[0m \u001b[1m0s\u001b[0m 78ms/step\n",
      "\u001b[1m1/1\u001b[0m \u001b[32m━━━━━━━━━━━━━━━━━━━━\u001b[0m\u001b[37m\u001b[0m \u001b[1m0s\u001b[0m 135ms/step\n",
      "\u001b[1m1/1\u001b[0m \u001b[32m━━━━━━━━━━━━━━━━━━━━\u001b[0m\u001b[37m\u001b[0m \u001b[1m0s\u001b[0m 110ms/step\n",
      "\u001b[1m1/1\u001b[0m \u001b[32m━━━━━━━━━━━━━━━━━━━━\u001b[0m\u001b[37m\u001b[0m \u001b[1m0s\u001b[0m 94ms/step\n",
      "\u001b[1m1/1\u001b[0m \u001b[32m━━━━━━━━━━━━━━━━━━━━\u001b[0m\u001b[37m\u001b[0m \u001b[1m0s\u001b[0m 79ms/step\n",
      "\u001b[1m1/1\u001b[0m \u001b[32m━━━━━━━━━━━━━━━━━━━━\u001b[0m\u001b[37m\u001b[0m \u001b[1m0s\u001b[0m 47ms/step\n"
     ]
    }
   ],
   "source": [
    "#Use the model to generate 20 next days forecast based on its prediction\n",
    "ntest = X_test.shape[0]\n",
    "m_input = X_train[-1:]\n",
    "test_p = np.zeros(ntest)\n",
    "for i in range(ntest):\n",
    "    pred = m.predict(m_input)\n",
    "    test_p[i] = pred[0]\n",
    "    m_input = np.roll(m_input, -1)\n",
    "    m_input[0,-1,0] = pred[0]"
   ]
  },
  {
   "cell_type": "code",
   "execution_count": 16,
   "id": "6934a2dd",
   "metadata": {},
   "outputs": [
    {
     "name": "stdout",
     "output_type": "stream",
     "text": [
      "train: (np.float64(0.15546352525036944), np.float64(0.008273885195467217))\n",
      "test: (np.float64(0.26352428797609206), np.float64(0.011786628031105428))\n"
     ]
    }
   ],
   "source": [
    "# SSA-R-LSTM (we sum the results of the fitted ARIMA model with the forecast of the residuals).\n",
    "\n",
    "print('train:', metrics(data['DEXSFUS'][:2067],data['fit_lrf1'][:2067]+train_p))\n",
    "print('test:' , metrics(data['DEXSFUS'][2067:],data['fit_lrf1'][2067:]+test_p))"
   ]
  },
  {
   "cell_type": "markdown",
   "id": "0db6b99d",
   "metadata": {},
   "source": [
    "# SSA-ARIMA-LSTM (LSTM on residuals of SSA-ARIMA and LSTM on the noise)"
   ]
  },
  {
   "cell_type": "markdown",
   "id": "16ff6cb7",
   "metadata": {},
   "source": [
    "LSTM on residuals of SSA-ARIMA"
   ]
  },
  {
   "cell_type": "code",
   "execution_count": 28,
   "id": "871c01a1",
   "metadata": {},
   "outputs": [],
   "source": [
    "# We scale the residuals\n",
    "scaler = MinMaxScaler(feature_range=(0, 1))\n",
    "data_ = np.array(data['res_tarim1']).reshape(-1, 1)\n",
    "data_= scaler.fit_transform(data_)\n",
    "data_=pd.Series(data_.reshape(-1))\n",
    "s=data_[:5]\n",
    "data_=pd.concat([s,data_])"
   ]
  },
  {
   "cell_type": "code",
   "execution_count": 29,
   "id": "79c80363",
   "metadata": {},
   "outputs": [],
   "source": [
    "# Prepare the data\n",
    "window=5\n",
    "X,y=data_toX_y(data_,window)\n",
    "\n",
    "X_train,y_train= X[:2067],y[:2067]\n",
    "X_test,y_test= X[2067:],y[2067:]"
   ]
  },
  {
   "cell_type": "code",
   "execution_count": 30,
   "id": "78a3c2c2",
   "metadata": {},
   "outputs": [],
   "source": [
    "# Set the seed\n",
    "tf.keras.utils.set_random_seed(123)\n",
    "tf.config.experimental.enable_op_determinism()"
   ]
  },
  {
   "cell_type": "code",
   "execution_count": 31,
   "id": "46a41db1",
   "metadata": {},
   "outputs": [
    {
     "ename": "NameError",
     "evalue": "name 'm' is not defined",
     "output_type": "error",
     "traceback": [
      "\u001b[1;31m---------------------------------------------------------------------------\u001b[0m",
      "\u001b[1;31mNameError\u001b[0m                                 Traceback (most recent call last)",
      "Cell \u001b[1;32mIn[31], line 2\u001b[0m\n\u001b[0;32m      1\u001b[0m \u001b[38;5;66;03m# delete the previous model\u001b[39;00m\n\u001b[1;32m----> 2\u001b[0m \u001b[38;5;28;01mdel\u001b[39;00m m\n",
      "\u001b[1;31mNameError\u001b[0m: name 'm' is not defined"
     ]
    }
   ],
   "source": [
    "# delete the previous model\n",
    "del m"
   ]
  },
  {
   "cell_type": "code",
   "execution_count": 32,
   "id": "6f1b24ee",
   "metadata": {},
   "outputs": [
    {
     "data": {
      "text/html": [
       "<pre style=\"white-space:pre;overflow-x:auto;line-height:normal;font-family:Menlo,'DejaVu Sans Mono',consolas,'Courier New',monospace\"><span style=\"font-weight: bold\">Model: \"sequential_1\"</span>\n",
       "</pre>\n"
      ],
      "text/plain": [
       "\u001b[1mModel: \"sequential_1\"\u001b[0m\n"
      ]
     },
     "metadata": {},
     "output_type": "display_data"
    },
    {
     "data": {
      "text/html": [
       "<pre style=\"white-space:pre;overflow-x:auto;line-height:normal;font-family:Menlo,'DejaVu Sans Mono',consolas,'Courier New',monospace\">┏━━━━━━━━━━━━━━━━━━━━━━━━━━━━━━━━━━━━━━┳━━━━━━━━━━━━━━━━━━━━━━━━━━━━━┳━━━━━━━━━━━━━━━━━┓\n",
       "┃<span style=\"font-weight: bold\"> Layer (type)                         </span>┃<span style=\"font-weight: bold\"> Output Shape                </span>┃<span style=\"font-weight: bold\">         Param # </span>┃\n",
       "┡━━━━━━━━━━━━━━━━━━━━━━━━━━━━━━━━━━━━━━╇━━━━━━━━━━━━━━━━━━━━━━━━━━━━━╇━━━━━━━━━━━━━━━━━┩\n",
       "│ lstm_2 (<span style=\"color: #0087ff; text-decoration-color: #0087ff\">LSTM</span>)                        │ (<span style=\"color: #00d7ff; text-decoration-color: #00d7ff\">None</span>, <span style=\"color: #00af00; text-decoration-color: #00af00\">5</span>, <span style=\"color: #00af00; text-decoration-color: #00af00\">200</span>)              │         <span style=\"color: #00af00; text-decoration-color: #00af00\">161,600</span> │\n",
       "├──────────────────────────────────────┼─────────────────────────────┼─────────────────┤\n",
       "│ lstm_3 (<span style=\"color: #0087ff; text-decoration-color: #0087ff\">LSTM</span>)                        │ (<span style=\"color: #00d7ff; text-decoration-color: #00d7ff\">None</span>, <span style=\"color: #00af00; text-decoration-color: #00af00\">50</span>)                  │          <span style=\"color: #00af00; text-decoration-color: #00af00\">50,200</span> │\n",
       "├──────────────────────────────────────┼─────────────────────────────┼─────────────────┤\n",
       "│ dense_1 (<span style=\"color: #0087ff; text-decoration-color: #0087ff\">Dense</span>)                      │ (<span style=\"color: #00d7ff; text-decoration-color: #00d7ff\">None</span>, <span style=\"color: #00af00; text-decoration-color: #00af00\">1</span>)                   │              <span style=\"color: #00af00; text-decoration-color: #00af00\">51</span> │\n",
       "└──────────────────────────────────────┴─────────────────────────────┴─────────────────┘\n",
       "</pre>\n"
      ],
      "text/plain": [
       "┏━━━━━━━━━━━━━━━━━━━━━━━━━━━━━━━━━━━━━━┳━━━━━━━━━━━━━━━━━━━━━━━━━━━━━┳━━━━━━━━━━━━━━━━━┓\n",
       "┃\u001b[1m \u001b[0m\u001b[1mLayer (type)                        \u001b[0m\u001b[1m \u001b[0m┃\u001b[1m \u001b[0m\u001b[1mOutput Shape               \u001b[0m\u001b[1m \u001b[0m┃\u001b[1m \u001b[0m\u001b[1m        Param #\u001b[0m\u001b[1m \u001b[0m┃\n",
       "┡━━━━━━━━━━━━━━━━━━━━━━━━━━━━━━━━━━━━━━╇━━━━━━━━━━━━━━━━━━━━━━━━━━━━━╇━━━━━━━━━━━━━━━━━┩\n",
       "│ lstm_2 (\u001b[38;5;33mLSTM\u001b[0m)                        │ (\u001b[38;5;45mNone\u001b[0m, \u001b[38;5;34m5\u001b[0m, \u001b[38;5;34m200\u001b[0m)              │         \u001b[38;5;34m161,600\u001b[0m │\n",
       "├──────────────────────────────────────┼─────────────────────────────┼─────────────────┤\n",
       "│ lstm_3 (\u001b[38;5;33mLSTM\u001b[0m)                        │ (\u001b[38;5;45mNone\u001b[0m, \u001b[38;5;34m50\u001b[0m)                  │          \u001b[38;5;34m50,200\u001b[0m │\n",
       "├──────────────────────────────────────┼─────────────────────────────┼─────────────────┤\n",
       "│ dense_1 (\u001b[38;5;33mDense\u001b[0m)                      │ (\u001b[38;5;45mNone\u001b[0m, \u001b[38;5;34m1\u001b[0m)                   │              \u001b[38;5;34m51\u001b[0m │\n",
       "└──────────────────────────────────────┴─────────────────────────────┴─────────────────┘\n"
      ]
     },
     "metadata": {},
     "output_type": "display_data"
    },
    {
     "data": {
      "text/html": [
       "<pre style=\"white-space:pre;overflow-x:auto;line-height:normal;font-family:Menlo,'DejaVu Sans Mono',consolas,'Courier New',monospace\"><span style=\"font-weight: bold\"> Total params: </span><span style=\"color: #00af00; text-decoration-color: #00af00\">211,851</span> (827.54 KB)\n",
       "</pre>\n"
      ],
      "text/plain": [
       "\u001b[1m Total params: \u001b[0m\u001b[38;5;34m211,851\u001b[0m (827.54 KB)\n"
      ]
     },
     "metadata": {},
     "output_type": "display_data"
    },
    {
     "data": {
      "text/html": [
       "<pre style=\"white-space:pre;overflow-x:auto;line-height:normal;font-family:Menlo,'DejaVu Sans Mono',consolas,'Courier New',monospace\"><span style=\"font-weight: bold\"> Trainable params: </span><span style=\"color: #00af00; text-decoration-color: #00af00\">211,851</span> (827.54 KB)\n",
       "</pre>\n"
      ],
      "text/plain": [
       "\u001b[1m Trainable params: \u001b[0m\u001b[38;5;34m211,851\u001b[0m (827.54 KB)\n"
      ]
     },
     "metadata": {},
     "output_type": "display_data"
    },
    {
     "data": {
      "text/html": [
       "<pre style=\"white-space:pre;overflow-x:auto;line-height:normal;font-family:Menlo,'DejaVu Sans Mono',consolas,'Courier New',monospace\"><span style=\"font-weight: bold\"> Non-trainable params: </span><span style=\"color: #00af00; text-decoration-color: #00af00\">0</span> (0.00 B)\n",
       "</pre>\n"
      ],
      "text/plain": [
       "\u001b[1m Non-trainable params: \u001b[0m\u001b[38;5;34m0\u001b[0m (0.00 B)\n"
      ]
     },
     "metadata": {},
     "output_type": "display_data"
    }
   ],
   "source": [
    "#LSTM Structure\n",
    "m=Sequential()\n",
    "m.add(InputLayer((5,1)))\n",
    "m.add(LSTM(200, return_sequences=True))\n",
    "m.add(LSTM(50))\n",
    "m.add(Dense(1,'relu'))\n",
    "m.summary()"
   ]
  },
  {
   "cell_type": "code",
   "execution_count": 33,
   "id": "84978b00",
   "metadata": {},
   "outputs": [],
   "source": [
    "#Compile the model\n",
    "m.compile(loss=MeanSquaredError(),optimizer=\"Adam\",metrics=[RootMeanSquaredError()])"
   ]
  },
  {
   "cell_type": "code",
   "execution_count": 34,
   "id": "178ff694",
   "metadata": {},
   "outputs": [
    {
     "name": "stdout",
     "output_type": "stream",
     "text": [
      "Epoch 1/100\n",
      "\u001b[1m52/52\u001b[0m \u001b[32m━━━━━━━━━━━━━━━━━━━━\u001b[0m\u001b[37m\u001b[0m \u001b[1m4s\u001b[0m 18ms/step - loss: 0.0128 - root_mean_squared_error: 0.1048 - val_loss: 4.6223e-05 - val_root_mean_squared_error: 0.0068\n",
      "Epoch 2/100\n",
      "\u001b[1m52/52\u001b[0m \u001b[32m━━━━━━━━━━━━━━━━━━━━\u001b[0m\u001b[37m\u001b[0m \u001b[1m1s\u001b[0m 9ms/step - loss: 2.3497e-05 - root_mean_squared_error: 0.0047 - val_loss: 1.2653e-05 - val_root_mean_squared_error: 0.0036\n",
      "Epoch 3/100\n",
      "\u001b[1m52/52\u001b[0m \u001b[32m━━━━━━━━━━━━━━━━━━━━\u001b[0m\u001b[37m\u001b[0m \u001b[1m1s\u001b[0m 10ms/step - loss: 6.3311e-07 - root_mean_squared_error: 7.9328e-04 - val_loss: 1.2296e-05 - val_root_mean_squared_error: 0.0035\n",
      "Epoch 4/100\n",
      "\u001b[1m52/52\u001b[0m \u001b[32m━━━━━━━━━━━━━━━━━━━━\u001b[0m\u001b[37m\u001b[0m \u001b[1m1s\u001b[0m 10ms/step - loss: 5.5521e-07 - root_mean_squared_error: 7.4003e-04 - val_loss: 1.2316e-05 - val_root_mean_squared_error: 0.0035\n",
      "Epoch 5/100\n",
      "\u001b[1m52/52\u001b[0m \u001b[32m━━━━━━━━━━━━━━━━━━━━\u001b[0m\u001b[37m\u001b[0m \u001b[1m1s\u001b[0m 9ms/step - loss: 5.6152e-07 - root_mean_squared_error: 7.4456e-04 - val_loss: 1.2321e-05 - val_root_mean_squared_error: 0.0035\n",
      "Epoch 6/100\n",
      "\u001b[1m52/52\u001b[0m \u001b[32m━━━━━━━━━━━━━━━━━━━━\u001b[0m\u001b[37m\u001b[0m \u001b[1m1s\u001b[0m 10ms/step - loss: 5.6367e-07 - root_mean_squared_error: 7.4605e-04 - val_loss: 1.2336e-05 - val_root_mean_squared_error: 0.0035\n",
      "Epoch 7/100\n",
      "\u001b[1m52/52\u001b[0m \u001b[32m━━━━━━━━━━━━━━━━━━━━\u001b[0m\u001b[37m\u001b[0m \u001b[1m1s\u001b[0m 11ms/step - loss: 5.6828e-07 - root_mean_squared_error: 7.4931e-04 - val_loss: 1.2357e-05 - val_root_mean_squared_error: 0.0035\n",
      "Epoch 8/100\n",
      "\u001b[1m52/52\u001b[0m \u001b[32m━━━━━━━━━━━━━━━━━━━━\u001b[0m\u001b[37m\u001b[0m \u001b[1m1s\u001b[0m 10ms/step - loss: 5.7370e-07 - root_mean_squared_error: 7.5318e-04 - val_loss: 1.2371e-05 - val_root_mean_squared_error: 0.0035\n",
      "Epoch 9/100\n",
      "\u001b[1m52/52\u001b[0m \u001b[32m━━━━━━━━━━━━━━━━━━━━\u001b[0m\u001b[37m\u001b[0m \u001b[1m1s\u001b[0m 10ms/step - loss: 5.7782e-07 - root_mean_squared_error: 7.5611e-04 - val_loss: 1.2369e-05 - val_root_mean_squared_error: 0.0035\n",
      "Epoch 10/100\n",
      "\u001b[1m52/52\u001b[0m \u001b[32m━━━━━━━━━━━━━━━━━━━━\u001b[0m\u001b[37m\u001b[0m \u001b[1m1s\u001b[0m 10ms/step - loss: 5.8005e-07 - root_mean_squared_error: 7.5766e-04 - val_loss: 1.2365e-05 - val_root_mean_squared_error: 0.0035\n",
      "Epoch 11/100\n",
      "\u001b[1m52/52\u001b[0m \u001b[32m━━━━━━━━━━━━━━━━━━━━\u001b[0m\u001b[37m\u001b[0m \u001b[1m1s\u001b[0m 9ms/step - loss: 5.8265e-07 - root_mean_squared_error: 7.5939e-04 - val_loss: 1.2365e-05 - val_root_mean_squared_error: 0.0035\n",
      "Epoch 12/100\n",
      "\u001b[1m52/52\u001b[0m \u001b[32m━━━━━━━━━━━━━━━━━━━━\u001b[0m\u001b[37m\u001b[0m \u001b[1m1s\u001b[0m 9ms/step - loss: 5.8682e-07 - root_mean_squared_error: 7.6218e-04 - val_loss: 1.2365e-05 - val_root_mean_squared_error: 0.0035\n",
      "Epoch 13/100\n",
      "\u001b[1m52/52\u001b[0m \u001b[32m━━━━━━━━━━━━━━━━━━━━\u001b[0m\u001b[37m\u001b[0m \u001b[1m1s\u001b[0m 9ms/step - loss: 5.9233e-07 - root_mean_squared_error: 7.6584e-04 - val_loss: 1.2363e-05 - val_root_mean_squared_error: 0.0035\n",
      "Epoch 14/100\n",
      "\u001b[1m52/52\u001b[0m \u001b[32m━━━━━━━━━━━━━━━━━━━━\u001b[0m\u001b[37m\u001b[0m \u001b[1m0s\u001b[0m 9ms/step - loss: 5.9883e-07 - root_mean_squared_error: 7.7010e-04 - val_loss: 1.2359e-05 - val_root_mean_squared_error: 0.0035\n",
      "Epoch 15/100\n",
      "\u001b[1m52/52\u001b[0m \u001b[32m━━━━━━━━━━━━━━━━━━━━\u001b[0m\u001b[37m\u001b[0m \u001b[1m1s\u001b[0m 10ms/step - loss: 6.0597e-07 - root_mean_squared_error: 7.7470e-04 - val_loss: 1.2358e-05 - val_root_mean_squared_error: 0.0035\n",
      "Epoch 16/100\n",
      "\u001b[1m52/52\u001b[0m \u001b[32m━━━━━━━━━━━━━━━━━━━━\u001b[0m\u001b[37m\u001b[0m \u001b[1m1s\u001b[0m 9ms/step - loss: 6.1396e-07 - root_mean_squared_error: 7.7980e-04 - val_loss: 1.2361e-05 - val_root_mean_squared_error: 0.0035\n",
      "Epoch 17/100\n",
      "\u001b[1m52/52\u001b[0m \u001b[32m━━━━━━━━━━━━━━━━━━━━\u001b[0m\u001b[37m\u001b[0m \u001b[1m1s\u001b[0m 10ms/step - loss: 6.2414e-07 - root_mean_squared_error: 7.8629e-04 - val_loss: 1.2366e-05 - val_root_mean_squared_error: 0.0035\n",
      "Epoch 18/100\n",
      "\u001b[1m52/52\u001b[0m \u001b[32m━━━━━━━━━━━━━━━━━━━━\u001b[0m\u001b[37m\u001b[0m \u001b[1m1s\u001b[0m 9ms/step - loss: 6.3796e-07 - root_mean_squared_error: 7.9506e-04 - val_loss: 1.2368e-05 - val_root_mean_squared_error: 0.0035\n",
      "Epoch 19/100\n",
      "\u001b[1m52/52\u001b[0m \u001b[32m━━━━━━━━━━━━━━━━━━━━\u001b[0m\u001b[37m\u001b[0m \u001b[1m1s\u001b[0m 10ms/step - loss: 6.5563e-07 - root_mean_squared_error: 8.0611e-04 - val_loss: 1.2360e-05 - val_root_mean_squared_error: 0.0035\n",
      "Epoch 20/100\n",
      "\u001b[1m52/52\u001b[0m \u001b[32m━━━━━━━━━━━━━━━━━━━━\u001b[0m\u001b[37m\u001b[0m \u001b[1m1s\u001b[0m 10ms/step - loss: 6.7594e-07 - root_mean_squared_error: 8.1851e-04 - val_loss: 1.2339e-05 - val_root_mean_squared_error: 0.0035\n",
      "Epoch 21/100\n",
      "\u001b[1m52/52\u001b[0m \u001b[32m━━━━━━━━━━━━━━━━━━━━\u001b[0m\u001b[37m\u001b[0m \u001b[1m1s\u001b[0m 10ms/step - loss: 6.9572e-07 - root_mean_squared_error: 8.3021e-04 - val_loss: 1.2311e-05 - val_root_mean_squared_error: 0.0035\n",
      "Epoch 22/100\n",
      "\u001b[1m52/52\u001b[0m \u001b[32m━━━━━━━━━━━━━━━━━━━━\u001b[0m\u001b[37m\u001b[0m \u001b[1m1s\u001b[0m 10ms/step - loss: 7.0906e-07 - root_mean_squared_error: 8.3770e-04 - val_loss: 1.2294e-05 - val_root_mean_squared_error: 0.0035\n",
      "Epoch 23/100\n",
      "\u001b[1m52/52\u001b[0m \u001b[32m━━━━━━━━━━━━━━━━━━━━\u001b[0m\u001b[37m\u001b[0m \u001b[1m1s\u001b[0m 9ms/step - loss: 7.0960e-07 - root_mean_squared_error: 8.3743e-04 - val_loss: 1.2290e-05 - val_root_mean_squared_error: 0.0035\n",
      "Epoch 24/100\n",
      "\u001b[1m52/52\u001b[0m \u001b[32m━━━━━━━━━━━━━━━━━━━━\u001b[0m\u001b[37m\u001b[0m \u001b[1m0s\u001b[0m 9ms/step - loss: 6.9751e-07 - root_mean_squared_error: 8.2963e-04 - val_loss: 1.2290e-05 - val_root_mean_squared_error: 0.0035\n",
      "Epoch 25/100\n",
      "\u001b[1m52/52\u001b[0m \u001b[32m━━━━━━━━━━━━━━━━━━━━\u001b[0m\u001b[37m\u001b[0m \u001b[1m1s\u001b[0m 10ms/step - loss: 6.8415e-07 - root_mean_squared_error: 8.2109e-04 - val_loss: 1.2292e-05 - val_root_mean_squared_error: 0.0035\n",
      "Epoch 26/100\n",
      "\u001b[1m52/52\u001b[0m \u001b[32m━━━━━━━━━━━━━━━━━━━━\u001b[0m\u001b[37m\u001b[0m \u001b[1m1s\u001b[0m 10ms/step - loss: 6.8186e-07 - root_mean_squared_error: 8.1946e-04 - val_loss: 1.2301e-05 - val_root_mean_squared_error: 0.0035\n",
      "Epoch 27/100\n",
      "\u001b[1m52/52\u001b[0m \u001b[32m━━━━━━━━━━━━━━━━━━━━\u001b[0m\u001b[37m\u001b[0m \u001b[1m0s\u001b[0m 9ms/step - loss: 6.9276e-07 - root_mean_squared_error: 8.2606e-04 - val_loss: 1.2313e-05 - val_root_mean_squared_error: 0.0035\n",
      "Epoch 28/100\n",
      "\u001b[1m52/52\u001b[0m \u001b[32m━━━━━━━━━━━━━━━━━━━━\u001b[0m\u001b[37m\u001b[0m \u001b[1m1s\u001b[0m 10ms/step - loss: 7.1335e-07 - root_mean_squared_error: 8.3856e-04 - val_loss: 1.2319e-05 - val_root_mean_squared_error: 0.0035\n",
      "Epoch 29/100\n",
      "\u001b[1m52/52\u001b[0m \u001b[32m━━━━━━━━━━━━━━━━━━━━\u001b[0m\u001b[37m\u001b[0m \u001b[1m1s\u001b[0m 10ms/step - loss: 7.3785e-07 - root_mean_squared_error: 8.5324e-04 - val_loss: 1.2308e-05 - val_root_mean_squared_error: 0.0035\n",
      "Epoch 30/100\n",
      "\u001b[1m52/52\u001b[0m \u001b[32m━━━━━━━━━━━━━━━━━━━━\u001b[0m\u001b[37m\u001b[0m \u001b[1m1s\u001b[0m 9ms/step - loss: 7.5687e-07 - root_mean_squared_error: 8.6453e-04 - val_loss: 1.2291e-05 - val_root_mean_squared_error: 0.0035\n",
      "Epoch 31/100\n",
      "\u001b[1m52/52\u001b[0m \u001b[32m━━━━━━━━━━━━━━━━━━━━\u001b[0m\u001b[37m\u001b[0m \u001b[1m0s\u001b[0m 9ms/step - loss: 7.5950e-07 - root_mean_squared_error: 8.6629e-04 - val_loss: 1.2301e-05 - val_root_mean_squared_error: 0.0035\n",
      "Epoch 32/100\n",
      "\u001b[1m52/52\u001b[0m \u001b[32m━━━━━━━━━━━━━━━━━━━━\u001b[0m\u001b[37m\u001b[0m \u001b[1m1s\u001b[0m 9ms/step - loss: 7.4102e-07 - root_mean_squared_error: 8.5592e-04 - val_loss: 1.2342e-05 - val_root_mean_squared_error: 0.0035\n",
      "Epoch 33/100\n",
      "\u001b[1m52/52\u001b[0m \u001b[32m━━━━━━━━━━━━━━━━━━━━\u001b[0m\u001b[37m\u001b[0m \u001b[1m0s\u001b[0m 9ms/step - loss: 7.0920e-07 - root_mean_squared_error: 8.3741e-04 - val_loss: 1.2370e-05 - val_root_mean_squared_error: 0.0035\n",
      "Epoch 34/100\n",
      "\u001b[1m52/52\u001b[0m \u001b[32m━━━━━━━━━━━━━━━━━━━━\u001b[0m\u001b[37m\u001b[0m \u001b[1m1s\u001b[0m 10ms/step - loss: 6.7870e-07 - root_mean_squared_error: 8.1882e-04 - val_loss: 1.2371e-05 - val_root_mean_squared_error: 0.0035\n",
      "Epoch 35/100\n",
      "\u001b[1m52/52\u001b[0m \u001b[32m━━━━━━━━━━━━━━━━━━━━\u001b[0m\u001b[37m\u001b[0m \u001b[1m0s\u001b[0m 9ms/step - loss: 6.5756e-07 - root_mean_squared_error: 8.0523e-04 - val_loss: 1.2352e-05 - val_root_mean_squared_error: 0.0035\n",
      "Epoch 36/100\n",
      "\u001b[1m52/52\u001b[0m \u001b[32m━━━━━━━━━━━━━━━━━━━━\u001b[0m\u001b[37m\u001b[0m \u001b[1m1s\u001b[0m 10ms/step - loss: 6.4538e-07 - root_mean_squared_error: 7.9682e-04 - val_loss: 1.2322e-05 - val_root_mean_squared_error: 0.0035\n",
      "Epoch 37/100\n",
      "\u001b[1m52/52\u001b[0m \u001b[32m━━━━━━━━━━━━━━━━━━━━\u001b[0m\u001b[37m\u001b[0m \u001b[1m1s\u001b[0m 9ms/step - loss: 6.4010e-07 - root_mean_squared_error: 7.9267e-04 - val_loss: 1.2295e-05 - val_root_mean_squared_error: 0.0035\n",
      "Epoch 38/100\n",
      "\u001b[1m52/52\u001b[0m \u001b[32m━━━━━━━━━━━━━━━━━━━━\u001b[0m\u001b[37m\u001b[0m \u001b[1m1s\u001b[0m 9ms/step - loss: 6.4022e-07 - root_mean_squared_error: 7.9235e-04 - val_loss: 1.2290e-05 - val_root_mean_squared_error: 0.0035\n",
      "Epoch 39/100\n",
      "\u001b[1m52/52\u001b[0m \u001b[32m━━━━━━━━━━━━━━━━━━━━\u001b[0m\u001b[37m\u001b[0m \u001b[1m1s\u001b[0m 10ms/step - loss: 6.4455e-07 - root_mean_squared_error: 7.9562e-04 - val_loss: 1.2308e-05 - val_root_mean_squared_error: 0.0035\n",
      "Epoch 40/100\n",
      "\u001b[1m52/52\u001b[0m \u001b[32m━━━━━━━━━━━━━━━━━━━━\u001b[0m\u001b[37m\u001b[0m \u001b[1m0s\u001b[0m 9ms/step - loss: 6.5190e-07 - root_mean_squared_error: 8.0153e-04 - val_loss: 1.2320e-05 - val_root_mean_squared_error: 0.0035\n",
      "Epoch 41/100\n",
      "\u001b[1m52/52\u001b[0m \u001b[32m━━━━━━━━━━━━━━━━━━━━\u001b[0m\u001b[37m\u001b[0m \u001b[1m1s\u001b[0m 9ms/step - loss: 6.6171e-07 - root_mean_squared_error: 8.0879e-04 - val_loss: 1.2315e-05 - val_root_mean_squared_error: 0.0035\n",
      "Epoch 42/100\n",
      "\u001b[1m52/52\u001b[0m \u001b[32m━━━━━━━━━━━━━━━━━━━━\u001b[0m\u001b[37m\u001b[0m \u001b[1m1s\u001b[0m 13ms/step - loss: 6.7514e-07 - root_mean_squared_error: 8.1768e-04 - val_loss: 1.2303e-05 - val_root_mean_squared_error: 0.0035\n",
      "Epoch 43/100\n",
      "\u001b[1m52/52\u001b[0m \u001b[32m━━━━━━━━━━━━━━━━━━━━\u001b[0m\u001b[37m\u001b[0m \u001b[1m0s\u001b[0m 9ms/step - loss: 6.9473e-07 - root_mean_squared_error: 8.2985e-04 - val_loss: 1.2292e-05 - val_root_mean_squared_error: 0.0035\n",
      "Epoch 44/100\n",
      "\u001b[1m52/52\u001b[0m \u001b[32m━━━━━━━━━━━━━━━━━━━━\u001b[0m\u001b[37m\u001b[0m \u001b[1m1s\u001b[0m 10ms/step - loss: 7.2263e-07 - root_mean_squared_error: 8.4661e-04 - val_loss: 1.2290e-05 - val_root_mean_squared_error: 0.0035\n",
      "Epoch 45/100\n",
      "\u001b[1m52/52\u001b[0m \u001b[32m━━━━━━━━━━━━━━━━━━━━\u001b[0m\u001b[37m\u001b[0m \u001b[1m1s\u001b[0m 11ms/step - loss: 7.5843e-07 - root_mean_squared_error: 8.6753e-04 - val_loss: 1.2315e-05 - val_root_mean_squared_error: 0.0035\n",
      "Epoch 46/100\n",
      "\u001b[1m52/52\u001b[0m \u001b[32m━━━━━━━━━━━━━━━━━━━━\u001b[0m\u001b[37m\u001b[0m \u001b[1m1s\u001b[0m 10ms/step - loss: 7.9665e-07 - root_mean_squared_error: 8.8927e-04 - val_loss: 1.2368e-05 - val_root_mean_squared_error: 0.0035\n",
      "Epoch 47/100\n",
      "\u001b[1m52/52\u001b[0m \u001b[32m━━━━━━━━━━━━━━━━━━━━\u001b[0m\u001b[37m\u001b[0m \u001b[1m1s\u001b[0m 10ms/step - loss: 8.2592e-07 - root_mean_squared_error: 9.0544e-04 - val_loss: 1.2411e-05 - val_root_mean_squared_error: 0.0035\n",
      "Epoch 48/100\n",
      "\u001b[1m52/52\u001b[0m \u001b[32m━━━━━━━━━━━━━━━━━━━━\u001b[0m\u001b[37m\u001b[0m \u001b[1m1s\u001b[0m 9ms/step - loss: 8.4006e-07 - root_mean_squared_error: 9.1273e-04 - val_loss: 1.2422e-05 - val_root_mean_squared_error: 0.0035\n",
      "Epoch 49/100\n",
      "\u001b[1m52/52\u001b[0m \u001b[32m━━━━━━━━━━━━━━━━━━━━\u001b[0m\u001b[37m\u001b[0m \u001b[1m1s\u001b[0m 10ms/step - loss: 8.5469e-07 - root_mean_squared_error: 9.2002e-04 - val_loss: 1.2437e-05 - val_root_mean_squared_error: 0.0035\n",
      "Epoch 50/100\n",
      "\u001b[1m52/52\u001b[0m \u001b[32m━━━━━━━━━━━━━━━━━━━━\u001b[0m\u001b[37m\u001b[0m \u001b[1m1s\u001b[0m 9ms/step - loss: 8.9208e-07 - root_mean_squared_error: 9.3966e-04 - val_loss: 1.2504e-05 - val_root_mean_squared_error: 0.0035\n",
      "Epoch 51/100\n",
      "\u001b[1m52/52\u001b[0m \u001b[32m━━━━━━━━━━━━━━━━━━━━\u001b[0m\u001b[37m\u001b[0m \u001b[1m1s\u001b[0m 11ms/step - loss: 9.5558e-07 - root_mean_squared_error: 9.7281e-04 - val_loss: 1.2674e-05 - val_root_mean_squared_error: 0.0036\n",
      "Epoch 52/100\n",
      "\u001b[1m52/52\u001b[0m \u001b[32m━━━━━━━━━━━━━━━━━━━━\u001b[0m\u001b[37m\u001b[0m \u001b[1m1s\u001b[0m 10ms/step - loss: 1.0343e-06 - root_mean_squared_error: 0.0010 - val_loss: 1.3001e-05 - val_root_mean_squared_error: 0.0036\n",
      "Epoch 53/100\n",
      "\u001b[1m52/52\u001b[0m \u001b[32m━━━━━━━━━━━━━━━━━━━━\u001b[0m\u001b[37m\u001b[0m \u001b[1m0s\u001b[0m 9ms/step - loss: 1.1019e-06 - root_mean_squared_error: 0.0010 - val_loss: 1.3423e-05 - val_root_mean_squared_error: 0.0037\n",
      "Epoch 54/100\n",
      "\u001b[1m52/52\u001b[0m \u001b[32m━━━━━━━━━━━━━━━━━━━━\u001b[0m\u001b[37m\u001b[0m \u001b[1m1s\u001b[0m 10ms/step - loss: 1.1163e-06 - root_mean_squared_error: 0.0011 - val_loss: 1.3663e-05 - val_root_mean_squared_error: 0.0037\n",
      "Epoch 55/100\n",
      "\u001b[1m52/52\u001b[0m \u001b[32m━━━━━━━━━━━━━━━━━━━━\u001b[0m\u001b[37m\u001b[0m \u001b[1m1s\u001b[0m 10ms/step - loss: 1.0490e-06 - root_mean_squared_error: 0.0010 - val_loss: 1.3538e-05 - val_root_mean_squared_error: 0.0037\n",
      "Epoch 56/100\n",
      "\u001b[1m52/52\u001b[0m \u001b[32m━━━━━━━━━━━━━━━━━━━━\u001b[0m\u001b[37m\u001b[0m \u001b[1m1s\u001b[0m 10ms/step - loss: 9.3074e-07 - root_mean_squared_error: 9.6133e-04 - val_loss: 1.3242e-05 - val_root_mean_squared_error: 0.0036\n",
      "Epoch 57/100\n",
      "\u001b[1m52/52\u001b[0m \u001b[32m━━━━━━━━━━━━━━━━━━━━\u001b[0m\u001b[37m\u001b[0m \u001b[1m1s\u001b[0m 11ms/step - loss: 8.2750e-07 - root_mean_squared_error: 9.0548e-04 - val_loss: 1.2991e-05 - val_root_mean_squared_error: 0.0036\n",
      "Epoch 58/100\n",
      "\u001b[1m52/52\u001b[0m \u001b[32m━━━━━━━━━━━━━━━━━━━━\u001b[0m\u001b[37m\u001b[0m \u001b[1m1s\u001b[0m 10ms/step - loss: 7.6427e-07 - root_mean_squared_error: 8.6906e-04 - val_loss: 1.2802e-05 - val_root_mean_squared_error: 0.0036\n",
      "Epoch 59/100\n",
      "\u001b[1m52/52\u001b[0m \u001b[32m━━━━━━━━━━━━━━━━━━━━\u001b[0m\u001b[37m\u001b[0m \u001b[1m1s\u001b[0m 10ms/step - loss: 7.3088e-07 - root_mean_squared_error: 8.4867e-04 - val_loss: 1.2641e-05 - val_root_mean_squared_error: 0.0036\n",
      "Epoch 60/100\n",
      "\u001b[1m52/52\u001b[0m \u001b[32m━━━━━━━━━━━━━━━━━━━━\u001b[0m\u001b[37m\u001b[0m \u001b[1m1s\u001b[0m 11ms/step - loss: 7.1887e-07 - root_mean_squared_error: 8.4045e-04 - val_loss: 1.2488e-05 - val_root_mean_squared_error: 0.0035\n",
      "Epoch 61/100\n",
      "\u001b[1m52/52\u001b[0m \u001b[32m━━━━━━━━━━━━━━━━━━━━\u001b[0m\u001b[37m\u001b[0m \u001b[1m1s\u001b[0m 10ms/step - loss: 7.2822e-07 - root_mean_squared_error: 8.4470e-04 - val_loss: 1.2358e-05 - val_root_mean_squared_error: 0.0035\n",
      "Epoch 62/100\n",
      "\u001b[1m52/52\u001b[0m \u001b[32m━━━━━━━━━━━━━━━━━━━━\u001b[0m\u001b[37m\u001b[0m \u001b[1m0s\u001b[0m 9ms/step - loss: 7.6493e-07 - root_mean_squared_error: 8.6461e-04 - val_loss: 1.2288e-05 - val_root_mean_squared_error: 0.0035\n",
      "Epoch 63/100\n",
      "\u001b[1m52/52\u001b[0m \u001b[32m━━━━━━━━━━━━━━━━━━━━\u001b[0m\u001b[37m\u001b[0m \u001b[1m1s\u001b[0m 10ms/step - loss: 8.3246e-07 - root_mean_squared_error: 9.0123e-04 - val_loss: 1.2301e-05 - val_root_mean_squared_error: 0.0035\n",
      "Epoch 64/100\n",
      "\u001b[1m52/52\u001b[0m \u001b[32m━━━━━━━━━━━━━━━━━━━━\u001b[0m\u001b[37m\u001b[0m \u001b[1m1s\u001b[0m 10ms/step - loss: 9.3139e-07 - root_mean_squared_error: 9.5359e-04 - val_loss: 1.2431e-05 - val_root_mean_squared_error: 0.0035\n",
      "Epoch 65/100\n",
      "\u001b[1m52/52\u001b[0m \u001b[32m━━━━━━━━━━━━━━━━━━━━\u001b[0m\u001b[37m\u001b[0m \u001b[1m1s\u001b[0m 11ms/step - loss: 1.0595e-06 - root_mean_squared_error: 0.0010 - val_loss: 1.2683e-05 - val_root_mean_squared_error: 0.0036\n",
      "Epoch 66/100\n",
      "\u001b[1m52/52\u001b[0m \u001b[32m━━━━━━━━━━━━━━━━━━━━\u001b[0m\u001b[37m\u001b[0m \u001b[1m1s\u001b[0m 9ms/step - loss: 1.1962e-06 - root_mean_squared_error: 0.0011 - val_loss: 1.2930e-05 - val_root_mean_squared_error: 0.0036\n",
      "Epoch 67/100\n",
      "\u001b[1m52/52\u001b[0m \u001b[32m━━━━━━━━━━━━━━━━━━━━\u001b[0m\u001b[37m\u001b[0m \u001b[1m1s\u001b[0m 9ms/step - loss: 1.2991e-06 - root_mean_squared_error: 0.0011 - val_loss: 1.2978e-05 - val_root_mean_squared_error: 0.0036\n",
      "Epoch 68/100\n",
      "\u001b[1m52/52\u001b[0m \u001b[32m━━━━━━━━━━━━━━━━━━━━\u001b[0m\u001b[37m\u001b[0m \u001b[1m1s\u001b[0m 10ms/step - loss: 1.3265e-06 - root_mean_squared_error: 0.0011 - val_loss: 1.2774e-05 - val_root_mean_squared_error: 0.0036\n",
      "Epoch 69/100\n",
      "\u001b[1m52/52\u001b[0m \u001b[32m━━━━━━━━━━━━━━━━━━━━\u001b[0m\u001b[37m\u001b[0m \u001b[1m1s\u001b[0m 10ms/step - loss: 1.2694e-06 - root_mean_squared_error: 0.0011 - val_loss: 1.2478e-05 - val_root_mean_squared_error: 0.0035\n",
      "Epoch 70/100\n",
      "\u001b[1m52/52\u001b[0m \u001b[32m━━━━━━━━━━━━━━━━━━━━\u001b[0m\u001b[37m\u001b[0m \u001b[1m1s\u001b[0m 10ms/step - loss: 1.1574e-06 - root_mean_squared_error: 0.0011 - val_loss: 1.2291e-05 - val_root_mean_squared_error: 0.0035\n",
      "Epoch 71/100\n",
      "\u001b[1m52/52\u001b[0m \u001b[32m━━━━━━━━━━━━━━━━━━━━\u001b[0m\u001b[37m\u001b[0m \u001b[1m1s\u001b[0m 10ms/step - loss: 1.0392e-06 - root_mean_squared_error: 0.0010 - val_loss: 1.2290e-05 - val_root_mean_squared_error: 0.0035\n",
      "Epoch 72/100\n",
      "\u001b[1m52/52\u001b[0m \u001b[32m━━━━━━━━━━━━━━━━━━━━\u001b[0m\u001b[37m\u001b[0m \u001b[1m1s\u001b[0m 11ms/step - loss: 9.5524e-07 - root_mean_squared_error: 9.7087e-04 - val_loss: 1.2459e-05 - val_root_mean_squared_error: 0.0035\n",
      "Epoch 73/100\n",
      "\u001b[1m52/52\u001b[0m \u001b[32m━━━━━━━━━━━━━━━━━━━━\u001b[0m\u001b[37m\u001b[0m \u001b[1m1s\u001b[0m 9ms/step - loss: 9.1850e-07 - root_mean_squared_error: 9.5193e-04 - val_loss: 1.2817e-05 - val_root_mean_squared_error: 0.0036\n",
      "Epoch 74/100\n",
      "\u001b[1m52/52\u001b[0m \u001b[32m━━━━━━━━━━━━━━━━━━━━\u001b[0m\u001b[37m\u001b[0m \u001b[1m1s\u001b[0m 11ms/step - loss: 9.2174e-07 - root_mean_squared_error: 9.5363e-04 - val_loss: 1.3376e-05 - val_root_mean_squared_error: 0.0037\n",
      "Epoch 75/100\n",
      "\u001b[1m52/52\u001b[0m \u001b[32m━━━━━━━━━━━━━━━━━━━━\u001b[0m\u001b[37m\u001b[0m \u001b[1m1s\u001b[0m 10ms/step - loss: 9.4588e-07 - root_mean_squared_error: 9.6573e-04 - val_loss: 1.3939e-05 - val_root_mean_squared_error: 0.0037\n",
      "Epoch 76/100\n",
      "\u001b[1m52/52\u001b[0m \u001b[32m━━━━━━━━━━━━━━━━━━━━\u001b[0m\u001b[37m\u001b[0m \u001b[1m1s\u001b[0m 10ms/step - loss: 9.6002e-07 - root_mean_squared_error: 9.7238e-04 - val_loss: 1.4142e-05 - val_root_mean_squared_error: 0.0038\n",
      "Epoch 77/100\n",
      "\u001b[1m52/52\u001b[0m \u001b[32m━━━━━━━━━━━━━━━━━━━━\u001b[0m\u001b[37m\u001b[0m \u001b[1m1s\u001b[0m 11ms/step - loss: 9.4013e-07 - root_mean_squared_error: 9.6227e-04 - val_loss: 1.3960e-05 - val_root_mean_squared_error: 0.0037\n",
      "Epoch 78/100\n",
      "\u001b[1m52/52\u001b[0m \u001b[32m━━━━━━━━━━━━━━━━━━━━\u001b[0m\u001b[37m\u001b[0m \u001b[1m1s\u001b[0m 11ms/step - loss: 9.0367e-07 - root_mean_squared_error: 9.4409e-04 - val_loss: 1.3724e-05 - val_root_mean_squared_error: 0.0037\n",
      "Epoch 79/100\n",
      "\u001b[1m52/52\u001b[0m \u001b[32m━━━━━━━━━━━━━━━━━━━━\u001b[0m\u001b[37m\u001b[0m \u001b[1m1s\u001b[0m 10ms/step - loss: 8.9027e-07 - root_mean_squared_error: 9.3773e-04 - val_loss: 1.3507e-05 - val_root_mean_squared_error: 0.0037\n",
      "Epoch 80/100\n",
      "\u001b[1m52/52\u001b[0m \u001b[32m━━━━━━━━━━━━━━━━━━━━\u001b[0m\u001b[37m\u001b[0m \u001b[1m1s\u001b[0m 10ms/step - loss: 9.0678e-07 - root_mean_squared_error: 9.4702e-04 - val_loss: 1.3178e-05 - val_root_mean_squared_error: 0.0036\n",
      "Epoch 81/100\n"
     ]
    },
    {
     "name": "stdout",
     "output_type": "stream",
     "text": [
      "\u001b[1m52/52\u001b[0m \u001b[32m━━━━━━━━━━━━━━━━━━━━\u001b[0m\u001b[37m\u001b[0m \u001b[1m1s\u001b[0m 10ms/step - loss: 9.2909e-07 - root_mean_squared_error: 9.5912e-04 - val_loss: 1.2748e-05 - val_root_mean_squared_error: 0.0036\n",
      "Epoch 82/100\n",
      "\u001b[1m52/52\u001b[0m \u001b[32m━━━━━━━━━━━━━━━━━━━━\u001b[0m\u001b[37m\u001b[0m \u001b[1m1s\u001b[0m 11ms/step - loss: 9.2583e-07 - root_mean_squared_error: 9.5725e-04 - val_loss: 1.2448e-05 - val_root_mean_squared_error: 0.0035\n",
      "Epoch 83/100\n",
      "\u001b[1m52/52\u001b[0m \u001b[32m━━━━━━━━━━━━━━━━━━━━\u001b[0m\u001b[37m\u001b[0m \u001b[1m1s\u001b[0m 10ms/step - loss: 8.9147e-07 - root_mean_squared_error: 9.3817e-04 - val_loss: 1.2357e-05 - val_root_mean_squared_error: 0.0035\n",
      "Epoch 84/100\n",
      "\u001b[1m52/52\u001b[0m \u001b[32m━━━━━━━━━━━━━━━━━━━━\u001b[0m\u001b[37m\u001b[0m \u001b[1m1s\u001b[0m 11ms/step - loss: 8.6338e-07 - root_mean_squared_error: 9.2171e-04 - val_loss: 1.2356e-05 - val_root_mean_squared_error: 0.0035\n",
      "Epoch 85/100\n",
      "\u001b[1m52/52\u001b[0m \u001b[32m━━━━━━━━━━━━━━━━━━━━\u001b[0m\u001b[37m\u001b[0m \u001b[1m1s\u001b[0m 11ms/step - loss: 8.7219e-07 - root_mean_squared_error: 9.2468e-04 - val_loss: 1.2385e-05 - val_root_mean_squared_error: 0.0035\n",
      "Epoch 86/100\n",
      "\u001b[1m52/52\u001b[0m \u001b[32m━━━━━━━━━━━━━━━━━━━━\u001b[0m\u001b[37m\u001b[0m \u001b[1m1s\u001b[0m 10ms/step - loss: 9.1171e-07 - root_mean_squared_error: 9.4346e-04 - val_loss: 1.2446e-05 - val_root_mean_squared_error: 0.0035\n",
      "Epoch 87/100\n",
      "\u001b[1m52/52\u001b[0m \u001b[32m━━━━━━━━━━━━━━━━━━━━\u001b[0m\u001b[37m\u001b[0m \u001b[1m1s\u001b[0m 10ms/step - loss: 9.7578e-07 - root_mean_squared_error: 9.7460e-04 - val_loss: 1.2525e-05 - val_root_mean_squared_error: 0.0035\n",
      "Epoch 88/100\n",
      "\u001b[1m52/52\u001b[0m \u001b[32m━━━━━━━━━━━━━━━━━━━━\u001b[0m\u001b[37m\u001b[0m \u001b[1m1s\u001b[0m 11ms/step - loss: 1.0703e-06 - root_mean_squared_error: 0.0010 - val_loss: 1.2556e-05 - val_root_mean_squared_error: 0.0035\n",
      "Epoch 89/100\n",
      "\u001b[1m52/52\u001b[0m \u001b[32m━━━━━━━━━━━━━━━━━━━━\u001b[0m\u001b[37m\u001b[0m \u001b[1m1s\u001b[0m 11ms/step - loss: 1.1972e-06 - root_mean_squared_error: 0.0011 - val_loss: 1.2524e-05 - val_root_mean_squared_error: 0.0035\n",
      "Epoch 90/100\n",
      "\u001b[1m52/52\u001b[0m \u001b[32m━━━━━━━━━━━━━━━━━━━━\u001b[0m\u001b[37m\u001b[0m \u001b[1m1s\u001b[0m 10ms/step - loss: 1.3293e-06 - root_mean_squared_error: 0.0011 - val_loss: 1.2478e-05 - val_root_mean_squared_error: 0.0035\n",
      "Epoch 91/100\n",
      "\u001b[1m52/52\u001b[0m \u001b[32m━━━━━━━━━━━━━━━━━━━━\u001b[0m\u001b[37m\u001b[0m \u001b[1m1s\u001b[0m 10ms/step - loss: 1.4358e-06 - root_mean_squared_error: 0.0012 - val_loss: 1.2442e-05 - val_root_mean_squared_error: 0.0035\n",
      "Epoch 92/100\n",
      "\u001b[1m52/52\u001b[0m \u001b[32m━━━━━━━━━━━━━━━━━━━━\u001b[0m\u001b[37m\u001b[0m \u001b[1m1s\u001b[0m 10ms/step - loss: 1.5050e-06 - root_mean_squared_error: 0.0012 - val_loss: 1.2422e-05 - val_root_mean_squared_error: 0.0035\n",
      "Epoch 93/100\n",
      "\u001b[1m52/52\u001b[0m \u001b[32m━━━━━━━━━━━━━━━━━━━━\u001b[0m\u001b[37m\u001b[0m \u001b[1m1s\u001b[0m 10ms/step - loss: 1.5409e-06 - root_mean_squared_error: 0.0012 - val_loss: 1.2411e-05 - val_root_mean_squared_error: 0.0035\n",
      "Epoch 94/100\n",
      "\u001b[1m52/52\u001b[0m \u001b[32m━━━━━━━━━━━━━━━━━━━━\u001b[0m\u001b[37m\u001b[0m \u001b[1m1s\u001b[0m 10ms/step - loss: 1.5552e-06 - root_mean_squared_error: 0.0012 - val_loss: 1.2406e-05 - val_root_mean_squared_error: 0.0035\n",
      "Epoch 95/100\n",
      "\u001b[1m52/52\u001b[0m \u001b[32m━━━━━━━━━━━━━━━━━━━━\u001b[0m\u001b[37m\u001b[0m \u001b[1m1s\u001b[0m 12ms/step - loss: 1.5583e-06 - root_mean_squared_error: 0.0012 - val_loss: 1.2402e-05 - val_root_mean_squared_error: 0.0035\n",
      "Epoch 96/100\n",
      "\u001b[1m52/52\u001b[0m \u001b[32m━━━━━━━━━━━━━━━━━━━━\u001b[0m\u001b[37m\u001b[0m \u001b[1m1s\u001b[0m 11ms/step - loss: 1.5563e-06 - root_mean_squared_error: 0.0012 - val_loss: 1.2400e-05 - val_root_mean_squared_error: 0.0035\n",
      "Epoch 97/100\n",
      "\u001b[1m52/52\u001b[0m \u001b[32m━━━━━━━━━━━━━━━━━━━━\u001b[0m\u001b[37m\u001b[0m \u001b[1m1s\u001b[0m 11ms/step - loss: 1.5521e-06 - root_mean_squared_error: 0.0012 - val_loss: 1.2399e-05 - val_root_mean_squared_error: 0.0035\n",
      "Epoch 98/100\n",
      "\u001b[1m52/52\u001b[0m \u001b[32m━━━━━━━━━━━━━━━━━━━━\u001b[0m\u001b[37m\u001b[0m \u001b[1m1s\u001b[0m 11ms/step - loss: 1.5470e-06 - root_mean_squared_error: 0.0012 - val_loss: 1.2397e-05 - val_root_mean_squared_error: 0.0035\n",
      "Epoch 99/100\n",
      "\u001b[1m52/52\u001b[0m \u001b[32m━━━━━━━━━━━━━━━━━━━━\u001b[0m\u001b[37m\u001b[0m \u001b[1m1s\u001b[0m 10ms/step - loss: 1.5412e-06 - root_mean_squared_error: 0.0012 - val_loss: 1.2396e-05 - val_root_mean_squared_error: 0.0035\n",
      "Epoch 100/100\n",
      "\u001b[1m52/52\u001b[0m \u001b[32m━━━━━━━━━━━━━━━━━━━━\u001b[0m\u001b[37m\u001b[0m \u001b[1m1s\u001b[0m 11ms/step - loss: 1.5353e-06 - root_mean_squared_error: 0.0012 - val_loss: 1.2395e-05 - val_root_mean_squared_error: 0.0035\n"
     ]
    }
   ],
   "source": [
    "#Train the model\n",
    "history=m.fit(X_train,y_train,validation_split=0.2, epochs=100 ,batch_size=32)"
   ]
  },
  {
   "cell_type": "code",
   "execution_count": 35,
   "id": "5766662e",
   "metadata": {},
   "outputs": [
    {
     "name": "stdout",
     "output_type": "stream",
     "text": [
      "\u001b[1m65/65\u001b[0m \u001b[32m━━━━━━━━━━━━━━━━━━━━\u001b[0m\u001b[37m\u001b[0m \u001b[1m1s\u001b[0m 7ms/step\n"
     ]
    }
   ],
   "source": [
    "# predict the train set\n",
    "train_p=m.predict(X_train).flatten()"
   ]
  },
  {
   "cell_type": "code",
   "execution_count": 36,
   "id": "454cac85",
   "metadata": {},
   "outputs": [
    {
     "name": "stdout",
     "output_type": "stream",
     "text": [
      "\u001b[1m1/1\u001b[0m \u001b[32m━━━━━━━━━━━━━━━━━━━━\u001b[0m\u001b[37m\u001b[0m \u001b[1m0s\u001b[0m 48ms/step\n",
      "\u001b[1m1/1\u001b[0m \u001b[32m━━━━━━━━━━━━━━━━━━━━\u001b[0m\u001b[37m\u001b[0m \u001b[1m0s\u001b[0m 31ms/step\n",
      "\u001b[1m1/1\u001b[0m \u001b[32m━━━━━━━━━━━━━━━━━━━━\u001b[0m\u001b[37m\u001b[0m \u001b[1m0s\u001b[0m 35ms/step\n"
     ]
    },
    {
     "name": "stderr",
     "output_type": "stream",
     "text": [
      "C:\\Users\\loic\\AppData\\Local\\Temp\\ipykernel_6660\\2962540901.py:7: DeprecationWarning: Conversion of an array with ndim > 0 to a scalar is deprecated, and will error in future. Ensure you extract a single element from your array before performing this operation. (Deprecated NumPy 1.25.)\n",
      "  test_p[i] = pred[0]\n",
      "C:\\Users\\loic\\AppData\\Local\\Temp\\ipykernel_6660\\2962540901.py:9: DeprecationWarning: Conversion of an array with ndim > 0 to a scalar is deprecated, and will error in future. Ensure you extract a single element from your array before performing this operation. (Deprecated NumPy 1.25.)\n",
      "  m_input[0,-1,0] = pred[0]\n"
     ]
    },
    {
     "name": "stdout",
     "output_type": "stream",
     "text": [
      "\u001b[1m1/1\u001b[0m \u001b[32m━━━━━━━━━━━━━━━━━━━━\u001b[0m\u001b[37m\u001b[0m \u001b[1m0s\u001b[0m 40ms/step\n",
      "\u001b[1m1/1\u001b[0m \u001b[32m━━━━━━━━━━━━━━━━━━━━\u001b[0m\u001b[37m\u001b[0m \u001b[1m0s\u001b[0m 31ms/step\n",
      "\u001b[1m1/1\u001b[0m \u001b[32m━━━━━━━━━━━━━━━━━━━━\u001b[0m\u001b[37m\u001b[0m \u001b[1m0s\u001b[0m 31ms/step\n",
      "\u001b[1m1/1\u001b[0m \u001b[32m━━━━━━━━━━━━━━━━━━━━\u001b[0m\u001b[37m\u001b[0m \u001b[1m0s\u001b[0m 27ms/step\n",
      "\u001b[1m1/1\u001b[0m \u001b[32m━━━━━━━━━━━━━━━━━━━━\u001b[0m\u001b[37m\u001b[0m \u001b[1m0s\u001b[0m 42ms/step\n",
      "\u001b[1m1/1\u001b[0m \u001b[32m━━━━━━━━━━━━━━━━━━━━\u001b[0m\u001b[37m\u001b[0m \u001b[1m0s\u001b[0m 31ms/step\n",
      "\u001b[1m1/1\u001b[0m \u001b[32m━━━━━━━━━━━━━━━━━━━━\u001b[0m\u001b[37m\u001b[0m \u001b[1m0s\u001b[0m 31ms/step\n",
      "\u001b[1m1/1\u001b[0m \u001b[32m━━━━━━━━━━━━━━━━━━━━\u001b[0m\u001b[37m\u001b[0m \u001b[1m0s\u001b[0m 31ms/step\n",
      "\u001b[1m1/1\u001b[0m \u001b[32m━━━━━━━━━━━━━━━━━━━━\u001b[0m\u001b[37m\u001b[0m \u001b[1m0s\u001b[0m 47ms/step\n",
      "\u001b[1m1/1\u001b[0m \u001b[32m━━━━━━━━━━━━━━━━━━━━\u001b[0m\u001b[37m\u001b[0m \u001b[1m0s\u001b[0m 47ms/step\n",
      "\u001b[1m1/1\u001b[0m \u001b[32m━━━━━━━━━━━━━━━━━━━━\u001b[0m\u001b[37m\u001b[0m \u001b[1m0s\u001b[0m 16ms/step\n",
      "\u001b[1m1/1\u001b[0m \u001b[32m━━━━━━━━━━━━━━━━━━━━\u001b[0m\u001b[37m\u001b[0m \u001b[1m0s\u001b[0m 32ms/step\n",
      "\u001b[1m1/1\u001b[0m \u001b[32m━━━━━━━━━━━━━━━━━━━━\u001b[0m\u001b[37m\u001b[0m \u001b[1m0s\u001b[0m 31ms/step\n",
      "\u001b[1m1/1\u001b[0m \u001b[32m━━━━━━━━━━━━━━━━━━━━\u001b[0m\u001b[37m\u001b[0m \u001b[1m0s\u001b[0m 31ms/step\n",
      "\u001b[1m1/1\u001b[0m \u001b[32m━━━━━━━━━━━━━━━━━━━━\u001b[0m\u001b[37m\u001b[0m \u001b[1m0s\u001b[0m 31ms/step\n",
      "\u001b[1m1/1\u001b[0m \u001b[32m━━━━━━━━━━━━━━━━━━━━\u001b[0m\u001b[37m\u001b[0m \u001b[1m0s\u001b[0m 32ms/step\n",
      "\u001b[1m1/1\u001b[0m \u001b[32m━━━━━━━━━━━━━━━━━━━━\u001b[0m\u001b[37m\u001b[0m \u001b[1m0s\u001b[0m 32ms/step\n"
     ]
    }
   ],
   "source": [
    "# Generate 20 Forecat\n",
    "ntest = X_test.shape[0]\n",
    "m_input = X_train[-1:]\n",
    "test_p = np.zeros(ntest)\n",
    "for i in range(ntest):\n",
    "    pred = m.predict(m_input)\n",
    "    test_p[i] = pred[0]\n",
    "    m_input = np.roll(m_input, -1)\n",
    "    m_input[0,-1,0] = pred[0]"
   ]
  },
  {
   "cell_type": "code",
   "execution_count": 37,
   "id": "8de545fd",
   "metadata": {},
   "outputs": [
    {
     "data": {
      "text/plain": [
       "array([ 8.5008168e-04,  2.1775700e-04,  7.6443155e-04,  1.0904521e-03,\n",
       "        9.1629213e-04,  8.5008168e-04, -3.0967087e-04, -7.5682474e-05,\n",
       "        1.4275759e-04, -2.3805119e-04, -5.2525959e-04, -5.3919770e-04,\n",
       "       -6.3598499e-04, -5.5635627e-04, -2.4195085e-04,  4.8100505e-05,\n",
       "        1.8090724e-04,  3.0449734e-04,  2.8960311e-04,  4.0938536e-05],\n",
       "      dtype=float32)"
      ]
     },
     "execution_count": 37,
     "metadata": {},
     "output_type": "execute_result"
    }
   ],
   "source": [
    "# Inversion of the scaling\n",
    "train_p=scaler.inverse_transform(train_p.reshape(-1,1))\n",
    "test_p=scaler.inverse_transform(test_p.reshape(-1,1))\n",
    "train_p=train_p.reshape(-1)\n",
    "test_p=test_p.reshape(-1)\n",
    "train_p[:20]"
   ]
  },
  {
   "cell_type": "code",
   "execution_count": 38,
   "id": "87ed022a",
   "metadata": {},
   "outputs": [],
   "source": [
    "# Save the results of the SSA-ARIMA residuals\n",
    "train_p1=train_p\n",
    "test_p1=test_p"
   ]
  },
  {
   "cell_type": "markdown",
   "id": "0972a92f",
   "metadata": {},
   "source": [
    "LSTM on the noise"
   ]
  },
  {
   "cell_type": "code",
   "execution_count": 39,
   "id": "99854bb0",
   "metadata": {},
   "outputs": [],
   "source": [
    "#prepare the data\n",
    "data_=data['res_lrf1']\n",
    "s=data_[:5]\n",
    "data_=pd.concat([s,data_])\n",
    "###\n",
    "window=5\n",
    "X,y=data_toX_y(data_,window)\n",
    "\n",
    "X_train,y_train= X[:2067],y[:2067]\n",
    "X_test,y_test= X[2067:],y[2067:]"
   ]
  },
  {
   "cell_type": "code",
   "execution_count": 40,
   "id": "37d01042",
   "metadata": {},
   "outputs": [],
   "source": [
    "#Set the seed\n",
    "tf.keras.utils.set_random_seed(123)\n",
    "tf.config.experimental.enable_op_determinism()"
   ]
  },
  {
   "cell_type": "code",
   "execution_count": null,
   "id": "4eba9d8c",
   "metadata": {},
   "outputs": [],
   "source": [
    "del m"
   ]
  },
  {
   "cell_type": "code",
   "execution_count": 41,
   "id": "6f1d001f",
   "metadata": {},
   "outputs": [
    {
     "data": {
      "text/html": [
       "<pre style=\"white-space:pre;overflow-x:auto;line-height:normal;font-family:Menlo,'DejaVu Sans Mono',consolas,'Courier New',monospace\"><span style=\"font-weight: bold\">Model: \"sequential_2\"</span>\n",
       "</pre>\n"
      ],
      "text/plain": [
       "\u001b[1mModel: \"sequential_2\"\u001b[0m\n"
      ]
     },
     "metadata": {},
     "output_type": "display_data"
    },
    {
     "data": {
      "text/html": [
       "<pre style=\"white-space:pre;overflow-x:auto;line-height:normal;font-family:Menlo,'DejaVu Sans Mono',consolas,'Courier New',monospace\">┏━━━━━━━━━━━━━━━━━━━━━━━━━━━━━━━━━━━━━━┳━━━━━━━━━━━━━━━━━━━━━━━━━━━━━┳━━━━━━━━━━━━━━━━━┓\n",
       "┃<span style=\"font-weight: bold\"> Layer (type)                         </span>┃<span style=\"font-weight: bold\"> Output Shape                </span>┃<span style=\"font-weight: bold\">         Param # </span>┃\n",
       "┡━━━━━━━━━━━━━━━━━━━━━━━━━━━━━━━━━━━━━━╇━━━━━━━━━━━━━━━━━━━━━━━━━━━━━╇━━━━━━━━━━━━━━━━━┩\n",
       "│ lstm_4 (<span style=\"color: #0087ff; text-decoration-color: #0087ff\">LSTM</span>)                        │ (<span style=\"color: #00d7ff; text-decoration-color: #00d7ff\">None</span>, <span style=\"color: #00af00; text-decoration-color: #00af00\">250</span>)                 │         <span style=\"color: #00af00; text-decoration-color: #00af00\">252,000</span> │\n",
       "├──────────────────────────────────────┼─────────────────────────────┼─────────────────┤\n",
       "│ dense_2 (<span style=\"color: #0087ff; text-decoration-color: #0087ff\">Dense</span>)                      │ (<span style=\"color: #00d7ff; text-decoration-color: #00d7ff\">None</span>, <span style=\"color: #00af00; text-decoration-color: #00af00\">1</span>)                   │             <span style=\"color: #00af00; text-decoration-color: #00af00\">251</span> │\n",
       "└──────────────────────────────────────┴─────────────────────────────┴─────────────────┘\n",
       "</pre>\n"
      ],
      "text/plain": [
       "┏━━━━━━━━━━━━━━━━━━━━━━━━━━━━━━━━━━━━━━┳━━━━━━━━━━━━━━━━━━━━━━━━━━━━━┳━━━━━━━━━━━━━━━━━┓\n",
       "┃\u001b[1m \u001b[0m\u001b[1mLayer (type)                        \u001b[0m\u001b[1m \u001b[0m┃\u001b[1m \u001b[0m\u001b[1mOutput Shape               \u001b[0m\u001b[1m \u001b[0m┃\u001b[1m \u001b[0m\u001b[1m        Param #\u001b[0m\u001b[1m \u001b[0m┃\n",
       "┡━━━━━━━━━━━━━━━━━━━━━━━━━━━━━━━━━━━━━━╇━━━━━━━━━━━━━━━━━━━━━━━━━━━━━╇━━━━━━━━━━━━━━━━━┩\n",
       "│ lstm_4 (\u001b[38;5;33mLSTM\u001b[0m)                        │ (\u001b[38;5;45mNone\u001b[0m, \u001b[38;5;34m250\u001b[0m)                 │         \u001b[38;5;34m252,000\u001b[0m │\n",
       "├──────────────────────────────────────┼─────────────────────────────┼─────────────────┤\n",
       "│ dense_2 (\u001b[38;5;33mDense\u001b[0m)                      │ (\u001b[38;5;45mNone\u001b[0m, \u001b[38;5;34m1\u001b[0m)                   │             \u001b[38;5;34m251\u001b[0m │\n",
       "└──────────────────────────────────────┴─────────────────────────────┴─────────────────┘\n"
      ]
     },
     "metadata": {},
     "output_type": "display_data"
    },
    {
     "data": {
      "text/html": [
       "<pre style=\"white-space:pre;overflow-x:auto;line-height:normal;font-family:Menlo,'DejaVu Sans Mono',consolas,'Courier New',monospace\"><span style=\"font-weight: bold\"> Total params: </span><span style=\"color: #00af00; text-decoration-color: #00af00\">252,251</span> (985.36 KB)\n",
       "</pre>\n"
      ],
      "text/plain": [
       "\u001b[1m Total params: \u001b[0m\u001b[38;5;34m252,251\u001b[0m (985.36 KB)\n"
      ]
     },
     "metadata": {},
     "output_type": "display_data"
    },
    {
     "data": {
      "text/html": [
       "<pre style=\"white-space:pre;overflow-x:auto;line-height:normal;font-family:Menlo,'DejaVu Sans Mono',consolas,'Courier New',monospace\"><span style=\"font-weight: bold\"> Trainable params: </span><span style=\"color: #00af00; text-decoration-color: #00af00\">252,251</span> (985.36 KB)\n",
       "</pre>\n"
      ],
      "text/plain": [
       "\u001b[1m Trainable params: \u001b[0m\u001b[38;5;34m252,251\u001b[0m (985.36 KB)\n"
      ]
     },
     "metadata": {},
     "output_type": "display_data"
    },
    {
     "data": {
      "text/html": [
       "<pre style=\"white-space:pre;overflow-x:auto;line-height:normal;font-family:Menlo,'DejaVu Sans Mono',consolas,'Courier New',monospace\"><span style=\"font-weight: bold\"> Non-trainable params: </span><span style=\"color: #00af00; text-decoration-color: #00af00\">0</span> (0.00 B)\n",
       "</pre>\n"
      ],
      "text/plain": [
       "\u001b[1m Non-trainable params: \u001b[0m\u001b[38;5;34m0\u001b[0m (0.00 B)\n"
      ]
     },
     "metadata": {},
     "output_type": "display_data"
    }
   ],
   "source": [
    "#LSTM Structure\n",
    "m=Sequential()\n",
    "m.add(InputLayer((5,1)))\n",
    "m.add(LSTM(250))\n",
    "m.add(Dense(1,'relu'))\n",
    "m.summary()"
   ]
  },
  {
   "cell_type": "code",
   "execution_count": 42,
   "id": "756ee283",
   "metadata": {},
   "outputs": [],
   "source": [
    "#Compile the model\n",
    "m.compile(loss=MeanSquaredError(),optimizer=\"Adam\",metrics=[RootMeanSquaredError()])"
   ]
  },
  {
   "cell_type": "code",
   "execution_count": 43,
   "id": "c18bc654",
   "metadata": {},
   "outputs": [
    {
     "name": "stdout",
     "output_type": "stream",
     "text": [
      "Epoch 1/100\n",
      "\u001b[1m52/52\u001b[0m \u001b[32m━━━━━━━━━━━━━━━━━━━━\u001b[0m\u001b[37m\u001b[0m \u001b[1m3s\u001b[0m 16ms/step - loss: 0.0317 - root_mean_squared_error: 0.1781 - val_loss: 0.0259 - val_root_mean_squared_error: 0.1610\n",
      "Epoch 2/100\n",
      "\u001b[1m52/52\u001b[0m \u001b[32m━━━━━━━━━━━━━━━━━━━━\u001b[0m\u001b[37m\u001b[0m \u001b[1m1s\u001b[0m 13ms/step - loss: 0.0257 - root_mean_squared_error: 0.1601 - val_loss: 0.0245 - val_root_mean_squared_error: 0.1566\n",
      "Epoch 3/100\n",
      "\u001b[1m52/52\u001b[0m \u001b[32m━━━━━━━━━━━━━━━━━━━━\u001b[0m\u001b[37m\u001b[0m \u001b[1m1s\u001b[0m 10ms/step - loss: 0.0244 - root_mean_squared_error: 0.1562 - val_loss: 0.0240 - val_root_mean_squared_error: 0.1548\n",
      "Epoch 4/100\n",
      "\u001b[1m52/52\u001b[0m \u001b[32m━━━━━━━━━━━━━━━━━━━━\u001b[0m\u001b[37m\u001b[0m \u001b[1m1s\u001b[0m 9ms/step - loss: 0.0239 - root_mean_squared_error: 0.1545 - val_loss: 0.0238 - val_root_mean_squared_error: 0.1544\n",
      "Epoch 5/100\n",
      "\u001b[1m52/52\u001b[0m \u001b[32m━━━━━━━━━━━━━━━━━━━━\u001b[0m\u001b[37m\u001b[0m \u001b[1m1s\u001b[0m 10ms/step - loss: 0.0238 - root_mean_squared_error: 0.1540 - val_loss: 0.0238 - val_root_mean_squared_error: 0.1543\n",
      "Epoch 6/100\n",
      "\u001b[1m52/52\u001b[0m \u001b[32m━━━━━━━━━━━━━━━━━━━━\u001b[0m\u001b[37m\u001b[0m \u001b[1m1s\u001b[0m 10ms/step - loss: 0.0237 - root_mean_squared_error: 0.1539 - val_loss: 0.0238 - val_root_mean_squared_error: 0.1542\n",
      "Epoch 7/100\n",
      "\u001b[1m52/52\u001b[0m \u001b[32m━━━━━━━━━━━━━━━━━━━━\u001b[0m\u001b[37m\u001b[0m \u001b[1m1s\u001b[0m 10ms/step - loss: 0.0237 - root_mean_squared_error: 0.1539 - val_loss: 0.0238 - val_root_mean_squared_error: 0.1542\n",
      "Epoch 8/100\n",
      "\u001b[1m52/52\u001b[0m \u001b[32m━━━━━━━━━━━━━━━━━━━━\u001b[0m\u001b[37m\u001b[0m \u001b[1m1s\u001b[0m 10ms/step - loss: 0.0237 - root_mean_squared_error: 0.1538 - val_loss: 0.0238 - val_root_mean_squared_error: 0.1542\n",
      "Epoch 9/100\n",
      "\u001b[1m52/52\u001b[0m \u001b[32m━━━━━━━━━━━━━━━━━━━━\u001b[0m\u001b[37m\u001b[0m \u001b[1m1s\u001b[0m 10ms/step - loss: 0.0237 - root_mean_squared_error: 0.1538 - val_loss: 0.0238 - val_root_mean_squared_error: 0.1542\n",
      "Epoch 10/100\n",
      "\u001b[1m52/52\u001b[0m \u001b[32m━━━━━━━━━━━━━━━━━━━━\u001b[0m\u001b[37m\u001b[0m \u001b[1m1s\u001b[0m 10ms/step - loss: 0.0237 - root_mean_squared_error: 0.1538 - val_loss: 0.0238 - val_root_mean_squared_error: 0.1542\n",
      "Epoch 11/100\n",
      "\u001b[1m52/52\u001b[0m \u001b[32m━━━━━━━━━━━━━━━━━━━━\u001b[0m\u001b[37m\u001b[0m \u001b[1m1s\u001b[0m 10ms/step - loss: 0.0237 - root_mean_squared_error: 0.1538 - val_loss: 0.0238 - val_root_mean_squared_error: 0.1542\n",
      "Epoch 12/100\n",
      "\u001b[1m52/52\u001b[0m \u001b[32m━━━━━━━━━━━━━━━━━━━━\u001b[0m\u001b[37m\u001b[0m \u001b[1m1s\u001b[0m 9ms/step - loss: 0.0237 - root_mean_squared_error: 0.1537 - val_loss: 0.0238 - val_root_mean_squared_error: 0.1542\n",
      "Epoch 13/100\n",
      "\u001b[1m52/52\u001b[0m \u001b[32m━━━━━━━━━━━━━━━━━━━━\u001b[0m\u001b[37m\u001b[0m \u001b[1m1s\u001b[0m 10ms/step - loss: 0.0237 - root_mean_squared_error: 0.1537 - val_loss: 0.0238 - val_root_mean_squared_error: 0.1542\n",
      "Epoch 14/100\n",
      "\u001b[1m52/52\u001b[0m \u001b[32m━━━━━━━━━━━━━━━━━━━━\u001b[0m\u001b[37m\u001b[0m \u001b[1m1s\u001b[0m 11ms/step - loss: 0.0237 - root_mean_squared_error: 0.1537 - val_loss: 0.0238 - val_root_mean_squared_error: 0.1541\n",
      "Epoch 15/100\n",
      "\u001b[1m52/52\u001b[0m \u001b[32m━━━━━━━━━━━━━━━━━━━━\u001b[0m\u001b[37m\u001b[0m \u001b[1m1s\u001b[0m 10ms/step - loss: 0.0237 - root_mean_squared_error: 0.1536 - val_loss: 0.0237 - val_root_mean_squared_error: 0.1541\n",
      "Epoch 16/100\n",
      "\u001b[1m52/52\u001b[0m \u001b[32m━━━━━━━━━━━━━━━━━━━━\u001b[0m\u001b[37m\u001b[0m \u001b[1m1s\u001b[0m 10ms/step - loss: 0.0237 - root_mean_squared_error: 0.1536 - val_loss: 0.0237 - val_root_mean_squared_error: 0.1541\n",
      "Epoch 17/100\n",
      "\u001b[1m52/52\u001b[0m \u001b[32m━━━━━━━━━━━━━━━━━━━━\u001b[0m\u001b[37m\u001b[0m \u001b[1m1s\u001b[0m 10ms/step - loss: 0.0237 - root_mean_squared_error: 0.1537 - val_loss: 0.0237 - val_root_mean_squared_error: 0.1540\n",
      "Epoch 18/100\n",
      "\u001b[1m52/52\u001b[0m \u001b[32m━━━━━━━━━━━━━━━━━━━━\u001b[0m\u001b[37m\u001b[0m \u001b[1m1s\u001b[0m 10ms/step - loss: 0.0237 - root_mean_squared_error: 0.1536 - val_loss: 0.0237 - val_root_mean_squared_error: 0.1540\n",
      "Epoch 19/100\n",
      "\u001b[1m52/52\u001b[0m \u001b[32m━━━━━━━━━━━━━━━━━━━━\u001b[0m\u001b[37m\u001b[0m \u001b[1m1s\u001b[0m 10ms/step - loss: 0.0236 - root_mean_squared_error: 0.1536 - val_loss: 0.0237 - val_root_mean_squared_error: 0.1540\n",
      "Epoch 20/100\n",
      "\u001b[1m52/52\u001b[0m \u001b[32m━━━━━━━━━━━━━━━━━━━━\u001b[0m\u001b[37m\u001b[0m \u001b[1m1s\u001b[0m 11ms/step - loss: 0.0236 - root_mean_squared_error: 0.1536 - val_loss: 0.0237 - val_root_mean_squared_error: 0.1540\n",
      "Epoch 21/100\n",
      "\u001b[1m52/52\u001b[0m \u001b[32m━━━━━━━━━━━━━━━━━━━━\u001b[0m\u001b[37m\u001b[0m \u001b[1m1s\u001b[0m 10ms/step - loss: 0.0236 - root_mean_squared_error: 0.1535 - val_loss: 0.0237 - val_root_mean_squared_error: 0.1539\n",
      "Epoch 22/100\n",
      "\u001b[1m52/52\u001b[0m \u001b[32m━━━━━━━━━━━━━━━━━━━━\u001b[0m\u001b[37m\u001b[0m \u001b[1m1s\u001b[0m 11ms/step - loss: 0.0236 - root_mean_squared_error: 0.1535 - val_loss: 0.0237 - val_root_mean_squared_error: 0.1538\n",
      "Epoch 23/100\n",
      "\u001b[1m52/52\u001b[0m \u001b[32m━━━━━━━━━━━━━━━━━━━━\u001b[0m\u001b[37m\u001b[0m \u001b[1m1s\u001b[0m 11ms/step - loss: 0.0236 - root_mean_squared_error: 0.1534 - val_loss: 0.0237 - val_root_mean_squared_error: 0.1538\n",
      "Epoch 24/100\n",
      "\u001b[1m52/52\u001b[0m \u001b[32m━━━━━━━━━━━━━━━━━━━━\u001b[0m\u001b[37m\u001b[0m \u001b[1m1s\u001b[0m 10ms/step - loss: 0.0236 - root_mean_squared_error: 0.1534 - val_loss: 0.0237 - val_root_mean_squared_error: 0.1538\n",
      "Epoch 25/100\n",
      "\u001b[1m52/52\u001b[0m \u001b[32m━━━━━━━━━━━━━━━━━━━━\u001b[0m\u001b[37m\u001b[0m \u001b[1m1s\u001b[0m 12ms/step - loss: 0.0236 - root_mean_squared_error: 0.1534 - val_loss: 0.0236 - val_root_mean_squared_error: 0.1538\n",
      "Epoch 26/100\n",
      "\u001b[1m52/52\u001b[0m \u001b[32m━━━━━━━━━━━━━━━━━━━━\u001b[0m\u001b[37m\u001b[0m \u001b[1m1s\u001b[0m 10ms/step - loss: 0.0236 - root_mean_squared_error: 0.1534 - val_loss: 0.0236 - val_root_mean_squared_error: 0.1537\n",
      "Epoch 27/100\n",
      "\u001b[1m52/52\u001b[0m \u001b[32m━━━━━━━━━━━━━━━━━━━━\u001b[0m\u001b[37m\u001b[0m \u001b[1m1s\u001b[0m 10ms/step - loss: 0.0236 - root_mean_squared_error: 0.1533 - val_loss: 0.0236 - val_root_mean_squared_error: 0.1538\n",
      "Epoch 28/100\n",
      "\u001b[1m52/52\u001b[0m \u001b[32m━━━━━━━━━━━━━━━━━━━━\u001b[0m\u001b[37m\u001b[0m \u001b[1m1s\u001b[0m 11ms/step - loss: 0.0236 - root_mean_squared_error: 0.1533 - val_loss: 0.0236 - val_root_mean_squared_error: 0.1538\n",
      "Epoch 29/100\n",
      "\u001b[1m52/52\u001b[0m \u001b[32m━━━━━━━━━━━━━━━━━━━━\u001b[0m\u001b[37m\u001b[0m \u001b[1m1s\u001b[0m 12ms/step - loss: 0.0235 - root_mean_squared_error: 0.1533 - val_loss: 0.0236 - val_root_mean_squared_error: 0.1538\n",
      "Epoch 30/100\n",
      "\u001b[1m52/52\u001b[0m \u001b[32m━━━━━━━━━━━━━━━━━━━━\u001b[0m\u001b[37m\u001b[0m \u001b[1m1s\u001b[0m 10ms/step - loss: 0.0235 - root_mean_squared_error: 0.1533 - val_loss: 0.0236 - val_root_mean_squared_error: 0.1537\n",
      "Epoch 31/100\n",
      "\u001b[1m52/52\u001b[0m \u001b[32m━━━━━━━━━━━━━━━━━━━━\u001b[0m\u001b[37m\u001b[0m \u001b[1m1s\u001b[0m 10ms/step - loss: 0.0235 - root_mean_squared_error: 0.1532 - val_loss: 0.0236 - val_root_mean_squared_error: 0.1537\n",
      "Epoch 32/100\n",
      "\u001b[1m52/52\u001b[0m \u001b[32m━━━━━━━━━━━━━━━━━━━━\u001b[0m\u001b[37m\u001b[0m \u001b[1m1s\u001b[0m 11ms/step - loss: 0.0235 - root_mean_squared_error: 0.1532 - val_loss: 0.0236 - val_root_mean_squared_error: 0.1536\n",
      "Epoch 33/100\n",
      "\u001b[1m52/52\u001b[0m \u001b[32m━━━━━━━━━━━━━━━━━━━━\u001b[0m\u001b[37m\u001b[0m \u001b[1m1s\u001b[0m 10ms/step - loss: 0.0235 - root_mean_squared_error: 0.1531 - val_loss: 0.0236 - val_root_mean_squared_error: 0.1535\n",
      "Epoch 34/100\n",
      "\u001b[1m52/52\u001b[0m \u001b[32m━━━━━━━━━━━━━━━━━━━━\u001b[0m\u001b[37m\u001b[0m \u001b[1m1s\u001b[0m 10ms/step - loss: 0.0235 - root_mean_squared_error: 0.1531 - val_loss: 0.0236 - val_root_mean_squared_error: 0.1535\n",
      "Epoch 35/100\n",
      "\u001b[1m52/52\u001b[0m \u001b[32m━━━━━━━━━━━━━━━━━━━━\u001b[0m\u001b[37m\u001b[0m \u001b[1m1s\u001b[0m 11ms/step - loss: 0.0235 - root_mean_squared_error: 0.1531 - val_loss: 0.0236 - val_root_mean_squared_error: 0.1535\n",
      "Epoch 36/100\n",
      "\u001b[1m52/52\u001b[0m \u001b[32m━━━━━━━━━━━━━━━━━━━━\u001b[0m\u001b[37m\u001b[0m \u001b[1m1s\u001b[0m 10ms/step - loss: 0.0235 - root_mean_squared_error: 0.1530 - val_loss: 0.0236 - val_root_mean_squared_error: 0.1536\n",
      "Epoch 37/100\n",
      "\u001b[1m52/52\u001b[0m \u001b[32m━━━━━━━━━━━━━━━━━━━━\u001b[0m\u001b[37m\u001b[0m \u001b[1m1s\u001b[0m 10ms/step - loss: 0.0235 - root_mean_squared_error: 0.1530 - val_loss: 0.0236 - val_root_mean_squared_error: 0.1536\n",
      "Epoch 38/100\n",
      "\u001b[1m52/52\u001b[0m \u001b[32m━━━━━━━━━━━━━━━━━━━━\u001b[0m\u001b[37m\u001b[0m \u001b[1m1s\u001b[0m 11ms/step - loss: 0.0234 - root_mean_squared_error: 0.1529 - val_loss: 0.0236 - val_root_mean_squared_error: 0.1535\n",
      "Epoch 39/100\n",
      "\u001b[1m52/52\u001b[0m \u001b[32m━━━━━━━━━━━━━━━━━━━━\u001b[0m\u001b[37m\u001b[0m \u001b[1m1s\u001b[0m 12ms/step - loss: 0.0234 - root_mean_squared_error: 0.1529 - val_loss: 0.0236 - val_root_mean_squared_error: 0.1536\n",
      "Epoch 40/100\n",
      "\u001b[1m52/52\u001b[0m \u001b[32m━━━━━━━━━━━━━━━━━━━━\u001b[0m\u001b[37m\u001b[0m \u001b[1m1s\u001b[0m 9ms/step - loss: 0.0234 - root_mean_squared_error: 0.1528 - val_loss: 0.0236 - val_root_mean_squared_error: 0.1536\n",
      "Epoch 41/100\n",
      "\u001b[1m52/52\u001b[0m \u001b[32m━━━━━━━━━━━━━━━━━━━━\u001b[0m\u001b[37m\u001b[0m \u001b[1m1s\u001b[0m 10ms/step - loss: 0.0234 - root_mean_squared_error: 0.1528 - val_loss: 0.0236 - val_root_mean_squared_error: 0.1537\n",
      "Epoch 42/100\n",
      "\u001b[1m52/52\u001b[0m \u001b[32m━━━━━━━━━━━━━━━━━━━━\u001b[0m\u001b[37m\u001b[0m \u001b[1m1s\u001b[0m 11ms/step - loss: 0.0234 - root_mean_squared_error: 0.1528 - val_loss: 0.0236 - val_root_mean_squared_error: 0.1538\n",
      "Epoch 43/100\n",
      "\u001b[1m52/52\u001b[0m \u001b[32m━━━━━━━━━━━━━━━━━━━━\u001b[0m\u001b[37m\u001b[0m \u001b[1m1s\u001b[0m 10ms/step - loss: 0.0234 - root_mean_squared_error: 0.1528 - val_loss: 0.0237 - val_root_mean_squared_error: 0.1538\n",
      "Epoch 44/100\n",
      "\u001b[1m52/52\u001b[0m \u001b[32m━━━━━━━━━━━━━━━━━━━━\u001b[0m\u001b[37m\u001b[0m \u001b[1m1s\u001b[0m 9ms/step - loss: 0.0234 - root_mean_squared_error: 0.1527 - val_loss: 0.0237 - val_root_mean_squared_error: 0.1539\n",
      "Epoch 45/100\n",
      "\u001b[1m52/52\u001b[0m \u001b[32m━━━━━━━━━━━━━━━━━━━━\u001b[0m\u001b[37m\u001b[0m \u001b[1m1s\u001b[0m 10ms/step - loss: 0.0234 - root_mean_squared_error: 0.1527 - val_loss: 0.0237 - val_root_mean_squared_error: 0.1541\n",
      "Epoch 46/100\n",
      "\u001b[1m52/52\u001b[0m \u001b[32m━━━━━━━━━━━━━━━━━━━━\u001b[0m\u001b[37m\u001b[0m \u001b[1m1s\u001b[0m 12ms/step - loss: 0.0234 - root_mean_squared_error: 0.1527 - val_loss: 0.0238 - val_root_mean_squared_error: 0.1541\n",
      "Epoch 47/100\n",
      "\u001b[1m52/52\u001b[0m \u001b[32m━━━━━━━━━━━━━━━━━━━━\u001b[0m\u001b[37m\u001b[0m \u001b[1m1s\u001b[0m 11ms/step - loss: 0.0233 - root_mean_squared_error: 0.1526 - val_loss: 0.0238 - val_root_mean_squared_error: 0.1543\n",
      "Epoch 48/100\n",
      "\u001b[1m52/52\u001b[0m \u001b[32m━━━━━━━━━━━━━━━━━━━━\u001b[0m\u001b[37m\u001b[0m \u001b[1m1s\u001b[0m 11ms/step - loss: 0.0233 - root_mean_squared_error: 0.1524 - val_loss: 0.0238 - val_root_mean_squared_error: 0.1543\n",
      "Epoch 49/100\n",
      "\u001b[1m52/52\u001b[0m \u001b[32m━━━━━━━━━━━━━━━━━━━━\u001b[0m\u001b[37m\u001b[0m \u001b[1m1s\u001b[0m 14ms/step - loss: 0.0233 - root_mean_squared_error: 0.1524 - val_loss: 0.0239 - val_root_mean_squared_error: 0.1545\n",
      "Epoch 50/100\n",
      "\u001b[1m52/52\u001b[0m \u001b[32m━━━━━━━━━━━━━━━━━━━━\u001b[0m\u001b[37m\u001b[0m \u001b[1m1s\u001b[0m 9ms/step - loss: 0.0233 - root_mean_squared_error: 0.1524 - val_loss: 0.0239 - val_root_mean_squared_error: 0.1546\n",
      "Epoch 51/100\n",
      "\u001b[1m52/52\u001b[0m \u001b[32m━━━━━━━━━━━━━━━━━━━━\u001b[0m\u001b[37m\u001b[0m \u001b[1m1s\u001b[0m 10ms/step - loss: 0.0232 - root_mean_squared_error: 0.1523 - val_loss: 0.0239 - val_root_mean_squared_error: 0.1546\n",
      "Epoch 52/100\n",
      "\u001b[1m52/52\u001b[0m \u001b[32m━━━━━━━━━━━━━━━━━━━━\u001b[0m\u001b[37m\u001b[0m \u001b[1m1s\u001b[0m 10ms/step - loss: 0.0232 - root_mean_squared_error: 0.1523 - val_loss: 0.0239 - val_root_mean_squared_error: 0.1547\n",
      "Epoch 53/100\n",
      "\u001b[1m52/52\u001b[0m \u001b[32m━━━━━━━━━━━━━━━━━━━━\u001b[0m\u001b[37m\u001b[0m \u001b[1m1s\u001b[0m 10ms/step - loss: 0.0232 - root_mean_squared_error: 0.1522 - val_loss: 0.0239 - val_root_mean_squared_error: 0.1546\n",
      "Epoch 54/100\n",
      "\u001b[1m52/52\u001b[0m \u001b[32m━━━━━━━━━━━━━━━━━━━━\u001b[0m\u001b[37m\u001b[0m \u001b[1m1s\u001b[0m 10ms/step - loss: 0.0232 - root_mean_squared_error: 0.1522 - val_loss: 0.0239 - val_root_mean_squared_error: 0.1547\n",
      "Epoch 55/100\n",
      "\u001b[1m52/52\u001b[0m \u001b[32m━━━━━━━━━━━━━━━━━━━━\u001b[0m\u001b[37m\u001b[0m \u001b[1m1s\u001b[0m 10ms/step - loss: 0.0232 - root_mean_squared_error: 0.1522 - val_loss: 0.0239 - val_root_mean_squared_error: 0.1547\n",
      "Epoch 56/100\n",
      "\u001b[1m52/52\u001b[0m \u001b[32m━━━━━━━━━━━━━━━━━━━━\u001b[0m\u001b[37m\u001b[0m \u001b[1m1s\u001b[0m 11ms/step - loss: 0.0232 - root_mean_squared_error: 0.1521 - val_loss: 0.0240 - val_root_mean_squared_error: 0.1548\n",
      "Epoch 57/100\n",
      "\u001b[1m52/52\u001b[0m \u001b[32m━━━━━━━━━━━━━━━━━━━━\u001b[0m\u001b[37m\u001b[0m \u001b[1m1s\u001b[0m 10ms/step - loss: 0.0232 - root_mean_squared_error: 0.1521 - val_loss: 0.0240 - val_root_mean_squared_error: 0.1550\n",
      "Epoch 58/100\n",
      "\u001b[1m52/52\u001b[0m \u001b[32m━━━━━━━━━━━━━━━━━━━━\u001b[0m\u001b[37m\u001b[0m \u001b[1m1s\u001b[0m 10ms/step - loss: 0.0232 - root_mean_squared_error: 0.1520 - val_loss: 0.0240 - val_root_mean_squared_error: 0.1549\n",
      "Epoch 59/100\n",
      "\u001b[1m52/52\u001b[0m \u001b[32m━━━━━━━━━━━━━━━━━━━━\u001b[0m\u001b[37m\u001b[0m \u001b[1m1s\u001b[0m 10ms/step - loss: 0.0231 - root_mean_squared_error: 0.1519 - val_loss: 0.0241 - val_root_mean_squared_error: 0.1552\n",
      "Epoch 60/100\n",
      "\u001b[1m52/52\u001b[0m \u001b[32m━━━━━━━━━━━━━━━━━━━━\u001b[0m\u001b[37m\u001b[0m \u001b[1m1s\u001b[0m 10ms/step - loss: 0.0231 - root_mean_squared_error: 0.1519 - val_loss: 0.0241 - val_root_mean_squared_error: 0.1551\n",
      "Epoch 61/100\n",
      "\u001b[1m52/52\u001b[0m \u001b[32m━━━━━━━━━━━━━━━━━━━━\u001b[0m\u001b[37m\u001b[0m \u001b[1m1s\u001b[0m 10ms/step - loss: 0.0231 - root_mean_squared_error: 0.1519 - val_loss: 0.0241 - val_root_mean_squared_error: 0.1552\n",
      "Epoch 62/100\n",
      "\u001b[1m52/52\u001b[0m \u001b[32m━━━━━━━━━━━━━━━━━━━━\u001b[0m\u001b[37m\u001b[0m \u001b[1m1s\u001b[0m 11ms/step - loss: 0.0231 - root_mean_squared_error: 0.1518 - val_loss: 0.0241 - val_root_mean_squared_error: 0.1552\n",
      "Epoch 63/100\n",
      "\u001b[1m52/52\u001b[0m \u001b[32m━━━━━━━━━━━━━━━━━━━━\u001b[0m\u001b[37m\u001b[0m \u001b[1m1s\u001b[0m 11ms/step - loss: 0.0231 - root_mean_squared_error: 0.1518 - val_loss: 0.0241 - val_root_mean_squared_error: 0.1552\n",
      "Epoch 64/100\n",
      "\u001b[1m52/52\u001b[0m \u001b[32m━━━━━━━━━━━━━━━━━━━━\u001b[0m\u001b[37m\u001b[0m \u001b[1m1s\u001b[0m 11ms/step - loss: 0.0231 - root_mean_squared_error: 0.1517 - val_loss: 0.0241 - val_root_mean_squared_error: 0.1553\n",
      "Epoch 65/100\n",
      "\u001b[1m52/52\u001b[0m \u001b[32m━━━━━━━━━━━━━━━━━━━━\u001b[0m\u001b[37m\u001b[0m \u001b[1m1s\u001b[0m 12ms/step - loss: 0.0231 - root_mean_squared_error: 0.1517 - val_loss: 0.0242 - val_root_mean_squared_error: 0.1555\n",
      "Epoch 66/100\n",
      "\u001b[1m52/52\u001b[0m \u001b[32m━━━━━━━━━━━━━━━━━━━━\u001b[0m\u001b[37m\u001b[0m \u001b[1m1s\u001b[0m 10ms/step - loss: 0.0231 - root_mean_squared_error: 0.1517 - val_loss: 0.0241 - val_root_mean_squared_error: 0.1553\n",
      "Epoch 67/100\n",
      "\u001b[1m52/52\u001b[0m \u001b[32m━━━━━━━━━━━━━━━━━━━━\u001b[0m\u001b[37m\u001b[0m \u001b[1m1s\u001b[0m 11ms/step - loss: 0.0230 - root_mean_squared_error: 0.1516 - val_loss: 0.0242 - val_root_mean_squared_error: 0.1554\n",
      "Epoch 68/100\n",
      "\u001b[1m52/52\u001b[0m \u001b[32m━━━━━━━━━━━━━━━━━━━━\u001b[0m\u001b[37m\u001b[0m \u001b[1m1s\u001b[0m 11ms/step - loss: 0.0230 - root_mean_squared_error: 0.1516 - val_loss: 0.0242 - val_root_mean_squared_error: 0.1554\n",
      "Epoch 69/100\n",
      "\u001b[1m52/52\u001b[0m \u001b[32m━━━━━━━━━━━━━━━━━━━━\u001b[0m\u001b[37m\u001b[0m \u001b[1m1s\u001b[0m 10ms/step - loss: 0.0230 - root_mean_squared_error: 0.1515 - val_loss: 0.0241 - val_root_mean_squared_error: 0.1553\n",
      "Epoch 70/100\n",
      "\u001b[1m52/52\u001b[0m \u001b[32m━━━━━━━━━━━━━━━━━━━━\u001b[0m\u001b[37m\u001b[0m \u001b[1m1s\u001b[0m 10ms/step - loss: 0.0230 - root_mean_squared_error: 0.1515 - val_loss: 0.0242 - val_root_mean_squared_error: 0.1555\n",
      "Epoch 71/100\n",
      "\u001b[1m52/52\u001b[0m \u001b[32m━━━━━━━━━━━━━━━━━━━━\u001b[0m\u001b[37m\u001b[0m \u001b[1m1s\u001b[0m 9ms/step - loss: 0.0230 - root_mean_squared_error: 0.1515 - val_loss: 0.0241 - val_root_mean_squared_error: 0.1554\n",
      "Epoch 72/100\n",
      "\u001b[1m52/52\u001b[0m \u001b[32m━━━━━━━━━━━━━━━━━━━━\u001b[0m\u001b[37m\u001b[0m \u001b[1m1s\u001b[0m 12ms/step - loss: 0.0230 - root_mean_squared_error: 0.1514 - val_loss: 0.0240 - val_root_mean_squared_error: 0.1551\n",
      "Epoch 73/100\n",
      "\u001b[1m52/52\u001b[0m \u001b[32m━━━━━━━━━━━━━━━━━━━━\u001b[0m\u001b[37m\u001b[0m \u001b[1m1s\u001b[0m 13ms/step - loss: 0.0230 - root_mean_squared_error: 0.1514 - val_loss: 0.0241 - val_root_mean_squared_error: 0.1553\n",
      "Epoch 74/100\n",
      "\u001b[1m52/52\u001b[0m \u001b[32m━━━━━━━━━━━━━━━━━━━━\u001b[0m\u001b[37m\u001b[0m \u001b[1m1s\u001b[0m 10ms/step - loss: 0.0230 - root_mean_squared_error: 0.1514 - val_loss: 0.0241 - val_root_mean_squared_error: 0.1552\n",
      "Epoch 75/100\n",
      "\u001b[1m52/52\u001b[0m \u001b[32m━━━━━━━━━━━━━━━━━━━━\u001b[0m\u001b[37m\u001b[0m \u001b[1m1s\u001b[0m 11ms/step - loss: 0.0230 - root_mean_squared_error: 0.1513 - val_loss: 0.0241 - val_root_mean_squared_error: 0.1552\n",
      "Epoch 76/100\n",
      "\u001b[1m52/52\u001b[0m \u001b[32m━━━━━━━━━━━━━━━━━━━━\u001b[0m\u001b[37m\u001b[0m \u001b[1m1s\u001b[0m 13ms/step - loss: 0.0229 - root_mean_squared_error: 0.1513 - val_loss: 0.0241 - val_root_mean_squared_error: 0.1552\n",
      "Epoch 77/100\n",
      "\u001b[1m52/52\u001b[0m \u001b[32m━━━━━━━━━━━━━━━━━━━━\u001b[0m\u001b[37m\u001b[0m \u001b[1m1s\u001b[0m 10ms/step - loss: 0.0229 - root_mean_squared_error: 0.1513 - val_loss: 0.0241 - val_root_mean_squared_error: 0.1552\n",
      "Epoch 78/100\n",
      "\u001b[1m52/52\u001b[0m \u001b[32m━━━━━━━━━━━━━━━━━━━━\u001b[0m\u001b[37m\u001b[0m \u001b[1m1s\u001b[0m 10ms/step - loss: 0.0229 - root_mean_squared_error: 0.1512 - val_loss: 0.0241 - val_root_mean_squared_error: 0.1552\n",
      "Epoch 79/100\n",
      "\u001b[1m52/52\u001b[0m \u001b[32m━━━━━━━━━━━━━━━━━━━━\u001b[0m\u001b[37m\u001b[0m \u001b[1m1s\u001b[0m 11ms/step - loss: 0.0229 - root_mean_squared_error: 0.1512 - val_loss: 0.0241 - val_root_mean_squared_error: 0.1553\n",
      "Epoch 80/100\n",
      "\u001b[1m52/52\u001b[0m \u001b[32m━━━━━━━━━━━━━━━━━━━━\u001b[0m\u001b[37m\u001b[0m \u001b[1m1s\u001b[0m 12ms/step - loss: 0.0229 - root_mean_squared_error: 0.1512 - val_loss: 0.0241 - val_root_mean_squared_error: 0.1553\n",
      "Epoch 81/100\n",
      "\u001b[1m52/52\u001b[0m \u001b[32m━━━━━━━━━━━━━━━━━━━━\u001b[0m\u001b[37m\u001b[0m \u001b[1m1s\u001b[0m 10ms/step - loss: 0.0229 - root_mean_squared_error: 0.1512 - val_loss: 0.0241 - val_root_mean_squared_error: 0.1552\n",
      "Epoch 82/100\n",
      "\u001b[1m52/52\u001b[0m \u001b[32m━━━━━━━━━━━━━━━━━━━━\u001b[0m\u001b[37m\u001b[0m \u001b[1m1s\u001b[0m 9ms/step - loss: 0.0229 - root_mean_squared_error: 0.1511 - val_loss: 0.0241 - val_root_mean_squared_error: 0.1553\n",
      "Epoch 83/100\n",
      "\u001b[1m52/52\u001b[0m \u001b[32m━━━━━━━━━━━━━━━━━━━━\u001b[0m\u001b[37m\u001b[0m \u001b[1m1s\u001b[0m 10ms/step - loss: 0.0229 - root_mean_squared_error: 0.1511 - val_loss: 0.0241 - val_root_mean_squared_error: 0.1552\n",
      "Epoch 84/100\n",
      "\u001b[1m52/52\u001b[0m \u001b[32m━━━━━━━━━━━━━━━━━━━━\u001b[0m\u001b[37m\u001b[0m \u001b[1m1s\u001b[0m 10ms/step - loss: 0.0229 - root_mean_squared_error: 0.1511 - val_loss: 0.0241 - val_root_mean_squared_error: 0.1552\n",
      "Epoch 85/100\n"
     ]
    },
    {
     "name": "stdout",
     "output_type": "stream",
     "text": [
      "\u001b[1m52/52\u001b[0m \u001b[32m━━━━━━━━━━━━━━━━━━━━\u001b[0m\u001b[37m\u001b[0m \u001b[1m1s\u001b[0m 10ms/step - loss: 0.0229 - root_mean_squared_error: 0.1511 - val_loss: 0.0241 - val_root_mean_squared_error: 0.1552\n",
      "Epoch 86/100\n",
      "\u001b[1m52/52\u001b[0m \u001b[32m━━━━━━━━━━━━━━━━━━━━\u001b[0m\u001b[37m\u001b[0m \u001b[1m1s\u001b[0m 10ms/step - loss: 0.0229 - root_mean_squared_error: 0.1510 - val_loss: 0.0241 - val_root_mean_squared_error: 0.1552\n",
      "Epoch 87/100\n",
      "\u001b[1m52/52\u001b[0m \u001b[32m━━━━━━━━━━━━━━━━━━━━\u001b[0m\u001b[37m\u001b[0m \u001b[1m1s\u001b[0m 10ms/step - loss: 0.0228 - root_mean_squared_error: 0.1510 - val_loss: 0.0241 - val_root_mean_squared_error: 0.1552\n",
      "Epoch 88/100\n",
      "\u001b[1m52/52\u001b[0m \u001b[32m━━━━━━━━━━━━━━━━━━━━\u001b[0m\u001b[37m\u001b[0m \u001b[1m1s\u001b[0m 10ms/step - loss: 0.0228 - root_mean_squared_error: 0.1509 - val_loss: 0.0241 - val_root_mean_squared_error: 0.1552\n",
      "Epoch 89/100\n",
      "\u001b[1m52/52\u001b[0m \u001b[32m━━━━━━━━━━━━━━━━━━━━\u001b[0m\u001b[37m\u001b[0m \u001b[1m1s\u001b[0m 10ms/step - loss: 0.0228 - root_mean_squared_error: 0.1509 - val_loss: 0.0241 - val_root_mean_squared_error: 0.1552\n",
      "Epoch 90/100\n",
      "\u001b[1m52/52\u001b[0m \u001b[32m━━━━━━━━━━━━━━━━━━━━\u001b[0m\u001b[37m\u001b[0m \u001b[1m1s\u001b[0m 11ms/step - loss: 0.0228 - root_mean_squared_error: 0.1509 - val_loss: 0.0241 - val_root_mean_squared_error: 0.1553\n",
      "Epoch 91/100\n",
      "\u001b[1m52/52\u001b[0m \u001b[32m━━━━━━━━━━━━━━━━━━━━\u001b[0m\u001b[37m\u001b[0m \u001b[1m1s\u001b[0m 10ms/step - loss: 0.0228 - root_mean_squared_error: 0.1508 - val_loss: 0.0241 - val_root_mean_squared_error: 0.1552\n",
      "Epoch 92/100\n",
      "\u001b[1m52/52\u001b[0m \u001b[32m━━━━━━━━━━━━━━━━━━━━\u001b[0m\u001b[37m\u001b[0m \u001b[1m1s\u001b[0m 10ms/step - loss: 0.0228 - root_mean_squared_error: 0.1508 - val_loss: 0.0241 - val_root_mean_squared_error: 0.1553\n",
      "Epoch 93/100\n",
      "\u001b[1m52/52\u001b[0m \u001b[32m━━━━━━━━━━━━━━━━━━━━\u001b[0m\u001b[37m\u001b[0m \u001b[1m1s\u001b[0m 10ms/step - loss: 0.0228 - root_mean_squared_error: 0.1509 - val_loss: 0.0241 - val_root_mean_squared_error: 0.1553\n",
      "Epoch 94/100\n",
      "\u001b[1m52/52\u001b[0m \u001b[32m━━━━━━━━━━━━━━━━━━━━\u001b[0m\u001b[37m\u001b[0m \u001b[1m1s\u001b[0m 12ms/step - loss: 0.0228 - root_mean_squared_error: 0.1508 - val_loss: 0.0242 - val_root_mean_squared_error: 0.1554\n",
      "Epoch 95/100\n",
      "\u001b[1m52/52\u001b[0m \u001b[32m━━━━━━━━━━━━━━━━━━━━\u001b[0m\u001b[37m\u001b[0m \u001b[1m1s\u001b[0m 10ms/step - loss: 0.0228 - root_mean_squared_error: 0.1508 - val_loss: 0.0242 - val_root_mean_squared_error: 0.1554\n",
      "Epoch 96/100\n",
      "\u001b[1m52/52\u001b[0m \u001b[32m━━━━━━━━━━━━━━━━━━━━\u001b[0m\u001b[37m\u001b[0m \u001b[1m1s\u001b[0m 12ms/step - loss: 0.0228 - root_mean_squared_error: 0.1508 - val_loss: 0.0242 - val_root_mean_squared_error: 0.1554\n",
      "Epoch 97/100\n",
      "\u001b[1m52/52\u001b[0m \u001b[32m━━━━━━━━━━━━━━━━━━━━\u001b[0m\u001b[37m\u001b[0m \u001b[1m1s\u001b[0m 10ms/step - loss: 0.0228 - root_mean_squared_error: 0.1508 - val_loss: 0.0242 - val_root_mean_squared_error: 0.1554\n",
      "Epoch 98/100\n",
      "\u001b[1m52/52\u001b[0m \u001b[32m━━━━━━━━━━━━━━━━━━━━\u001b[0m\u001b[37m\u001b[0m \u001b[1m1s\u001b[0m 10ms/step - loss: 0.0228 - root_mean_squared_error: 0.1507 - val_loss: 0.0242 - val_root_mean_squared_error: 0.1554\n",
      "Epoch 99/100\n",
      "\u001b[1m52/52\u001b[0m \u001b[32m━━━━━━━━━━━━━━━━━━━━\u001b[0m\u001b[37m\u001b[0m \u001b[1m1s\u001b[0m 10ms/step - loss: 0.0228 - root_mean_squared_error: 0.1507 - val_loss: 0.0242 - val_root_mean_squared_error: 0.1554\n",
      "Epoch 100/100\n",
      "\u001b[1m52/52\u001b[0m \u001b[32m━━━━━━━━━━━━━━━━━━━━\u001b[0m\u001b[37m\u001b[0m \u001b[1m1s\u001b[0m 10ms/step - loss: 0.0227 - root_mean_squared_error: 0.1506 - val_loss: 0.0242 - val_root_mean_squared_error: 0.1554\n"
     ]
    }
   ],
   "source": [
    "#Train the model\n",
    "history=m.fit(X_train,y_train,validation_split=0.2, epochs=100 ,batch_size=32)"
   ]
  },
  {
   "cell_type": "code",
   "execution_count": 44,
   "id": "5870402d",
   "metadata": {},
   "outputs": [
    {
     "name": "stdout",
     "output_type": "stream",
     "text": [
      "\u001b[1m65/65\u001b[0m \u001b[32m━━━━━━━━━━━━━━━━━━━━\u001b[0m\u001b[37m\u001b[0m \u001b[1m1s\u001b[0m 6ms/step\n"
     ]
    }
   ],
   "source": [
    "# Predict the train set\n",
    "train_p=m.predict(X_train).flatten()"
   ]
  },
  {
   "cell_type": "code",
   "execution_count": 45,
   "id": "07779159",
   "metadata": {},
   "outputs": [
    {
     "name": "stdout",
     "output_type": "stream",
     "text": [
      "\u001b[1m1/1\u001b[0m \u001b[32m━━━━━━━━━━━━━━━━━━━━\u001b[0m\u001b[37m\u001b[0m \u001b[1m0s\u001b[0m 47ms/step\n",
      "\u001b[1m1/1\u001b[0m \u001b[32m━━━━━━━━━━━━━━━━━━━━\u001b[0m\u001b[37m\u001b[0m \u001b[1m0s\u001b[0m 47ms/step\n"
     ]
    },
    {
     "name": "stderr",
     "output_type": "stream",
     "text": [
      "C:\\Users\\loic\\AppData\\Local\\Temp\\ipykernel_6660\\2272936751.py:7: DeprecationWarning: Conversion of an array with ndim > 0 to a scalar is deprecated, and will error in future. Ensure you extract a single element from your array before performing this operation. (Deprecated NumPy 1.25.)\n",
      "  test_p[i] = pred[0]\n",
      "C:\\Users\\loic\\AppData\\Local\\Temp\\ipykernel_6660\\2272936751.py:9: DeprecationWarning: Conversion of an array with ndim > 0 to a scalar is deprecated, and will error in future. Ensure you extract a single element from your array before performing this operation. (Deprecated NumPy 1.25.)\n",
      "  m_input[0,-1,0] = pred[0]\n"
     ]
    },
    {
     "name": "stdout",
     "output_type": "stream",
     "text": [
      "\u001b[1m1/1\u001b[0m \u001b[32m━━━━━━━━━━━━━━━━━━━━\u001b[0m\u001b[37m\u001b[0m \u001b[1m0s\u001b[0m 47ms/step\n",
      "\u001b[1m1/1\u001b[0m \u001b[32m━━━━━━━━━━━━━━━━━━━━\u001b[0m\u001b[37m\u001b[0m \u001b[1m0s\u001b[0m 32ms/step\n",
      "\u001b[1m1/1\u001b[0m \u001b[32m━━━━━━━━━━━━━━━━━━━━\u001b[0m\u001b[37m\u001b[0m \u001b[1m0s\u001b[0m 32ms/step\n",
      "\u001b[1m1/1\u001b[0m \u001b[32m━━━━━━━━━━━━━━━━━━━━\u001b[0m\u001b[37m\u001b[0m \u001b[1m0s\u001b[0m 31ms/step\n",
      "\u001b[1m1/1\u001b[0m \u001b[32m━━━━━━━━━━━━━━━━━━━━\u001b[0m\u001b[37m\u001b[0m \u001b[1m0s\u001b[0m 31ms/step\n",
      "\u001b[1m1/1\u001b[0m \u001b[32m━━━━━━━━━━━━━━━━━━━━\u001b[0m\u001b[37m\u001b[0m \u001b[1m0s\u001b[0m 47ms/step\n",
      "\u001b[1m1/1\u001b[0m \u001b[32m━━━━━━━━━━━━━━━━━━━━\u001b[0m\u001b[37m\u001b[0m \u001b[1m0s\u001b[0m 30ms/step\n",
      "\u001b[1m1/1\u001b[0m \u001b[32m━━━━━━━━━━━━━━━━━━━━\u001b[0m\u001b[37m\u001b[0m \u001b[1m0s\u001b[0m 47ms/step\n",
      "\u001b[1m1/1\u001b[0m \u001b[32m━━━━━━━━━━━━━━━━━━━━\u001b[0m\u001b[37m\u001b[0m \u001b[1m0s\u001b[0m 48ms/step\n",
      "\u001b[1m1/1\u001b[0m \u001b[32m━━━━━━━━━━━━━━━━━━━━\u001b[0m\u001b[37m\u001b[0m \u001b[1m0s\u001b[0m 31ms/step\n",
      "\u001b[1m1/1\u001b[0m \u001b[32m━━━━━━━━━━━━━━━━━━━━\u001b[0m\u001b[37m\u001b[0m \u001b[1m0s\u001b[0m 31ms/step\n",
      "\u001b[1m1/1\u001b[0m \u001b[32m━━━━━━━━━━━━━━━━━━━━\u001b[0m\u001b[37m\u001b[0m \u001b[1m0s\u001b[0m 47ms/step\n",
      "\u001b[1m1/1\u001b[0m \u001b[32m━━━━━━━━━━━━━━━━━━━━\u001b[0m\u001b[37m\u001b[0m \u001b[1m0s\u001b[0m 47ms/step\n",
      "\u001b[1m1/1\u001b[0m \u001b[32m━━━━━━━━━━━━━━━━━━━━\u001b[0m\u001b[37m\u001b[0m \u001b[1m0s\u001b[0m 48ms/step\n",
      "\u001b[1m1/1\u001b[0m \u001b[32m━━━━━━━━━━━━━━━━━━━━\u001b[0m\u001b[37m\u001b[0m \u001b[1m0s\u001b[0m 47ms/step\n",
      "\u001b[1m1/1\u001b[0m \u001b[32m━━━━━━━━━━━━━━━━━━━━\u001b[0m\u001b[37m\u001b[0m \u001b[1m0s\u001b[0m 32ms/step\n",
      "\u001b[1m1/1\u001b[0m \u001b[32m━━━━━━━━━━━━━━━━━━━━\u001b[0m\u001b[37m\u001b[0m \u001b[1m0s\u001b[0m 31ms/step\n",
      "\u001b[1m1/1\u001b[0m \u001b[32m━━━━━━━━━━━━━━━━━━━━\u001b[0m\u001b[37m\u001b[0m \u001b[1m0s\u001b[0m 33ms/step\n"
     ]
    }
   ],
   "source": [
    "# Generate 20 forecasts\n",
    "ntest = X_test.shape[0]\n",
    "m_input = X_train[-1:]\n",
    "test_p = np.zeros(ntest)\n",
    "for i in range(ntest):\n",
    "    pred = m.predict(m_input)\n",
    "    test_p[i] = pred[0]\n",
    "    m_input = np.roll(m_input, -1)\n",
    "    m_input[0,-1,0] = pred[0]"
   ]
  },
  {
   "cell_type": "code",
   "execution_count": 46,
   "id": "b2f73020",
   "metadata": {},
   "outputs": [],
   "source": [
    "# Add the results to the previous residual of SSA-ARIMA \n",
    "train_p=train_p1+train_p\n",
    "test_p=test_p1+test_p"
   ]
  },
  {
   "cell_type": "code",
   "execution_count": 47,
   "id": "56fcb089",
   "metadata": {},
   "outputs": [
    {
     "name": "stdout",
     "output_type": "stream",
     "text": [
      "train: (np.float64(0.1554301962064483), np.float64(0.00827114277791046))\n",
      "test: (np.float64(0.2109480282636268), np.float64(0.010021396997740146))\n"
     ]
    }
   ],
   "source": [
    "# SSA-ARIMA-LSTM (we sum the results of the fitted ARIMA model with the forecast of the residuals).\n",
    "\n",
    "print('train:', metrics(data['DEXSFUS'][:2067],data['fit_tarim1'][:2067]+train_p))\n",
    "print('test:' , metrics(data['DEXSFUS'][2067:],data['fit_tarim1'][2067:]+test_p))"
   ]
  },
  {
   "cell_type": "markdown",
   "id": "c634dc1f",
   "metadata": {},
   "source": [
    "# SSA-ES-LSTM (LSTM on residuals of SSA-ES and LSTM on the noise)"
   ]
  },
  {
   "cell_type": "markdown",
   "id": "31522d02",
   "metadata": {},
   "source": [
    "For this cas the code is the same that the case of SSA-ARIMA-LSTM but we just replace res_tarim1 and fit_tarim1 by res_tesp1 and fit_tesp1 respectively"
   ]
  },
  {
   "cell_type": "markdown",
   "id": "43105e52",
   "metadata": {},
   "source": [
    "# SSA-LSTM-LSTM (LSTM on reconstructed signal and  LSTM on the noise)"
   ]
  },
  {
   "cell_type": "markdown",
   "id": "4daade8d",
   "metadata": {},
   "source": [
    "LSTM on signal"
   ]
  },
  {
   "cell_type": "code",
   "execution_count": 49,
   "id": "a4e9957a",
   "metadata": {},
   "outputs": [],
   "source": [
    "#prepare the data\n",
    "data_=data['fit_lrf1']\n",
    "s=data_[:5]\n",
    "data_=pd.concat([s,data_])\n",
    "###\n",
    "window=5\n",
    "X,y=data_toX_y(data_,window)\n",
    "\n",
    "X_train,y_train= X[:2067],y[:2067]\n",
    "X_test,y_test= X[2067:],y[2067:]"
   ]
  },
  {
   "cell_type": "code",
   "execution_count": 50,
   "id": "8e35747b",
   "metadata": {},
   "outputs": [],
   "source": [
    "#Set the seed\n",
    "tf.keras.utils.set_random_seed(123)\n",
    "tf.config.experimental.enable_op_determinism()"
   ]
  },
  {
   "cell_type": "code",
   "execution_count": 51,
   "id": "b0892825",
   "metadata": {},
   "outputs": [],
   "source": [
    "# delete the previous model\n",
    "del m"
   ]
  },
  {
   "cell_type": "code",
   "execution_count": 52,
   "id": "4be575f6",
   "metadata": {},
   "outputs": [
    {
     "data": {
      "text/html": [
       "<pre style=\"white-space:pre;overflow-x:auto;line-height:normal;font-family:Menlo,'DejaVu Sans Mono',consolas,'Courier New',monospace\"><span style=\"font-weight: bold\">Model: \"sequential_3\"</span>\n",
       "</pre>\n"
      ],
      "text/plain": [
       "\u001b[1mModel: \"sequential_3\"\u001b[0m\n"
      ]
     },
     "metadata": {},
     "output_type": "display_data"
    },
    {
     "data": {
      "text/html": [
       "<pre style=\"white-space:pre;overflow-x:auto;line-height:normal;font-family:Menlo,'DejaVu Sans Mono',consolas,'Courier New',monospace\">┏━━━━━━━━━━━━━━━━━━━━━━━━━━━━━━━━━━━━━━┳━━━━━━━━━━━━━━━━━━━━━━━━━━━━━┳━━━━━━━━━━━━━━━━━┓\n",
       "┃<span style=\"font-weight: bold\"> Layer (type)                         </span>┃<span style=\"font-weight: bold\"> Output Shape                </span>┃<span style=\"font-weight: bold\">         Param # </span>┃\n",
       "┡━━━━━━━━━━━━━━━━━━━━━━━━━━━━━━━━━━━━━━╇━━━━━━━━━━━━━━━━━━━━━━━━━━━━━╇━━━━━━━━━━━━━━━━━┩\n",
       "│ lstm_5 (<span style=\"color: #0087ff; text-decoration-color: #0087ff\">LSTM</span>)                        │ (<span style=\"color: #00d7ff; text-decoration-color: #00d7ff\">None</span>, <span style=\"color: #00af00; text-decoration-color: #00af00\">250</span>)                 │         <span style=\"color: #00af00; text-decoration-color: #00af00\">252,000</span> │\n",
       "├──────────────────────────────────────┼─────────────────────────────┼─────────────────┤\n",
       "│ dense_3 (<span style=\"color: #0087ff; text-decoration-color: #0087ff\">Dense</span>)                      │ (<span style=\"color: #00d7ff; text-decoration-color: #00d7ff\">None</span>, <span style=\"color: #00af00; text-decoration-color: #00af00\">1</span>)                   │             <span style=\"color: #00af00; text-decoration-color: #00af00\">251</span> │\n",
       "└──────────────────────────────────────┴─────────────────────────────┴─────────────────┘\n",
       "</pre>\n"
      ],
      "text/plain": [
       "┏━━━━━━━━━━━━━━━━━━━━━━━━━━━━━━━━━━━━━━┳━━━━━━━━━━━━━━━━━━━━━━━━━━━━━┳━━━━━━━━━━━━━━━━━┓\n",
       "┃\u001b[1m \u001b[0m\u001b[1mLayer (type)                        \u001b[0m\u001b[1m \u001b[0m┃\u001b[1m \u001b[0m\u001b[1mOutput Shape               \u001b[0m\u001b[1m \u001b[0m┃\u001b[1m \u001b[0m\u001b[1m        Param #\u001b[0m\u001b[1m \u001b[0m┃\n",
       "┡━━━━━━━━━━━━━━━━━━━━━━━━━━━━━━━━━━━━━━╇━━━━━━━━━━━━━━━━━━━━━━━━━━━━━╇━━━━━━━━━━━━━━━━━┩\n",
       "│ lstm_5 (\u001b[38;5;33mLSTM\u001b[0m)                        │ (\u001b[38;5;45mNone\u001b[0m, \u001b[38;5;34m250\u001b[0m)                 │         \u001b[38;5;34m252,000\u001b[0m │\n",
       "├──────────────────────────────────────┼─────────────────────────────┼─────────────────┤\n",
       "│ dense_3 (\u001b[38;5;33mDense\u001b[0m)                      │ (\u001b[38;5;45mNone\u001b[0m, \u001b[38;5;34m1\u001b[0m)                   │             \u001b[38;5;34m251\u001b[0m │\n",
       "└──────────────────────────────────────┴─────────────────────────────┴─────────────────┘\n"
      ]
     },
     "metadata": {},
     "output_type": "display_data"
    },
    {
     "data": {
      "text/html": [
       "<pre style=\"white-space:pre;overflow-x:auto;line-height:normal;font-family:Menlo,'DejaVu Sans Mono',consolas,'Courier New',monospace\"><span style=\"font-weight: bold\"> Total params: </span><span style=\"color: #00af00; text-decoration-color: #00af00\">252,251</span> (985.36 KB)\n",
       "</pre>\n"
      ],
      "text/plain": [
       "\u001b[1m Total params: \u001b[0m\u001b[38;5;34m252,251\u001b[0m (985.36 KB)\n"
      ]
     },
     "metadata": {},
     "output_type": "display_data"
    },
    {
     "data": {
      "text/html": [
       "<pre style=\"white-space:pre;overflow-x:auto;line-height:normal;font-family:Menlo,'DejaVu Sans Mono',consolas,'Courier New',monospace\"><span style=\"font-weight: bold\"> Trainable params: </span><span style=\"color: #00af00; text-decoration-color: #00af00\">252,251</span> (985.36 KB)\n",
       "</pre>\n"
      ],
      "text/plain": [
       "\u001b[1m Trainable params: \u001b[0m\u001b[38;5;34m252,251\u001b[0m (985.36 KB)\n"
      ]
     },
     "metadata": {},
     "output_type": "display_data"
    },
    {
     "data": {
      "text/html": [
       "<pre style=\"white-space:pre;overflow-x:auto;line-height:normal;font-family:Menlo,'DejaVu Sans Mono',consolas,'Courier New',monospace\"><span style=\"font-weight: bold\"> Non-trainable params: </span><span style=\"color: #00af00; text-decoration-color: #00af00\">0</span> (0.00 B)\n",
       "</pre>\n"
      ],
      "text/plain": [
       "\u001b[1m Non-trainable params: \u001b[0m\u001b[38;5;34m0\u001b[0m (0.00 B)\n"
      ]
     },
     "metadata": {},
     "output_type": "display_data"
    }
   ],
   "source": [
    "#LSTM Structure\n",
    "m=Sequential()\n",
    "m.add(InputLayer((5,1)))\n",
    "m.add(LSTM(250))\n",
    "m.add(Dense(1,'relu'))\n",
    "m.summary()"
   ]
  },
  {
   "cell_type": "code",
   "execution_count": 53,
   "id": "8f67c772",
   "metadata": {},
   "outputs": [],
   "source": [
    "#Compile the model\n",
    "m.compile(loss=MeanSquaredError(),optimizer=\"Adam\",metrics=[RootMeanSquaredError()])"
   ]
  },
  {
   "cell_type": "code",
   "execution_count": 54,
   "id": "b9900084",
   "metadata": {},
   "outputs": [
    {
     "name": "stdout",
     "output_type": "stream",
     "text": [
      "Epoch 1/100\n",
      "\u001b[1m52/52\u001b[0m \u001b[32m━━━━━━━━━━━━━━━━━━━━\u001b[0m\u001b[37m\u001b[0m \u001b[1m3s\u001b[0m 18ms/step - loss: 68.6875 - root_mean_squared_error: 7.8990 - val_loss: 4.0809 - val_root_mean_squared_error: 2.0201\n",
      "Epoch 2/100\n",
      "\u001b[1m52/52\u001b[0m \u001b[32m━━━━━━━━━━━━━━━━━━━━\u001b[0m\u001b[37m\u001b[0m \u001b[1m1s\u001b[0m 11ms/step - loss: 2.3164 - root_mean_squared_error: 1.5217 - val_loss: 3.5416 - val_root_mean_squared_error: 1.8819\n",
      "Epoch 3/100\n",
      "\u001b[1m52/52\u001b[0m \u001b[32m━━━━━━━━━━━━━━━━━━━━\u001b[0m\u001b[37m\u001b[0m \u001b[1m1s\u001b[0m 10ms/step - loss: 2.2529 - root_mean_squared_error: 1.5008 - val_loss: 3.5072 - val_root_mean_squared_error: 1.8728\n",
      "Epoch 4/100\n",
      "\u001b[1m52/52\u001b[0m \u001b[32m━━━━━━━━━━━━━━━━━━━━\u001b[0m\u001b[37m\u001b[0m \u001b[1m1s\u001b[0m 11ms/step - loss: 2.2099 - root_mean_squared_error: 1.4863 - val_loss: 3.4033 - val_root_mean_squared_error: 1.8448\n",
      "Epoch 5/100\n",
      "\u001b[1m52/52\u001b[0m \u001b[32m━━━━━━━━━━━━━━━━━━━━\u001b[0m\u001b[37m\u001b[0m \u001b[1m1s\u001b[0m 10ms/step - loss: 2.1461 - root_mean_squared_error: 1.4647 - val_loss: 3.1628 - val_root_mean_squared_error: 1.7784\n",
      "Epoch 6/100\n",
      "\u001b[1m52/52\u001b[0m \u001b[32m━━━━━━━━━━━━━━━━━━━━\u001b[0m\u001b[37m\u001b[0m \u001b[1m1s\u001b[0m 11ms/step - loss: 2.0521 - root_mean_squared_error: 1.4322 - val_loss: 3.0496 - val_root_mean_squared_error: 1.7463\n",
      "Epoch 7/100\n",
      "\u001b[1m52/52\u001b[0m \u001b[32m━━━━━━━━━━━━━━━━━━━━\u001b[0m\u001b[37m\u001b[0m \u001b[1m1s\u001b[0m 10ms/step - loss: 1.8702 - root_mean_squared_error: 1.3672 - val_loss: 2.8095 - val_root_mean_squared_error: 1.6762\n",
      "Epoch 8/100\n",
      "\u001b[1m52/52\u001b[0m \u001b[32m━━━━━━━━━━━━━━━━━━━━\u001b[0m\u001b[37m\u001b[0m \u001b[1m1s\u001b[0m 10ms/step - loss: 1.5029 - root_mean_squared_error: 1.2250 - val_loss: 2.0569 - val_root_mean_squared_error: 1.4342\n",
      "Epoch 9/100\n",
      "\u001b[1m52/52\u001b[0m \u001b[32m━━━━━━━━━━━━━━━━━━━━\u001b[0m\u001b[37m\u001b[0m \u001b[1m1s\u001b[0m 10ms/step - loss: 0.8258 - root_mean_squared_error: 0.9064 - val_loss: 0.4503 - val_root_mean_squared_error: 0.6711\n",
      "Epoch 10/100\n",
      "\u001b[1m52/52\u001b[0m \u001b[32m━━━━━━━━━━━━━━━━━━━━\u001b[0m\u001b[37m\u001b[0m \u001b[1m1s\u001b[0m 10ms/step - loss: 0.1905 - root_mean_squared_error: 0.4334 - val_loss: 0.0834 - val_root_mean_squared_error: 0.2888\n",
      "Epoch 11/100\n",
      "\u001b[1m52/52\u001b[0m \u001b[32m━━━━━━━━━━━━━━━━━━━━\u001b[0m\u001b[37m\u001b[0m \u001b[1m1s\u001b[0m 11ms/step - loss: 0.0516 - root_mean_squared_error: 0.2267 - val_loss: 0.0397 - val_root_mean_squared_error: 0.1993\n",
      "Epoch 12/100\n",
      "\u001b[1m52/52\u001b[0m \u001b[32m━━━━━━━━━━━━━━━━━━━━\u001b[0m\u001b[37m\u001b[0m \u001b[1m1s\u001b[0m 11ms/step - loss: 0.0321 - root_mean_squared_error: 0.1788 - val_loss: 0.0266 - val_root_mean_squared_error: 0.1630\n",
      "Epoch 13/100\n",
      "\u001b[1m52/52\u001b[0m \u001b[32m━━━━━━━━━━━━━━━━━━━━\u001b[0m\u001b[37m\u001b[0m \u001b[1m1s\u001b[0m 11ms/step - loss: 0.0253 - root_mean_squared_error: 0.1590 - val_loss: 0.0187 - val_root_mean_squared_error: 0.1367\n",
      "Epoch 14/100\n",
      "\u001b[1m52/52\u001b[0m \u001b[32m━━━━━━━━━━━━━━━━━━━━\u001b[0m\u001b[37m\u001b[0m \u001b[1m1s\u001b[0m 13ms/step - loss: 0.0214 - root_mean_squared_error: 0.1461 - val_loss: 0.0156 - val_root_mean_squared_error: 0.1248\n",
      "Epoch 15/100\n",
      "\u001b[1m52/52\u001b[0m \u001b[32m━━━━━━━━━━━━━━━━━━━━\u001b[0m\u001b[37m\u001b[0m \u001b[1m1s\u001b[0m 12ms/step - loss: 0.0193 - root_mean_squared_error: 0.1386 - val_loss: 0.0140 - val_root_mean_squared_error: 0.1183\n",
      "Epoch 16/100\n",
      "\u001b[1m52/52\u001b[0m \u001b[32m━━━━━━━━━━━━━━━━━━━━\u001b[0m\u001b[37m\u001b[0m \u001b[1m1s\u001b[0m 11ms/step - loss: 0.0181 - root_mean_squared_error: 0.1342 - val_loss: 0.0133 - val_root_mean_squared_error: 0.1155\n",
      "Epoch 17/100\n",
      "\u001b[1m52/52\u001b[0m \u001b[32m━━━━━━━━━━━━━━━━━━━━\u001b[0m\u001b[37m\u001b[0m \u001b[1m1s\u001b[0m 10ms/step - loss: 0.0173 - root_mean_squared_error: 0.1313 - val_loss: 0.0132 - val_root_mean_squared_error: 0.1149\n",
      "Epoch 18/100\n",
      "\u001b[1m52/52\u001b[0m \u001b[32m━━━━━━━━━━━━━━━━━━━━\u001b[0m\u001b[37m\u001b[0m \u001b[1m1s\u001b[0m 11ms/step - loss: 0.0168 - root_mean_squared_error: 0.1294 - val_loss: 0.0132 - val_root_mean_squared_error: 0.1148\n",
      "Epoch 19/100\n",
      "\u001b[1m52/52\u001b[0m \u001b[32m━━━━━━━━━━━━━━━━━━━━\u001b[0m\u001b[37m\u001b[0m \u001b[1m1s\u001b[0m 10ms/step - loss: 0.0165 - root_mean_squared_error: 0.1281 - val_loss: 0.0133 - val_root_mean_squared_error: 0.1153\n",
      "Epoch 20/100\n",
      "\u001b[1m52/52\u001b[0m \u001b[32m━━━━━━━━━━━━━━━━━━━━\u001b[0m\u001b[37m\u001b[0m \u001b[1m1s\u001b[0m 10ms/step - loss: 0.0163 - root_mean_squared_error: 0.1271 - val_loss: 0.0134 - val_root_mean_squared_error: 0.1155\n",
      "Epoch 21/100\n",
      "\u001b[1m52/52\u001b[0m \u001b[32m━━━━━━━━━━━━━━━━━━━━\u001b[0m\u001b[37m\u001b[0m \u001b[1m1s\u001b[0m 11ms/step - loss: 0.0161 - root_mean_squared_error: 0.1263 - val_loss: 0.0133 - val_root_mean_squared_error: 0.1154\n",
      "Epoch 22/100\n",
      "\u001b[1m52/52\u001b[0m \u001b[32m━━━━━━━━━━━━━━━━━━━━\u001b[0m\u001b[37m\u001b[0m \u001b[1m1s\u001b[0m 10ms/step - loss: 0.0159 - root_mean_squared_error: 0.1256 - val_loss: 0.0133 - val_root_mean_squared_error: 0.1152\n",
      "Epoch 23/100\n",
      "\u001b[1m52/52\u001b[0m \u001b[32m━━━━━━━━━━━━━━━━━━━━\u001b[0m\u001b[37m\u001b[0m \u001b[1m1s\u001b[0m 11ms/step - loss: 0.0157 - root_mean_squared_error: 0.1250 - val_loss: 0.0132 - val_root_mean_squared_error: 0.1150\n",
      "Epoch 24/100\n",
      "\u001b[1m52/52\u001b[0m \u001b[32m━━━━━━━━━━━━━━━━━━━━\u001b[0m\u001b[37m\u001b[0m \u001b[1m1s\u001b[0m 11ms/step - loss: 0.0156 - root_mean_squared_error: 0.1245 - val_loss: 0.0132 - val_root_mean_squared_error: 0.1148\n",
      "Epoch 25/100\n",
      "\u001b[1m52/52\u001b[0m \u001b[32m━━━━━━━━━━━━━━━━━━━━\u001b[0m\u001b[37m\u001b[0m \u001b[1m1s\u001b[0m 10ms/step - loss: 0.0155 - root_mean_squared_error: 0.1240 - val_loss: 0.0131 - val_root_mean_squared_error: 0.1146\n",
      "Epoch 26/100\n",
      "\u001b[1m52/52\u001b[0m \u001b[32m━━━━━━━━━━━━━━━━━━━━\u001b[0m\u001b[37m\u001b[0m \u001b[1m1s\u001b[0m 10ms/step - loss: 0.0154 - root_mean_squared_error: 0.1235 - val_loss: 0.0131 - val_root_mean_squared_error: 0.1143\n",
      "Epoch 27/100\n",
      "\u001b[1m52/52\u001b[0m \u001b[32m━━━━━━━━━━━━━━━━━━━━\u001b[0m\u001b[37m\u001b[0m \u001b[1m1s\u001b[0m 10ms/step - loss: 0.0153 - root_mean_squared_error: 0.1231 - val_loss: 0.0130 - val_root_mean_squared_error: 0.1140\n",
      "Epoch 28/100\n",
      "\u001b[1m52/52\u001b[0m \u001b[32m━━━━━━━━━━━━━━━━━━━━\u001b[0m\u001b[37m\u001b[0m \u001b[1m1s\u001b[0m 11ms/step - loss: 0.0152 - root_mean_squared_error: 0.1226 - val_loss: 0.0129 - val_root_mean_squared_error: 0.1136\n",
      "Epoch 29/100\n",
      "\u001b[1m52/52\u001b[0m \u001b[32m━━━━━━━━━━━━━━━━━━━━\u001b[0m\u001b[37m\u001b[0m \u001b[1m1s\u001b[0m 10ms/step - loss: 0.0150 - root_mean_squared_error: 0.1222 - val_loss: 0.0128 - val_root_mean_squared_error: 0.1132\n",
      "Epoch 30/100\n",
      "\u001b[1m52/52\u001b[0m \u001b[32m━━━━━━━━━━━━━━━━━━━━\u001b[0m\u001b[37m\u001b[0m \u001b[1m1s\u001b[0m 11ms/step - loss: 0.0149 - root_mean_squared_error: 0.1218 - val_loss: 0.0127 - val_root_mean_squared_error: 0.1127\n",
      "Epoch 31/100\n",
      "\u001b[1m52/52\u001b[0m \u001b[32m━━━━━━━━━━━━━━━━━━━━\u001b[0m\u001b[37m\u001b[0m \u001b[1m1s\u001b[0m 11ms/step - loss: 0.0148 - root_mean_squared_error: 0.1213 - val_loss: 0.0126 - val_root_mean_squared_error: 0.1122\n",
      "Epoch 32/100\n",
      "\u001b[1m52/52\u001b[0m \u001b[32m━━━━━━━━━━━━━━━━━━━━\u001b[0m\u001b[37m\u001b[0m \u001b[1m1s\u001b[0m 10ms/step - loss: 0.0147 - root_mean_squared_error: 0.1208 - val_loss: 0.0124 - val_root_mean_squared_error: 0.1116\n",
      "Epoch 33/100\n",
      "\u001b[1m52/52\u001b[0m \u001b[32m━━━━━━━━━━━━━━━━━━━━\u001b[0m\u001b[37m\u001b[0m \u001b[1m1s\u001b[0m 11ms/step - loss: 0.0146 - root_mean_squared_error: 0.1204 - val_loss: 0.0123 - val_root_mean_squared_error: 0.1109\n",
      "Epoch 34/100\n",
      "\u001b[1m52/52\u001b[0m \u001b[32m━━━━━━━━━━━━━━━━━━━━\u001b[0m\u001b[37m\u001b[0m \u001b[1m1s\u001b[0m 10ms/step - loss: 0.0145 - root_mean_squared_error: 0.1199 - val_loss: 0.0121 - val_root_mean_squared_error: 0.1102\n",
      "Epoch 35/100\n",
      "\u001b[1m52/52\u001b[0m \u001b[32m━━━━━━━━━━━━━━━━━━━━\u001b[0m\u001b[37m\u001b[0m \u001b[1m1s\u001b[0m 10ms/step - loss: 0.0144 - root_mean_squared_error: 0.1195 - val_loss: 0.0120 - val_root_mean_squared_error: 0.1095\n",
      "Epoch 36/100\n",
      "\u001b[1m52/52\u001b[0m \u001b[32m━━━━━━━━━━━━━━━━━━━━\u001b[0m\u001b[37m\u001b[0m \u001b[1m1s\u001b[0m 12ms/step - loss: 0.0143 - root_mean_squared_error: 0.1190 - val_loss: 0.0118 - val_root_mean_squared_error: 0.1087\n",
      "Epoch 37/100\n",
      "\u001b[1m52/52\u001b[0m \u001b[32m━━━━━━━━━━━━━━━━━━━━\u001b[0m\u001b[37m\u001b[0m \u001b[1m1s\u001b[0m 11ms/step - loss: 0.0142 - root_mean_squared_error: 0.1185 - val_loss: 0.0116 - val_root_mean_squared_error: 0.1079\n",
      "Epoch 38/100\n",
      "\u001b[1m52/52\u001b[0m \u001b[32m━━━━━━━━━━━━━━━━━━━━\u001b[0m\u001b[37m\u001b[0m \u001b[1m1s\u001b[0m 11ms/step - loss: 0.0141 - root_mean_squared_error: 0.1180 - val_loss: 0.0115 - val_root_mean_squared_error: 0.1071\n",
      "Epoch 39/100\n",
      "\u001b[1m52/52\u001b[0m \u001b[32m━━━━━━━━━━━━━━━━━━━━\u001b[0m\u001b[37m\u001b[0m \u001b[1m1s\u001b[0m 11ms/step - loss: 0.0140 - root_mean_squared_error: 0.1175 - val_loss: 0.0113 - val_root_mean_squared_error: 0.1063\n",
      "Epoch 40/100\n",
      "\u001b[1m52/52\u001b[0m \u001b[32m━━━━━━━━━━━━━━━━━━━━\u001b[0m\u001b[37m\u001b[0m \u001b[1m1s\u001b[0m 10ms/step - loss: 0.0138 - root_mean_squared_error: 0.1170 - val_loss: 0.0111 - val_root_mean_squared_error: 0.1054\n",
      "Epoch 41/100\n",
      "\u001b[1m52/52\u001b[0m \u001b[32m━━━━━━━━━━━━━━━━━━━━\u001b[0m\u001b[37m\u001b[0m \u001b[1m1s\u001b[0m 11ms/step - loss: 0.0137 - root_mean_squared_error: 0.1166 - val_loss: 0.0109 - val_root_mean_squared_error: 0.1046\n",
      "Epoch 42/100\n",
      "\u001b[1m52/52\u001b[0m \u001b[32m━━━━━━━━━━━━━━━━━━━━\u001b[0m\u001b[37m\u001b[0m \u001b[1m1s\u001b[0m 10ms/step - loss: 0.0136 - root_mean_squared_error: 0.1161 - val_loss: 0.0108 - val_root_mean_squared_error: 0.1037\n",
      "Epoch 43/100\n",
      "\u001b[1m52/52\u001b[0m \u001b[32m━━━━━━━━━━━━━━━━━━━━\u001b[0m\u001b[37m\u001b[0m \u001b[1m1s\u001b[0m 10ms/step - loss: 0.0135 - root_mean_squared_error: 0.1156 - val_loss: 0.0106 - val_root_mean_squared_error: 0.1029\n",
      "Epoch 44/100\n",
      "\u001b[1m52/52\u001b[0m \u001b[32m━━━━━━━━━━━━━━━━━━━━\u001b[0m\u001b[37m\u001b[0m \u001b[1m1s\u001b[0m 10ms/step - loss: 0.0134 - root_mean_squared_error: 0.1151 - val_loss: 0.0104 - val_root_mean_squared_error: 0.1020\n",
      "Epoch 45/100\n",
      "\u001b[1m52/52\u001b[0m \u001b[32m━━━━━━━━━━━━━━━━━━━━\u001b[0m\u001b[37m\u001b[0m \u001b[1m1s\u001b[0m 10ms/step - loss: 0.0133 - root_mean_squared_error: 0.1146 - val_loss: 0.0102 - val_root_mean_squared_error: 0.1012\n",
      "Epoch 46/100\n",
      "\u001b[1m52/52\u001b[0m \u001b[32m━━━━━━━━━━━━━━━━━━━━\u001b[0m\u001b[37m\u001b[0m \u001b[1m1s\u001b[0m 10ms/step - loss: 0.0132 - root_mean_squared_error: 0.1141 - val_loss: 0.0101 - val_root_mean_squared_error: 0.1004\n",
      "Epoch 47/100\n",
      "\u001b[1m52/52\u001b[0m \u001b[32m━━━━━━━━━━━━━━━━━━━━\u001b[0m\u001b[37m\u001b[0m \u001b[1m1s\u001b[0m 11ms/step - loss: 0.0131 - root_mean_squared_error: 0.1136 - val_loss: 0.0099 - val_root_mean_squared_error: 0.0996\n",
      "Epoch 48/100\n",
      "\u001b[1m52/52\u001b[0m \u001b[32m━━━━━━━━━━━━━━━━━━━━\u001b[0m\u001b[37m\u001b[0m \u001b[1m1s\u001b[0m 10ms/step - loss: 0.0129 - root_mean_squared_error: 0.1131 - val_loss: 0.0098 - val_root_mean_squared_error: 0.0989\n",
      "Epoch 49/100\n",
      "\u001b[1m52/52\u001b[0m \u001b[32m━━━━━━━━━━━━━━━━━━━━\u001b[0m\u001b[37m\u001b[0m \u001b[1m1s\u001b[0m 10ms/step - loss: 0.0128 - root_mean_squared_error: 0.1126 - val_loss: 0.0096 - val_root_mean_squared_error: 0.0981\n",
      "Epoch 50/100\n",
      "\u001b[1m52/52\u001b[0m \u001b[32m━━━━━━━━━━━━━━━━━━━━\u001b[0m\u001b[37m\u001b[0m \u001b[1m1s\u001b[0m 10ms/step - loss: 0.0127 - root_mean_squared_error: 0.1121 - val_loss: 0.0095 - val_root_mean_squared_error: 0.0975\n",
      "Epoch 51/100\n",
      "\u001b[1m52/52\u001b[0m \u001b[32m━━━━━━━━━━━━━━━━━━━━\u001b[0m\u001b[37m\u001b[0m \u001b[1m1s\u001b[0m 11ms/step - loss: 0.0126 - root_mean_squared_error: 0.1117 - val_loss: 0.0094 - val_root_mean_squared_error: 0.0969\n",
      "Epoch 52/100\n",
      "\u001b[1m52/52\u001b[0m \u001b[32m━━━━━━━━━━━━━━━━━━━━\u001b[0m\u001b[37m\u001b[0m \u001b[1m1s\u001b[0m 10ms/step - loss: 0.0125 - root_mean_squared_error: 0.1112 - val_loss: 0.0093 - val_root_mean_squared_error: 0.0963\n",
      "Epoch 53/100\n",
      "\u001b[1m52/52\u001b[0m \u001b[32m━━━━━━━━━━━━━━━━━━━━\u001b[0m\u001b[37m\u001b[0m \u001b[1m1s\u001b[0m 11ms/step - loss: 0.0124 - root_mean_squared_error: 0.1108 - val_loss: 0.0092 - val_root_mean_squared_error: 0.0958\n",
      "Epoch 54/100\n",
      "\u001b[1m52/52\u001b[0m \u001b[32m━━━━━━━━━━━━━━━━━━━━\u001b[0m\u001b[37m\u001b[0m \u001b[1m1s\u001b[0m 11ms/step - loss: 0.0123 - root_mean_squared_error: 0.1103 - val_loss: 0.0091 - val_root_mean_squared_error: 0.0954\n",
      "Epoch 55/100\n",
      "\u001b[1m52/52\u001b[0m \u001b[32m━━━━━━━━━━━━━━━━━━━━\u001b[0m\u001b[37m\u001b[0m \u001b[1m1s\u001b[0m 11ms/step - loss: 0.0122 - root_mean_squared_error: 0.1099 - val_loss: 0.0090 - val_root_mean_squared_error: 0.0950\n",
      "Epoch 56/100\n",
      "\u001b[1m52/52\u001b[0m \u001b[32m━━━━━━━━━━━━━━━━━━━━\u001b[0m\u001b[37m\u001b[0m \u001b[1m1s\u001b[0m 12ms/step - loss: 0.0121 - root_mean_squared_error: 0.1095 - val_loss: 0.0090 - val_root_mean_squared_error: 0.0947\n",
      "Epoch 57/100\n",
      "\u001b[1m52/52\u001b[0m \u001b[32m━━━━━━━━━━━━━━━━━━━━\u001b[0m\u001b[37m\u001b[0m \u001b[1m1s\u001b[0m 11ms/step - loss: 0.0121 - root_mean_squared_error: 0.1091 - val_loss: 0.0089 - val_root_mean_squared_error: 0.0945\n",
      "Epoch 58/100\n",
      "\u001b[1m52/52\u001b[0m \u001b[32m━━━━━━━━━━━━━━━━━━━━\u001b[0m\u001b[37m\u001b[0m \u001b[1m1s\u001b[0m 11ms/step - loss: 0.0120 - root_mean_squared_error: 0.1087 - val_loss: 0.0089 - val_root_mean_squared_error: 0.0943\n",
      "Epoch 59/100\n",
      "\u001b[1m52/52\u001b[0m \u001b[32m━━━━━━━━━━━━━━━━━━━━\u001b[0m\u001b[37m\u001b[0m \u001b[1m1s\u001b[0m 11ms/step - loss: 0.0119 - root_mean_squared_error: 0.1083 - val_loss: 0.0089 - val_root_mean_squared_error: 0.0942\n",
      "Epoch 60/100\n",
      "\u001b[1m52/52\u001b[0m \u001b[32m━━━━━━━━━━━━━━━━━━━━\u001b[0m\u001b[37m\u001b[0m \u001b[1m1s\u001b[0m 10ms/step - loss: 0.0118 - root_mean_squared_error: 0.1079 - val_loss: 0.0089 - val_root_mean_squared_error: 0.0941\n",
      "Epoch 61/100\n",
      "\u001b[1m52/52\u001b[0m \u001b[32m━━━━━━━━━━━━━━━━━━━━\u001b[0m\u001b[37m\u001b[0m \u001b[1m1s\u001b[0m 10ms/step - loss: 0.0117 - root_mean_squared_error: 0.1076 - val_loss: 0.0088 - val_root_mean_squared_error: 0.0941\n",
      "Epoch 62/100\n",
      "\u001b[1m52/52\u001b[0m \u001b[32m━━━━━━━━━━━━━━━━━━━━\u001b[0m\u001b[37m\u001b[0m \u001b[1m1s\u001b[0m 11ms/step - loss: 0.0117 - root_mean_squared_error: 0.1072 - val_loss: 0.0088 - val_root_mean_squared_error: 0.0941\n",
      "Epoch 63/100\n",
      "\u001b[1m52/52\u001b[0m \u001b[32m━━━━━━━━━━━━━━━━━━━━\u001b[0m\u001b[37m\u001b[0m \u001b[1m1s\u001b[0m 13ms/step - loss: 0.0116 - root_mean_squared_error: 0.1069 - val_loss: 0.0089 - val_root_mean_squared_error: 0.0941\n",
      "Epoch 64/100\n",
      "\u001b[1m52/52\u001b[0m \u001b[32m━━━━━━━━━━━━━━━━━━━━\u001b[0m\u001b[37m\u001b[0m \u001b[1m1s\u001b[0m 11ms/step - loss: 0.0115 - root_mean_squared_error: 0.1066 - val_loss: 0.0089 - val_root_mean_squared_error: 0.0941\n",
      "Epoch 65/100\n",
      "\u001b[1m52/52\u001b[0m \u001b[32m━━━━━━━━━━━━━━━━━━━━\u001b[0m\u001b[37m\u001b[0m \u001b[1m1s\u001b[0m 11ms/step - loss: 0.0114 - root_mean_squared_error: 0.1063 - val_loss: 0.0089 - val_root_mean_squared_error: 0.0942\n",
      "Epoch 66/100\n",
      "\u001b[1m52/52\u001b[0m \u001b[32m━━━━━━━━━━━━━━━━━━━━\u001b[0m\u001b[37m\u001b[0m \u001b[1m1s\u001b[0m 10ms/step - loss: 0.0114 - root_mean_squared_error: 0.1060 - val_loss: 0.0089 - val_root_mean_squared_error: 0.0942\n",
      "Epoch 67/100\n",
      "\u001b[1m52/52\u001b[0m \u001b[32m━━━━━━━━━━━━━━━━━━━━\u001b[0m\u001b[37m\u001b[0m \u001b[1m1s\u001b[0m 11ms/step - loss: 0.0113 - root_mean_squared_error: 0.1057 - val_loss: 0.0089 - val_root_mean_squared_error: 0.0942\n",
      "Epoch 68/100\n",
      "\u001b[1m52/52\u001b[0m \u001b[32m━━━━━━━━━━━━━━━━━━━━\u001b[0m\u001b[37m\u001b[0m \u001b[1m1s\u001b[0m 11ms/step - loss: 0.0113 - root_mean_squared_error: 0.1054 - val_loss: 0.0089 - val_root_mean_squared_error: 0.0943\n",
      "Epoch 69/100\n",
      "\u001b[1m52/52\u001b[0m \u001b[32m━━━━━━━━━━━━━━━━━━━━\u001b[0m\u001b[37m\u001b[0m \u001b[1m1s\u001b[0m 11ms/step - loss: 0.0112 - root_mean_squared_error: 0.1051 - val_loss: 0.0089 - val_root_mean_squared_error: 0.0943\n",
      "Epoch 70/100\n",
      "\u001b[1m52/52\u001b[0m \u001b[32m━━━━━━━━━━━━━━━━━━━━\u001b[0m\u001b[37m\u001b[0m \u001b[1m1s\u001b[0m 11ms/step - loss: 0.0111 - root_mean_squared_error: 0.1048 - val_loss: 0.0089 - val_root_mean_squared_error: 0.0942\n",
      "Epoch 71/100\n",
      "\u001b[1m52/52\u001b[0m \u001b[32m━━━━━━━━━━━━━━━━━━━━\u001b[0m\u001b[37m\u001b[0m \u001b[1m1s\u001b[0m 12ms/step - loss: 0.0111 - root_mean_squared_error: 0.1045 - val_loss: 0.0089 - val_root_mean_squared_error: 0.0942\n",
      "Epoch 72/100\n",
      "\u001b[1m52/52\u001b[0m \u001b[32m━━━━━━━━━━━━━━━━━━━━\u001b[0m\u001b[37m\u001b[0m \u001b[1m1s\u001b[0m 11ms/step - loss: 0.0110 - root_mean_squared_error: 0.1042 - val_loss: 0.0089 - val_root_mean_squared_error: 0.0941\n",
      "Epoch 73/100\n",
      "\u001b[1m52/52\u001b[0m \u001b[32m━━━━━━━━━━━━━━━━━━━━\u001b[0m\u001b[37m\u001b[0m \u001b[1m1s\u001b[0m 10ms/step - loss: 0.0109 - root_mean_squared_error: 0.1040 - val_loss: 0.0088 - val_root_mean_squared_error: 0.0940\n",
      "Epoch 74/100\n",
      "\u001b[1m52/52\u001b[0m \u001b[32m━━━━━━━━━━━━━━━━━━━━\u001b[0m\u001b[37m\u001b[0m \u001b[1m1s\u001b[0m 10ms/step - loss: 0.0109 - root_mean_squared_error: 0.1037 - val_loss: 0.0088 - val_root_mean_squared_error: 0.0939\n",
      "Epoch 75/100\n",
      "\u001b[1m52/52\u001b[0m \u001b[32m━━━━━━━━━━━━━━━━━━━━\u001b[0m\u001b[37m\u001b[0m \u001b[1m1s\u001b[0m 11ms/step - loss: 0.0108 - root_mean_squared_error: 0.1034 - val_loss: 0.0088 - val_root_mean_squared_error: 0.0937\n",
      "Epoch 76/100\n",
      "\u001b[1m52/52\u001b[0m \u001b[32m━━━━━━━━━━━━━━━━━━━━\u001b[0m\u001b[37m\u001b[0m \u001b[1m1s\u001b[0m 10ms/step - loss: 0.0108 - root_mean_squared_error: 0.1031 - val_loss: 0.0087 - val_root_mean_squared_error: 0.0935\n",
      "Epoch 77/100\n",
      "\u001b[1m52/52\u001b[0m \u001b[32m━━━━━━━━━━━━━━━━━━━━\u001b[0m\u001b[37m\u001b[0m \u001b[1m1s\u001b[0m 10ms/step - loss: 0.0107 - root_mean_squared_error: 0.1028 - val_loss: 0.0087 - val_root_mean_squared_error: 0.0933\n",
      "Epoch 78/100\n",
      "\u001b[1m52/52\u001b[0m \u001b[32m━━━━━━━━━━━━━━━━━━━━\u001b[0m\u001b[37m\u001b[0m \u001b[1m1s\u001b[0m 11ms/step - loss: 0.0106 - root_mean_squared_error: 0.1025 - val_loss: 0.0087 - val_root_mean_squared_error: 0.0930\n",
      "Epoch 79/100\n",
      "\u001b[1m52/52\u001b[0m \u001b[32m━━━━━━━━━━━━━━━━━━━━\u001b[0m\u001b[37m\u001b[0m \u001b[1m1s\u001b[0m 11ms/step - loss: 0.0106 - root_mean_squared_error: 0.1022 - val_loss: 0.0086 - val_root_mean_squared_error: 0.0927\n",
      "Epoch 80/100\n",
      "\u001b[1m52/52\u001b[0m \u001b[32m━━━━━━━━━━━━━━━━━━━━\u001b[0m\u001b[37m\u001b[0m \u001b[1m1s\u001b[0m 11ms/step - loss: 0.0105 - root_mean_squared_error: 0.1019 - val_loss: 0.0085 - val_root_mean_squared_error: 0.0924\n",
      "Epoch 81/100\n",
      "\u001b[1m52/52\u001b[0m \u001b[32m━━━━━━━━━━━━━━━━━━━━\u001b[0m\u001b[37m\u001b[0m \u001b[1m1s\u001b[0m 10ms/step - loss: 0.0104 - root_mean_squared_error: 0.1015 - val_loss: 0.0085 - val_root_mean_squared_error: 0.0921\n",
      "Epoch 82/100\n",
      "\u001b[1m52/52\u001b[0m \u001b[32m━━━━━━━━━━━━━━━━━━━━\u001b[0m\u001b[37m\u001b[0m \u001b[1m1s\u001b[0m 10ms/step - loss: 0.0104 - root_mean_squared_error: 0.1012 - val_loss: 0.0084 - val_root_mean_squared_error: 0.0917\n",
      "Epoch 83/100\n",
      "\u001b[1m52/52\u001b[0m \u001b[32m━━━━━━━━━━━━━━━━━━━━\u001b[0m\u001b[37m\u001b[0m \u001b[1m1s\u001b[0m 10ms/step - loss: 0.0103 - root_mean_squared_error: 0.1009 - val_loss: 0.0083 - val_root_mean_squared_error: 0.0913\n",
      "Epoch 84/100\n",
      "\u001b[1m52/52\u001b[0m \u001b[32m━━━━━━━━━━━━━━━━━━━━\u001b[0m\u001b[37m\u001b[0m \u001b[1m1s\u001b[0m 11ms/step - loss: 0.0102 - root_mean_squared_error: 0.1006 - val_loss: 0.0083 - val_root_mean_squared_error: 0.0909\n",
      "Epoch 85/100\n"
     ]
    },
    {
     "name": "stdout",
     "output_type": "stream",
     "text": [
      "\u001b[1m52/52\u001b[0m \u001b[32m━━━━━━━━━━━━━━━━━━━━\u001b[0m\u001b[37m\u001b[0m \u001b[1m1s\u001b[0m 10ms/step - loss: 0.0102 - root_mean_squared_error: 0.1002 - val_loss: 0.0082 - val_root_mean_squared_error: 0.0905\n",
      "Epoch 86/100\n",
      "\u001b[1m52/52\u001b[0m \u001b[32m━━━━━━━━━━━━━━━━━━━━\u001b[0m\u001b[37m\u001b[0m \u001b[1m1s\u001b[0m 11ms/step - loss: 0.0101 - root_mean_squared_error: 0.0999 - val_loss: 0.0081 - val_root_mean_squared_error: 0.0901\n",
      "Epoch 87/100\n",
      "\u001b[1m52/52\u001b[0m \u001b[32m━━━━━━━━━━━━━━━━━━━━\u001b[0m\u001b[37m\u001b[0m \u001b[1m1s\u001b[0m 11ms/step - loss: 0.0100 - root_mean_squared_error: 0.0995 - val_loss: 0.0080 - val_root_mean_squared_error: 0.0897\n",
      "Epoch 88/100\n",
      "\u001b[1m52/52\u001b[0m \u001b[32m━━━━━━━━━━━━━━━━━━━━\u001b[0m\u001b[37m\u001b[0m \u001b[1m1s\u001b[0m 11ms/step - loss: 0.0100 - root_mean_squared_error: 0.0992 - val_loss: 0.0080 - val_root_mean_squared_error: 0.0892\n",
      "Epoch 89/100\n",
      "\u001b[1m52/52\u001b[0m \u001b[32m━━━━━━━━━━━━━━━━━━━━\u001b[0m\u001b[37m\u001b[0m \u001b[1m1s\u001b[0m 10ms/step - loss: 0.0099 - root_mean_squared_error: 0.0989 - val_loss: 0.0079 - val_root_mean_squared_error: 0.0888\n",
      "Epoch 90/100\n",
      "\u001b[1m52/52\u001b[0m \u001b[32m━━━━━━━━━━━━━━━━━━━━\u001b[0m\u001b[37m\u001b[0m \u001b[1m1s\u001b[0m 10ms/step - loss: 0.0098 - root_mean_squared_error: 0.0985 - val_loss: 0.0078 - val_root_mean_squared_error: 0.0883\n",
      "Epoch 91/100\n",
      "\u001b[1m52/52\u001b[0m \u001b[32m━━━━━━━━━━━━━━━━━━━━\u001b[0m\u001b[37m\u001b[0m \u001b[1m1s\u001b[0m 10ms/step - loss: 0.0098 - root_mean_squared_error: 0.0982 - val_loss: 0.0077 - val_root_mean_squared_error: 0.0879\n",
      "Epoch 92/100\n",
      "\u001b[1m52/52\u001b[0m \u001b[32m━━━━━━━━━━━━━━━━━━━━\u001b[0m\u001b[37m\u001b[0m \u001b[1m1s\u001b[0m 10ms/step - loss: 0.0097 - root_mean_squared_error: 0.0978 - val_loss: 0.0076 - val_root_mean_squared_error: 0.0875\n",
      "Epoch 93/100\n",
      "\u001b[1m52/52\u001b[0m \u001b[32m━━━━━━━━━━━━━━━━━━━━\u001b[0m\u001b[37m\u001b[0m \u001b[1m1s\u001b[0m 11ms/step - loss: 0.0096 - root_mean_squared_error: 0.0975 - val_loss: 0.0076 - val_root_mean_squared_error: 0.0870\n",
      "Epoch 94/100\n",
      "\u001b[1m52/52\u001b[0m \u001b[32m━━━━━━━━━━━━━━━━━━━━\u001b[0m\u001b[37m\u001b[0m \u001b[1m1s\u001b[0m 11ms/step - loss: 0.0096 - root_mean_squared_error: 0.0972 - val_loss: 0.0075 - val_root_mean_squared_error: 0.0866\n",
      "Epoch 95/100\n",
      "\u001b[1m52/52\u001b[0m \u001b[32m━━━━━━━━━━━━━━━━━━━━\u001b[0m\u001b[37m\u001b[0m \u001b[1m1s\u001b[0m 10ms/step - loss: 0.0095 - root_mean_squared_error: 0.0968 - val_loss: 0.0074 - val_root_mean_squared_error: 0.0862\n",
      "Epoch 96/100\n",
      "\u001b[1m52/52\u001b[0m \u001b[32m━━━━━━━━━━━━━━━━━━━━\u001b[0m\u001b[37m\u001b[0m \u001b[1m1s\u001b[0m 10ms/step - loss: 0.0094 - root_mean_squared_error: 0.0965 - val_loss: 0.0073 - val_root_mean_squared_error: 0.0857\n",
      "Epoch 97/100\n",
      "\u001b[1m52/52\u001b[0m \u001b[32m━━━━━━━━━━━━━━━━━━━━\u001b[0m\u001b[37m\u001b[0m \u001b[1m1s\u001b[0m 10ms/step - loss: 0.0094 - root_mean_squared_error: 0.0961 - val_loss: 0.0073 - val_root_mean_squared_error: 0.0853\n",
      "Epoch 98/100\n",
      "\u001b[1m52/52\u001b[0m \u001b[32m━━━━━━━━━━━━━━━━━━━━\u001b[0m\u001b[37m\u001b[0m \u001b[1m1s\u001b[0m 10ms/step - loss: 0.0093 - root_mean_squared_error: 0.0958 - val_loss: 0.0072 - val_root_mean_squared_error: 0.0849\n",
      "Epoch 99/100\n",
      "\u001b[1m52/52\u001b[0m \u001b[32m━━━━━━━━━━━━━━━━━━━━\u001b[0m\u001b[37m\u001b[0m \u001b[1m1s\u001b[0m 10ms/step - loss: 0.0092 - root_mean_squared_error: 0.0954 - val_loss: 0.0071 - val_root_mean_squared_error: 0.0844\n",
      "Epoch 100/100\n",
      "\u001b[1m52/52\u001b[0m \u001b[32m━━━━━━━━━━━━━━━━━━━━\u001b[0m\u001b[37m\u001b[0m \u001b[1m1s\u001b[0m 10ms/step - loss: 0.0091 - root_mean_squared_error: 0.0951 - val_loss: 0.0071 - val_root_mean_squared_error: 0.0840\n"
     ]
    }
   ],
   "source": [
    "#Train the model\n",
    "history=m.fit(X_train,y_train,validation_split=0.2, epochs=100 ,batch_size=32)"
   ]
  },
  {
   "cell_type": "code",
   "execution_count": 55,
   "id": "46d41d04",
   "metadata": {},
   "outputs": [
    {
     "name": "stdout",
     "output_type": "stream",
     "text": [
      "\u001b[1m65/65\u001b[0m \u001b[32m━━━━━━━━━━━━━━━━━━━━\u001b[0m\u001b[37m\u001b[0m \u001b[1m1s\u001b[0m 7ms/step\n"
     ]
    }
   ],
   "source": [
    "# Predict the train set\n",
    "train_p=m.predict(X_train).flatten()"
   ]
  },
  {
   "cell_type": "code",
   "execution_count": 56,
   "id": "d1cef3a1",
   "metadata": {},
   "outputs": [
    {
     "name": "stdout",
     "output_type": "stream",
     "text": [
      "\u001b[1m1/1\u001b[0m \u001b[32m━━━━━━━━━━━━━━━━━━━━\u001b[0m\u001b[37m\u001b[0m \u001b[1m0s\u001b[0m 63ms/step\n",
      "\u001b[1m1/1\u001b[0m \u001b[32m━━━━━━━━━━━━━━━━━━━━\u001b[0m\u001b[37m\u001b[0m \u001b[1m0s\u001b[0m 49ms/step\n"
     ]
    },
    {
     "name": "stderr",
     "output_type": "stream",
     "text": [
      "C:\\Users\\loic\\AppData\\Local\\Temp\\ipykernel_6660\\2272936751.py:7: DeprecationWarning: Conversion of an array with ndim > 0 to a scalar is deprecated, and will error in future. Ensure you extract a single element from your array before performing this operation. (Deprecated NumPy 1.25.)\n",
      "  test_p[i] = pred[0]\n",
      "C:\\Users\\loic\\AppData\\Local\\Temp\\ipykernel_6660\\2272936751.py:9: DeprecationWarning: Conversion of an array with ndim > 0 to a scalar is deprecated, and will error in future. Ensure you extract a single element from your array before performing this operation. (Deprecated NumPy 1.25.)\n",
      "  m_input[0,-1,0] = pred[0]\n"
     ]
    },
    {
     "name": "stdout",
     "output_type": "stream",
     "text": [
      "\u001b[1m1/1\u001b[0m \u001b[32m━━━━━━━━━━━━━━━━━━━━\u001b[0m\u001b[37m\u001b[0m \u001b[1m0s\u001b[0m 47ms/step\n",
      "\u001b[1m1/1\u001b[0m \u001b[32m━━━━━━━━━━━━━━━━━━━━\u001b[0m\u001b[37m\u001b[0m \u001b[1m0s\u001b[0m 31ms/step\n",
      "\u001b[1m1/1\u001b[0m \u001b[32m━━━━━━━━━━━━━━━━━━━━\u001b[0m\u001b[37m\u001b[0m \u001b[1m0s\u001b[0m 31ms/step\n",
      "\u001b[1m1/1\u001b[0m \u001b[32m━━━━━━━━━━━━━━━━━━━━\u001b[0m\u001b[37m\u001b[0m \u001b[1m0s\u001b[0m 16ms/step\n",
      "\u001b[1m1/1\u001b[0m \u001b[32m━━━━━━━━━━━━━━━━━━━━\u001b[0m\u001b[37m\u001b[0m \u001b[1m0s\u001b[0m 38ms/step\n",
      "\u001b[1m1/1\u001b[0m \u001b[32m━━━━━━━━━━━━━━━━━━━━\u001b[0m\u001b[37m\u001b[0m \u001b[1m0s\u001b[0m 43ms/step\n",
      "\u001b[1m1/1\u001b[0m \u001b[32m━━━━━━━━━━━━━━━━━━━━\u001b[0m\u001b[37m\u001b[0m \u001b[1m0s\u001b[0m 48ms/step\n",
      "\u001b[1m1/1\u001b[0m \u001b[32m━━━━━━━━━━━━━━━━━━━━\u001b[0m\u001b[37m\u001b[0m \u001b[1m0s\u001b[0m 31ms/step\n",
      "\u001b[1m1/1\u001b[0m \u001b[32m━━━━━━━━━━━━━━━━━━━━\u001b[0m\u001b[37m\u001b[0m \u001b[1m0s\u001b[0m 31ms/step\n",
      "\u001b[1m1/1\u001b[0m \u001b[32m━━━━━━━━━━━━━━━━━━━━\u001b[0m\u001b[37m\u001b[0m \u001b[1m0s\u001b[0m 30ms/step\n",
      "\u001b[1m1/1\u001b[0m \u001b[32m━━━━━━━━━━━━━━━━━━━━\u001b[0m\u001b[37m\u001b[0m \u001b[1m0s\u001b[0m 45ms/step\n",
      "\u001b[1m1/1\u001b[0m \u001b[32m━━━━━━━━━━━━━━━━━━━━\u001b[0m\u001b[37m\u001b[0m \u001b[1m0s\u001b[0m 41ms/step\n",
      "\u001b[1m1/1\u001b[0m \u001b[32m━━━━━━━━━━━━━━━━━━━━\u001b[0m\u001b[37m\u001b[0m \u001b[1m0s\u001b[0m 32ms/step\n",
      "\u001b[1m1/1\u001b[0m \u001b[32m━━━━━━━━━━━━━━━━━━━━\u001b[0m\u001b[37m\u001b[0m \u001b[1m0s\u001b[0m 16ms/step\n",
      "\u001b[1m1/1\u001b[0m \u001b[32m━━━━━━━━━━━━━━━━━━━━\u001b[0m\u001b[37m\u001b[0m \u001b[1m0s\u001b[0m 32ms/step\n",
      "\u001b[1m1/1\u001b[0m \u001b[32m━━━━━━━━━━━━━━━━━━━━\u001b[0m\u001b[37m\u001b[0m \u001b[1m0s\u001b[0m 31ms/step\n",
      "\u001b[1m1/1\u001b[0m \u001b[32m━━━━━━━━━━━━━━━━━━━━\u001b[0m\u001b[37m\u001b[0m \u001b[1m0s\u001b[0m 31ms/step\n",
      "\u001b[1m1/1\u001b[0m \u001b[32m━━━━━━━━━━━━━━━━━━━━\u001b[0m\u001b[37m\u001b[0m \u001b[1m0s\u001b[0m 31ms/step\n"
     ]
    }
   ],
   "source": [
    "# Generate 20 forecasts\n",
    "ntest = X_test.shape[0]\n",
    "m_input = X_train[-1:]\n",
    "test_p = np.zeros(ntest)\n",
    "for i in range(ntest):\n",
    "    pred = m.predict(m_input)\n",
    "    test_p[i] = pred[0]\n",
    "    m_input = np.roll(m_input, -1)\n",
    "    m_input[0,-1,0] = pred[0]"
   ]
  },
  {
   "cell_type": "code",
   "execution_count": 57,
   "id": "cfdbf293",
   "metadata": {},
   "outputs": [],
   "source": [
    "# Save the results of the SSA-LSTM residuals\n",
    "train_p1=train_p\n",
    "test_p1=test_p"
   ]
  },
  {
   "cell_type": "markdown",
   "id": "094fc844",
   "metadata": {},
   "source": [
    "LSTM on the noice"
   ]
  },
  {
   "cell_type": "code",
   "execution_count": 58,
   "id": "ac5be5fd",
   "metadata": {},
   "outputs": [],
   "source": [
    "#prepare the data\n",
    "data_=data['res_lrf1']\n",
    "s=data_[:5]\n",
    "data_=pd.concat([s,data_])\n",
    "###\n",
    "window=5\n",
    "X,y=data_toX_y(data_,window)\n",
    "\n",
    "X_train,y_train= X[:2067],y[:2067]\n",
    "X_test,y_test= X[2067:],y[2067:]"
   ]
  },
  {
   "cell_type": "code",
   "execution_count": 59,
   "id": "dadf0818",
   "metadata": {},
   "outputs": [],
   "source": [
    "#Set the seed\n",
    "tf.keras.utils.set_random_seed(123)\n",
    "tf.config.experimental.enable_op_determinism()"
   ]
  },
  {
   "cell_type": "code",
   "execution_count": 60,
   "id": "dd977451",
   "metadata": {},
   "outputs": [],
   "source": [
    "# delete the previous model\n",
    "del m"
   ]
  },
  {
   "cell_type": "code",
   "execution_count": 61,
   "id": "aef24931",
   "metadata": {},
   "outputs": [
    {
     "data": {
      "text/html": [
       "<pre style=\"white-space:pre;overflow-x:auto;line-height:normal;font-family:Menlo,'DejaVu Sans Mono',consolas,'Courier New',monospace\"><span style=\"font-weight: bold\">Model: \"sequential_4\"</span>\n",
       "</pre>\n"
      ],
      "text/plain": [
       "\u001b[1mModel: \"sequential_4\"\u001b[0m\n"
      ]
     },
     "metadata": {},
     "output_type": "display_data"
    },
    {
     "data": {
      "text/html": [
       "<pre style=\"white-space:pre;overflow-x:auto;line-height:normal;font-family:Menlo,'DejaVu Sans Mono',consolas,'Courier New',monospace\">┏━━━━━━━━━━━━━━━━━━━━━━━━━━━━━━━━━━━━━━┳━━━━━━━━━━━━━━━━━━━━━━━━━━━━━┳━━━━━━━━━━━━━━━━━┓\n",
       "┃<span style=\"font-weight: bold\"> Layer (type)                         </span>┃<span style=\"font-weight: bold\"> Output Shape                </span>┃<span style=\"font-weight: bold\">         Param # </span>┃\n",
       "┡━━━━━━━━━━━━━━━━━━━━━━━━━━━━━━━━━━━━━━╇━━━━━━━━━━━━━━━━━━━━━━━━━━━━━╇━━━━━━━━━━━━━━━━━┩\n",
       "│ lstm_6 (<span style=\"color: #0087ff; text-decoration-color: #0087ff\">LSTM</span>)                        │ (<span style=\"color: #00d7ff; text-decoration-color: #00d7ff\">None</span>, <span style=\"color: #00af00; text-decoration-color: #00af00\">250</span>)                 │         <span style=\"color: #00af00; text-decoration-color: #00af00\">252,000</span> │\n",
       "├──────────────────────────────────────┼─────────────────────────────┼─────────────────┤\n",
       "│ dense_4 (<span style=\"color: #0087ff; text-decoration-color: #0087ff\">Dense</span>)                      │ (<span style=\"color: #00d7ff; text-decoration-color: #00d7ff\">None</span>, <span style=\"color: #00af00; text-decoration-color: #00af00\">1</span>)                   │             <span style=\"color: #00af00; text-decoration-color: #00af00\">251</span> │\n",
       "└──────────────────────────────────────┴─────────────────────────────┴─────────────────┘\n",
       "</pre>\n"
      ],
      "text/plain": [
       "┏━━━━━━━━━━━━━━━━━━━━━━━━━━━━━━━━━━━━━━┳━━━━━━━━━━━━━━━━━━━━━━━━━━━━━┳━━━━━━━━━━━━━━━━━┓\n",
       "┃\u001b[1m \u001b[0m\u001b[1mLayer (type)                        \u001b[0m\u001b[1m \u001b[0m┃\u001b[1m \u001b[0m\u001b[1mOutput Shape               \u001b[0m\u001b[1m \u001b[0m┃\u001b[1m \u001b[0m\u001b[1m        Param #\u001b[0m\u001b[1m \u001b[0m┃\n",
       "┡━━━━━━━━━━━━━━━━━━━━━━━━━━━━━━━━━━━━━━╇━━━━━━━━━━━━━━━━━━━━━━━━━━━━━╇━━━━━━━━━━━━━━━━━┩\n",
       "│ lstm_6 (\u001b[38;5;33mLSTM\u001b[0m)                        │ (\u001b[38;5;45mNone\u001b[0m, \u001b[38;5;34m250\u001b[0m)                 │         \u001b[38;5;34m252,000\u001b[0m │\n",
       "├──────────────────────────────────────┼─────────────────────────────┼─────────────────┤\n",
       "│ dense_4 (\u001b[38;5;33mDense\u001b[0m)                      │ (\u001b[38;5;45mNone\u001b[0m, \u001b[38;5;34m1\u001b[0m)                   │             \u001b[38;5;34m251\u001b[0m │\n",
       "└──────────────────────────────────────┴─────────────────────────────┴─────────────────┘\n"
      ]
     },
     "metadata": {},
     "output_type": "display_data"
    },
    {
     "data": {
      "text/html": [
       "<pre style=\"white-space:pre;overflow-x:auto;line-height:normal;font-family:Menlo,'DejaVu Sans Mono',consolas,'Courier New',monospace\"><span style=\"font-weight: bold\"> Total params: </span><span style=\"color: #00af00; text-decoration-color: #00af00\">252,251</span> (985.36 KB)\n",
       "</pre>\n"
      ],
      "text/plain": [
       "\u001b[1m Total params: \u001b[0m\u001b[38;5;34m252,251\u001b[0m (985.36 KB)\n"
      ]
     },
     "metadata": {},
     "output_type": "display_data"
    },
    {
     "data": {
      "text/html": [
       "<pre style=\"white-space:pre;overflow-x:auto;line-height:normal;font-family:Menlo,'DejaVu Sans Mono',consolas,'Courier New',monospace\"><span style=\"font-weight: bold\"> Trainable params: </span><span style=\"color: #00af00; text-decoration-color: #00af00\">252,251</span> (985.36 KB)\n",
       "</pre>\n"
      ],
      "text/plain": [
       "\u001b[1m Trainable params: \u001b[0m\u001b[38;5;34m252,251\u001b[0m (985.36 KB)\n"
      ]
     },
     "metadata": {},
     "output_type": "display_data"
    },
    {
     "data": {
      "text/html": [
       "<pre style=\"white-space:pre;overflow-x:auto;line-height:normal;font-family:Menlo,'DejaVu Sans Mono',consolas,'Courier New',monospace\"><span style=\"font-weight: bold\"> Non-trainable params: </span><span style=\"color: #00af00; text-decoration-color: #00af00\">0</span> (0.00 B)\n",
       "</pre>\n"
      ],
      "text/plain": [
       "\u001b[1m Non-trainable params: \u001b[0m\u001b[38;5;34m0\u001b[0m (0.00 B)\n"
      ]
     },
     "metadata": {},
     "output_type": "display_data"
    }
   ],
   "source": [
    "#LSTM Structure\n",
    "m=Sequential()\n",
    "m.add(InputLayer((5,1)))\n",
    "m.add(LSTM(250))\n",
    "m.add(Dense(1,'relu'))\n",
    "m.summary()"
   ]
  },
  {
   "cell_type": "code",
   "execution_count": 62,
   "id": "786d718c",
   "metadata": {},
   "outputs": [],
   "source": [
    "#Compile the model\n",
    "m.compile(loss=MeanSquaredError(),optimizer=\"Adam\",metrics=[RootMeanSquaredError()])"
   ]
  },
  {
   "cell_type": "code",
   "execution_count": 63,
   "id": "4215591c",
   "metadata": {},
   "outputs": [
    {
     "name": "stdout",
     "output_type": "stream",
     "text": [
      "Epoch 1/100\n",
      "\u001b[1m52/52\u001b[0m \u001b[32m━━━━━━━━━━━━━━━━━━━━\u001b[0m\u001b[37m\u001b[0m \u001b[1m3s\u001b[0m 18ms/step - loss: 0.0317 - root_mean_squared_error: 0.1781 - val_loss: 0.0259 - val_root_mean_squared_error: 0.1610\n",
      "Epoch 2/100\n",
      "\u001b[1m52/52\u001b[0m \u001b[32m━━━━━━━━━━━━━━━━━━━━\u001b[0m\u001b[37m\u001b[0m \u001b[1m1s\u001b[0m 12ms/step - loss: 0.0257 - root_mean_squared_error: 0.1601 - val_loss: 0.0245 - val_root_mean_squared_error: 0.1566\n",
      "Epoch 3/100\n",
      "\u001b[1m52/52\u001b[0m \u001b[32m━━━━━━━━━━━━━━━━━━━━\u001b[0m\u001b[37m\u001b[0m \u001b[1m1s\u001b[0m 11ms/step - loss: 0.0244 - root_mean_squared_error: 0.1562 - val_loss: 0.0240 - val_root_mean_squared_error: 0.1548\n",
      "Epoch 4/100\n",
      "\u001b[1m52/52\u001b[0m \u001b[32m━━━━━━━━━━━━━━━━━━━━\u001b[0m\u001b[37m\u001b[0m \u001b[1m1s\u001b[0m 10ms/step - loss: 0.0239 - root_mean_squared_error: 0.1545 - val_loss: 0.0238 - val_root_mean_squared_error: 0.1544\n",
      "Epoch 5/100\n",
      "\u001b[1m52/52\u001b[0m \u001b[32m━━━━━━━━━━━━━━━━━━━━\u001b[0m\u001b[37m\u001b[0m \u001b[1m1s\u001b[0m 10ms/step - loss: 0.0238 - root_mean_squared_error: 0.1540 - val_loss: 0.0238 - val_root_mean_squared_error: 0.1543\n",
      "Epoch 6/100\n",
      "\u001b[1m52/52\u001b[0m \u001b[32m━━━━━━━━━━━━━━━━━━━━\u001b[0m\u001b[37m\u001b[0m \u001b[1m1s\u001b[0m 10ms/step - loss: 0.0237 - root_mean_squared_error: 0.1539 - val_loss: 0.0238 - val_root_mean_squared_error: 0.1542\n",
      "Epoch 7/100\n",
      "\u001b[1m52/52\u001b[0m \u001b[32m━━━━━━━━━━━━━━━━━━━━\u001b[0m\u001b[37m\u001b[0m \u001b[1m1s\u001b[0m 10ms/step - loss: 0.0237 - root_mean_squared_error: 0.1539 - val_loss: 0.0238 - val_root_mean_squared_error: 0.1542\n",
      "Epoch 8/100\n",
      "\u001b[1m52/52\u001b[0m \u001b[32m━━━━━━━━━━━━━━━━━━━━\u001b[0m\u001b[37m\u001b[0m \u001b[1m1s\u001b[0m 10ms/step - loss: 0.0237 - root_mean_squared_error: 0.1538 - val_loss: 0.0238 - val_root_mean_squared_error: 0.1542\n",
      "Epoch 9/100\n",
      "\u001b[1m52/52\u001b[0m \u001b[32m━━━━━━━━━━━━━━━━━━━━\u001b[0m\u001b[37m\u001b[0m \u001b[1m1s\u001b[0m 11ms/step - loss: 0.0237 - root_mean_squared_error: 0.1538 - val_loss: 0.0238 - val_root_mean_squared_error: 0.1542\n",
      "Epoch 10/100\n",
      "\u001b[1m52/52\u001b[0m \u001b[32m━━━━━━━━━━━━━━━━━━━━\u001b[0m\u001b[37m\u001b[0m \u001b[1m1s\u001b[0m 10ms/step - loss: 0.0237 - root_mean_squared_error: 0.1538 - val_loss: 0.0238 - val_root_mean_squared_error: 0.1542\n",
      "Epoch 11/100\n",
      "\u001b[1m52/52\u001b[0m \u001b[32m━━━━━━━━━━━━━━━━━━━━\u001b[0m\u001b[37m\u001b[0m \u001b[1m1s\u001b[0m 10ms/step - loss: 0.0237 - root_mean_squared_error: 0.1538 - val_loss: 0.0238 - val_root_mean_squared_error: 0.1542\n",
      "Epoch 12/100\n",
      "\u001b[1m52/52\u001b[0m \u001b[32m━━━━━━━━━━━━━━━━━━━━\u001b[0m\u001b[37m\u001b[0m \u001b[1m1s\u001b[0m 10ms/step - loss: 0.0237 - root_mean_squared_error: 0.1537 - val_loss: 0.0238 - val_root_mean_squared_error: 0.1542\n",
      "Epoch 13/100\n",
      "\u001b[1m52/52\u001b[0m \u001b[32m━━━━━━━━━━━━━━━━━━━━\u001b[0m\u001b[37m\u001b[0m \u001b[1m1s\u001b[0m 11ms/step - loss: 0.0237 - root_mean_squared_error: 0.1537 - val_loss: 0.0238 - val_root_mean_squared_error: 0.1542\n",
      "Epoch 14/100\n",
      "\u001b[1m52/52\u001b[0m \u001b[32m━━━━━━━━━━━━━━━━━━━━\u001b[0m\u001b[37m\u001b[0m \u001b[1m1s\u001b[0m 10ms/step - loss: 0.0237 - root_mean_squared_error: 0.1537 - val_loss: 0.0238 - val_root_mean_squared_error: 0.1541\n",
      "Epoch 15/100\n",
      "\u001b[1m52/52\u001b[0m \u001b[32m━━━━━━━━━━━━━━━━━━━━\u001b[0m\u001b[37m\u001b[0m \u001b[1m1s\u001b[0m 11ms/step - loss: 0.0237 - root_mean_squared_error: 0.1536 - val_loss: 0.0237 - val_root_mean_squared_error: 0.1541\n",
      "Epoch 16/100\n",
      "\u001b[1m52/52\u001b[0m \u001b[32m━━━━━━━━━━━━━━━━━━━━\u001b[0m\u001b[37m\u001b[0m \u001b[1m1s\u001b[0m 9ms/step - loss: 0.0237 - root_mean_squared_error: 0.1536 - val_loss: 0.0237 - val_root_mean_squared_error: 0.1541\n",
      "Epoch 17/100\n",
      "\u001b[1m52/52\u001b[0m \u001b[32m━━━━━━━━━━━━━━━━━━━━\u001b[0m\u001b[37m\u001b[0m \u001b[1m1s\u001b[0m 10ms/step - loss: 0.0237 - root_mean_squared_error: 0.1537 - val_loss: 0.0237 - val_root_mean_squared_error: 0.1540\n",
      "Epoch 18/100\n",
      "\u001b[1m52/52\u001b[0m \u001b[32m━━━━━━━━━━━━━━━━━━━━\u001b[0m\u001b[37m\u001b[0m \u001b[1m1s\u001b[0m 10ms/step - loss: 0.0237 - root_mean_squared_error: 0.1536 - val_loss: 0.0237 - val_root_mean_squared_error: 0.1540\n",
      "Epoch 19/100\n",
      "\u001b[1m52/52\u001b[0m \u001b[32m━━━━━━━━━━━━━━━━━━━━\u001b[0m\u001b[37m\u001b[0m \u001b[1m1s\u001b[0m 10ms/step - loss: 0.0236 - root_mean_squared_error: 0.1536 - val_loss: 0.0237 - val_root_mean_squared_error: 0.1540\n",
      "Epoch 20/100\n",
      "\u001b[1m52/52\u001b[0m \u001b[32m━━━━━━━━━━━━━━━━━━━━\u001b[0m\u001b[37m\u001b[0m \u001b[1m1s\u001b[0m 10ms/step - loss: 0.0236 - root_mean_squared_error: 0.1536 - val_loss: 0.0237 - val_root_mean_squared_error: 0.1540\n",
      "Epoch 21/100\n",
      "\u001b[1m52/52\u001b[0m \u001b[32m━━━━━━━━━━━━━━━━━━━━\u001b[0m\u001b[37m\u001b[0m \u001b[1m1s\u001b[0m 10ms/step - loss: 0.0236 - root_mean_squared_error: 0.1535 - val_loss: 0.0237 - val_root_mean_squared_error: 0.1539\n",
      "Epoch 22/100\n",
      "\u001b[1m52/52\u001b[0m \u001b[32m━━━━━━━━━━━━━━━━━━━━\u001b[0m\u001b[37m\u001b[0m \u001b[1m1s\u001b[0m 10ms/step - loss: 0.0236 - root_mean_squared_error: 0.1535 - val_loss: 0.0237 - val_root_mean_squared_error: 0.1538\n",
      "Epoch 23/100\n",
      "\u001b[1m52/52\u001b[0m \u001b[32m━━━━━━━━━━━━━━━━━━━━\u001b[0m\u001b[37m\u001b[0m \u001b[1m1s\u001b[0m 11ms/step - loss: 0.0236 - root_mean_squared_error: 0.1534 - val_loss: 0.0237 - val_root_mean_squared_error: 0.1538\n",
      "Epoch 24/100\n",
      "\u001b[1m52/52\u001b[0m \u001b[32m━━━━━━━━━━━━━━━━━━━━\u001b[0m\u001b[37m\u001b[0m \u001b[1m1s\u001b[0m 11ms/step - loss: 0.0236 - root_mean_squared_error: 0.1534 - val_loss: 0.0237 - val_root_mean_squared_error: 0.1538\n",
      "Epoch 25/100\n",
      "\u001b[1m52/52\u001b[0m \u001b[32m━━━━━━━━━━━━━━━━━━━━\u001b[0m\u001b[37m\u001b[0m \u001b[1m1s\u001b[0m 10ms/step - loss: 0.0236 - root_mean_squared_error: 0.1534 - val_loss: 0.0236 - val_root_mean_squared_error: 0.1538\n",
      "Epoch 26/100\n",
      "\u001b[1m52/52\u001b[0m \u001b[32m━━━━━━━━━━━━━━━━━━━━\u001b[0m\u001b[37m\u001b[0m \u001b[1m1s\u001b[0m 10ms/step - loss: 0.0236 - root_mean_squared_error: 0.1534 - val_loss: 0.0236 - val_root_mean_squared_error: 0.1537\n",
      "Epoch 27/100\n",
      "\u001b[1m52/52\u001b[0m \u001b[32m━━━━━━━━━━━━━━━━━━━━\u001b[0m\u001b[37m\u001b[0m \u001b[1m1s\u001b[0m 10ms/step - loss: 0.0236 - root_mean_squared_error: 0.1533 - val_loss: 0.0236 - val_root_mean_squared_error: 0.1538\n",
      "Epoch 28/100\n",
      "\u001b[1m52/52\u001b[0m \u001b[32m━━━━━━━━━━━━━━━━━━━━\u001b[0m\u001b[37m\u001b[0m \u001b[1m1s\u001b[0m 10ms/step - loss: 0.0236 - root_mean_squared_error: 0.1533 - val_loss: 0.0236 - val_root_mean_squared_error: 0.1538\n",
      "Epoch 29/100\n",
      "\u001b[1m52/52\u001b[0m \u001b[32m━━━━━━━━━━━━━━━━━━━━\u001b[0m\u001b[37m\u001b[0m \u001b[1m1s\u001b[0m 10ms/step - loss: 0.0235 - root_mean_squared_error: 0.1533 - val_loss: 0.0236 - val_root_mean_squared_error: 0.1538\n",
      "Epoch 30/100\n",
      "\u001b[1m52/52\u001b[0m \u001b[32m━━━━━━━━━━━━━━━━━━━━\u001b[0m\u001b[37m\u001b[0m \u001b[1m1s\u001b[0m 10ms/step - loss: 0.0235 - root_mean_squared_error: 0.1533 - val_loss: 0.0236 - val_root_mean_squared_error: 0.1537\n",
      "Epoch 31/100\n",
      "\u001b[1m52/52\u001b[0m \u001b[32m━━━━━━━━━━━━━━━━━━━━\u001b[0m\u001b[37m\u001b[0m \u001b[1m1s\u001b[0m 11ms/step - loss: 0.0235 - root_mean_squared_error: 0.1532 - val_loss: 0.0236 - val_root_mean_squared_error: 0.1537\n",
      "Epoch 32/100\n",
      "\u001b[1m52/52\u001b[0m \u001b[32m━━━━━━━━━━━━━━━━━━━━\u001b[0m\u001b[37m\u001b[0m \u001b[1m1s\u001b[0m 10ms/step - loss: 0.0235 - root_mean_squared_error: 0.1532 - val_loss: 0.0236 - val_root_mean_squared_error: 0.1536\n",
      "Epoch 33/100\n",
      "\u001b[1m52/52\u001b[0m \u001b[32m━━━━━━━━━━━━━━━━━━━━\u001b[0m\u001b[37m\u001b[0m \u001b[1m1s\u001b[0m 10ms/step - loss: 0.0235 - root_mean_squared_error: 0.1531 - val_loss: 0.0236 - val_root_mean_squared_error: 0.1535\n",
      "Epoch 34/100\n",
      "\u001b[1m52/52\u001b[0m \u001b[32m━━━━━━━━━━━━━━━━━━━━\u001b[0m\u001b[37m\u001b[0m \u001b[1m1s\u001b[0m 11ms/step - loss: 0.0235 - root_mean_squared_error: 0.1531 - val_loss: 0.0236 - val_root_mean_squared_error: 0.1535\n",
      "Epoch 35/100\n",
      "\u001b[1m52/52\u001b[0m \u001b[32m━━━━━━━━━━━━━━━━━━━━\u001b[0m\u001b[37m\u001b[0m \u001b[1m1s\u001b[0m 10ms/step - loss: 0.0235 - root_mean_squared_error: 0.1531 - val_loss: 0.0236 - val_root_mean_squared_error: 0.1535\n",
      "Epoch 36/100\n",
      "\u001b[1m52/52\u001b[0m \u001b[32m━━━━━━━━━━━━━━━━━━━━\u001b[0m\u001b[37m\u001b[0m \u001b[1m1s\u001b[0m 11ms/step - loss: 0.0235 - root_mean_squared_error: 0.1530 - val_loss: 0.0236 - val_root_mean_squared_error: 0.1536\n",
      "Epoch 37/100\n",
      "\u001b[1m52/52\u001b[0m \u001b[32m━━━━━━━━━━━━━━━━━━━━\u001b[0m\u001b[37m\u001b[0m \u001b[1m1s\u001b[0m 10ms/step - loss: 0.0235 - root_mean_squared_error: 0.1530 - val_loss: 0.0236 - val_root_mean_squared_error: 0.1536\n",
      "Epoch 38/100\n",
      "\u001b[1m52/52\u001b[0m \u001b[32m━━━━━━━━━━━━━━━━━━━━\u001b[0m\u001b[37m\u001b[0m \u001b[1m1s\u001b[0m 11ms/step - loss: 0.0234 - root_mean_squared_error: 0.1529 - val_loss: 0.0236 - val_root_mean_squared_error: 0.1535\n",
      "Epoch 39/100\n",
      "\u001b[1m52/52\u001b[0m \u001b[32m━━━━━━━━━━━━━━━━━━━━\u001b[0m\u001b[37m\u001b[0m \u001b[1m1s\u001b[0m 10ms/step - loss: 0.0234 - root_mean_squared_error: 0.1529 - val_loss: 0.0236 - val_root_mean_squared_error: 0.1536\n",
      "Epoch 40/100\n",
      "\u001b[1m52/52\u001b[0m \u001b[32m━━━━━━━━━━━━━━━━━━━━\u001b[0m\u001b[37m\u001b[0m \u001b[1m1s\u001b[0m 11ms/step - loss: 0.0234 - root_mean_squared_error: 0.1528 - val_loss: 0.0236 - val_root_mean_squared_error: 0.1536\n",
      "Epoch 41/100\n",
      "\u001b[1m52/52\u001b[0m \u001b[32m━━━━━━━━━━━━━━━━━━━━\u001b[0m\u001b[37m\u001b[0m \u001b[1m1s\u001b[0m 10ms/step - loss: 0.0234 - root_mean_squared_error: 0.1528 - val_loss: 0.0236 - val_root_mean_squared_error: 0.1537\n",
      "Epoch 42/100\n",
      "\u001b[1m52/52\u001b[0m \u001b[32m━━━━━━━━━━━━━━━━━━━━\u001b[0m\u001b[37m\u001b[0m \u001b[1m1s\u001b[0m 11ms/step - loss: 0.0234 - root_mean_squared_error: 0.1528 - val_loss: 0.0236 - val_root_mean_squared_error: 0.1538\n",
      "Epoch 43/100\n",
      "\u001b[1m52/52\u001b[0m \u001b[32m━━━━━━━━━━━━━━━━━━━━\u001b[0m\u001b[37m\u001b[0m \u001b[1m1s\u001b[0m 10ms/step - loss: 0.0234 - root_mean_squared_error: 0.1528 - val_loss: 0.0237 - val_root_mean_squared_error: 0.1538\n",
      "Epoch 44/100\n",
      "\u001b[1m52/52\u001b[0m \u001b[32m━━━━━━━━━━━━━━━━━━━━\u001b[0m\u001b[37m\u001b[0m \u001b[1m1s\u001b[0m 11ms/step - loss: 0.0234 - root_mean_squared_error: 0.1527 - val_loss: 0.0237 - val_root_mean_squared_error: 0.1539\n",
      "Epoch 45/100\n",
      "\u001b[1m52/52\u001b[0m \u001b[32m━━━━━━━━━━━━━━━━━━━━\u001b[0m\u001b[37m\u001b[0m \u001b[1m1s\u001b[0m 11ms/step - loss: 0.0234 - root_mean_squared_error: 0.1527 - val_loss: 0.0237 - val_root_mean_squared_error: 0.1541\n",
      "Epoch 46/100\n",
      "\u001b[1m52/52\u001b[0m \u001b[32m━━━━━━━━━━━━━━━━━━━━\u001b[0m\u001b[37m\u001b[0m \u001b[1m1s\u001b[0m 12ms/step - loss: 0.0234 - root_mean_squared_error: 0.1527 - val_loss: 0.0238 - val_root_mean_squared_error: 0.1541\n",
      "Epoch 47/100\n",
      "\u001b[1m52/52\u001b[0m \u001b[32m━━━━━━━━━━━━━━━━━━━━\u001b[0m\u001b[37m\u001b[0m \u001b[1m1s\u001b[0m 10ms/step - loss: 0.0233 - root_mean_squared_error: 0.1526 - val_loss: 0.0238 - val_root_mean_squared_error: 0.1543\n",
      "Epoch 48/100\n",
      "\u001b[1m52/52\u001b[0m \u001b[32m━━━━━━━━━━━━━━━━━━━━\u001b[0m\u001b[37m\u001b[0m \u001b[1m1s\u001b[0m 10ms/step - loss: 0.0233 - root_mean_squared_error: 0.1524 - val_loss: 0.0238 - val_root_mean_squared_error: 0.1543\n",
      "Epoch 49/100\n",
      "\u001b[1m52/52\u001b[0m \u001b[32m━━━━━━━━━━━━━━━━━━━━\u001b[0m\u001b[37m\u001b[0m \u001b[1m1s\u001b[0m 10ms/step - loss: 0.0233 - root_mean_squared_error: 0.1524 - val_loss: 0.0239 - val_root_mean_squared_error: 0.1545\n",
      "Epoch 50/100\n",
      "\u001b[1m52/52\u001b[0m \u001b[32m━━━━━━━━━━━━━━━━━━━━\u001b[0m\u001b[37m\u001b[0m \u001b[1m1s\u001b[0m 10ms/step - loss: 0.0233 - root_mean_squared_error: 0.1524 - val_loss: 0.0239 - val_root_mean_squared_error: 0.1546\n",
      "Epoch 51/100\n",
      "\u001b[1m52/52\u001b[0m \u001b[32m━━━━━━━━━━━━━━━━━━━━\u001b[0m\u001b[37m\u001b[0m \u001b[1m1s\u001b[0m 12ms/step - loss: 0.0232 - root_mean_squared_error: 0.1523 - val_loss: 0.0239 - val_root_mean_squared_error: 0.1546\n",
      "Epoch 52/100\n",
      "\u001b[1m52/52\u001b[0m \u001b[32m━━━━━━━━━━━━━━━━━━━━\u001b[0m\u001b[37m\u001b[0m \u001b[1m1s\u001b[0m 10ms/step - loss: 0.0232 - root_mean_squared_error: 0.1523 - val_loss: 0.0239 - val_root_mean_squared_error: 0.1547\n",
      "Epoch 53/100\n",
      "\u001b[1m52/52\u001b[0m \u001b[32m━━━━━━━━━━━━━━━━━━━━\u001b[0m\u001b[37m\u001b[0m \u001b[1m1s\u001b[0m 10ms/step - loss: 0.0232 - root_mean_squared_error: 0.1522 - val_loss: 0.0239 - val_root_mean_squared_error: 0.1546\n",
      "Epoch 54/100\n",
      "\u001b[1m52/52\u001b[0m \u001b[32m━━━━━━━━━━━━━━━━━━━━\u001b[0m\u001b[37m\u001b[0m \u001b[1m1s\u001b[0m 10ms/step - loss: 0.0232 - root_mean_squared_error: 0.1522 - val_loss: 0.0239 - val_root_mean_squared_error: 0.1547\n",
      "Epoch 55/100\n",
      "\u001b[1m52/52\u001b[0m \u001b[32m━━━━━━━━━━━━━━━━━━━━\u001b[0m\u001b[37m\u001b[0m \u001b[1m1s\u001b[0m 10ms/step - loss: 0.0232 - root_mean_squared_error: 0.1522 - val_loss: 0.0239 - val_root_mean_squared_error: 0.1547\n",
      "Epoch 56/100\n",
      "\u001b[1m52/52\u001b[0m \u001b[32m━━━━━━━━━━━━━━━━━━━━\u001b[0m\u001b[37m\u001b[0m \u001b[1m1s\u001b[0m 10ms/step - loss: 0.0232 - root_mean_squared_error: 0.1521 - val_loss: 0.0240 - val_root_mean_squared_error: 0.1548\n",
      "Epoch 57/100\n",
      "\u001b[1m52/52\u001b[0m \u001b[32m━━━━━━━━━━━━━━━━━━━━\u001b[0m\u001b[37m\u001b[0m \u001b[1m1s\u001b[0m 10ms/step - loss: 0.0232 - root_mean_squared_error: 0.1521 - val_loss: 0.0240 - val_root_mean_squared_error: 0.1550\n",
      "Epoch 58/100\n",
      "\u001b[1m52/52\u001b[0m \u001b[32m━━━━━━━━━━━━━━━━━━━━\u001b[0m\u001b[37m\u001b[0m \u001b[1m1s\u001b[0m 12ms/step - loss: 0.0232 - root_mean_squared_error: 0.1520 - val_loss: 0.0240 - val_root_mean_squared_error: 0.1549\n",
      "Epoch 59/100\n",
      "\u001b[1m52/52\u001b[0m \u001b[32m━━━━━━━━━━━━━━━━━━━━\u001b[0m\u001b[37m\u001b[0m \u001b[1m1s\u001b[0m 10ms/step - loss: 0.0231 - root_mean_squared_error: 0.1519 - val_loss: 0.0241 - val_root_mean_squared_error: 0.1552\n",
      "Epoch 60/100\n",
      "\u001b[1m52/52\u001b[0m \u001b[32m━━━━━━━━━━━━━━━━━━━━\u001b[0m\u001b[37m\u001b[0m \u001b[1m1s\u001b[0m 10ms/step - loss: 0.0231 - root_mean_squared_error: 0.1519 - val_loss: 0.0241 - val_root_mean_squared_error: 0.1551\n",
      "Epoch 61/100\n",
      "\u001b[1m52/52\u001b[0m \u001b[32m━━━━━━━━━━━━━━━━━━━━\u001b[0m\u001b[37m\u001b[0m \u001b[1m1s\u001b[0m 13ms/step - loss: 0.0231 - root_mean_squared_error: 0.1519 - val_loss: 0.0241 - val_root_mean_squared_error: 0.1552\n",
      "Epoch 62/100\n",
      "\u001b[1m52/52\u001b[0m \u001b[32m━━━━━━━━━━━━━━━━━━━━\u001b[0m\u001b[37m\u001b[0m \u001b[1m1s\u001b[0m 11ms/step - loss: 0.0231 - root_mean_squared_error: 0.1518 - val_loss: 0.0241 - val_root_mean_squared_error: 0.1552\n",
      "Epoch 63/100\n",
      "\u001b[1m52/52\u001b[0m \u001b[32m━━━━━━━━━━━━━━━━━━━━\u001b[0m\u001b[37m\u001b[0m \u001b[1m1s\u001b[0m 10ms/step - loss: 0.0231 - root_mean_squared_error: 0.1518 - val_loss: 0.0241 - val_root_mean_squared_error: 0.1552\n",
      "Epoch 64/100\n",
      "\u001b[1m52/52\u001b[0m \u001b[32m━━━━━━━━━━━━━━━━━━━━\u001b[0m\u001b[37m\u001b[0m \u001b[1m1s\u001b[0m 10ms/step - loss: 0.0231 - root_mean_squared_error: 0.1517 - val_loss: 0.0241 - val_root_mean_squared_error: 0.1553\n",
      "Epoch 65/100\n",
      "\u001b[1m52/52\u001b[0m \u001b[32m━━━━━━━━━━━━━━━━━━━━\u001b[0m\u001b[37m\u001b[0m \u001b[1m1s\u001b[0m 9ms/step - loss: 0.0231 - root_mean_squared_error: 0.1517 - val_loss: 0.0242 - val_root_mean_squared_error: 0.1555\n",
      "Epoch 66/100\n",
      "\u001b[1m52/52\u001b[0m \u001b[32m━━━━━━━━━━━━━━━━━━━━\u001b[0m\u001b[37m\u001b[0m \u001b[1m1s\u001b[0m 10ms/step - loss: 0.0231 - root_mean_squared_error: 0.1517 - val_loss: 0.0241 - val_root_mean_squared_error: 0.1553\n",
      "Epoch 67/100\n",
      "\u001b[1m52/52\u001b[0m \u001b[32m━━━━━━━━━━━━━━━━━━━━\u001b[0m\u001b[37m\u001b[0m \u001b[1m1s\u001b[0m 10ms/step - loss: 0.0230 - root_mean_squared_error: 0.1516 - val_loss: 0.0242 - val_root_mean_squared_error: 0.1554\n",
      "Epoch 68/100\n",
      "\u001b[1m52/52\u001b[0m \u001b[32m━━━━━━━━━━━━━━━━━━━━\u001b[0m\u001b[37m\u001b[0m \u001b[1m1s\u001b[0m 11ms/step - loss: 0.0230 - root_mean_squared_error: 0.1516 - val_loss: 0.0242 - val_root_mean_squared_error: 0.1554\n",
      "Epoch 69/100\n",
      "\u001b[1m52/52\u001b[0m \u001b[32m━━━━━━━━━━━━━━━━━━━━\u001b[0m\u001b[37m\u001b[0m \u001b[1m1s\u001b[0m 10ms/step - loss: 0.0230 - root_mean_squared_error: 0.1515 - val_loss: 0.0241 - val_root_mean_squared_error: 0.1553\n",
      "Epoch 70/100\n",
      "\u001b[1m52/52\u001b[0m \u001b[32m━━━━━━━━━━━━━━━━━━━━\u001b[0m\u001b[37m\u001b[0m \u001b[1m1s\u001b[0m 11ms/step - loss: 0.0230 - root_mean_squared_error: 0.1515 - val_loss: 0.0242 - val_root_mean_squared_error: 0.1555\n",
      "Epoch 71/100\n",
      "\u001b[1m52/52\u001b[0m \u001b[32m━━━━━━━━━━━━━━━━━━━━\u001b[0m\u001b[37m\u001b[0m \u001b[1m1s\u001b[0m 10ms/step - loss: 0.0230 - root_mean_squared_error: 0.1515 - val_loss: 0.0241 - val_root_mean_squared_error: 0.1554\n",
      "Epoch 72/100\n",
      "\u001b[1m52/52\u001b[0m \u001b[32m━━━━━━━━━━━━━━━━━━━━\u001b[0m\u001b[37m\u001b[0m \u001b[1m1s\u001b[0m 10ms/step - loss: 0.0230 - root_mean_squared_error: 0.1514 - val_loss: 0.0240 - val_root_mean_squared_error: 0.1551\n",
      "Epoch 73/100\n",
      "\u001b[1m52/52\u001b[0m \u001b[32m━━━━━━━━━━━━━━━━━━━━\u001b[0m\u001b[37m\u001b[0m \u001b[1m1s\u001b[0m 10ms/step - loss: 0.0230 - root_mean_squared_error: 0.1514 - val_loss: 0.0241 - val_root_mean_squared_error: 0.1553\n",
      "Epoch 74/100\n",
      "\u001b[1m52/52\u001b[0m \u001b[32m━━━━━━━━━━━━━━━━━━━━\u001b[0m\u001b[37m\u001b[0m \u001b[1m1s\u001b[0m 11ms/step - loss: 0.0230 - root_mean_squared_error: 0.1514 - val_loss: 0.0241 - val_root_mean_squared_error: 0.1552\n",
      "Epoch 75/100\n",
      "\u001b[1m52/52\u001b[0m \u001b[32m━━━━━━━━━━━━━━━━━━━━\u001b[0m\u001b[37m\u001b[0m \u001b[1m1s\u001b[0m 10ms/step - loss: 0.0230 - root_mean_squared_error: 0.1513 - val_loss: 0.0241 - val_root_mean_squared_error: 0.1552\n",
      "Epoch 76/100\n",
      "\u001b[1m52/52\u001b[0m \u001b[32m━━━━━━━━━━━━━━━━━━━━\u001b[0m\u001b[37m\u001b[0m \u001b[1m1s\u001b[0m 11ms/step - loss: 0.0229 - root_mean_squared_error: 0.1513 - val_loss: 0.0241 - val_root_mean_squared_error: 0.1552\n",
      "Epoch 77/100\n",
      "\u001b[1m52/52\u001b[0m \u001b[32m━━━━━━━━━━━━━━━━━━━━\u001b[0m\u001b[37m\u001b[0m \u001b[1m1s\u001b[0m 10ms/step - loss: 0.0229 - root_mean_squared_error: 0.1513 - val_loss: 0.0241 - val_root_mean_squared_error: 0.1552\n",
      "Epoch 78/100\n",
      "\u001b[1m52/52\u001b[0m \u001b[32m━━━━━━━━━━━━━━━━━━━━\u001b[0m\u001b[37m\u001b[0m \u001b[1m1s\u001b[0m 11ms/step - loss: 0.0229 - root_mean_squared_error: 0.1512 - val_loss: 0.0241 - val_root_mean_squared_error: 0.1552\n",
      "Epoch 79/100\n",
      "\u001b[1m52/52\u001b[0m \u001b[32m━━━━━━━━━━━━━━━━━━━━\u001b[0m\u001b[37m\u001b[0m \u001b[1m1s\u001b[0m 11ms/step - loss: 0.0229 - root_mean_squared_error: 0.1512 - val_loss: 0.0241 - val_root_mean_squared_error: 0.1553\n",
      "Epoch 80/100\n",
      "\u001b[1m52/52\u001b[0m \u001b[32m━━━━━━━━━━━━━━━━━━━━\u001b[0m\u001b[37m\u001b[0m \u001b[1m1s\u001b[0m 10ms/step - loss: 0.0229 - root_mean_squared_error: 0.1512 - val_loss: 0.0241 - val_root_mean_squared_error: 0.1553\n",
      "Epoch 81/100\n",
      "\u001b[1m52/52\u001b[0m \u001b[32m━━━━━━━━━━━━━━━━━━━━\u001b[0m\u001b[37m\u001b[0m \u001b[1m1s\u001b[0m 10ms/step - loss: 0.0229 - root_mean_squared_error: 0.1512 - val_loss: 0.0241 - val_root_mean_squared_error: 0.1552\n",
      "Epoch 82/100\n",
      "\u001b[1m52/52\u001b[0m \u001b[32m━━━━━━━━━━━━━━━━━━━━\u001b[0m\u001b[37m\u001b[0m \u001b[1m1s\u001b[0m 10ms/step - loss: 0.0229 - root_mean_squared_error: 0.1511 - val_loss: 0.0241 - val_root_mean_squared_error: 0.1553\n",
      "Epoch 83/100\n",
      "\u001b[1m52/52\u001b[0m \u001b[32m━━━━━━━━━━━━━━━━━━━━\u001b[0m\u001b[37m\u001b[0m \u001b[1m1s\u001b[0m 11ms/step - loss: 0.0229 - root_mean_squared_error: 0.1511 - val_loss: 0.0241 - val_root_mean_squared_error: 0.1552\n",
      "Epoch 84/100\n",
      "\u001b[1m52/52\u001b[0m \u001b[32m━━━━━━━━━━━━━━━━━━━━\u001b[0m\u001b[37m\u001b[0m \u001b[1m1s\u001b[0m 10ms/step - loss: 0.0229 - root_mean_squared_error: 0.1511 - val_loss: 0.0241 - val_root_mean_squared_error: 0.1552\n",
      "Epoch 85/100\n"
     ]
    },
    {
     "name": "stdout",
     "output_type": "stream",
     "text": [
      "\u001b[1m52/52\u001b[0m \u001b[32m━━━━━━━━━━━━━━━━━━━━\u001b[0m\u001b[37m\u001b[0m \u001b[1m1s\u001b[0m 11ms/step - loss: 0.0229 - root_mean_squared_error: 0.1511 - val_loss: 0.0241 - val_root_mean_squared_error: 0.1552\n",
      "Epoch 86/100\n",
      "\u001b[1m52/52\u001b[0m \u001b[32m━━━━━━━━━━━━━━━━━━━━\u001b[0m\u001b[37m\u001b[0m \u001b[1m1s\u001b[0m 11ms/step - loss: 0.0229 - root_mean_squared_error: 0.1510 - val_loss: 0.0241 - val_root_mean_squared_error: 0.1552\n",
      "Epoch 87/100\n",
      "\u001b[1m52/52\u001b[0m \u001b[32m━━━━━━━━━━━━━━━━━━━━\u001b[0m\u001b[37m\u001b[0m \u001b[1m1s\u001b[0m 12ms/step - loss: 0.0228 - root_mean_squared_error: 0.1510 - val_loss: 0.0241 - val_root_mean_squared_error: 0.1552\n",
      "Epoch 88/100\n",
      "\u001b[1m52/52\u001b[0m \u001b[32m━━━━━━━━━━━━━━━━━━━━\u001b[0m\u001b[37m\u001b[0m \u001b[1m1s\u001b[0m 10ms/step - loss: 0.0228 - root_mean_squared_error: 0.1509 - val_loss: 0.0241 - val_root_mean_squared_error: 0.1552\n",
      "Epoch 89/100\n",
      "\u001b[1m52/52\u001b[0m \u001b[32m━━━━━━━━━━━━━━━━━━━━\u001b[0m\u001b[37m\u001b[0m \u001b[1m1s\u001b[0m 10ms/step - loss: 0.0228 - root_mean_squared_error: 0.1509 - val_loss: 0.0241 - val_root_mean_squared_error: 0.1552\n",
      "Epoch 90/100\n",
      "\u001b[1m52/52\u001b[0m \u001b[32m━━━━━━━━━━━━━━━━━━━━\u001b[0m\u001b[37m\u001b[0m \u001b[1m1s\u001b[0m 10ms/step - loss: 0.0228 - root_mean_squared_error: 0.1509 - val_loss: 0.0241 - val_root_mean_squared_error: 0.1553\n",
      "Epoch 91/100\n",
      "\u001b[1m52/52\u001b[0m \u001b[32m━━━━━━━━━━━━━━━━━━━━\u001b[0m\u001b[37m\u001b[0m \u001b[1m1s\u001b[0m 10ms/step - loss: 0.0228 - root_mean_squared_error: 0.1508 - val_loss: 0.0241 - val_root_mean_squared_error: 0.1552\n",
      "Epoch 92/100\n",
      "\u001b[1m52/52\u001b[0m \u001b[32m━━━━━━━━━━━━━━━━━━━━\u001b[0m\u001b[37m\u001b[0m \u001b[1m1s\u001b[0m 10ms/step - loss: 0.0228 - root_mean_squared_error: 0.1508 - val_loss: 0.0241 - val_root_mean_squared_error: 0.1553\n",
      "Epoch 93/100\n",
      "\u001b[1m52/52\u001b[0m \u001b[32m━━━━━━━━━━━━━━━━━━━━\u001b[0m\u001b[37m\u001b[0m \u001b[1m1s\u001b[0m 10ms/step - loss: 0.0228 - root_mean_squared_error: 0.1509 - val_loss: 0.0241 - val_root_mean_squared_error: 0.1553\n",
      "Epoch 94/100\n",
      "\u001b[1m52/52\u001b[0m \u001b[32m━━━━━━━━━━━━━━━━━━━━\u001b[0m\u001b[37m\u001b[0m \u001b[1m1s\u001b[0m 11ms/step - loss: 0.0228 - root_mean_squared_error: 0.1508 - val_loss: 0.0242 - val_root_mean_squared_error: 0.1554\n",
      "Epoch 95/100\n",
      "\u001b[1m52/52\u001b[0m \u001b[32m━━━━━━━━━━━━━━━━━━━━\u001b[0m\u001b[37m\u001b[0m \u001b[1m1s\u001b[0m 11ms/step - loss: 0.0228 - root_mean_squared_error: 0.1508 - val_loss: 0.0242 - val_root_mean_squared_error: 0.1554\n",
      "Epoch 96/100\n",
      "\u001b[1m52/52\u001b[0m \u001b[32m━━━━━━━━━━━━━━━━━━━━\u001b[0m\u001b[37m\u001b[0m \u001b[1m1s\u001b[0m 12ms/step - loss: 0.0228 - root_mean_squared_error: 0.1508 - val_loss: 0.0242 - val_root_mean_squared_error: 0.1554\n",
      "Epoch 97/100\n",
      "\u001b[1m52/52\u001b[0m \u001b[32m━━━━━━━━━━━━━━━━━━━━\u001b[0m\u001b[37m\u001b[0m \u001b[1m1s\u001b[0m 11ms/step - loss: 0.0228 - root_mean_squared_error: 0.1508 - val_loss: 0.0242 - val_root_mean_squared_error: 0.1554\n",
      "Epoch 98/100\n",
      "\u001b[1m52/52\u001b[0m \u001b[32m━━━━━━━━━━━━━━━━━━━━\u001b[0m\u001b[37m\u001b[0m \u001b[1m1s\u001b[0m 11ms/step - loss: 0.0228 - root_mean_squared_error: 0.1507 - val_loss: 0.0242 - val_root_mean_squared_error: 0.1554\n",
      "Epoch 99/100\n",
      "\u001b[1m52/52\u001b[0m \u001b[32m━━━━━━━━━━━━━━━━━━━━\u001b[0m\u001b[37m\u001b[0m \u001b[1m1s\u001b[0m 12ms/step - loss: 0.0228 - root_mean_squared_error: 0.1507 - val_loss: 0.0242 - val_root_mean_squared_error: 0.1554\n",
      "Epoch 100/100\n",
      "\u001b[1m52/52\u001b[0m \u001b[32m━━━━━━━━━━━━━━━━━━━━\u001b[0m\u001b[37m\u001b[0m \u001b[1m1s\u001b[0m 12ms/step - loss: 0.0227 - root_mean_squared_error: 0.1506 - val_loss: 0.0242 - val_root_mean_squared_error: 0.1554\n"
     ]
    }
   ],
   "source": [
    "#Train the model\n",
    "history=m.fit(X_train,y_train,validation_split=0.2, epochs=100 ,batch_size=32)"
   ]
  },
  {
   "cell_type": "code",
   "execution_count": 64,
   "id": "f30f0c0c",
   "metadata": {},
   "outputs": [
    {
     "name": "stdout",
     "output_type": "stream",
     "text": [
      "\u001b[1m65/65\u001b[0m \u001b[32m━━━━━━━━━━━━━━━━━━━━\u001b[0m\u001b[37m\u001b[0m \u001b[1m1s\u001b[0m 7ms/step\n"
     ]
    }
   ],
   "source": [
    "# Predict the train set\n",
    "train_p=m.predict(X_train).flatten()"
   ]
  },
  {
   "cell_type": "code",
   "execution_count": 65,
   "id": "1132e583",
   "metadata": {},
   "outputs": [
    {
     "name": "stdout",
     "output_type": "stream",
     "text": [
      "\u001b[1m1/1\u001b[0m \u001b[32m━━━━━━━━━━━━━━━━━━━━\u001b[0m\u001b[37m\u001b[0m \u001b[1m0s\u001b[0m 63ms/step\n",
      "\u001b[1m1/1\u001b[0m \u001b[32m━━━━━━━━━━━━━━━━━━━━\u001b[0m\u001b[37m\u001b[0m \u001b[1m0s\u001b[0m 48ms/step\n"
     ]
    },
    {
     "name": "stderr",
     "output_type": "stream",
     "text": [
      "C:\\Users\\loic\\AppData\\Local\\Temp\\ipykernel_6660\\2272936751.py:7: DeprecationWarning: Conversion of an array with ndim > 0 to a scalar is deprecated, and will error in future. Ensure you extract a single element from your array before performing this operation. (Deprecated NumPy 1.25.)\n",
      "  test_p[i] = pred[0]\n",
      "C:\\Users\\loic\\AppData\\Local\\Temp\\ipykernel_6660\\2272936751.py:9: DeprecationWarning: Conversion of an array with ndim > 0 to a scalar is deprecated, and will error in future. Ensure you extract a single element from your array before performing this operation. (Deprecated NumPy 1.25.)\n",
      "  m_input[0,-1,0] = pred[0]\n"
     ]
    },
    {
     "name": "stdout",
     "output_type": "stream",
     "text": [
      "\u001b[1m1/1\u001b[0m \u001b[32m━━━━━━━━━━━━━━━━━━━━\u001b[0m\u001b[37m\u001b[0m \u001b[1m0s\u001b[0m 47ms/step\n",
      "\u001b[1m1/1\u001b[0m \u001b[32m━━━━━━━━━━━━━━━━━━━━\u001b[0m\u001b[37m\u001b[0m \u001b[1m0s\u001b[0m 31ms/step\n",
      "\u001b[1m1/1\u001b[0m \u001b[32m━━━━━━━━━━━━━━━━━━━━\u001b[0m\u001b[37m\u001b[0m \u001b[1m0s\u001b[0m 31ms/step\n",
      "\u001b[1m1/1\u001b[0m \u001b[32m━━━━━━━━━━━━━━━━━━━━\u001b[0m\u001b[37m\u001b[0m \u001b[1m0s\u001b[0m 47ms/step\n",
      "\u001b[1m1/1\u001b[0m \u001b[32m━━━━━━━━━━━━━━━━━━━━\u001b[0m\u001b[37m\u001b[0m \u001b[1m0s\u001b[0m 47ms/step\n",
      "\u001b[1m1/1\u001b[0m \u001b[32m━━━━━━━━━━━━━━━━━━━━\u001b[0m\u001b[37m\u001b[0m \u001b[1m0s\u001b[0m 47ms/step\n",
      "\u001b[1m1/1\u001b[0m \u001b[32m━━━━━━━━━━━━━━━━━━━━\u001b[0m\u001b[37m\u001b[0m \u001b[1m0s\u001b[0m 33ms/step\n",
      "\u001b[1m1/1\u001b[0m \u001b[32m━━━━━━━━━━━━━━━━━━━━\u001b[0m\u001b[37m\u001b[0m \u001b[1m0s\u001b[0m 31ms/step\n",
      "\u001b[1m1/1\u001b[0m \u001b[32m━━━━━━━━━━━━━━━━━━━━\u001b[0m\u001b[37m\u001b[0m \u001b[1m0s\u001b[0m 32ms/step\n",
      "\u001b[1m1/1\u001b[0m \u001b[32m━━━━━━━━━━━━━━━━━━━━\u001b[0m\u001b[37m\u001b[0m \u001b[1m0s\u001b[0m 34ms/step\n",
      "\u001b[1m1/1\u001b[0m \u001b[32m━━━━━━━━━━━━━━━━━━━━\u001b[0m\u001b[37m\u001b[0m \u001b[1m0s\u001b[0m 63ms/step\n",
      "\u001b[1m1/1\u001b[0m \u001b[32m━━━━━━━━━━━━━━━━━━━━\u001b[0m\u001b[37m\u001b[0m \u001b[1m0s\u001b[0m 31ms/step\n",
      "\u001b[1m1/1\u001b[0m \u001b[32m━━━━━━━━━━━━━━━━━━━━\u001b[0m\u001b[37m\u001b[0m \u001b[1m0s\u001b[0m 32ms/step\n",
      "\u001b[1m1/1\u001b[0m \u001b[32m━━━━━━━━━━━━━━━━━━━━\u001b[0m\u001b[37m\u001b[0m \u001b[1m0s\u001b[0m 31ms/step\n",
      "\u001b[1m1/1\u001b[0m \u001b[32m━━━━━━━━━━━━━━━━━━━━\u001b[0m\u001b[37m\u001b[0m \u001b[1m0s\u001b[0m 31ms/step\n",
      "\u001b[1m1/1\u001b[0m \u001b[32m━━━━━━━━━━━━━━━━━━━━\u001b[0m\u001b[37m\u001b[0m \u001b[1m0s\u001b[0m 46ms/step\n",
      "\u001b[1m1/1\u001b[0m \u001b[32m━━━━━━━━━━━━━━━━━━━━\u001b[0m\u001b[37m\u001b[0m \u001b[1m0s\u001b[0m 38ms/step\n",
      "\u001b[1m1/1\u001b[0m \u001b[32m━━━━━━━━━━━━━━━━━━━━\u001b[0m\u001b[37m\u001b[0m \u001b[1m0s\u001b[0m 31ms/step\n"
     ]
    }
   ],
   "source": [
    "# Generate 20 forecasts\n",
    "ntest = X_test.shape[0]\n",
    "m_input = X_train[-1:]\n",
    "test_p = np.zeros(ntest)\n",
    "for i in range(ntest):\n",
    "    pred = m.predict(m_input)\n",
    "    test_p[i] = pred[0]\n",
    "    m_input = np.roll(m_input, -1)\n",
    "    m_input[0,-1,0] = pred[0]"
   ]
  },
  {
   "cell_type": "code",
   "execution_count": 66,
   "id": "93753821",
   "metadata": {},
   "outputs": [],
   "source": [
    "# Add the results to the previous residual of SSA-LSTM\n",
    "# The result is already the SSA-LSTM-LSTM\n",
    "train_p=train_p1+train_p\n",
    "test_p=test_p1+test_p"
   ]
  },
  {
   "cell_type": "code",
   "execution_count": 67,
   "id": "a7a637db",
   "metadata": {},
   "outputs": [
    {
     "name": "stdout",
     "output_type": "stream",
     "text": [
      "train: (np.float64(0.1637215952974751), np.float64(0.00878921119542157))\n",
      "test: (np.float64(0.2025445475202561), np.float64(0.009515710424305792))\n"
     ]
    }
   ],
   "source": [
    "# SSA-LSTM-LSTM (we sum the results of the fitted ARIMA model with the forecast of the residuals).\n",
    "\n",
    "print('train:', metrics(data['DEXSFUS'][:2067],train_p))\n",
    "print('test:' , metrics(data['DEXSFUS'][2067:],test_p))"
   ]
  },
  {
   "cell_type": "markdown",
   "id": "8e13cb83",
   "metadata": {},
   "source": [
    "# LSTM"
   ]
  },
  {
   "cell_type": "code",
   "execution_count": 68,
   "id": "376514ca",
   "metadata": {},
   "outputs": [],
   "source": [
    "#prepare the data\n",
    "data_=data['DEXSFUS']\n",
    "s=data_[:5]\n",
    "data_=pd.concat([s,data_])\n",
    "###\n",
    "window=5\n",
    "X,y=data_toX_y(data_,window)\n",
    "\n",
    "X_train,y_train= X[:2067],y[:2067]\n",
    "X_test,y_test= X[2067:],y[2067:]"
   ]
  },
  {
   "cell_type": "code",
   "execution_count": 69,
   "id": "3fc8f12e",
   "metadata": {},
   "outputs": [],
   "source": [
    "#Set the seed\n",
    "tf.keras.utils.set_random_seed(123)\n",
    "tf.config.experimental.enable_op_determinism()"
   ]
  },
  {
   "cell_type": "code",
   "execution_count": 70,
   "id": "9d2fe102",
   "metadata": {},
   "outputs": [],
   "source": [
    "# delete the previous model\n",
    "del m"
   ]
  },
  {
   "cell_type": "code",
   "execution_count": 71,
   "id": "e4e62c6f",
   "metadata": {},
   "outputs": [
    {
     "data": {
      "text/html": [
       "<pre style=\"white-space:pre;overflow-x:auto;line-height:normal;font-family:Menlo,'DejaVu Sans Mono',consolas,'Courier New',monospace\"><span style=\"font-weight: bold\">Model: \"sequential_5\"</span>\n",
       "</pre>\n"
      ],
      "text/plain": [
       "\u001b[1mModel: \"sequential_5\"\u001b[0m\n"
      ]
     },
     "metadata": {},
     "output_type": "display_data"
    },
    {
     "data": {
      "text/html": [
       "<pre style=\"white-space:pre;overflow-x:auto;line-height:normal;font-family:Menlo,'DejaVu Sans Mono',consolas,'Courier New',monospace\">┏━━━━━━━━━━━━━━━━━━━━━━━━━━━━━━━━━━━━━━┳━━━━━━━━━━━━━━━━━━━━━━━━━━━━━┳━━━━━━━━━━━━━━━━━┓\n",
       "┃<span style=\"font-weight: bold\"> Layer (type)                         </span>┃<span style=\"font-weight: bold\"> Output Shape                </span>┃<span style=\"font-weight: bold\">         Param # </span>┃\n",
       "┡━━━━━━━━━━━━━━━━━━━━━━━━━━━━━━━━━━━━━━╇━━━━━━━━━━━━━━━━━━━━━━━━━━━━━╇━━━━━━━━━━━━━━━━━┩\n",
       "│ lstm_7 (<span style=\"color: #0087ff; text-decoration-color: #0087ff\">LSTM</span>)                        │ (<span style=\"color: #00d7ff; text-decoration-color: #00d7ff\">None</span>, <span style=\"color: #00af00; text-decoration-color: #00af00\">250</span>)                 │         <span style=\"color: #00af00; text-decoration-color: #00af00\">252,000</span> │\n",
       "├──────────────────────────────────────┼─────────────────────────────┼─────────────────┤\n",
       "│ dense_5 (<span style=\"color: #0087ff; text-decoration-color: #0087ff\">Dense</span>)                      │ (<span style=\"color: #00d7ff; text-decoration-color: #00d7ff\">None</span>, <span style=\"color: #00af00; text-decoration-color: #00af00\">1</span>)                   │             <span style=\"color: #00af00; text-decoration-color: #00af00\">251</span> │\n",
       "└──────────────────────────────────────┴─────────────────────────────┴─────────────────┘\n",
       "</pre>\n"
      ],
      "text/plain": [
       "┏━━━━━━━━━━━━━━━━━━━━━━━━━━━━━━━━━━━━━━┳━━━━━━━━━━━━━━━━━━━━━━━━━━━━━┳━━━━━━━━━━━━━━━━━┓\n",
       "┃\u001b[1m \u001b[0m\u001b[1mLayer (type)                        \u001b[0m\u001b[1m \u001b[0m┃\u001b[1m \u001b[0m\u001b[1mOutput Shape               \u001b[0m\u001b[1m \u001b[0m┃\u001b[1m \u001b[0m\u001b[1m        Param #\u001b[0m\u001b[1m \u001b[0m┃\n",
       "┡━━━━━━━━━━━━━━━━━━━━━━━━━━━━━━━━━━━━━━╇━━━━━━━━━━━━━━━━━━━━━━━━━━━━━╇━━━━━━━━━━━━━━━━━┩\n",
       "│ lstm_7 (\u001b[38;5;33mLSTM\u001b[0m)                        │ (\u001b[38;5;45mNone\u001b[0m, \u001b[38;5;34m250\u001b[0m)                 │         \u001b[38;5;34m252,000\u001b[0m │\n",
       "├──────────────────────────────────────┼─────────────────────────────┼─────────────────┤\n",
       "│ dense_5 (\u001b[38;5;33mDense\u001b[0m)                      │ (\u001b[38;5;45mNone\u001b[0m, \u001b[38;5;34m1\u001b[0m)                   │             \u001b[38;5;34m251\u001b[0m │\n",
       "└──────────────────────────────────────┴─────────────────────────────┴─────────────────┘\n"
      ]
     },
     "metadata": {},
     "output_type": "display_data"
    },
    {
     "data": {
      "text/html": [
       "<pre style=\"white-space:pre;overflow-x:auto;line-height:normal;font-family:Menlo,'DejaVu Sans Mono',consolas,'Courier New',monospace\"><span style=\"font-weight: bold\"> Total params: </span><span style=\"color: #00af00; text-decoration-color: #00af00\">252,251</span> (985.36 KB)\n",
       "</pre>\n"
      ],
      "text/plain": [
       "\u001b[1m Total params: \u001b[0m\u001b[38;5;34m252,251\u001b[0m (985.36 KB)\n"
      ]
     },
     "metadata": {},
     "output_type": "display_data"
    },
    {
     "data": {
      "text/html": [
       "<pre style=\"white-space:pre;overflow-x:auto;line-height:normal;font-family:Menlo,'DejaVu Sans Mono',consolas,'Courier New',monospace\"><span style=\"font-weight: bold\"> Trainable params: </span><span style=\"color: #00af00; text-decoration-color: #00af00\">252,251</span> (985.36 KB)\n",
       "</pre>\n"
      ],
      "text/plain": [
       "\u001b[1m Trainable params: \u001b[0m\u001b[38;5;34m252,251\u001b[0m (985.36 KB)\n"
      ]
     },
     "metadata": {},
     "output_type": "display_data"
    },
    {
     "data": {
      "text/html": [
       "<pre style=\"white-space:pre;overflow-x:auto;line-height:normal;font-family:Menlo,'DejaVu Sans Mono',consolas,'Courier New',monospace\"><span style=\"font-weight: bold\"> Non-trainable params: </span><span style=\"color: #00af00; text-decoration-color: #00af00\">0</span> (0.00 B)\n",
       "</pre>\n"
      ],
      "text/plain": [
       "\u001b[1m Non-trainable params: \u001b[0m\u001b[38;5;34m0\u001b[0m (0.00 B)\n"
      ]
     },
     "metadata": {},
     "output_type": "display_data"
    }
   ],
   "source": [
    "#LSTM Structure\n",
    "m=Sequential()\n",
    "m.add(InputLayer((5,1)))\n",
    "m.add(LSTM(250))\n",
    "m.add(Dense(1,'relu'))\n",
    "m.summary()"
   ]
  },
  {
   "cell_type": "code",
   "execution_count": 72,
   "id": "7126ebe8",
   "metadata": {},
   "outputs": [],
   "source": [
    "#Compile the model\n",
    "m.compile(loss=MeanSquaredError(),optimizer=\"Adam\",metrics=[RootMeanSquaredError()])"
   ]
  },
  {
   "cell_type": "code",
   "execution_count": 73,
   "id": "56767746",
   "metadata": {},
   "outputs": [
    {
     "name": "stdout",
     "output_type": "stream",
     "text": [
      "Epoch 1/100\n",
      "\u001b[1m52/52\u001b[0m \u001b[32m━━━━━━━━━━━━━━━━━━━━\u001b[0m\u001b[37m\u001b[0m \u001b[1m2s\u001b[0m 16ms/step - loss: 68.9146 - root_mean_squared_error: 7.9131 - val_loss: 4.1320 - val_root_mean_squared_error: 2.0327\n",
      "Epoch 2/100\n",
      "\u001b[1m52/52\u001b[0m \u001b[32m━━━━━━━━━━━━━━━━━━━━\u001b[0m\u001b[37m\u001b[0m \u001b[1m1s\u001b[0m 11ms/step - loss: 2.3382 - root_mean_squared_error: 1.5289 - val_loss: 3.6169 - val_root_mean_squared_error: 1.9018\n",
      "Epoch 3/100\n",
      "\u001b[1m52/52\u001b[0m \u001b[32m━━━━━━━━━━━━━━━━━━━━\u001b[0m\u001b[37m\u001b[0m \u001b[1m1s\u001b[0m 11ms/step - loss: 2.2669 - root_mean_squared_error: 1.5055 - val_loss: 3.6002 - val_root_mean_squared_error: 1.8974\n",
      "Epoch 4/100\n",
      "\u001b[1m52/52\u001b[0m \u001b[32m━━━━━━━━━━━━━━━━━━━━\u001b[0m\u001b[37m\u001b[0m \u001b[1m1s\u001b[0m 10ms/step - loss: 2.2239 - root_mean_squared_error: 1.4911 - val_loss: 3.5003 - val_root_mean_squared_error: 1.8709\n",
      "Epoch 5/100\n",
      "\u001b[1m52/52\u001b[0m \u001b[32m━━━━━━━━━━━━━━━━━━━━\u001b[0m\u001b[37m\u001b[0m \u001b[1m1s\u001b[0m 10ms/step - loss: 2.1605 - root_mean_squared_error: 1.4697 - val_loss: 3.2702 - val_root_mean_squared_error: 1.8084\n",
      "Epoch 6/100\n",
      "\u001b[1m52/52\u001b[0m \u001b[32m━━━━━━━━━━━━━━━━━━━━\u001b[0m\u001b[37m\u001b[0m \u001b[1m1s\u001b[0m 10ms/step - loss: 2.0685 - root_mean_squared_error: 1.4380 - val_loss: 3.1703 - val_root_mean_squared_error: 1.7805\n",
      "Epoch 7/100\n",
      "\u001b[1m52/52\u001b[0m \u001b[32m━━━━━━━━━━━━━━━━━━━━\u001b[0m\u001b[37m\u001b[0m \u001b[1m1s\u001b[0m 10ms/step - loss: 1.8965 - root_mean_squared_error: 1.3768 - val_loss: 2.8635 - val_root_mean_squared_error: 1.6922\n",
      "Epoch 8/100\n",
      "\u001b[1m52/52\u001b[0m \u001b[32m━━━━━━━━━━━━━━━━━━━━\u001b[0m\u001b[37m\u001b[0m \u001b[1m1s\u001b[0m 11ms/step - loss: 1.5383 - root_mean_squared_error: 1.2397 - val_loss: 1.9841 - val_root_mean_squared_error: 1.4086\n",
      "Epoch 9/100\n",
      "\u001b[1m52/52\u001b[0m \u001b[32m━━━━━━━━━━━━━━━━━━━━\u001b[0m\u001b[37m\u001b[0m \u001b[1m1s\u001b[0m 10ms/step - loss: 0.9214 - root_mean_squared_error: 0.9588 - val_loss: 0.6466 - val_root_mean_squared_error: 0.8041\n",
      "Epoch 10/100\n",
      "\u001b[1m52/52\u001b[0m \u001b[32m━━━━━━━━━━━━━━━━━━━━\u001b[0m\u001b[37m\u001b[0m \u001b[1m1s\u001b[0m 10ms/step - loss: 0.2736 - root_mean_squared_error: 0.5215 - val_loss: 0.1356 - val_root_mean_squared_error: 0.3683\n",
      "Epoch 11/100\n",
      "\u001b[1m52/52\u001b[0m \u001b[32m━━━━━━━━━━━━━━━━━━━━\u001b[0m\u001b[37m\u001b[0m \u001b[1m1s\u001b[0m 10ms/step - loss: 0.0986 - root_mean_squared_error: 0.3134 - val_loss: 0.0740 - val_root_mean_squared_error: 0.2720\n",
      "Epoch 12/100\n",
      "\u001b[1m52/52\u001b[0m \u001b[32m━━━━━━━━━━━━━━━━━━━━\u001b[0m\u001b[37m\u001b[0m \u001b[1m1s\u001b[0m 10ms/step - loss: 0.0797 - root_mean_squared_error: 0.2816 - val_loss: 0.0614 - val_root_mean_squared_error: 0.2478\n",
      "Epoch 13/100\n",
      "\u001b[1m52/52\u001b[0m \u001b[32m━━━━━━━━━━━━━━━━━━━━\u001b[0m\u001b[37m\u001b[0m \u001b[1m1s\u001b[0m 9ms/step - loss: 0.0690 - root_mean_squared_error: 0.2613 - val_loss: 0.0545 - val_root_mean_squared_error: 0.2334\n",
      "Epoch 14/100\n",
      "\u001b[1m52/52\u001b[0m \u001b[32m━━━━━━━━━━━━━━━━━━━━\u001b[0m\u001b[37m\u001b[0m \u001b[1m1s\u001b[0m 10ms/step - loss: 0.0622 - root_mean_squared_error: 0.2479 - val_loss: 0.0521 - val_root_mean_squared_error: 0.2282\n",
      "Epoch 15/100\n",
      "\u001b[1m52/52\u001b[0m \u001b[32m━━━━━━━━━━━━━━━━━━━━\u001b[0m\u001b[37m\u001b[0m \u001b[1m1s\u001b[0m 10ms/step - loss: 0.0598 - root_mean_squared_error: 0.2433 - val_loss: 0.0509 - val_root_mean_squared_error: 0.2256\n",
      "Epoch 16/100\n",
      "\u001b[1m52/52\u001b[0m \u001b[32m━━━━━━━━━━━━━━━━━━━━\u001b[0m\u001b[37m\u001b[0m \u001b[1m1s\u001b[0m 10ms/step - loss: 0.0583 - root_mean_squared_error: 0.2401 - val_loss: 0.0505 - val_root_mean_squared_error: 0.2248\n",
      "Epoch 17/100\n",
      "\u001b[1m52/52\u001b[0m \u001b[32m━━━━━━━━━━━━━━━━━━━━\u001b[0m\u001b[37m\u001b[0m \u001b[1m1s\u001b[0m 10ms/step - loss: 0.0571 - root_mean_squared_error: 0.2378 - val_loss: 0.0501 - val_root_mean_squared_error: 0.2238\n",
      "Epoch 18/100\n",
      "\u001b[1m52/52\u001b[0m \u001b[32m━━━━━━━━━━━━━━━━━━━━\u001b[0m\u001b[37m\u001b[0m \u001b[1m1s\u001b[0m 10ms/step - loss: 0.0563 - root_mean_squared_error: 0.2361 - val_loss: 0.0500 - val_root_mean_squared_error: 0.2235\n",
      "Epoch 19/100\n",
      "\u001b[1m52/52\u001b[0m \u001b[32m━━━━━━━━━━━━━━━━━━━━\u001b[0m\u001b[37m\u001b[0m \u001b[1m1s\u001b[0m 11ms/step - loss: 0.0557 - root_mean_squared_error: 0.2347 - val_loss: 0.0499 - val_root_mean_squared_error: 0.2234\n",
      "Epoch 20/100\n",
      "\u001b[1m52/52\u001b[0m \u001b[32m━━━━━━━━━━━━━━━━━━━━\u001b[0m\u001b[37m\u001b[0m \u001b[1m1s\u001b[0m 10ms/step - loss: 0.0551 - root_mean_squared_error: 0.2336 - val_loss: 0.0499 - val_root_mean_squared_error: 0.2233\n",
      "Epoch 21/100\n",
      "\u001b[1m52/52\u001b[0m \u001b[32m━━━━━━━━━━━━━━━━━━━━\u001b[0m\u001b[37m\u001b[0m \u001b[1m1s\u001b[0m 10ms/step - loss: 0.0546 - root_mean_squared_error: 0.2326 - val_loss: 0.0498 - val_root_mean_squared_error: 0.2232\n",
      "Epoch 22/100\n",
      "\u001b[1m52/52\u001b[0m \u001b[32m━━━━━━━━━━━━━━━━━━━━\u001b[0m\u001b[37m\u001b[0m \u001b[1m1s\u001b[0m 10ms/step - loss: 0.0542 - root_mean_squared_error: 0.2317 - val_loss: 0.0497 - val_root_mean_squared_error: 0.2230\n",
      "Epoch 23/100\n",
      "\u001b[1m52/52\u001b[0m \u001b[32m━━━━━━━━━━━━━━━━━━━━\u001b[0m\u001b[37m\u001b[0m \u001b[1m1s\u001b[0m 11ms/step - loss: 0.0538 - root_mean_squared_error: 0.2309 - val_loss: 0.0497 - val_root_mean_squared_error: 0.2229\n",
      "Epoch 24/100\n",
      "\u001b[1m52/52\u001b[0m \u001b[32m━━━━━━━━━━━━━━━━━━━━\u001b[0m\u001b[37m\u001b[0m \u001b[1m1s\u001b[0m 10ms/step - loss: 0.0535 - root_mean_squared_error: 0.2302 - val_loss: 0.0496 - val_root_mean_squared_error: 0.2227\n",
      "Epoch 25/100\n",
      "\u001b[1m52/52\u001b[0m \u001b[32m━━━━━━━━━━━━━━━━━━━━\u001b[0m\u001b[37m\u001b[0m \u001b[1m1s\u001b[0m 11ms/step - loss: 0.0531 - root_mean_squared_error: 0.2295 - val_loss: 0.0495 - val_root_mean_squared_error: 0.2225\n",
      "Epoch 26/100\n",
      "\u001b[1m52/52\u001b[0m \u001b[32m━━━━━━━━━━━━━━━━━━━━\u001b[0m\u001b[37m\u001b[0m \u001b[1m1s\u001b[0m 11ms/step - loss: 0.0528 - root_mean_squared_error: 0.2288 - val_loss: 0.0494 - val_root_mean_squared_error: 0.2223\n",
      "Epoch 27/100\n",
      "\u001b[1m52/52\u001b[0m \u001b[32m━━━━━━━━━━━━━━━━━━━━\u001b[0m\u001b[37m\u001b[0m \u001b[1m1s\u001b[0m 9ms/step - loss: 0.0525 - root_mean_squared_error: 0.2281 - val_loss: 0.0493 - val_root_mean_squared_error: 0.2220\n",
      "Epoch 28/100\n",
      "\u001b[1m52/52\u001b[0m \u001b[32m━━━━━━━━━━━━━━━━━━━━\u001b[0m\u001b[37m\u001b[0m \u001b[1m1s\u001b[0m 10ms/step - loss: 0.0522 - root_mean_squared_error: 0.2275 - val_loss: 0.0491 - val_root_mean_squared_error: 0.2217\n",
      "Epoch 29/100\n",
      "\u001b[1m52/52\u001b[0m \u001b[32m━━━━━━━━━━━━━━━━━━━━\u001b[0m\u001b[37m\u001b[0m \u001b[1m1s\u001b[0m 10ms/step - loss: 0.0519 - root_mean_squared_error: 0.2269 - val_loss: 0.0490 - val_root_mean_squared_error: 0.2214\n",
      "Epoch 30/100\n",
      "\u001b[1m52/52\u001b[0m \u001b[32m━━━━━━━━━━━━━━━━━━━━\u001b[0m\u001b[37m\u001b[0m \u001b[1m1s\u001b[0m 10ms/step - loss: 0.0516 - root_mean_squared_error: 0.2262 - val_loss: 0.0488 - val_root_mean_squared_error: 0.2210\n",
      "Epoch 31/100\n",
      "\u001b[1m52/52\u001b[0m \u001b[32m━━━━━━━━━━━━━━━━━━━━\u001b[0m\u001b[37m\u001b[0m \u001b[1m1s\u001b[0m 10ms/step - loss: 0.0513 - root_mean_squared_error: 0.2256 - val_loss: 0.0487 - val_root_mean_squared_error: 0.2206\n",
      "Epoch 32/100\n",
      "\u001b[1m52/52\u001b[0m \u001b[32m━━━━━━━━━━━━━━━━━━━━\u001b[0m\u001b[37m\u001b[0m \u001b[1m0s\u001b[0m 9ms/step - loss: 0.0511 - root_mean_squared_error: 0.2250 - val_loss: 0.0485 - val_root_mean_squared_error: 0.2203\n",
      "Epoch 33/100\n",
      "\u001b[1m52/52\u001b[0m \u001b[32m━━━━━━━━━━━━━━━━━━━━\u001b[0m\u001b[37m\u001b[0m \u001b[1m1s\u001b[0m 10ms/step - loss: 0.0508 - root_mean_squared_error: 0.2244 - val_loss: 0.0483 - val_root_mean_squared_error: 0.2198\n",
      "Epoch 34/100\n",
      "\u001b[1m52/52\u001b[0m \u001b[32m━━━━━━━━━━━━━━━━━━━━\u001b[0m\u001b[37m\u001b[0m \u001b[1m1s\u001b[0m 10ms/step - loss: 0.0505 - root_mean_squared_error: 0.2238 - val_loss: 0.0481 - val_root_mean_squared_error: 0.2194\n",
      "Epoch 35/100\n",
      "\u001b[1m52/52\u001b[0m \u001b[32m━━━━━━━━━━━━━━━━━━━━\u001b[0m\u001b[37m\u001b[0m \u001b[1m1s\u001b[0m 10ms/step - loss: 0.0502 - root_mean_squared_error: 0.2233 - val_loss: 0.0479 - val_root_mean_squared_error: 0.2189\n",
      "Epoch 36/100\n",
      "\u001b[1m52/52\u001b[0m \u001b[32m━━━━━━━━━━━━━━━━━━━━\u001b[0m\u001b[37m\u001b[0m \u001b[1m1s\u001b[0m 10ms/step - loss: 0.0500 - root_mean_squared_error: 0.2227 - val_loss: 0.0477 - val_root_mean_squared_error: 0.2184\n",
      "Epoch 37/100\n",
      "\u001b[1m52/52\u001b[0m \u001b[32m━━━━━━━━━━━━━━━━━━━━\u001b[0m\u001b[37m\u001b[0m \u001b[1m1s\u001b[0m 11ms/step - loss: 0.0497 - root_mean_squared_error: 0.2221 - val_loss: 0.0475 - val_root_mean_squared_error: 0.2179\n",
      "Epoch 38/100\n",
      "\u001b[1m52/52\u001b[0m \u001b[32m━━━━━━━━━━━━━━━━━━━━\u001b[0m\u001b[37m\u001b[0m \u001b[1m1s\u001b[0m 10ms/step - loss: 0.0495 - root_mean_squared_error: 0.2215 - val_loss: 0.0472 - val_root_mean_squared_error: 0.2173\n",
      "Epoch 39/100\n",
      "\u001b[1m52/52\u001b[0m \u001b[32m━━━━━━━━━━━━━━━━━━━━\u001b[0m\u001b[37m\u001b[0m \u001b[1m1s\u001b[0m 10ms/step - loss: 0.0492 - root_mean_squared_error: 0.2209 - val_loss: 0.0470 - val_root_mean_squared_error: 0.2167\n",
      "Epoch 40/100\n",
      "\u001b[1m52/52\u001b[0m \u001b[32m━━━━━━━━━━━━━━━━━━━━\u001b[0m\u001b[37m\u001b[0m \u001b[1m1s\u001b[0m 9ms/step - loss: 0.0489 - root_mean_squared_error: 0.2203 - val_loss: 0.0467 - val_root_mean_squared_error: 0.2161\n",
      "Epoch 41/100\n",
      "\u001b[1m52/52\u001b[0m \u001b[32m━━━━━━━━━━━━━━━━━━━━\u001b[0m\u001b[37m\u001b[0m \u001b[1m1s\u001b[0m 10ms/step - loss: 0.0487 - root_mean_squared_error: 0.2197 - val_loss: 0.0464 - val_root_mean_squared_error: 0.2155\n",
      "Epoch 42/100\n",
      "\u001b[1m52/52\u001b[0m \u001b[32m━━━━━━━━━━━━━━━━━━━━\u001b[0m\u001b[37m\u001b[0m \u001b[1m1s\u001b[0m 10ms/step - loss: 0.0484 - root_mean_squared_error: 0.2191 - val_loss: 0.0462 - val_root_mean_squared_error: 0.2149\n",
      "Epoch 43/100\n",
      "\u001b[1m52/52\u001b[0m \u001b[32m━━━━━━━━━━━━━━━━━━━━\u001b[0m\u001b[37m\u001b[0m \u001b[1m1s\u001b[0m 10ms/step - loss: 0.0482 - root_mean_squared_error: 0.2186 - val_loss: 0.0459 - val_root_mean_squared_error: 0.2142\n",
      "Epoch 44/100\n",
      "\u001b[1m52/52\u001b[0m \u001b[32m━━━━━━━━━━━━━━━━━━━━\u001b[0m\u001b[37m\u001b[0m \u001b[1m1s\u001b[0m 10ms/step - loss: 0.0479 - root_mean_squared_error: 0.2180 - val_loss: 0.0456 - val_root_mean_squared_error: 0.2135\n",
      "Epoch 45/100\n",
      "\u001b[1m52/52\u001b[0m \u001b[32m━━━━━━━━━━━━━━━━━━━━\u001b[0m\u001b[37m\u001b[0m \u001b[1m1s\u001b[0m 9ms/step - loss: 0.0476 - root_mean_squared_error: 0.2173 - val_loss: 0.0453 - val_root_mean_squared_error: 0.2128\n",
      "Epoch 46/100\n",
      "\u001b[1m52/52\u001b[0m \u001b[32m━━━━━━━━━━━━━━━━━━━━\u001b[0m\u001b[37m\u001b[0m \u001b[1m1s\u001b[0m 11ms/step - loss: 0.0474 - root_mean_squared_error: 0.2167 - val_loss: 0.0450 - val_root_mean_squared_error: 0.2120\n",
      "Epoch 47/100\n",
      "\u001b[1m52/52\u001b[0m \u001b[32m━━━━━━━━━━━━━━━━━━━━\u001b[0m\u001b[37m\u001b[0m \u001b[1m1s\u001b[0m 9ms/step - loss: 0.0471 - root_mean_squared_error: 0.2161 - val_loss: 0.0446 - val_root_mean_squared_error: 0.2113\n",
      "Epoch 48/100\n",
      "\u001b[1m52/52\u001b[0m \u001b[32m━━━━━━━━━━━━━━━━━━━━\u001b[0m\u001b[37m\u001b[0m \u001b[1m1s\u001b[0m 10ms/step - loss: 0.0468 - root_mean_squared_error: 0.2155 - val_loss: 0.0443 - val_root_mean_squared_error: 0.2105\n",
      "Epoch 49/100\n",
      "\u001b[1m52/52\u001b[0m \u001b[32m━━━━━━━━━━━━━━━━━━━━\u001b[0m\u001b[37m\u001b[0m \u001b[1m1s\u001b[0m 10ms/step - loss: 0.0466 - root_mean_squared_error: 0.2149 - val_loss: 0.0440 - val_root_mean_squared_error: 0.2096\n",
      "Epoch 50/100\n",
      "\u001b[1m52/52\u001b[0m \u001b[32m━━━━━━━━━━━━━━━━━━━━\u001b[0m\u001b[37m\u001b[0m \u001b[1m1s\u001b[0m 10ms/step - loss: 0.0463 - root_mean_squared_error: 0.2143 - val_loss: 0.0436 - val_root_mean_squared_error: 0.2088\n",
      "Epoch 51/100\n",
      "\u001b[1m52/52\u001b[0m \u001b[32m━━━━━━━━━━━━━━━━━━━━\u001b[0m\u001b[37m\u001b[0m \u001b[1m1s\u001b[0m 11ms/step - loss: 0.0461 - root_mean_squared_error: 0.2137 - val_loss: 0.0433 - val_root_mean_squared_error: 0.2080\n",
      "Epoch 52/100\n",
      "\u001b[1m52/52\u001b[0m \u001b[32m━━━━━━━━━━━━━━━━━━━━\u001b[0m\u001b[37m\u001b[0m \u001b[1m1s\u001b[0m 11ms/step - loss: 0.0458 - root_mean_squared_error: 0.2131 - val_loss: 0.0429 - val_root_mean_squared_error: 0.2072\n",
      "Epoch 53/100\n",
      "\u001b[1m52/52\u001b[0m \u001b[32m━━━━━━━━━━━━━━━━━━━━\u001b[0m\u001b[37m\u001b[0m \u001b[1m1s\u001b[0m 10ms/step - loss: 0.0456 - root_mean_squared_error: 0.2125 - val_loss: 0.0426 - val_root_mean_squared_error: 0.2063\n",
      "Epoch 54/100\n",
      "\u001b[1m52/52\u001b[0m \u001b[32m━━━━━━━━━━━━━━━━━━━━\u001b[0m\u001b[37m\u001b[0m \u001b[1m1s\u001b[0m 10ms/step - loss: 0.0453 - root_mean_squared_error: 0.2120 - val_loss: 0.0422 - val_root_mean_squared_error: 0.2055\n",
      "Epoch 55/100\n",
      "\u001b[1m52/52\u001b[0m \u001b[32m━━━━━━━━━━━━━━━━━━━━\u001b[0m\u001b[37m\u001b[0m \u001b[1m1s\u001b[0m 11ms/step - loss: 0.0451 - root_mean_squared_error: 0.2114 - val_loss: 0.0419 - val_root_mean_squared_error: 0.2047\n",
      "Epoch 56/100\n",
      "\u001b[1m52/52\u001b[0m \u001b[32m━━━━━━━━━━━━━━━━━━━━\u001b[0m\u001b[37m\u001b[0m \u001b[1m1s\u001b[0m 10ms/step - loss: 0.0448 - root_mean_squared_error: 0.2108 - val_loss: 0.0416 - val_root_mean_squared_error: 0.2039\n",
      "Epoch 57/100\n",
      "\u001b[1m52/52\u001b[0m \u001b[32m━━━━━━━━━━━━━━━━━━━━\u001b[0m\u001b[37m\u001b[0m \u001b[1m1s\u001b[0m 10ms/step - loss: 0.0446 - root_mean_squared_error: 0.2103 - val_loss: 0.0412 - val_root_mean_squared_error: 0.2030\n",
      "Epoch 58/100\n",
      "\u001b[1m52/52\u001b[0m \u001b[32m━━━━━━━━━━━━━━━━━━━━\u001b[0m\u001b[37m\u001b[0m \u001b[1m1s\u001b[0m 10ms/step - loss: 0.0444 - root_mean_squared_error: 0.2097 - val_loss: 0.0409 - val_root_mean_squared_error: 0.2022\n",
      "Epoch 59/100\n",
      "\u001b[1m52/52\u001b[0m \u001b[32m━━━━━━━━━━━━━━━━━━━━\u001b[0m\u001b[37m\u001b[0m \u001b[1m1s\u001b[0m 10ms/step - loss: 0.0441 - root_mean_squared_error: 0.2091 - val_loss: 0.0406 - val_root_mean_squared_error: 0.2014\n",
      "Epoch 60/100\n",
      "\u001b[1m52/52\u001b[0m \u001b[32m━━━━━━━━━━━━━━━━━━━━\u001b[0m\u001b[37m\u001b[0m \u001b[1m1s\u001b[0m 10ms/step - loss: 0.0439 - root_mean_squared_error: 0.2086 - val_loss: 0.0402 - val_root_mean_squared_error: 0.2006\n",
      "Epoch 61/100\n",
      "\u001b[1m52/52\u001b[0m \u001b[32m━━━━━━━━━━━━━━━━━━━━\u001b[0m\u001b[37m\u001b[0m \u001b[1m1s\u001b[0m 10ms/step - loss: 0.0437 - root_mean_squared_error: 0.2080 - val_loss: 0.0399 - val_root_mean_squared_error: 0.1998\n",
      "Epoch 62/100\n",
      "\u001b[1m52/52\u001b[0m \u001b[32m━━━━━━━━━━━━━━━━━━━━\u001b[0m\u001b[37m\u001b[0m \u001b[1m1s\u001b[0m 10ms/step - loss: 0.0434 - root_mean_squared_error: 0.2074 - val_loss: 0.0396 - val_root_mean_squared_error: 0.1989\n",
      "Epoch 63/100\n",
      "\u001b[1m52/52\u001b[0m \u001b[32m━━━━━━━━━━━━━━━━━━━━\u001b[0m\u001b[37m\u001b[0m \u001b[1m1s\u001b[0m 10ms/step - loss: 0.0432 - root_mean_squared_error: 0.2069 - val_loss: 0.0392 - val_root_mean_squared_error: 0.1981\n",
      "Epoch 64/100\n",
      "\u001b[1m52/52\u001b[0m \u001b[32m━━━━━━━━━━━━━━━━━━━━\u001b[0m\u001b[37m\u001b[0m \u001b[1m1s\u001b[0m 10ms/step - loss: 0.0429 - root_mean_squared_error: 0.2063 - val_loss: 0.0389 - val_root_mean_squared_error: 0.1973\n",
      "Epoch 65/100\n",
      "\u001b[1m52/52\u001b[0m \u001b[32m━━━━━━━━━━━━━━━━━━━━\u001b[0m\u001b[37m\u001b[0m \u001b[1m1s\u001b[0m 11ms/step - loss: 0.0427 - root_mean_squared_error: 0.2057 - val_loss: 0.0386 - val_root_mean_squared_error: 0.1964\n",
      "Epoch 66/100\n",
      "\u001b[1m52/52\u001b[0m \u001b[32m━━━━━━━━━━━━━━━━━━━━\u001b[0m\u001b[37m\u001b[0m \u001b[1m1s\u001b[0m 10ms/step - loss: 0.0425 - root_mean_squared_error: 0.2051 - val_loss: 0.0383 - val_root_mean_squared_error: 0.1956\n",
      "Epoch 67/100\n",
      "\u001b[1m52/52\u001b[0m \u001b[32m━━━━━━━━━━━━━━━━━━━━\u001b[0m\u001b[37m\u001b[0m \u001b[1m1s\u001b[0m 10ms/step - loss: 0.0422 - root_mean_squared_error: 0.2046 - val_loss: 0.0379 - val_root_mean_squared_error: 0.1948\n",
      "Epoch 68/100\n",
      "\u001b[1m52/52\u001b[0m \u001b[32m━━━━━━━━━━━━━━━━━━━━\u001b[0m\u001b[37m\u001b[0m \u001b[1m1s\u001b[0m 10ms/step - loss: 0.0420 - root_mean_squared_error: 0.2040 - val_loss: 0.0376 - val_root_mean_squared_error: 0.1939\n",
      "Epoch 69/100\n",
      "\u001b[1m52/52\u001b[0m \u001b[32m━━━━━━━━━━━━━━━━━━━━\u001b[0m\u001b[37m\u001b[0m \u001b[1m1s\u001b[0m 10ms/step - loss: 0.0418 - root_mean_squared_error: 0.2034 - val_loss: 0.0373 - val_root_mean_squared_error: 0.1931\n",
      "Epoch 70/100\n",
      "\u001b[1m52/52\u001b[0m \u001b[32m━━━━━━━━━━━━━━━━━━━━\u001b[0m\u001b[37m\u001b[0m \u001b[1m1s\u001b[0m 10ms/step - loss: 0.0415 - root_mean_squared_error: 0.2028 - val_loss: 0.0370 - val_root_mean_squared_error: 0.1922\n",
      "Epoch 71/100\n",
      "\u001b[1m52/52\u001b[0m \u001b[32m━━━━━━━━━━━━━━━━━━━━\u001b[0m\u001b[37m\u001b[0m \u001b[1m1s\u001b[0m 10ms/step - loss: 0.0413 - root_mean_squared_error: 0.2023 - val_loss: 0.0366 - val_root_mean_squared_error: 0.1914\n",
      "Epoch 72/100\n",
      "\u001b[1m52/52\u001b[0m \u001b[32m━━━━━━━━━━━━━━━━━━━━\u001b[0m\u001b[37m\u001b[0m \u001b[1m1s\u001b[0m 11ms/step - loss: 0.0411 - root_mean_squared_error: 0.2017 - val_loss: 0.0363 - val_root_mean_squared_error: 0.1906\n",
      "Epoch 73/100\n",
      "\u001b[1m52/52\u001b[0m \u001b[32m━━━━━━━━━━━━━━━━━━━━\u001b[0m\u001b[37m\u001b[0m \u001b[1m1s\u001b[0m 10ms/step - loss: 0.0408 - root_mean_squared_error: 0.2011 - val_loss: 0.0360 - val_root_mean_squared_error: 0.1897\n",
      "Epoch 74/100\n",
      "\u001b[1m52/52\u001b[0m \u001b[32m━━━━━━━━━━━━━━━━━━━━\u001b[0m\u001b[37m\u001b[0m \u001b[1m1s\u001b[0m 11ms/step - loss: 0.0406 - root_mean_squared_error: 0.2006 - val_loss: 0.0357 - val_root_mean_squared_error: 0.1889\n",
      "Epoch 75/100\n",
      "\u001b[1m52/52\u001b[0m \u001b[32m━━━━━━━━━━━━━━━━━━━━\u001b[0m\u001b[37m\u001b[0m \u001b[1m1s\u001b[0m 10ms/step - loss: 0.0404 - root_mean_squared_error: 0.2000 - val_loss: 0.0353 - val_root_mean_squared_error: 0.1880\n",
      "Epoch 76/100\n",
      "\u001b[1m52/52\u001b[0m \u001b[32m━━━━━━━━━━━━━━━━━━━━\u001b[0m\u001b[37m\u001b[0m \u001b[1m1s\u001b[0m 10ms/step - loss: 0.0402 - root_mean_squared_error: 0.1994 - val_loss: 0.0350 - val_root_mean_squared_error: 0.1871\n",
      "Epoch 77/100\n",
      "\u001b[1m52/52\u001b[0m \u001b[32m━━━━━━━━━━━━━━━━━━━━\u001b[0m\u001b[37m\u001b[0m \u001b[1m1s\u001b[0m 11ms/step - loss: 0.0399 - root_mean_squared_error: 0.1989 - val_loss: 0.0347 - val_root_mean_squared_error: 0.1862\n",
      "Epoch 78/100\n",
      "\u001b[1m52/52\u001b[0m \u001b[32m━━━━━━━━━━━━━━━━━━━━\u001b[0m\u001b[37m\u001b[0m \u001b[1m1s\u001b[0m 10ms/step - loss: 0.0397 - root_mean_squared_error: 0.1984 - val_loss: 0.0344 - val_root_mean_squared_error: 0.1854\n",
      "Epoch 79/100\n",
      "\u001b[1m52/52\u001b[0m \u001b[32m━━━━━━━━━━━━━━━━━━━━\u001b[0m\u001b[37m\u001b[0m \u001b[1m1s\u001b[0m 11ms/step - loss: 0.0395 - root_mean_squared_error: 0.1978 - val_loss: 0.0340 - val_root_mean_squared_error: 0.1845\n",
      "Epoch 80/100\n",
      "\u001b[1m52/52\u001b[0m \u001b[32m━━━━━━━━━━━━━━━━━━━━\u001b[0m\u001b[37m\u001b[0m \u001b[1m1s\u001b[0m 10ms/step - loss: 0.0393 - root_mean_squared_error: 0.1973 - val_loss: 0.0337 - val_root_mean_squared_error: 0.1836\n",
      "Epoch 81/100\n",
      "\u001b[1m52/52\u001b[0m \u001b[32m━━━━━━━━━━━━━━━━━━━━\u001b[0m\u001b[37m\u001b[0m \u001b[1m1s\u001b[0m 10ms/step - loss: 0.0391 - root_mean_squared_error: 0.1968 - val_loss: 0.0334 - val_root_mean_squared_error: 0.1827\n",
      "Epoch 82/100\n",
      "\u001b[1m52/52\u001b[0m \u001b[32m━━━━━━━━━━━━━━━━━━━━\u001b[0m\u001b[37m\u001b[0m \u001b[1m1s\u001b[0m 11ms/step - loss: 0.0389 - root_mean_squared_error: 0.1963 - val_loss: 0.0330 - val_root_mean_squared_error: 0.1818\n",
      "Epoch 83/100\n",
      "\u001b[1m52/52\u001b[0m \u001b[32m━━━━━━━━━━━━━━━━━━━━\u001b[0m\u001b[37m\u001b[0m \u001b[1m1s\u001b[0m 10ms/step - loss: 0.0387 - root_mean_squared_error: 0.1959 - val_loss: 0.0327 - val_root_mean_squared_error: 0.1809\n",
      "Epoch 84/100\n",
      "\u001b[1m52/52\u001b[0m \u001b[32m━━━━━━━━━━━━━━━━━━━━\u001b[0m\u001b[37m\u001b[0m \u001b[1m1s\u001b[0m 10ms/step - loss: 0.0386 - root_mean_squared_error: 0.1954 - val_loss: 0.0324 - val_root_mean_squared_error: 0.1800\n",
      "Epoch 85/100\n"
     ]
    },
    {
     "name": "stdout",
     "output_type": "stream",
     "text": [
      "\u001b[1m52/52\u001b[0m \u001b[32m━━━━━━━━━━━━━━━━━━━━\u001b[0m\u001b[37m\u001b[0m \u001b[1m1s\u001b[0m 10ms/step - loss: 0.0384 - root_mean_squared_error: 0.1950 - val_loss: 0.0321 - val_root_mean_squared_error: 0.1791\n",
      "Epoch 86/100\n",
      "\u001b[1m52/52\u001b[0m \u001b[32m━━━━━━━━━━━━━━━━━━━━\u001b[0m\u001b[37m\u001b[0m \u001b[1m1s\u001b[0m 11ms/step - loss: 0.0382 - root_mean_squared_error: 0.1946 - val_loss: 0.0318 - val_root_mean_squared_error: 0.1782\n",
      "Epoch 87/100\n",
      "\u001b[1m52/52\u001b[0m \u001b[32m━━━━━━━━━━━━━━━━━━━━\u001b[0m\u001b[37m\u001b[0m \u001b[1m1s\u001b[0m 11ms/step - loss: 0.0381 - root_mean_squared_error: 0.1942 - val_loss: 0.0315 - val_root_mean_squared_error: 0.1774\n",
      "Epoch 88/100\n",
      "\u001b[1m52/52\u001b[0m \u001b[32m━━━━━━━━━━━━━━━━━━━━\u001b[0m\u001b[37m\u001b[0m \u001b[1m1s\u001b[0m 11ms/step - loss: 0.0379 - root_mean_squared_error: 0.1938 - val_loss: 0.0312 - val_root_mean_squared_error: 0.1765\n",
      "Epoch 89/100\n",
      "\u001b[1m52/52\u001b[0m \u001b[32m━━━━━━━━━━━━━━━━━━━━\u001b[0m\u001b[37m\u001b[0m \u001b[1m1s\u001b[0m 10ms/step - loss: 0.0378 - root_mean_squared_error: 0.1935 - val_loss: 0.0309 - val_root_mean_squared_error: 0.1756\n",
      "Epoch 90/100\n",
      "\u001b[1m52/52\u001b[0m \u001b[32m━━━━━━━━━━━━━━━━━━━━\u001b[0m\u001b[37m\u001b[0m \u001b[1m1s\u001b[0m 12ms/step - loss: 0.0377 - root_mean_squared_error: 0.1931 - val_loss: 0.0306 - val_root_mean_squared_error: 0.1748\n",
      "Epoch 91/100\n",
      "\u001b[1m52/52\u001b[0m \u001b[32m━━━━━━━━━━━━━━━━━━━━\u001b[0m\u001b[37m\u001b[0m \u001b[1m1s\u001b[0m 10ms/step - loss: 0.0376 - root_mean_squared_error: 0.1929 - val_loss: 0.0303 - val_root_mean_squared_error: 0.1740\n",
      "Epoch 92/100\n",
      "\u001b[1m52/52\u001b[0m \u001b[32m━━━━━━━━━━━━━━━━━━━━\u001b[0m\u001b[37m\u001b[0m \u001b[1m1s\u001b[0m 10ms/step - loss: 0.0375 - root_mean_squared_error: 0.1926 - val_loss: 0.0300 - val_root_mean_squared_error: 0.1732\n",
      "Epoch 93/100\n",
      "\u001b[1m52/52\u001b[0m \u001b[32m━━━━━━━━━━━━━━━━━━━━\u001b[0m\u001b[37m\u001b[0m \u001b[1m1s\u001b[0m 10ms/step - loss: 0.0374 - root_mean_squared_error: 0.1924 - val_loss: 0.0297 - val_root_mean_squared_error: 0.1724\n",
      "Epoch 94/100\n",
      "\u001b[1m52/52\u001b[0m \u001b[32m━━━━━━━━━━━━━━━━━━━━\u001b[0m\u001b[37m\u001b[0m \u001b[1m1s\u001b[0m 11ms/step - loss: 0.0374 - root_mean_squared_error: 0.1923 - val_loss: 0.0295 - val_root_mean_squared_error: 0.1718\n",
      "Epoch 95/100\n",
      "\u001b[1m52/52\u001b[0m \u001b[32m━━━━━━━━━━━━━━━━━━━━\u001b[0m\u001b[37m\u001b[0m \u001b[1m1s\u001b[0m 10ms/step - loss: 0.0373 - root_mean_squared_error: 0.1922 - val_loss: 0.0293 - val_root_mean_squared_error: 0.1712\n",
      "Epoch 96/100\n",
      "\u001b[1m52/52\u001b[0m \u001b[32m━━━━━━━━━━━━━━━━━━━━\u001b[0m\u001b[37m\u001b[0m \u001b[1m1s\u001b[0m 10ms/step - loss: 0.0373 - root_mean_squared_error: 0.1922 - val_loss: 0.0291 - val_root_mean_squared_error: 0.1707\n",
      "Epoch 97/100\n",
      "\u001b[1m52/52\u001b[0m \u001b[32m━━━━━━━━━━━━━━━━━━━━\u001b[0m\u001b[37m\u001b[0m \u001b[1m1s\u001b[0m 10ms/step - loss: 0.0373 - root_mean_squared_error: 0.1922 - val_loss: 0.0290 - val_root_mean_squared_error: 0.1704\n",
      "Epoch 98/100\n",
      "\u001b[1m52/52\u001b[0m \u001b[32m━━━━━━━━━━━━━━━━━━━━\u001b[0m\u001b[37m\u001b[0m \u001b[1m1s\u001b[0m 10ms/step - loss: 0.0373 - root_mean_squared_error: 0.1923 - val_loss: 0.0290 - val_root_mean_squared_error: 0.1704\n",
      "Epoch 99/100\n",
      "\u001b[1m52/52\u001b[0m \u001b[32m━━━━━━━━━━━━━━━━━━━━\u001b[0m\u001b[37m\u001b[0m \u001b[1m1s\u001b[0m 10ms/step - loss: 0.0374 - root_mean_squared_error: 0.1924 - val_loss: 0.0291 - val_root_mean_squared_error: 0.1707\n",
      "Epoch 100/100\n",
      "\u001b[1m52/52\u001b[0m \u001b[32m━━━━━━━━━━━━━━━━━━━━\u001b[0m\u001b[37m\u001b[0m \u001b[1m1s\u001b[0m 11ms/step - loss: 0.0374 - root_mean_squared_error: 0.1925 - val_loss: 0.0294 - val_root_mean_squared_error: 0.1714\n"
     ]
    }
   ],
   "source": [
    "#Train the model\n",
    "history=m.fit(X_train,y_train,validation_split=0.2, epochs=100 ,batch_size=32)"
   ]
  },
  {
   "cell_type": "code",
   "execution_count": 77,
   "id": "b0ca5061",
   "metadata": {},
   "outputs": [
    {
     "name": "stdout",
     "output_type": "stream",
     "text": [
      "dict_keys(['loss', 'root_mean_squared_error', 'val_loss', 'val_root_mean_squared_error'])\n"
     ]
    },
    {
     "data": {
      "image/png": "[encoded data removed]",
      "text/plain": [
       "<Figure size 640x480 with 1 Axes>"
      ]
     },
     "metadata": {},
     "output_type": "display_data"
    }
   ],
   "source": [
    "print(history.history.keys())\n",
    "\n",
    "loss_train = history.history['loss']\n",
    "loss_val = history.history['val_loss']\n",
    "epochs = range(0,100)\n",
    "plt.plot(epochs, loss_train, 'g', label='Training loss')\n",
    "plt.plot(epochs, loss_val, 'b', label='validation loss')\n",
    "plt.title('Training and Validation loss')\n",
    "plt.xlabel('Epochs')\n",
    "plt.ylabel('Loss')\n",
    "plt.legend()\n",
    "plt.savefig('')\n",
    "plt.show()"
   ]
  },
  {
   "cell_type": "code",
   "execution_count": 74,
   "id": "58d3bd8a",
   "metadata": {},
   "outputs": [
    {
     "name": "stdout",
     "output_type": "stream",
     "text": [
      "\u001b[1m65/65\u001b[0m \u001b[32m━━━━━━━━━━━━━━━━━━━━\u001b[0m\u001b[37m\u001b[0m \u001b[1m1s\u001b[0m 7ms/step\n"
     ]
    }
   ],
   "source": [
    "# Predict the train set\n",
    "train_p=m.predict(X_train).flatten()"
   ]
  },
  {
   "cell_type": "code",
   "execution_count": 75,
   "id": "b6a99916",
   "metadata": {},
   "outputs": [
    {
     "name": "stdout",
     "output_type": "stream",
     "text": [
      "\u001b[1m1/1\u001b[0m \u001b[32m━━━━━━━━━━━━━━━━━━━━\u001b[0m\u001b[37m\u001b[0m \u001b[1m0s\u001b[0m 31ms/step\n",
      "\u001b[1m1/1\u001b[0m \u001b[32m━━━━━━━━━━━━━━━━━━━━\u001b[0m\u001b[37m\u001b[0m \u001b[1m0s\u001b[0m 31ms/step\n",
      "\u001b[1m1/1\u001b[0m \u001b[32m━━━━━━━━━━━━━━━━━━━━\u001b[0m\u001b[37m\u001b[0m \u001b[1m0s\u001b[0m 38ms/step\n"
     ]
    },
    {
     "name": "stderr",
     "output_type": "stream",
     "text": [
      "C:\\Users\\loic\\AppData\\Local\\Temp\\ipykernel_6660\\2272936751.py:7: DeprecationWarning: Conversion of an array with ndim > 0 to a scalar is deprecated, and will error in future. Ensure you extract a single element from your array before performing this operation. (Deprecated NumPy 1.25.)\n",
      "  test_p[i] = pred[0]\n",
      "C:\\Users\\loic\\AppData\\Local\\Temp\\ipykernel_6660\\2272936751.py:9: DeprecationWarning: Conversion of an array with ndim > 0 to a scalar is deprecated, and will error in future. Ensure you extract a single element from your array before performing this operation. (Deprecated NumPy 1.25.)\n",
      "  m_input[0,-1,0] = pred[0]\n"
     ]
    },
    {
     "name": "stdout",
     "output_type": "stream",
     "text": [
      "\u001b[1m1/1\u001b[0m \u001b[32m━━━━━━━━━━━━━━━━━━━━\u001b[0m\u001b[37m\u001b[0m \u001b[1m0s\u001b[0m 31ms/step\n",
      "\u001b[1m1/1\u001b[0m \u001b[32m━━━━━━━━━━━━━━━━━━━━\u001b[0m\u001b[37m\u001b[0m \u001b[1m0s\u001b[0m 31ms/step\n",
      "\u001b[1m1/1\u001b[0m \u001b[32m━━━━━━━━━━━━━━━━━━━━\u001b[0m\u001b[37m\u001b[0m \u001b[1m0s\u001b[0m 32ms/step\n",
      "\u001b[1m1/1\u001b[0m \u001b[32m━━━━━━━━━━━━━━━━━━━━\u001b[0m\u001b[37m\u001b[0m \u001b[1m0s\u001b[0m 32ms/step\n",
      "\u001b[1m1/1\u001b[0m \u001b[32m━━━━━━━━━━━━━━━━━━━━\u001b[0m\u001b[37m\u001b[0m \u001b[1m0s\u001b[0m 31ms/step\n",
      "\u001b[1m1/1\u001b[0m \u001b[32m━━━━━━━━━━━━━━━━━━━━\u001b[0m\u001b[37m\u001b[0m \u001b[1m0s\u001b[0m 31ms/step\n",
      "\u001b[1m1/1\u001b[0m \u001b[32m━━━━━━━━━━━━━━━━━━━━\u001b[0m\u001b[37m\u001b[0m \u001b[1m0s\u001b[0m 47ms/step\n",
      "\u001b[1m1/1\u001b[0m \u001b[32m━━━━━━━━━━━━━━━━━━━━\u001b[0m\u001b[37m\u001b[0m \u001b[1m0s\u001b[0m 47ms/step\n",
      "\u001b[1m1/1\u001b[0m \u001b[32m━━━━━━━━━━━━━━━━━━━━\u001b[0m\u001b[37m\u001b[0m \u001b[1m0s\u001b[0m 47ms/step\n",
      "\u001b[1m1/1\u001b[0m \u001b[32m━━━━━━━━━━━━━━━━━━━━\u001b[0m\u001b[37m\u001b[0m \u001b[1m0s\u001b[0m 31ms/step\n",
      "\u001b[1m1/1\u001b[0m \u001b[32m━━━━━━━━━━━━━━━━━━━━\u001b[0m\u001b[37m\u001b[0m \u001b[1m0s\u001b[0m 31ms/step\n",
      "\u001b[1m1/1\u001b[0m \u001b[32m━━━━━━━━━━━━━━━━━━━━\u001b[0m\u001b[37m\u001b[0m \u001b[1m0s\u001b[0m 31ms/step\n",
      "\u001b[1m1/1\u001b[0m \u001b[32m━━━━━━━━━━━━━━━━━━━━\u001b[0m\u001b[37m\u001b[0m \u001b[1m0s\u001b[0m 16ms/step\n",
      "\u001b[1m1/1\u001b[0m \u001b[32m━━━━━━━━━━━━━━━━━━━━\u001b[0m\u001b[37m\u001b[0m \u001b[1m0s\u001b[0m 31ms/step\n",
      "\u001b[1m1/1\u001b[0m \u001b[32m━━━━━━━━━━━━━━━━━━━━\u001b[0m\u001b[37m\u001b[0m \u001b[1m0s\u001b[0m 16ms/step\n",
      "\u001b[1m1/1\u001b[0m \u001b[32m━━━━━━━━━━━━━━━━━━━━\u001b[0m\u001b[37m\u001b[0m \u001b[1m0s\u001b[0m 31ms/step\n",
      "\u001b[1m1/1\u001b[0m \u001b[32m━━━━━━━━━━━━━━━━━━━━\u001b[0m\u001b[37m\u001b[0m \u001b[1m0s\u001b[0m 31ms/step\n"
     ]
    }
   ],
   "source": [
    "# Generate 20 forecasts\n",
    "ntest = X_test.shape[0]\n",
    "m_input = X_train[-1:]\n",
    "test_p = np.zeros(ntest)\n",
    "for i in range(ntest):\n",
    "    pred = m.predict(m_input)\n",
    "    test_p[i] = pred[0]\n",
    "    m_input = np.roll(m_input, -1)\n",
    "    m_input[0,-1,0] = pred[0]"
   ]
  },
  {
   "cell_type": "code",
   "execution_count": 80,
   "id": "b87befae",
   "metadata": {},
   "outputs": [
    {
     "name": "stdout",
     "output_type": "stream",
     "text": [
      "train: (np.float64(0.17273365147452582), np.float64(0.008840160451077973))\n",
      "test: (np.float64(0.1899454827835107), np.float64(0.008724711500500405))\n"
     ]
    }
   ],
   "source": [
    "#LSTM \n",
    "print('train:', metrics(data['DEXSFUS'][:2067],train_p))\n",
    "print('test:' , metrics(data['DEXSFUS'][2067:],test_p))"
   ]
  }
 ],
 "metadata": {
  "kernelspec": {
   "display_name": "Python 3 (ipykernel)",
   "language": "python",
   "name": "python3"
  },
  "language_info": {
   "codemirror_mode": {
    "name": "ipython",
    "version": 3
   },
   "file_extension": ".py",
   "mimetype": "text/x-python",
   "name": "python",
   "nbconvert_exporter": "python",
   "pygments_lexer": "ipython3",
   "version": "3.9.20"
  }
 },
 "nbformat": 4,
 "nbformat_minor": 5
}
